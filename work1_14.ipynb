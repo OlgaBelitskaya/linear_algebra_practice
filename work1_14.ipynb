{
 "cells": [
  {
   "cell_type": "markdown",
   "metadata": {},
   "source": [
    "<h1 style=\"color: #3636ff;\">Линейная алгебра. Практическая работа №14</h1>\n",
    "\n",
    "### Программные средства\n",
    "\n",
    "[LaTeX. Mathematics](https://en.wikibooks.org/wiki/LaTeX/Mathematics)\n",
    "\n",
    "[Sage. Linear Algebra](http://doc.sagemath.org/html/en/tutorial/tour_linalg.html)\n",
    "\n",
    "[Numpy. Quickstart tutorial](https://docs.scipy.org/doc/numpy/user/quickstart.html#linear-algebra)\n",
    "\n",
    "[R Functions - Tutorialspoint](https://www.tutorialspoint.com/r/r_functions.htm)\n",
    "\n",
    "[Quick-R: User-Defined Functions](https://www.statmethods.net/management/userfunctions.html)"
   ]
  },
  {
   "cell_type": "markdown",
   "metadata": {},
   "source": [
    "### Конспекты\n",
    "\n",
    "[АЛГЕБРА И ГЕОМЕТРИЯ ДЛЯ СТУДЕНТОВ-ФИЗИКОВ](http://math.phys.msu.ru/data/24/Algebra_and_geometry.pdf)\n",
    "\n",
    "[Курс лекций по линейной алгебре и геометрии](http://mech.math.msu.su/~manuilov/linalg2008.pdf)\n",
    "\n",
    "[Computational Mathematics with SageMath](http://dl.lateralis.org/public/sagebook/sagebook-ba6596d.pdf)\n",
    "\n",
    "[Introduction to Symbolic Computation](http://homepages.math.uic.edu/~jan/mcs320/mcs320.pdf)"
   ]
  },
  {
   "cell_type": "markdown",
   "metadata": {},
   "source": [
    "# Тензоры\n",
    "\n",
    "## 1. Основные понятия.\n",
    "    \n",
    "Тензор  типа $(p, q)$ - полилинейная функция:\n",
    "\n",
    "- от $p$ векторов линейного простанства $V$ на полем $\\mathbb{K}$ \n",
    "\n",
    "- и $q$ линейных функций двойственного к нему пространства $V'$, \n",
    "\n",
    "- принимающая значения в $\\mathbb{K}$,\n",
    "\n",
    "- линейная по каждому аргументу при фиксированных остальных аргументах.\n",
    "\n",
    "_Примеры:_\n",
    "\n",
    "1) скаляры — тензоры типа (0, 0) $\\mathbb{K}$;\n",
    "\n",
    "2) векторы — тензоры типа (0, 1) $\\mathbb{K} \\to V$;\n",
    "\n",
    "3) линейные функции — тензоры типа (1, 0) $V \\to \\mathbb{K}$;\n",
    "\n",
    "4) билинейные функции — тензоры типа (2, 0) $V \\times V \\to \\mathbb{K}$;\n",
    "\n",
    "5) линейные операторы — тензоры типа (1, 1) $V \\to V$."
   ]
  },
  {
   "cell_type": "code",
   "execution_count": null,
   "metadata": {},
   "outputs": [],
   "source": []
  }
 ],
 "metadata": {
  "kernelspec": {
   "display_name": "SageMath 8.4",
   "language": "",
   "name": "sagemath"
  },
  "language_info": {
   "codemirror_mode": {
    "name": "ipython",
    "version": 2
   },
   "file_extension": ".py",
   "mimetype": "text/x-python",
   "name": "python",
   "nbconvert_exporter": "python",
   "pygments_lexer": "ipython2",
   "version": "2.7.15"
  }
 },
 "nbformat": 4,
 "nbformat_minor": 2
}

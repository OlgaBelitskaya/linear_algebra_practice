{
 "cells": [
  {
   "cell_type": "markdown",
   "metadata": {},
   "source": [
    "<h1 style=\"color: #3636ff;\">Линейная алгебра. Практическая работа №14</h1>\n",
    "\n",
    "### Программные средства\n",
    "\n",
    "[LaTeX. Mathematics](https://en.wikibooks.org/wiki/LaTeX/Mathematics)\n",
    "\n",
    "[Sage. Linear Algebra](http://doc.sagemath.org/html/en/tutorial/tour_linalg.html)\n",
    "\n",
    "[Numpy. Quickstart tutorial](https://docs.scipy.org/doc/numpy/user/quickstart.html#linear-algebra)\n",
    "\n",
    "[R Functions - Tutorialspoint](https://www.tutorialspoint.com/r/r_functions.htm)\n",
    "\n",
    "[Quick-R: User-Defined Functions](https://www.statmethods.net/management/userfunctions.html)"
   ]
  },
  {
   "cell_type": "markdown",
   "metadata": {},
   "source": [
    "### Конспекты\n",
    "\n",
    "[АЛГЕБРА И ГЕОМЕТРИЯ ДЛЯ СТУДЕНТОВ-ФИЗИКОВ](http://math.phys.msu.ru/data/24/Algebra_and_geometry.pdf)\n",
    "\n",
    "[Курс лекций по линейной алгебре и геометрии](http://mech.math.msu.su/~manuilov/linalg2008.pdf)\n",
    "\n",
    "[Computational Mathematics with SageMath](http://dl.lateralis.org/public/sagebook/sagebook-ba6596d.pdf)\n",
    "\n",
    "[Introduction to Symbolic Computation](http://homepages.math.uic.edu/~jan/mcs320/mcs320.pdf)"
   ]
  },
  {
   "cell_type": "markdown",
   "metadata": {},
   "source": [
    "# Тензоры\n",
    "\n",
    "## 1. Основные понятия.\n",
    "    \n",
    "Тензор  типа $(p, q)$ - полилинейная функция:\n",
    "\n",
    "- от $p$ векторов линейного простанства $V$ на полем $\\mathbb{K}$ \n",
    "\n",
    "- и $q$ линейных функций двойственного к нему пространства $V'$, \n",
    "\n",
    "- принимающая значения в $\\mathbb{K}$,\n",
    "\n",
    "- линейная по каждому аргументу при фиксированных остальных аргументах.\n",
    "\n",
    "_Примеры:_\n",
    "\n",
    "1) скаляры — тензоры типа (0, 0) $\\mathbb{K}$;\n",
    "\n",
    "2) векторы — тензоры типа (0, 1) $\\mathbb{K} \\to V$;\n",
    "\n",
    "3) линейные функции — тензоры типа (1, 0) $V \\to \\mathbb{K}$;\n",
    "\n",
    "4) билинейные функции — тензоры типа (2, 0) $V \\times V \\to \\mathbb{K}$;\n",
    "\n",
    "5) линейные операторы — тензоры типа (1, 1) $V \\to V$."
   ]
  },
  {
   "cell_type": "code",
   "execution_count": 27,
   "metadata": {},
   "outputs": [
    {
     "data": {
      "text/plain": [
       "Free module of type-(1,1) tensors on the Rank-3 free module M over the Integer Ring"
      ]
     },
     "execution_count": 27,
     "metadata": {},
     "output_type": "execute_result"
    }
   ],
   "source": [
    "M = FiniteRankFreeModule(ZZ, 3, name='M')\n",
    "e = M.basis('e')\n",
    "\n",
    "T00 = M.tensor_module(0,0); T10 = M.tensor_module(1,0); T01 = M.tensor_module(0,1)\n",
    "T11 = M.tensor_module(1,1); T20 = M.tensor_module(2,0); T02 = M.tensor_module(0,2)\n",
    "T21 = M.tensor_module(2,1); T12 = M.tensor_module(1,2)\n",
    "T30 = M.tensor_module(3,0); T03 = M.tensor_module(0,3)\n",
    "T = [T00, T10, T01, T11, T20, T02, T21, T12, T30, T03]\n",
    "T[3]"
   ]
  },
  {
   "cell_type": "code",
   "execution_count": 28,
   "metadata": {},
   "outputs": [
    {
     "name": "stdout",
     "output_type": "stream",
     "text": [
      "(1, Integer Ring)\n",
      "(3, Integer Ring)\n",
      "(1, 0)\n",
      "(3, Integer Ring)\n",
      "(0, 1)\n",
      "(9, Integer Ring)\n",
      "(1, 1)\n",
      "(9, Integer Ring)\n",
      "(2, 0)\n",
      "(9, Integer Ring)\n",
      "(0, 2)\n",
      "(27, Integer Ring)\n",
      "(2, 1)\n",
      "(27, Integer Ring)\n",
      "(1, 2)\n",
      "(27, Integer Ring)\n",
      "(3, 0)\n",
      "(27, Integer Ring)\n",
      "(0, 3)\n"
     ]
    }
   ],
   "source": [
    "for t in T: \n",
    "    print(t.rank(), t.base_ring())\n",
    "    if t != T00: print(t.an_element().tensor_type())"
   ]
  },
  {
   "cell_type": "code",
   "execution_count": 41,
   "metadata": {},
   "outputs": [
    {
     "name": "stdout",
     "output_type": "stream",
     "text": [
      "(A = -e^0 + 2 e^1 - 3 e^2, (0, 1))\n",
      "(B = 4 e_0 - 5 e_1 + 6 e_2, (1, 0))\n"
     ]
    }
   ],
   "source": [
    "A = M.linear_form(name='A') ; A[:] = (-1, 2, -3)\n",
    "B = M([4,-5,6], name='B')\n",
    "print(A.display(e), A.tensor_type())\n",
    "print(B.display(e), B.tensor_type())"
   ]
  },
  {
   "cell_type": "code",
   "execution_count": 46,
   "metadata": {},
   "outputs": [
    {
     "name": "stdout",
     "output_type": "stream",
     "text": [
      "A*B = -4 e_0*e^0 + 8 e_0*e^1 - 12 e_0*e^2 + 5 e_1*e^0 - 10 e_1*e^1 + 15 e_1*e^2 - 6 e_2*e^0 + 12 e_2*e^1 - 18 e_2*e^2\n",
      "(1, 1)\n"
     ]
    },
    {
     "data": {
      "text/plain": [
       "[ -4   8 -12]\n",
       "[  5 -10  15]\n",
       "[ -6  12 -18]"
      ]
     },
     "execution_count": 46,
     "metadata": {},
     "output_type": "execute_result"
    }
   ],
   "source": [
    "AB = A*B\n",
    "print(AB.display(e))\n",
    "print(AB.tensor_type())\n",
    "MAB = matrix(AB.comp(e)); MAB"
   ]
  },
  {
   "cell_type": "code",
   "execution_count": 51,
   "metadata": {},
   "outputs": [
    {
     "data": {
      "text/plain": [
       "[-24]\n",
       "[ 30]\n",
       "[-36]"
      ]
     },
     "execution_count": 51,
     "metadata": {},
     "output_type": "execute_result"
    }
   ],
   "source": [
    "v1 = matrix(SR, 3, [1,2,3]); MAB * v1"
   ]
  },
  {
   "cell_type": "code",
   "execution_count": null,
   "metadata": {},
   "outputs": [],
   "source": []
  }
 ],
 "metadata": {
  "kernelspec": {
   "display_name": "SageMath 8.4",
   "language": "",
   "name": "sagemath"
  },
  "language_info": {
   "codemirror_mode": {
    "name": "ipython",
    "version": 2
   },
   "file_extension": ".py",
   "mimetype": "text/x-python",
   "name": "python",
   "nbconvert_exporter": "python",
   "pygments_lexer": "ipython2",
   "version": "2.7.15"
  }
 },
 "nbformat": 4,
 "nbformat_minor": 2
}

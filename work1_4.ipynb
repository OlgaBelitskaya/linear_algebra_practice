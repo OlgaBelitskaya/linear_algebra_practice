{
 "cells": [
  {
   "cell_type": "markdown",
   "metadata": {},
   "source": [
    "<h1 style=\"color: #3636ff;\">Линейная алгебра. Практическая работа №4</h1>\n",
    "\n",
    "### Программные средства\n",
    "\n",
    "[LaTeX. Mathematics. Matrices & Arrays](https://en.wikibooks.org/wiki/LaTeX/Mathematics#Matrices_and_arrays)\n",
    "\n",
    "[Sage. Matrices & Spaces of Matrices](https://doc.sagemath.org/html/en/reference/matrices/index.html)\n",
    "\n",
    "[Numpy. Quickstart tutorial](https://docs.scipy.org/doc/numpy/user/quickstart.html#linear-algebra)\n",
    "\n",
    "[SymPy. Matrices (linear algebra)](https://docs.sympy.org/latest/modules/matrices/matrices.html)\n",
    "\n",
    "[Quick-R. Matrix Algebra](https://www.statmethods.net/advstats/matrix.html)\n",
    "\n",
    "[R - Matrices](https://www.tutorialspoint.com/r/r_matrices.htm)"
   ]
  },
  {
   "cell_type": "markdown",
   "metadata": {},
   "source": [
    "### Конспекты лекций\n",
    "\n",
    "[Матрицы. Системы линейных уравнений. Алгоритм Гаусса](http://matematika.phys.msu.ru/files/a_stud_gen/246/AG-08_2009-2010.pdf)\n",
    "\n",
    "[АЛГЕБРА И ГЕОМЕТРИЯ ДЛЯ СТУДЕНТОВ-ФИЗИКОВ](http://math.phys.msu.ru/data/24/Algebra_and_geometry.pdf)"
   ]
  },
  {
   "cell_type": "markdown",
   "metadata": {},
   "source": [
    "# Матрицы\n",
    "\n",
    "## 1. Обратная матрица"
   ]
  },
  {
   "cell_type": "code",
   "execution_count": 196,
   "metadata": {},
   "outputs": [
    {
     "data": {
      "text/html": [
       "<script type=\"math/tex\">\\left(\\begin{array}{rr} \\frac{1}{a} - \\frac{b c}{a^{2} {\\left(\\frac{b c}{a} - d\\right)}} & \\frac{b}{a {\\left(\\frac{b c}{a} - d\\right)}} \\\\ \\frac{c}{a {\\left(\\frac{b c}{a} - d\\right)}} & -\\frac{1}{\\frac{b c}{a} - d} \\end{array}\\right)</script>"
      ],
      "text/plain": [
       "<script type=\"math/tex\">\\left(\\begin{array}{rr} \\frac{1}{a} - \\frac{b c}{a^{2} {\\left(\\frac{b c}{a} - d\\right)}} & \\frac{b}{a {\\left(\\frac{b c}{a} - d\\right)}} \\\\ \\frac{c}{a {\\left(\\frac{b c}{a} - d\\right)}} & -\\frac{1}{\\frac{b c}{a} - d} \\end{array}\\right)</script>"
      ]
     },
     "execution_count": 196,
     "metadata": {},
     "output_type": "execute_result"
    }
   ],
   "source": [
    "M = matrix(SR, 2, var('a,b,c,d')) \n",
    "html(M^(-1))"
   ]
  },
  {
   "cell_type": "code",
   "execution_count": 197,
   "metadata": {},
   "outputs": [
    {
     "data": {
      "text/html": [
       "<script type=\"math/tex\">\\left(\\begin{array}{rr} \\frac{1}{a} - \\frac{b c}{a^{2} {\\left(\\frac{b c}{a} - d\\right)}} & \\frac{b}{a {\\left(\\frac{b c}{a} - d\\right)}} \\\\ \\frac{c}{a {\\left(\\frac{b c}{a} - d\\right)}} & -\\frac{1}{\\frac{b c}{a} - d} \\end{array}\\right)</script>"
      ],
      "text/plain": [
       "<script type=\"math/tex\">\\left(\\begin{array}{rr} \\frac{1}{a} - \\frac{b c}{a^{2} {\\left(\\frac{b c}{a} - d\\right)}} & \\frac{b}{a {\\left(\\frac{b c}{a} - d\\right)}} \\\\ \\frac{c}{a {\\left(\\frac{b c}{a} - d\\right)}} & -\\frac{1}{\\frac{b c}{a} - d} \\end{array}\\right)</script>"
      ]
     },
     "execution_count": 197,
     "metadata": {},
     "output_type": "execute_result"
    }
   ],
   "source": [
    "html(M.inverse())"
   ]
  },
  {
   "cell_type": "code",
   "execution_count": 198,
   "metadata": {},
   "outputs": [
    {
     "data": {
      "text/html": [
       "<script type=\"math/tex\">\\left(\\begin{array}{rr} a {\\left(\\frac{1}{a} - \\frac{b c}{a^{2} {\\left(\\frac{b c}{a} - d\\right)}}\\right)} + \\frac{b c}{a {\\left(\\frac{b c}{a} - d\\right)}} & 0 \\\\ c {\\left(\\frac{1}{a} - \\frac{b c}{a^{2} {\\left(\\frac{b c}{a} - d\\right)}}\\right)} + \\frac{c d}{a {\\left(\\frac{b c}{a} - d\\right)}} & \\frac{b c}{a {\\left(\\frac{b c}{a} - d\\right)}} - \\frac{d}{\\frac{b c}{a} - d} \\end{array}\\right)</script>"
      ],
      "text/plain": [
       "<script type=\"math/tex\">\\left(\\begin{array}{rr} a {\\left(\\frac{1}{a} - \\frac{b c}{a^{2} {\\left(\\frac{b c}{a} - d\\right)}}\\right)} + \\frac{b c}{a {\\left(\\frac{b c}{a} - d\\right)}} & 0 \\\\ c {\\left(\\frac{1}{a} - \\frac{b c}{a^{2} {\\left(\\frac{b c}{a} - d\\right)}}\\right)} + \\frac{c d}{a {\\left(\\frac{b c}{a} - d\\right)}} & \\frac{b c}{a {\\left(\\frac{b c}{a} - d\\right)}} - \\frac{d}{\\frac{b c}{a} - d} \\end{array}\\right)</script>"
      ]
     },
     "execution_count": 198,
     "metadata": {},
     "output_type": "execute_result"
    }
   ],
   "source": [
    "html(M * M^(-1))"
   ]
  },
  {
   "cell_type": "code",
   "execution_count": 199,
   "metadata": {},
   "outputs": [
    {
     "data": {
      "text/plain": [
       "[1 0]\n",
       "[0 1]"
      ]
     },
     "execution_count": 199,
     "metadata": {},
     "output_type": "execute_result"
    }
   ],
   "source": [
    "(M * M^(-1)).simplify_rational()"
   ]
  },
  {
   "cell_type": "code",
   "execution_count": 200,
   "metadata": {},
   "outputs": [
    {
     "data": {
      "text/html": [
       "<script type=\"math/tex\">\\left(\\begin{array}{rr} a {\\left(\\frac{1}{a} - \\frac{b c}{a^{2} {\\left(\\frac{b c}{a} - d\\right)}}\\right)} + \\frac{b c}{a {\\left(\\frac{b c}{a} - d\\right)}} & b {\\left(\\frac{1}{a} - \\frac{b c}{a^{2} {\\left(\\frac{b c}{a} - d\\right)}}\\right)} + \\frac{b d}{a {\\left(\\frac{b c}{a} - d\\right)}} \\\\ 0 & \\frac{b c}{a {\\left(\\frac{b c}{a} - d\\right)}} - \\frac{d}{\\frac{b c}{a} - d} \\end{array}\\right)</script>"
      ],
      "text/plain": [
       "<script type=\"math/tex\">\\left(\\begin{array}{rr} a {\\left(\\frac{1}{a} - \\frac{b c}{a^{2} {\\left(\\frac{b c}{a} - d\\right)}}\\right)} + \\frac{b c}{a {\\left(\\frac{b c}{a} - d\\right)}} & b {\\left(\\frac{1}{a} - \\frac{b c}{a^{2} {\\left(\\frac{b c}{a} - d\\right)}}\\right)} + \\frac{b d}{a {\\left(\\frac{b c}{a} - d\\right)}} \\\\ 0 & \\frac{b c}{a {\\left(\\frac{b c}{a} - d\\right)}} - \\frac{d}{\\frac{b c}{a} - d} \\end{array}\\right)</script>"
      ]
     },
     "execution_count": 200,
     "metadata": {},
     "output_type": "execute_result"
    }
   ],
   "source": [
    "html(M^(-1) * M)"
   ]
  },
  {
   "cell_type": "code",
   "execution_count": 201,
   "metadata": {},
   "outputs": [
    {
     "data": {
      "text/plain": [
       "[1 0]\n",
       "[0 1]"
      ]
     },
     "execution_count": 201,
     "metadata": {},
     "output_type": "execute_result"
    }
   ],
   "source": [
    "(M^(-1) * M).simplify_rational()"
   ]
  },
  {
   "cell_type": "code",
   "execution_count": 202,
   "metadata": {},
   "outputs": [
    {
     "data": {
      "text/plain": [
       "True"
      ]
     },
     "execution_count": 202,
     "metadata": {},
     "output_type": "execute_result"
    }
   ],
   "source": [
    "(M * M^(-1)).simplify_rational() == (M^(-1) * M).simplify_rational() == identity_matrix(2)"
   ]
  },
  {
   "cell_type": "code",
   "execution_count": 203,
   "metadata": {},
   "outputs": [
    {
     "data": {
      "text/plain": [
       "(\n",
       "                        [-28 -79 -50  -7]\n",
       "         [-59 -38 -90]  [-75 -95 -64 -16]\n",
       "[65 78]  [-35  -4 -70]  [ 33  27 -49   7]\n",
       "[92 35], [ -6  -2 -89], [-52 -62  56  16]\n",
       ")"
      ]
     },
     "execution_count": 203,
     "metadata": {},
     "output_type": "execute_result"
    }
   ],
   "source": [
    "# sage\n",
    "A1 = random_matrix(ZZ,2,x=0,y=100)\n",
    "B1 = random_matrix(ZZ,3,x=-100,y=0)\n",
    "C1 = random_matrix(ZZ,4,x=-100,y=100)\n",
    "A1, B1, C1"
   ]
  },
  {
   "cell_type": "code",
   "execution_count": 204,
   "metadata": {},
   "outputs": [
    {
     "data": {
      "text/plain": [
       "(\n",
       "                     [  108/42763 -1601/42763  1150/42763]\n",
       "[-35/4901    6/377]  [ -385/12218   673/12218    -70/6109]\n",
       "[ 92/4901   -5/377], [   23/42763    55/42763  -547/42763],\n",
       "\n",
       "[ 95780/3059519 -73443/3059519 -25236/3059519 -40997/6119038]\n",
       "[-78244/3059519  41214/3059519  22660/3059519  -5863/6119038]\n",
       "[ 15031/3059519 -25357/3059519 -44081/3059519   1009/6119038]\n",
       "[-44519/3059519   9764/3059519 160074/3059519 222949/6119038]\n",
       ")"
      ]
     },
     "execution_count": 204,
     "metadata": {},
     "output_type": "execute_result"
    }
   ],
   "source": [
    "A1.inverse(), B1.inverse(), C1.inverse()"
   ]
  },
  {
   "cell_type": "code",
   "execution_count": 205,
   "metadata": {},
   "outputs": [
    {
     "data": {
      "text/plain": [
       "(\n",
       "                [1 0 0 0]\n",
       "       [1 0 0]  [0 1 0 0]\n",
       "[1 0]  [0 1 0]  [0 0 1 0]\n",
       "[0 1], [0 0 1], [0 0 0 1]\n",
       ")"
      ]
     },
     "execution_count": 205,
     "metadata": {},
     "output_type": "execute_result"
    }
   ],
   "source": [
    "A1 * A1^(-1), B1 * B1^(-1), C1 * C1^(-1)"
   ]
  },
  {
   "cell_type": "markdown",
   "metadata": {},
   "source": [
    "Обратная матрица = Транспонированная матрица алгебраических дополнений / Определитель"
   ]
  },
  {
   "cell_type": "code",
   "execution_count": 254,
   "metadata": {},
   "outputs": [
    {
     "data": {
      "text/latex": [
       "$\\large{A^{-1} = \\frac{A_S^T}{\\Delta_A}}$"
      ],
      "text/plain": [
       "<IPython.core.display.Latex object>"
      ]
     },
     "metadata": {},
     "output_type": "display_data"
    }
   ],
   "source": [
    "%%latex\n",
    "$\\large{A^{-1} = \\frac{A_S^T}{\\Delta_A}}$"
   ]
  },
  {
   "cell_type": "code",
   "execution_count": 206,
   "metadata": {},
   "outputs": [
    {
     "data": {
      "text/plain": [
       "(\n",
       "                     [ 191560  146886  -50472   40997]\n",
       "[  216  3202  2300]  [ 156488   82428  -45320   -5863]\n",
       "[ 2695  4711   980]  [  30062   50714  -88162   -1009]\n",
       "[   46  -110 -1094], [  89038   19528 -320148  222949]\n",
       ")"
      ]
     },
     "execution_count": 206,
     "metadata": {},
     "output_type": "execute_result"
    }
   ],
   "source": [
    "B1_m = B1.minors(2)\n",
    "B1_m.reverse()\n",
    "C1_m = C1.minors(3)\n",
    "C1_m.reverse()\n",
    "B1_M = matrix(3, B1_m).T\n",
    "C1_M = matrix(4, C1_m).T\n",
    "B1_M, C1_M"
   ]
  },
  {
   "cell_type": "code",
   "execution_count": 207,
   "metadata": {},
   "outputs": [
    {
     "data": {
      "text/plain": [
       "(\n",
       "                     [ 191560 -146886  -50472  -40997]\n",
       "[  216 -3202  2300]  [-156488   82428   45320   -5863]\n",
       "[-2695  4711  -980]  [  30062  -50714  -88162    1009]\n",
       "[   46   110 -1094], [ -89038   19528  320148  222949]\n",
       ")"
      ]
     },
     "execution_count": 207,
     "metadata": {},
     "output_type": "execute_result"
    }
   ],
   "source": [
    "B1.adjoint(), C1.adjoint()"
   ]
  },
  {
   "cell_type": "code",
   "execution_count": 208,
   "metadata": {},
   "outputs": [
    {
     "data": {
      "text/plain": [
       "(True, True)"
      ]
     },
     "execution_count": 208,
     "metadata": {},
     "output_type": "execute_result"
    }
   ],
   "source": [
    "B1.adjoint()/B1.det() == B1.inverse(), C1.adjoint()/C1.det() == C1.inverse()"
   ]
  },
  {
   "cell_type": "markdown",
   "metadata": {},
   "source": [
    "Вычисление определителя 4-ого порядка"
   ]
  },
  {
   "cell_type": "code",
   "execution_count": 209,
   "metadata": {},
   "outputs": [
    {
     "data": {
      "text/latex": [
       "$| M | = \n",
       "\\begin{vmatrix}\n",
       "A & B \\\\\n",
       "C & D\n",
       "\\end{vmatrix} = | A | * |D - C * A^{-1} * B|$"
      ],
      "text/plain": [
       "<IPython.core.display.Latex object>"
      ]
     },
     "metadata": {},
     "output_type": "display_data"
    }
   ],
   "source": [
    "%%latex\n",
    "$| M | = \n",
    "\\begin{vmatrix}\n",
    "A & B \\\\\n",
    "C & D\n",
    "\\end{vmatrix} = | A | * |D - C * A^{-1} * B|$"
   ]
  },
  {
   "cell_type": "code",
   "execution_count": 210,
   "metadata": {},
   "outputs": [
    {
     "data": {
      "text/plain": [
       "(\n",
       "[ 55 -31  48  89]            \n",
       "[-67  -5 -34  49]            \n",
       "[-69 -58  86 -75]            \n",
       "[ 23  67  33  75], -115081370\n",
       ")"
      ]
     },
     "execution_count": 210,
     "metadata": {},
     "output_type": "execute_result"
    }
   ],
   "source": [
    "M = random_matrix(ZZ,4,x=-100,y=100)\n",
    "M, M.det()"
   ]
  },
  {
   "cell_type": "code",
   "execution_count": 211,
   "metadata": {},
   "outputs": [
    {
     "data": {
      "text/plain": [
       "(\n",
       "[ 55 -31]  [ 48  89]  [-69 -58]  [ 86 -75]\n",
       "[-67  -5], [-34  49], [ 23  67], [ 33  75]\n",
       ")"
      ]
     },
     "execution_count": 211,
     "metadata": {},
     "output_type": "execute_result"
    }
   ],
   "source": [
    "A, B, C, D = M[0:2,0:2], M[0:2,2:4], M[2:4,0:2], M[2:4,2:4]\n",
    "A, B, C, D"
   ]
  },
  {
   "cell_type": "code",
   "execution_count": 212,
   "metadata": {},
   "outputs": [
    {
     "data": {
      "text/plain": [
       "(\n",
       "[ 55 -31]  [-5 31]  [  5/2352 -31/2352]\n",
       "[-67  -5], [67 55], [-67/2352 -55/2352]\n",
       ")"
      ]
     },
     "execution_count": 212,
     "metadata": {},
     "output_type": "execute_result"
    }
   ],
   "source": [
    "A, A.inverse() * A.det(), A.inverse()"
   ]
  },
  {
   "cell_type": "code",
   "execution_count": 213,
   "metadata": {},
   "outputs": [
    {
     "data": {
      "text/plain": [
       "True"
      ]
     },
     "execution_count": 213,
     "metadata": {},
     "output_type": "execute_result"
    }
   ],
   "source": [
    "A.det() * (D - C * A.inverse() * B).det() == M.det()"
   ]
  },
  {
   "cell_type": "code",
   "execution_count": 214,
   "metadata": {},
   "outputs": [
    {
     "name": "stdout",
     "output_type": "stream",
     "text": [
      "[[29  1]\n",
      " [ 4 63]]\n",
      "[[-97 -46  -2]\n",
      " [-91 -71 -89]\n",
      " [-74 -16 -64]]\n",
      "[[ 50 -65 -67   1]\n",
      " [ 41 -33 -86  14]\n",
      " [-16 -54 -76  66]\n",
      " [-60 -55  43  20]]\n"
     ]
    }
   ],
   "source": [
    "# python numpy\n",
    "import numpy\n",
    "A2 = numpy.matrix(numpy.random.randint(0, 100, size=(2,2)))\n",
    "B2 = numpy.matrix(numpy.random.randint(-100, 0, size=(3,3)))\n",
    "C2 = numpy.matrix(numpy.random.randint(-100, 100, size=(4,4)))\n",
    "print(A2)\n",
    "print(B2)\n",
    "print(C2)"
   ]
  },
  {
   "cell_type": "code",
   "execution_count": 215,
   "metadata": {},
   "outputs": [
    {
     "name": "stdout",
     "output_type": "stream",
     "text": [
      "[[ 0.03455842 -0.00054855]\n",
      " [-0.00219419  0.01590784]]\n",
      "[[-0.0094518   0.00882168 -0.01197227]\n",
      " [-0.00230842 -0.0183583   0.02560164]\n",
      " [ 0.01150574 -0.00561049 -0.00818247]]\n",
      "[[ 0.05485886 -0.09025019  0.03067718 -0.04080249]\n",
      " [-0.01227684  0.00418005  0.00166884 -0.00781935]\n",
      " [ 0.03863706 -0.07293519  0.0220102  -0.02351088]\n",
      " [ 0.04774559 -0.10244476  0.0492989  -0.0433623 ]]\n"
     ]
    }
   ],
   "source": [
    "print(numpy.linalg.inv(A2))\n",
    "print(numpy.linalg.inv(B2))\n",
    "print(numpy.linalg.inv(C2))"
   ]
  },
  {
   "cell_type": "code",
   "execution_count": 216,
   "metadata": {},
   "outputs": [
    {
     "name": "stdout",
     "output_type": "stream",
     "text": [
      "[[ 1.  0.]\n",
      " [ 0.  1.]]\n",
      "[[ 1.  0. -0.]\n",
      " [ 0.  1. -0.]\n",
      " [-0.  0.  1.]]\n",
      "[[ 1. -0. -0.  0.]\n",
      " [ 0.  1. -0.  0.]\n",
      " [ 0.  0.  1.  0.]\n",
      " [-0. -0.  0.  1.]]\n"
     ]
    }
   ],
   "source": [
    "print(round(A2 * numpy.linalg.inv(A2))) \n",
    "print(round(B2 * numpy.linalg.inv(B2)))\n",
    "print(round(C2 * numpy.linalg.inv(C2))) "
   ]
  },
  {
   "cell_type": "code",
   "execution_count": 217,
   "metadata": {},
   "outputs": [
    {
     "name": "stdout",
     "output_type": "stream",
     "text": [
      "[[-97 -46  -2]\n",
      " [-91 -71 -89]\n",
      " [-74 -16 -64]]\n",
      "\n",
      "element: -97  <=>\n",
      "[[-71 -89]\n",
      " [-16 -64]]\n",
      "minor: 3120\n",
      "\n",
      "[[-0.0094518   0.00882168 -0.01197227]\n",
      " [-0.00230842 -0.0183583   0.02560164]\n",
      " [ 0.01150574 -0.00561049 -0.00818247]]\n",
      "[[-0.0094518   0.00882168 -0.01197227]\n",
      " [-0.00230842 -0.0183583   0.02560164]\n",
      " [ 0.01150574 -0.00561049 -0.00818247]]\n"
     ]
    }
   ],
   "source": [
    "def minor_matrix(M, x, y):\n",
    "    return numpy.matrix([[M[i,j] for j in range(len(M)) if j != y] \\\n",
    "                         for i in range(len(M)) if i != x])\n",
    "def minor(M, x, y):\n",
    "    return numpy.linalg.det(minor_matrix(M, x, y))\n",
    "\n",
    "def cofactor_matrix(M):\n",
    "    return numpy.matrix([[(-1) ** (i + j) * minor(M,i,j) for j in range(len(M))]\\\n",
    "                         for i in range(len(M))])\n",
    "\n",
    "print(B2)\n",
    "print\n",
    "print('element: ' + str(B2[0,0]) + '  <=>')\n",
    "print(minor_matrix(B2,0,0))\n",
    "print('minor: ' + str(int(round(minor(B2,0,0)))))\n",
    "print\n",
    "print(cofactor_matrix(B2).T / numpy.linalg.det(B2))\n",
    "print(numpy.linalg.inv(B2))"
   ]
  },
  {
   "cell_type": "code",
   "execution_count": 218,
   "metadata": {},
   "outputs": [
    {
     "data": {
      "text/plain": [
       "matrix([[False, False, False],\n",
       "        [False, False, False],\n",
       "        [False, False,  True]], dtype=bool)"
      ]
     },
     "execution_count": 218,
     "metadata": {},
     "output_type": "execute_result"
    }
   ],
   "source": [
    "cofactor_matrix(B2).T / numpy.linalg.det(B2) == numpy.linalg.inv(B2)"
   ]
  },
  {
   "cell_type": "code",
   "execution_count": 220,
   "metadata": {},
   "outputs": [
    {
     "data": {
      "text/plain": [
       "array([[ True,  True,  True],\n",
       "       [ True,  True,  True],\n",
       "       [ True,  True,  True]], dtype=bool)"
      ]
     },
     "execution_count": 220,
     "metadata": {},
     "output_type": "execute_result"
    }
   ],
   "source": [
    "numpy.round(cofactor_matrix(B2).T/numpy.linalg.det(B2),8) == numpy.round(numpy.linalg.inv(B2),8)"
   ]
  },
  {
   "cell_type": "code",
   "execution_count": 221,
   "metadata": {},
   "outputs": [
    {
     "name": "stdout",
     "output_type": "stream",
     "text": [
      "[[73 47 69 67]\n",
      " [11 15 92 48]\n",
      " [33 94 31 38]\n",
      " [15  2 92 96]]\n"
     ]
    }
   ],
   "source": [
    "M = numpy.matrix(numpy.random.randint(0, 100, size=(4,4)))\n",
    "print(M)"
   ]
  },
  {
   "cell_type": "code",
   "execution_count": 222,
   "metadata": {},
   "outputs": [
    {
     "name": "stdout",
     "output_type": "stream",
     "text": [
      "[[73 47]\n",
      " [11 15]]\n",
      "[[69 67]\n",
      " [92 48]]\n",
      "[[33 94]\n",
      " [15  2]]\n",
      "[[31 38]\n",
      " [92 96]]\n"
     ]
    }
   ],
   "source": [
    "A, B, C, D = M[0:2,0:2], M[0:2,2:4], M[2:4,0:2], M[2:4,2:4]\n",
    "print(A); print(B); print(C); print(D)"
   ]
  },
  {
   "cell_type": "code",
   "execution_count": 223,
   "metadata": {},
   "outputs": [
    {
     "data": {
      "text/plain": [
       "(-20684744.999999989, -20684744.999999993)"
      ]
     },
     "execution_count": 223,
     "metadata": {},
     "output_type": "execute_result"
    }
   ],
   "source": [
    "numpy.linalg.det(A) * numpy.linalg.det(D - C * numpy.linalg.inv(A) * B), numpy.linalg.det(M)"
   ]
  },
  {
   "cell_type": "code",
   "execution_count": 224,
   "metadata": {},
   "outputs": [
    {
     "data": {
      "text/plain": [
       "True"
      ]
     },
     "execution_count": 224,
     "metadata": {},
     "output_type": "execute_result"
    }
   ],
   "source": [
    "round(numpy.linalg.det(A) * numpy.linalg.det(D - C * numpy.linalg.inv(A) * B)) == \\\n",
    "round(numpy.linalg.det(M))"
   ]
  },
  {
   "cell_type": "code",
   "execution_count": 237,
   "metadata": {},
   "outputs": [
    {
     "data": {
      "image/png": "[encoded data removed]",
      "text/latex": [
       "$$\\left ( \\left[\\begin{matrix}-3 & 1\\\\-4 & -7\\end{matrix}\\right], \\quad \\left[\\begin{matrix}2 & 10 & 7\\\\-5 & -6 & -2\\\\-8 & 4 & 5\\end{matrix}\\right], \\quad \\left[\\begin{matrix}3 & 4 & 7 & -5\\\\-5 & 3 & -2 & 1\\\\-8 & 1 & 5 & -3\\\\2 & -6 & 1 & 8\\end{matrix}\\right]\\right )$$"
      ],
      "text/plain": [
       "(Matrix([\n",
       " [-3,  1],\n",
       " [-4, -7]]), Matrix([\n",
       " [ 2, 10,  7],\n",
       " [-5, -6, -2],\n",
       " [-8,  4,  5]]), Matrix([\n",
       " [ 3,  4,  7, -5],\n",
       " [-5,  3, -2,  1],\n",
       " [-8,  1,  5, -3],\n",
       " [ 2, -6,  1,  8]]))"
      ]
     },
     "execution_count": 237,
     "metadata": {},
     "output_type": "execute_result"
    }
   ],
   "source": [
    "# python sympy\n",
    "import sympy\n",
    "sympy.init_printing(use_unicode=True)\n",
    "A3 = sympy.Matrix([[-3, 1], [-4, -7]])\n",
    "B3 = sympy.Matrix([[2, 10, 7], [-5, -6, -2], [-8, 4, 5]])\n",
    "C3 = sympy.Matrix([[3, 4, 7, -5], [-5, 3, -2, 1], \n",
    "                   [-8, 1, 5, -3], [2, -6, 1, 8]])\n",
    "A3, B3, C3"
   ]
  },
  {
   "cell_type": "code",
   "execution_count": 238,
   "metadata": {},
   "outputs": [
    {
     "data": {
      "image/png": "[encoded data removed]",
      "text/latex": [
       "$$\\left ( \\left[\\begin{matrix}- \\frac{7}{25} & - \\frac{1}{25}\\\\\\frac{4}{25} & - \\frac{3}{25}\\end{matrix}\\right], \\quad \\left[\\begin{matrix}\\frac{1}{5} & \\frac{1}{5} & - \\frac{1}{5}\\\\- \\frac{41}{110} & - \\frac{3}{5} & \\frac{31}{110}\\\\\\frac{34}{55} & \\frac{4}{5} & - \\frac{19}{55}\\end{matrix}\\right], \\quad \\left[\\begin{matrix}\\frac{140}{2741} & - \\frac{87}{2741} & - \\frac{233}{2741} & \\frac{11}{2741}\\\\\\frac{349}{2741} & \\frac{625}{2741} & - \\frac{248}{2741} & \\frac{47}{2741}\\\\\\frac{270}{2741} & \\frac{28}{2741} & \\frac{138}{2741} & \\frac{217}{2741}\\\\\\frac{193}{2741} & \\frac{487}{2741} & - \\frac{145}{2741} & \\frac{348}{2741}\\end{matrix}\\right]\\right )$$"
      ],
      "text/plain": [
       "(Matrix([\n",
       " [-7/25, -1/25],\n",
       " [ 4/25, -3/25]]), Matrix([\n",
       " [    1/5,  1/5,   -1/5],\n",
       " [-41/110, -3/5, 31/110],\n",
       " [  34/55,  4/5, -19/55]]), Matrix([\n",
       " [140/2741, -87/2741, -233/2741,  11/2741],\n",
       " [349/2741, 625/2741, -248/2741,  47/2741],\n",
       " [270/2741,  28/2741,  138/2741, 217/2741],\n",
       " [193/2741, 487/2741, -145/2741, 348/2741]]))"
      ]
     },
     "execution_count": 238,
     "metadata": {},
     "output_type": "execute_result"
    }
   ],
   "source": [
    "A3.inv(), B3.inv(), C3.inv()"
   ]
  },
  {
   "cell_type": "code",
   "execution_count": 239,
   "metadata": {},
   "outputs": [
    {
     "data": {
      "image/png": "[encoded data removed]",
      "text/latex": [
       "$$\\left ( \\left[\\begin{matrix}1 & 0\\\\0 & 1\\end{matrix}\\right], \\quad \\left[\\begin{matrix}1 & 0 & 0\\\\0 & 1 & 0\\\\0 & 0 & 1\\end{matrix}\\right], \\quad \\left[\\begin{matrix}1 & 0 & 0 & 0\\\\0 & 1 & 0 & 0\\\\0 & 0 & 1 & 0\\\\0 & 0 & 0 & 1\\end{matrix}\\right]\\right )$$"
      ],
      "text/plain": [
       "(Matrix([\n",
       " [1, 0],\n",
       " [0, 1]]), Matrix([\n",
       " [1, 0, 0],\n",
       " [0, 1, 0],\n",
       " [0, 0, 1]]), Matrix([\n",
       " [1, 0, 0, 0],\n",
       " [0, 1, 0, 0],\n",
       " [0, 0, 1, 0],\n",
       " [0, 0, 0, 1]]))"
      ]
     },
     "execution_count": 239,
     "metadata": {},
     "output_type": "execute_result"
    }
   ],
   "source": [
    "A3 * A3^(-1), B3 * B3^(-1), C3 * C3^(-1)"
   ]
  },
  {
   "cell_type": "code",
   "execution_count": 246,
   "metadata": {},
   "outputs": [
    {
     "data": {
      "image/png": "[encoded data removed]",
      "text/latex": [
       "$$\\left ( 25, \\quad \\left[\\begin{matrix}-7 & 4\\\\-1 & -3\\end{matrix}\\right], \\quad \\left[\\begin{matrix}- \\frac{7}{25} & - \\frac{1}{25}\\\\\\frac{4}{25} & - \\frac{3}{25}\\end{matrix}\\right], \\quad \\left[\\begin{matrix}- \\frac{7}{25} & - \\frac{1}{25}\\\\\\frac{4}{25} & - \\frac{3}{25}\\end{matrix}\\right]\\right )$$"
      ],
      "text/plain": [
       "(25, Matrix([\n",
       " [-7,  4],\n",
       " [-1, -3]]), Matrix([\n",
       " [-7/25, -1/25],\n",
       " [ 4/25, -3/25]]), Matrix([\n",
       " [-7/25, -1/25],\n",
       " [ 4/25, -3/25]]))"
      ]
     },
     "execution_count": 246,
     "metadata": {},
     "output_type": "execute_result"
    }
   ],
   "source": [
    "A3.det(), A3.adjugate().T, A3.adjugate() / A3.det(), A3.inv()"
   ]
  },
  {
   "cell_type": "code",
   "execution_count": 247,
   "metadata": {},
   "outputs": [
    {
     "data": {
      "image/png": "[encoded data removed]",
      "text/latex": [
       "$$\\left ( -110, \\quad \\left[\\begin{matrix}-22 & 41 & -68\\\\-22 & 66 & -88\\\\22 & -31 & 38\\end{matrix}\\right], \\quad \\left[\\begin{matrix}\\frac{1}{5} & \\frac{1}{5} & - \\frac{1}{5}\\\\- \\frac{41}{110} & - \\frac{3}{5} & \\frac{31}{110}\\\\\\frac{34}{55} & \\frac{4}{5} & - \\frac{19}{55}\\end{matrix}\\right], \\quad \\left[\\begin{matrix}\\frac{1}{5} & \\frac{1}{5} & - \\frac{1}{5}\\\\- \\frac{41}{110} & - \\frac{3}{5} & \\frac{31}{110}\\\\\\frac{34}{55} & \\frac{4}{5} & - \\frac{19}{55}\\end{matrix}\\right]\\right )$$"
      ],
      "text/plain": [
       "(-110, Matrix([\n",
       " [-22,  41, -68],\n",
       " [-22,  66, -88],\n",
       " [ 22, -31,  38]]), Matrix([\n",
       " [    1/5,  1/5,   -1/5],\n",
       " [-41/110, -3/5, 31/110],\n",
       " [  34/55,  4/5, -19/55]]), Matrix([\n",
       " [    1/5,  1/5,   -1/5],\n",
       " [-41/110, -3/5, 31/110],\n",
       " [  34/55,  4/5, -19/55]]))"
      ]
     },
     "execution_count": 247,
     "metadata": {},
     "output_type": "execute_result"
    }
   ],
   "source": [
    "B3.det(), B3.adjugate().T, B3.adjugate() / B3.det(), B3.inv()"
   ]
  },
  {
   "cell_type": "code",
   "execution_count": 248,
   "metadata": {},
   "outputs": [
    {
     "data": {
      "image/png": "[encoded data removed]",
      "text/latex": [
       "$$\\left ( 2741, \\quad \\left[\\begin{matrix}140 & 349 & 270 & 193\\\\-87 & 625 & 28 & 487\\\\-233 & -248 & 138 & -145\\\\11 & 47 & 217 & 348\\end{matrix}\\right], \\quad \\left[\\begin{matrix}\\frac{140}{2741} & - \\frac{87}{2741} & - \\frac{233}{2741} & \\frac{11}{2741}\\\\\\frac{349}{2741} & \\frac{625}{2741} & - \\frac{248}{2741} & \\frac{47}{2741}\\\\\\frac{270}{2741} & \\frac{28}{2741} & \\frac{138}{2741} & \\frac{217}{2741}\\\\\\frac{193}{2741} & \\frac{487}{2741} & - \\frac{145}{2741} & \\frac{348}{2741}\\end{matrix}\\right], \\quad \\left[\\begin{matrix}\\frac{140}{2741} & - \\frac{87}{2741} & - \\frac{233}{2741} & \\frac{11}{2741}\\\\\\frac{349}{2741} & \\frac{625}{2741} & - \\frac{248}{2741} & \\frac{47}{2741}\\\\\\frac{270}{2741} & \\frac{28}{2741} & \\frac{138}{2741} & \\frac{217}{2741}\\\\\\frac{193}{2741} & \\frac{487}{2741} & - \\frac{145}{2741} & \\frac{348}{2741}\\end{matrix}\\right]\\right )$$"
      ],
      "text/plain": [
       "(2741, Matrix([\n",
       " [ 140,  349, 270,  193],\n",
       " [ -87,  625,  28,  487],\n",
       " [-233, -248, 138, -145],\n",
       " [  11,   47, 217,  348]]), Matrix([\n",
       " [140/2741, -87/2741, -233/2741,  11/2741],\n",
       " [349/2741, 625/2741, -248/2741,  47/2741],\n",
       " [270/2741,  28/2741,  138/2741, 217/2741],\n",
       " [193/2741, 487/2741, -145/2741, 348/2741]]), Matrix([\n",
       " [140/2741, -87/2741, -233/2741,  11/2741],\n",
       " [349/2741, 625/2741, -248/2741,  47/2741],\n",
       " [270/2741,  28/2741,  138/2741, 217/2741],\n",
       " [193/2741, 487/2741, -145/2741, 348/2741]]))"
      ]
     },
     "execution_count": 248,
     "metadata": {},
     "output_type": "execute_result"
    }
   ],
   "source": [
    "C3.det(), C3.adjugate().T, C3.adjugate() / C3.det(), C3.inv()"
   ]
  },
  {
   "cell_type": "code",
   "execution_count": 251,
   "metadata": {},
   "outputs": [
    {
     "data": {
      "image/png": "[encoded data removed]",
      "text/latex": [
       "$$\\left ( \\left[\\begin{matrix}3 & 2 & 8 & -5\\\\-1 & -3 & 6 & 4\\\\-6 & 2 & 5 & -3\\\\2 & -7 & 1 & 5\\end{matrix}\\right], \\quad 1729\\right )$$"
      ],
      "text/plain": [
       "(Matrix([\n",
       " [ 3,  2, 8, -5],\n",
       " [-1, -3, 6,  4],\n",
       " [-6,  2, 5, -3],\n",
       " [ 2, -7, 1,  5]]), 1729)"
      ]
     },
     "execution_count": 251,
     "metadata": {},
     "output_type": "execute_result"
    }
   ],
   "source": [
    "M = sympy.Matrix([[3, 2, 8, -5], [-1, -3, 6, 4], \n",
    "                   [-6, 2, 5, -3], [2, -7, 1, 5]])\n",
    "M, M.det()"
   ]
  },
  {
   "cell_type": "code",
   "execution_count": 252,
   "metadata": {},
   "outputs": [
    {
     "data": {
      "image/png": "[encoded data removed]",
      "text/latex": [
       "$$\\left ( \\left[\\begin{matrix}3 & 2\\\\-1 & -3\\end{matrix}\\right], \\quad \\left[\\begin{matrix}8 & -5\\\\6 & 4\\end{matrix}\\right], \\quad \\left[\\begin{matrix}-6 & 2\\\\2 & -7\\end{matrix}\\right], \\quad \\left[\\begin{matrix}5 & -3\\\\1 & 5\\end{matrix}\\right]\\right )$$"
      ],
      "text/plain": [
       "(Matrix([\n",
       " [ 3,  2],\n",
       " [-1, -3]]), Matrix([\n",
       " [8, -5],\n",
       " [6,  4]]), Matrix([\n",
       " [-6,  2],\n",
       " [ 2, -7]]), Matrix([\n",
       " [5, -3],\n",
       " [1,  5]]))"
      ]
     },
     "execution_count": 252,
     "metadata": {},
     "output_type": "execute_result"
    }
   ],
   "source": [
    "A, B, C, D = M[0:2,0:2], M[0:2,2:4], M[2:4,0:2], M[2:4,2:4]\n",
    "A, B, C, D"
   ]
  },
  {
   "cell_type": "code",
   "execution_count": 253,
   "metadata": {},
   "outputs": [
    {
     "data": {
      "text/plain": [
       "True"
      ]
     },
     "execution_count": 253,
     "metadata": {},
     "output_type": "execute_result"
    }
   ],
   "source": [
    "A.det() * (D - C * A.inv() * B).det() == M.det()"
   ]
  },
  {
   "cell_type": "code",
   "execution_count": 295,
   "metadata": {},
   "outputs": [
    {
     "name": "stdout",
     "output_type": "stream",
     "text": [
      "\n",
      "\n",
      "\n",
      "     [,1] [,2]\n",
      "[1,]   63   79\n",
      "[2,]   25   22\n",
      "     [,1] [,2] [,3]\n",
      "[1,]   79   43   92\n",
      "[2,]   11   93   70\n",
      "[3,]   50   93   17\n",
      "     [,1] [,2] [,3] [,4]\n",
      "[1,]   43   85   97   64\n",
      "[2,]   26   59   62    7\n",
      "[3,]   65   21    8   59\n",
      "[4,]   10   14   19   85\n"
     ]
    }
   ],
   "source": [
    "%%r\n",
    "A4 <- matrix(sample.int(100, size=2*2, replace=T), nrow=2, ncol=2)\n",
    "B4 <- matrix(sample.int(100, size=3*3, replace=T), nrow=3, ncol=3)\n",
    "C4 <- matrix(sample.int(100, size=4*4, replace=T), nrow=4, ncol=4)\n",
    "A4; B4; C4"
   ]
  },
  {
   "cell_type": "code",
   "execution_count": 296,
   "metadata": {},
   "outputs": [
    {
     "name": "stdout",
     "output_type": "stream",
     "text": [
      "            [,1]       [,2]\n",
      "[1,] -0.03735144  0.1341256\n",
      "[2,]  0.04244482 -0.1069610\n",
      "             [,1]         [,2]         [,3]\n",
      "[1,]  0.008489260 -0.013477066  0.009551924\n",
      "[2,] -0.005706009  0.005609560  0.007781391\n",
      "[3,]  0.006246814  0.008950838 -0.011839150\n",
      "            [,1]        [,2]          [,3]        [,4]\n",
      "[1,]  0.05429576 -0.07294683  0.0156848051 -0.04576123\n",
      "[2,] -0.20123217  0.27564068  0.0034131624  0.12644703\n",
      "[3,]  0.16999526 -0.21690072 -0.0098010517 -0.10333094\n",
      "[4,] -0.01124256  0.01166603 -0.0002166158  0.01941931\n"
     ]
    }
   ],
   "source": [
    "%%r \n",
    "solve(A4); solve(B4); solve(C4)"
   ]
  },
  {
   "cell_type": "code",
   "execution_count": 297,
   "metadata": {},
   "outputs": [
    {
     "name": "stdout",
     "output_type": "stream",
     "text": [
      "             [,1]          [,2]\n",
      "[1,] 1.000000e+00 -1.776357e-15\n",
      "[2,] 2.220446e-16  1.000000e+00\n",
      "     [,1] [,2] [,3]\n",
      "[1,]    1    0    0\n",
      "[2,]    0    1    0\n",
      "[3,]    0    0    1\n",
      "     [,1] [,2] [,3] [,4]\n",
      "[1,]    1    0    0    0\n",
      "[2,]    0    1    0    0\n",
      "[3,]    0    0    1    0\n",
      "[4,]    0    0    0    1\n"
     ]
    }
   ],
   "source": [
    "%%r\n",
    "A4 %*% solve(A4); round(B4 %*% solve(B4)); round(C4 %*% solve(C4))"
   ]
  },
  {
   "cell_type": "code",
   "execution_count": 303,
   "metadata": {},
   "outputs": [
    {
     "name": "stdout",
     "output_type": "stream",
     "text": [
      "\n",
      "\n",
      "\n",
      "\n",
      "\n",
      "\n",
      "\n",
      "\n",
      "\n",
      "\n",
      "\n",
      "\n",
      "\n"
     ]
    }
   ],
   "source": [
    "%%r\n",
    "minor_matrix <- function(A, i, j) A[-i,-j]\n",
    "minor <- function(A, i, j) det( A[-i,-j] )\n",
    "cofactor <- function(A, i, j) (-1)^(i+j) * minor(A,i,j)\n",
    "cofactor_matrix <- function(A) {\n",
    "    n <- sqrt(length(A))\n",
    "    M <- matrix( rep(0, len=n*n), nrow=n)\n",
    "    for (i in 1:n) {\n",
    "        for (j in 1:n) {\n",
    "            M[i,j] <- cofactor(A, i, j)\n",
    "        }\n",
    "    }\n",
    "    return(M)\n",
    "}"
   ]
  },
  {
   "cell_type": "code",
   "execution_count": 309,
   "metadata": {},
   "outputs": [
    {
     "name": "stdout",
     "output_type": "stream",
     "text": [
      "[1] -580616\n",
      "      [,1]  [,2]  [,3]\n",
      "[1,] -4929  3313 -3627\n",
      "[2,]  7825 -3257 -5197\n",
      "[3,] -5546 -4518  6874\n",
      "      [,1]  [,2]  [,3]\n",
      "[1,] -4929  7825 -5546\n",
      "[2,]  3313 -3257 -4518\n",
      "[3,] -3627 -5197  6874\n",
      "             [,1]         [,2]         [,3]\n",
      "[1,]  0.008489260 -0.013477066  0.009551924\n",
      "[2,] -0.005706009  0.005609560  0.007781391\n",
      "[3,]  0.006246814  0.008950838 -0.011839150\n",
      "             [,1]         [,2]         [,3]\n",
      "[1,]  0.008489260 -0.013477066  0.009551924\n",
      "[2,] -0.005706009  0.005609560  0.007781391\n",
      "[3,]  0.006246814  0.008950838 -0.011839150\n"
     ]
    }
   ],
   "source": [
    "%%r\n",
    "det(B4); cofactor_matrix(B4); t(cofactor_matrix(B4)); t(cofactor_matrix(B4)) / det(B4); solve(B4)"
   ]
  },
  {
   "cell_type": "code",
   "execution_count": 311,
   "metadata": {},
   "outputs": [
    {
     "name": "stdout",
     "output_type": "stream",
     "text": [
      "      [,1]  [,2]  [,3]\n",
      "[1,] FALSE FALSE FALSE\n",
      "[2,] FALSE FALSE FALSE\n",
      "[3,] FALSE FALSE FALSE\n"
     ]
    }
   ],
   "source": [
    "%%r\n",
    "t(cofactor_matrix(B4)) / det(B4) == solve(B4)"
   ]
  },
  {
   "cell_type": "code",
   "execution_count": 313,
   "metadata": {},
   "outputs": [
    {
     "name": "stdout",
     "output_type": "stream",
     "text": [
      "[1] TRUE\n"
     ]
    }
   ],
   "source": [
    "%%r\n",
    "all.equal(t(cofactor_matrix(B4)) / det(B4), solve(B4))"
   ]
  },
  {
   "cell_type": "code",
   "execution_count": 314,
   "metadata": {},
   "outputs": [
    {
     "name": "stdout",
     "output_type": "stream",
     "text": [
      "[1] TRUE\n"
     ]
    }
   ],
   "source": [
    "%%r\n",
    "all.equal(t(cofactor_matrix(C4)) / det(C4), solve(C4))"
   ]
  },
  {
   "cell_type": "code",
   "execution_count": 316,
   "metadata": {},
   "outputs": [
    {
     "name": "stdout",
     "output_type": "stream",
     "text": [
      "\n",
      "\n",
      "\n",
      "     [,1] [,2] [,3] [,4]\n",
      "[1,]   15   72   76   60\n",
      "[2,]   87   32   92   26\n",
      "[3,]   79   25   25   52\n",
      "[4,]   17   39   78   36\n",
      "     [,1] [,2]\n",
      "[1,]   15   72\n",
      "[2,]   87   32\n",
      "     [,1] [,2]\n",
      "[1,]   76   60\n",
      "[2,]   92   26\n",
      "     [,1] [,2]\n",
      "[1,]   79   25\n",
      "[2,]   17   39\n",
      "     [,1] [,2]\n",
      "[1,]   25   52\n",
      "[2,]   78   36\n"
     ]
    }
   ],
   "source": [
    "%%r\n",
    "M <- matrix(sample.int(100, size=4*4, replace=T), nrow=4, ncol=4)\n",
    "A <- M[1:2,1:2]; B <- M[1:2,3:4];\n",
    "C <- M[3:4,1:2]; D <- M[3:4,3:4]\n",
    "M; A; B; C; D"
   ]
  },
  {
   "cell_type": "code",
   "execution_count": 322,
   "metadata": {},
   "outputs": [
    {
     "name": "stdout",
     "output_type": "stream",
     "text": [
      "[1] 6722190\n",
      "[1] 6722190\n"
     ]
    }
   ],
   "source": [
    "%%r\n",
    "det(A) * det(D - C %*% solve(A) %*% B); det(M)"
   ]
  },
  {
   "cell_type": "code",
   "execution_count": 323,
   "metadata": {},
   "outputs": [
    {
     "name": "stdout",
     "output_type": "stream",
     "text": [
      "[1] FALSE\n"
     ]
    }
   ],
   "source": [
    "%%r\n",
    "det(A) * det(D - C %*% solve(A) %*% B) == det(M)"
   ]
  },
  {
   "cell_type": "code",
   "execution_count": 324,
   "metadata": {},
   "outputs": [
    {
     "name": "stdout",
     "output_type": "stream",
     "text": [
      "[1] TRUE\n"
     ]
    }
   ],
   "source": [
    "%%r\n",
    "all.equal(det(A) * det(D - C %*% solve(A) %*% B), det(M))"
   ]
  },
  {
   "cell_type": "markdown",
   "metadata": {},
   "source": [
    "## 2. Ранг матрицы\n",
    "Ранг матрицы не меняется в результате элементарных преобразований.\n",
    "\n",
    "_Элементарные преобразования:_\n",
    "\n",
    "1) отбрасывание нулевой строки (столбца);\n",
    "\n",
    "2) изменение порядка строк (столбцов);\n",
    "\n",
    "3) умножение всех элементов строки (столбца) на число, не равное 0;\n",
    "\n",
    "4) транспонирование;\n",
    "\n",
    "5) прибавление к каждому элементу одной строки (столбца) соответствующих элементов другой строки (столбца), умноженных на любое число."
   ]
  },
  {
   "cell_type": "code",
   "execution_count": 326,
   "metadata": {},
   "outputs": [
    {
     "data": {
      "image/png": "[encoded data removed]",
      "text/latex": [
       "$$\\left ( 2, \\quad 4, \\quad 3\\right )$$"
      ],
      "text/plain": [
       "(2, 4, 3)"
      ]
     },
     "execution_count": 326,
     "metadata": {},
     "output_type": "execute_result"
    }
   ],
   "source": [
    "# sage\n",
    "A1 = random_matrix(ZZ,2,x=0,y=100)\n",
    "B1 = matrix(4, [3, 2, 8, -5, -1, -3, 6, 4, -6, 2, 5, -3, 2, -7, 1, 5])\n",
    "C1 = matrix(4, [3, 2, 8, -5, -1, -3, 6, 4, 0, 0, 0, 0, 2, -7, 1, 5])\n",
    "A1.rank(), B1.rank(), C1.rank()"
   ]
  },
  {
   "cell_type": "code",
   "execution_count": 330,
   "metadata": {},
   "outputs": [
    {
     "name": "stdout",
     "output_type": "stream",
     "text": [
      "[[0 0]\n",
      " [0 0]]\n",
      "[[6 6 8 2 8]\n",
      " [5 9 6 6 0]\n",
      " [7 2 0 4 5]]\n",
      "[[ 84  31   4 -31]\n",
      " [-20 -29 -21 -48]\n",
      " [ 43 -11   4  88]\n",
      " [-58 -66   4  33]]\n"
     ]
    }
   ],
   "source": [
    "# python numpy\n",
    "import numpy\n",
    "A2 = numpy.matrix(numpy.random.randint(0, 2, size=(2,2)))\n",
    "B2 = numpy.matrix(numpy.random.randint(0, 10, size=(3,5)))\n",
    "C2 = numpy.matrix(numpy.random.randint(-100, 100, size=(4,4)))\n",
    "print(A2)\n",
    "print(B2)\n",
    "print(C2)"
   ]
  },
  {
   "cell_type": "code",
   "execution_count": 331,
   "metadata": {},
   "outputs": [
    {
     "data": {
      "image/png": "[encoded data removed]",
      "text/latex": [
       "$$\\left ( 0, \\quad 3, \\quad 4\\right )$$"
      ],
      "text/plain": [
       "(0, 3, 4)"
      ]
     },
     "execution_count": 331,
     "metadata": {},
     "output_type": "execute_result"
    }
   ],
   "source": [
    "numpy.linalg.matrix_rank(A2), numpy.linalg.matrix_rank(B2), numpy.linalg.matrix_rank(C2)"
   ]
  },
  {
   "cell_type": "code",
   "execution_count": null,
   "metadata": {},
   "outputs": [],
   "source": []
  }
 ],
 "metadata": {
  "kernelspec": {
   "display_name": "SageMath 8.4",
   "language": "",
   "name": "sagemath"
  },
  "language_info": {
   "codemirror_mode": {
    "name": "ipython",
    "version": 2
   },
   "file_extension": ".py",
   "mimetype": "text/x-python",
   "name": "python",
   "nbconvert_exporter": "python",
   "pygments_lexer": "ipython2",
   "version": "2.7.15"
  }
 },
 "nbformat": 4,
 "nbformat_minor": 2
}

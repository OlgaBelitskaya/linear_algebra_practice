{
 "cells": [
  {
   "cell_type": "markdown",
   "metadata": {},
   "source": [
    "<h1 style=\"color: #3636ff;\">Линейная алгебра. Практическая работа №4</h1>\n",
    "\n",
    "<a href=\"https://olgabelitskaya.github.io/README.html\">&#x1F300; &nbsp; Home Page</a> &nbsp; &nbsp; <a href=\"https://github.com/OlgaBelitskaya/linear_algebra_practice/blob/master/work1_3.ipynb\">📓 &nbsp; Previous</a> &nbsp; &nbsp; <a href=\"https://github.com/OlgaBelitskaya/linear_algebra_practice/blob/master/work1_5.ipynb\">📓 &nbsp; Next</a>\n",
    "\n",
    "### Программные средства\n",
    "\n",
    "[LaTeX. Mathematics. Matrices & Arrays](https://en.wikibooks.org/wiki/LaTeX/Mathematics#Matrices_and_arrays)\n",
    "\n",
    "[Sage. Matrices & Spaces of Matrices](https://doc.sagemath.org/html/en/reference/matrices/index.html)\n",
    "\n",
    "[Numpy. Quickstart tutorial](https://docs.scipy.org/doc/numpy/user/quickstart.html#linear-algebra)\n",
    "\n",
    "[SymPy. Matrices (linear algebra)](https://docs.sympy.org/latest/modules/matrices/matrices.html)\n",
    "\n",
    "[Quick-R. Matrix Algebra](https://www.statmethods.net/advstats/matrix.html)\n",
    "\n",
    "[R - Matrices](https://www.tutorialspoint.com/r/r_matrices.html)\n",
    "\n",
    "### Конспекты лекций\n",
    "\n",
    "[Матрицы. Системы линейных уравнений. Алгоритм Гаусса](http://matematika.phys.msu.ru/files/a_stud_gen/246/AG-08_2009-2010.pdf)\n",
    "\n",
    "[АЛГЕБРА И ГЕОМЕТРИЯ ДЛЯ СТУДЕНТОВ-ФИЗИКОВ](http://math.phys.msu.ru/data/24/Algebra_and_geometry.pdf)"
   ]
  },
  {
   "cell_type": "markdown",
   "metadata": {},
   "source": [
    "# Обратная матрица, ранг матрицы\n",
    "\n",
    "## 1. Обратная матрица\n",
    "Обратная матрица = Транспонированная матрица алгебраических дополнений / Определитель      \n",
    "    <p>$A^{-1} = \\frac{A_S^T}{\\Delta_A}$</p>\n",
    "Вычисление определителя 4-ого порядка      \n",
    "    <p>$| M | = \\begin{vmatrix} A & B \\\\ C & D \\end{vmatrix} = | A | * |D - C * A^{-1} * B|$</p>"
   ]
  },
  {
   "cell_type": "code",
   "execution_count": 22,
   "metadata": {},
   "outputs": [
    {
     "data": {
      "text/latex": [
       "$\\large{\\mathbb{A^{-1}=\\frac{A_S^T}{\\Delta_A}\\;\\;}\n",
       "\\mathscr{|M|=\\begin{vmatrix}A&B\\\\C&D\\end{vmatrix}=\n",
       "|A|*|D-C*A^{-1}*B|}}$"
      ],
      "text/plain": [
       "<IPython.core.display.Latex object>"
      ]
     },
     "metadata": {},
     "output_type": "display_data"
    }
   ],
   "source": [
    "%%latex\n",
    "$\\large{\\mathbb{A^{-1}=\\frac{A_S^T}{\\Delta_A}\\;\\;}\n",
    "\\mathscr{|M|=\\begin{vmatrix}A&B\\\\C&D\\end{vmatrix}=\n",
    "|A|*|D-C*A^{-1}*B|}}$"
   ]
  },
  {
   "cell_type": "code",
   "execution_count": 1,
   "metadata": {},
   "outputs": [],
   "source": [
    "S=matrix(SR,2,var('a,b,c,d'))\n",
    "M2=random_matrix(ZZ,2,x=0,y=100)\n",
    "M3=random_matrix(ZZ,3,x=-100,y=0)\n",
    "M4=random_matrix(ZZ,4,x=-100,y=100)"
   ]
  },
  {
   "cell_type": "code",
   "execution_count": 2,
   "metadata": {},
   "outputs": [
    {
     "data": {
      "text/html": [
       "<html><script type=\"math/tex; mode=display\">\\newcommand{\\Bold}[1]{\\mathbf{#1}}\\left(\\begin{array}{rr}\n",
       "\\frac{1}{a} - \\frac{b c}{a^{2} {\\left(\\frac{b c}{a} - d\\right)}} & \\frac{b}{a {\\left(\\frac{b c}{a} - d\\right)}} \\\\\n",
       "\\frac{c}{a {\\left(\\frac{b c}{a} - d\\right)}} & -\\frac{1}{\\frac{b c}{a} - d}\n",
       "\\end{array}\\right) \\left(\\begin{array}{rr}\n",
       "\\frac{1}{a} - \\frac{b c}{a^{2} {\\left(\\frac{b c}{a} - d\\right)}} & \\frac{b}{a {\\left(\\frac{b c}{a} - d\\right)}} \\\\\n",
       "\\frac{c}{a {\\left(\\frac{b c}{a} - d\\right)}} & -\\frac{1}{\\frac{b c}{a} - d}\n",
       "\\end{array}\\right)</script></html>"
      ],
      "text/plain": [
       "[1/a - b*c/(a^2*(b*c/a - d))           b/(a*(b*c/a - d))]\n",
       "[          c/(a*(b*c/a - d))              -1/(b*c/a - d)] [1/a - b*c/(a^2*(b*c/a - d))           b/(a*(b*c/a - d))]\n",
       "[          c/(a*(b*c/a - d))              -1/(b*c/a - d)]"
      ]
     },
     "metadata": {},
     "output_type": "display_data"
    },
    {
     "data": {
      "text/html": [
       "<html><script type=\"math/tex; mode=display\">\\newcommand{\\Bold}[1]{\\mathbf{#1}}\\left(\\begin{array}{rr}\n",
       "a {\\left(\\frac{1}{a} - \\frac{b c}{a^{2} {\\left(\\frac{b c}{a} - d\\right)}}\\right)} + \\frac{b c}{a {\\left(\\frac{b c}{a} - d\\right)}} & 0 \\\\\n",
       "c {\\left(\\frac{1}{a} - \\frac{b c}{a^{2} {\\left(\\frac{b c}{a} - d\\right)}}\\right)} + \\frac{c d}{a {\\left(\\frac{b c}{a} - d\\right)}} & \\frac{b c}{a {\\left(\\frac{b c}{a} - d\\right)}} - \\frac{d}{\\frac{b c}{a} - d}\n",
       "\\end{array}\\right) \\left(\\begin{array}{rr}\n",
       "1 & 0 \\\\\n",
       "0 & 1\n",
       "\\end{array}\\right) \\left(\\begin{array}{rr}\n",
       "a {\\left(\\frac{1}{a} - \\frac{b c}{a^{2} {\\left(\\frac{b c}{a} - d\\right)}}\\right)} + \\frac{b c}{a {\\left(\\frac{b c}{a} - d\\right)}} & b {\\left(\\frac{1}{a} - \\frac{b c}{a^{2} {\\left(\\frac{b c}{a} - d\\right)}}\\right)} + \\frac{b d}{a {\\left(\\frac{b c}{a} - d\\right)}} \\\\\n",
       "0 & \\frac{b c}{a {\\left(\\frac{b c}{a} - d\\right)}} - \\frac{d}{\\frac{b c}{a} - d}\n",
       "\\end{array}\\right) \\left(\\begin{array}{rr}\n",
       "1 & 0 \\\\\n",
       "0 & 1\n",
       "\\end{array}\\right)</script></html>"
      ],
      "text/plain": [
       "[a*(1/a - b*c/(a^2*(b*c/a - d))) + b*c/(a*(b*c/a - d))                                                     0]\n",
       "[c*(1/a - b*c/(a^2*(b*c/a - d))) + c*d/(a*(b*c/a - d))                   b*c/(a*(b*c/a - d)) - d/(b*c/a - d)] [1 0]\n",
       "[0 1] [a*(1/a - b*c/(a^2*(b*c/a - d))) + b*c/(a*(b*c/a - d)) b*(1/a - b*c/(a^2*(b*c/a - d))) + b*d/(a*(b*c/a - d))]\n",
       "[                                                    0                   b*c/(a*(b*c/a - d)) - d/(b*c/a - d)] [1 0]\n",
       "[0 1]"
      ]
     },
     "metadata": {},
     "output_type": "display_data"
    },
    {
     "data": {
      "text/plain": [
       "True"
      ]
     },
     "execution_count": 2,
     "metadata": {},
     "output_type": "execute_result"
    }
   ],
   "source": [
    "pretty_print(S^(-1),S.inverse())\n",
    "pretty_print(S*S^(-1),(S*S^(-1)).simplify_rational(),\n",
    "             S^(-1)*S,(S^(-1)*S).simplify_rational())\n",
    "(S*S^(-1)).simplify_rational()==(S^(-1)*S)\\\n",
    ".simplify_rational()==identity_matrix(2)"
   ]
  },
  {
   "cell_type": "code",
   "execution_count": 3,
   "metadata": {},
   "outputs": [
    {
     "data": {
      "text/html": [
       "<html><script type=\"math/tex; mode=display\">\\newcommand{\\Bold}[1]{\\mathbf{#1}}\\left(\\begin{array}{rrr}\n",
       "-2803 & -1017 & 2424 \\\\\n",
       "-1440 & -890 & -2220 \\\\\n",
       "2528 & -1708 & -5914\n",
       "\\end{array}\\right) \\left(\\begin{array}{rrr}\n",
       "-2803 & 1017 & 2424 \\\\\n",
       "1440 & -890 & 2220 \\\\\n",
       "2528 & 1708 & -5914\n",
       "\\end{array}\\right)</script></html>"
      ],
      "text/plain": [
       "[-2803 -1017  2424]\n",
       "[-1440  -890 -2220]\n",
       "[ 2528 -1708 -5914] [-2803  1017  2424]\n",
       "[ 1440  -890  2220]\n",
       "[ 2528  1708 -5914]"
      ]
     },
     "metadata": {},
     "output_type": "display_data"
    },
    {
     "data": {
      "text/plain": [
       "True"
      ]
     },
     "execution_count": 3,
     "metadata": {},
     "output_type": "execute_result"
    }
   ],
   "source": [
    "M3m=M3.minors(2); M3m.reverse()\n",
    "pretty_print(matrix(3,M3m).T,M3.adjugate())\n",
    "M3*M3^(-1)==identity_matrix(3),\n",
    "M3.adjugate()/M3.det()==M3.inverse()==M3^(-1)"
   ]
  },
  {
   "cell_type": "code",
   "execution_count": 7,
   "metadata": {},
   "outputs": [
    {
     "data": {
      "text/html": [
       "<html><script type=\"math/tex; mode=display\">\\newcommand{\\Bold}[1]{\\mathbf{#1}}\\left(\\begin{array}{rrrr}\n",
       "8 & 91 & -93 & -13 \\\\\n",
       "47 & 16 & -83 & 87 \\\\\n",
       "67 & 49 & -59 & -85 \\\\\n",
       "-48 & -80 & -1 & -12\n",
       "\\end{array}\\right) \\left(\\begin{array}{rr}\n",
       "8 & 91 \\\\\n",
       "47 & 16\n",
       "\\end{array}\\right) \\left(\\begin{array}{rr}\n",
       "-93 & -13 \\\\\n",
       "-83 & 87\n",
       "\\end{array}\\right) \\left(\\begin{array}{rr}\n",
       "67 & 49 \\\\\n",
       "-48 & -80\n",
       "\\end{array}\\right) \\left(\\begin{array}{rr}\n",
       "-59 & -85 \\\\\n",
       "-1 & -12\n",
       "\\end{array}\\right)</script></html>"
      ],
      "text/plain": [
       "[  8  91 -93 -13]\n",
       "[ 47  16 -83  87]\n",
       "[ 67  49 -59 -85]\n",
       "[-48 -80  -1 -12] [ 8 91]\n",
       "[47 16] [-93 -13]\n",
       "[-83  87] [ 67  49]\n",
       "[-48 -80] [-59 -85]\n",
       "[ -1 -12]"
      ]
     },
     "metadata": {},
     "output_type": "display_data"
    },
    {
     "data": {
      "text/plain": [
       "True"
      ]
     },
     "execution_count": 7,
     "metadata": {},
     "output_type": "execute_result"
    }
   ],
   "source": [
    "A,B,C,D=M4[0:2,0:2],M4[0:2,2:4],M4[2:4,0:2],M4[2:4,2:4]\n",
    "pretty_print(M4,A,B,C,D)\n",
    "A.det()*(D-C*A.inverse()*B).det()==M4.det()"
   ]
  },
  {
   "cell_type": "code",
   "execution_count": 23,
   "metadata": {},
   "outputs": [],
   "source": [
    "import numpy,sympy\n",
    "MN2=numpy.matrix(numpy.random.randint(0,100,size=(2,2)))\n",
    "MN3=numpy.matrix(numpy.random.randint(-100,0,size=(3,3)))\n",
    "MN4=numpy.matrix(numpy.random.randint(-100,100,size=(4,4)))\n",
    "def minor_matrix(M,x,y):\n",
    "    return numpy.matrix([[M[i,j] for j in range(len(M)) if j!=y] \n",
    "                         for i in range(len(M)) if i!=x])\n",
    "def minor(M,x,y):\n",
    "    return numpy.linalg.det(minor_matrix(M,x,y))\n",
    "def cofactor_matrix(M):\n",
    "    return numpy.matrix([[(-1)**(i+j)*minor(M,i,j) \n",
    "                          for j in range(len(M))] \n",
    "                         for i in range(len(M))])\n",
    "MS2=sympy.Matrix([[-3,1],[-4,-7]])\n",
    "MS3=sympy.Matrix([[2,10,7],[-5,-6,-2],[-8,4,5]])\n",
    "MS4=sympy.Matrix([[3,2,8,-5],[-1,-3,6,4],\n",
    "                  [-6,2,5,-3],[2,-7,1,5]])"
   ]
  },
  {
   "cell_type": "code",
   "execution_count": 25,
   "metadata": {},
   "outputs": [
    {
     "name": "stdout",
     "output_type": "stream",
     "text": [
      "[[1. 0. 0.]\n",
      " [0. 1. 0.]\n",
      " [0. 0. 1.]]\n",
      "[[ 1.  0.  0.  0.]\n",
      " [ 0.  1.  0.  0.]\n",
      " [-0. -0.  1.  0.]\n",
      " [ 0. -0.  0.  1.]]\n"
     ]
    },
    {
     "data": {
      "text/plain": [
       "[Matrix([\n",
       " [1, 0],\n",
       " [0, 1]]), Matrix([\n",
       " [1, 0, 0],\n",
       " [0, 1, 0],\n",
       " [0, 0, 1]]), Matrix([\n",
       " [1, 0, 0, 0],\n",
       " [0, 1, 0, 0],\n",
       " [0, 0, 1, 0],\n",
       " [0, 0, 0, 1]])]"
      ]
     },
     "execution_count": 25,
     "metadata": {},
     "output_type": "execute_result"
    }
   ],
   "source": [
    "print(round(MN3*numpy.linalg.inv(MN3)))\n",
    "print(round(MN4*numpy.linalg.inv(MN4)))\n",
    "[MS2*MS2.inv(),MS3*MS3.inv(),MS4*MS4.inv()]"
   ]
  },
  {
   "cell_type": "code",
   "execution_count": 26,
   "metadata": {},
   "outputs": [
    {
     "name": "stdout",
     "output_type": "stream",
     "text": [
      "[[ True  True  True]\n",
      " [ True  True  True]\n",
      " [ True  True  True]]\n"
     ]
    },
    {
     "data": {
      "text/plain": [
       "(Matrix([\n",
       " [    1/5,  1/5,   -1/5],\n",
       " [-41/110, -3/5, 31/110],\n",
       " [  34/55,  4/5, -19/55]]), Matrix([\n",
       " [    1/5,  1/5,   -1/5],\n",
       " [-41/110, -3/5, 31/110],\n",
       " [  34/55,  4/5, -19/55]]), Matrix([\n",
       " [    1/5,  1/5,   -1/5],\n",
       " [-41/110, -3/5, 31/110],\n",
       " [  34/55,  4/5, -19/55]]))"
      ]
     },
     "execution_count": 26,
     "metadata": {},
     "output_type": "execute_result"
    }
   ],
   "source": [
    "print(numpy.round(cofactor_matrix(MN3).T/numpy.linalg.det(MN3),8)\\\n",
    "==numpy.round(numpy.linalg.inv(MN3),8))\n",
    "MS3.adjugate()/MS3.det(),MS3.inv(),MS3^-1"
   ]
  },
  {
   "cell_type": "code",
   "execution_count": 27,
   "metadata": {},
   "outputs": [
    {
     "name": "stdout",
     "output_type": "stream",
     "text": [
      "[[ 12  60  94  29]\n",
      " [ 30  83  61 -24]\n",
      " [-96   7  64 -11]\n",
      " [ 61  70  60  74]]\n",
      "[[12 60]\n",
      " [30 83]]\n",
      "[[ 94  29]\n",
      " [ 61 -24]]\n",
      "[[-96   7]\n",
      " [ 61  70]]\n",
      "[[ 64 -11]\n",
      " [ 60  74]]\n",
      "(21287192.999999996, 21287192.999999996)\n",
      "True\n",
      "=%==%==%==%==%==%==%==%==%==%==%==%==%==%==%==%==%==%==%==%==%==%==%==%==%==%==%==%==%==%=\n",
      "A.det()*(D-C*A^(-1)*B).det()=MS4.det(): True\n"
     ]
    },
    {
     "data": {
      "text/plain": [
       "(Matrix([\n",
       " [ 3,  2, 8, -5],\n",
       " [-1, -3, 6,  4],\n",
       " [-6,  2, 5, -3],\n",
       " [ 2, -7, 1,  5]]), Matrix([\n",
       " [ 3,  2],\n",
       " [-1, -3]]), Matrix([\n",
       " [8, -5],\n",
       " [6,  4]]), Matrix([\n",
       " [-6,  2],\n",
       " [ 2, -7]]), Matrix([\n",
       " [5, -3],\n",
       " [1,  5]]))"
      ]
     },
     "execution_count": 27,
     "metadata": {},
     "output_type": "execute_result"
    }
   ],
   "source": [
    "A,B,C,D=MN4[0:2,0:2],MN4[0:2,2:4],MN4[2:4,0:2],MN4[2:4,2:4]\n",
    "for m in [MN4,A,B,C,D]:\n",
    "    print(numpy.array_str(m,precision=2,suppress_small=True))\n",
    "print(numpy.linalg.det(A)*\\\n",
    "      numpy.linalg.det(D-C*numpy.linalg.inv(A)*B),\n",
    "      numpy.linalg.det(MN4))\n",
    "print(round(numpy.linalg.det(A)*\\\n",
    "            numpy.linalg.det(D-C*numpy.linalg.inv(A)*B))==\\\n",
    "      round(numpy.linalg.det(MN4)))\n",
    "print(30*'=%=')\n",
    "A,B,C,D=MS4[0:2,0:2],MS4[0:2,2:4],MS4[2:4,0:2],MS4[2:4,2:4]\n",
    "sympy.pprint('A.det()*(D-C*A^(-1)*B).det()=MS4.det(): %s'\\\n",
    "             %str(A.det()*(D-C*A.inv()*B).det()==MS4.det()))\n",
    "MS4,A,B,C,D"
   ]
  },
  {
   "cell_type": "code",
   "execution_count": 28,
   "metadata": {},
   "outputs": [
    {
     "name": "stdout",
     "output_type": "stream",
     "text": [
      "[1] \"Matrix\"    \"tools\"     \"stats\"     \"graphics\"  \"grDevices\" \"utils\"    \n",
      "[7] \"datasets\"  \"methods\"   \"base\"\n"
     ]
    }
   ],
   "source": [
    "%%r\n",
    "A<-matrix(sample.int(100,size=2*2,replace=T),\n",
    "          nrow=2,ncol=2)\n",
    "B<-matrix(sample.int(100,size=3*3,replace=T),\n",
    "          nrow=3,ncol=3)\n",
    "M<-matrix(sample.int(100,size=4*4,replace=T),\n",
    "          nrow=4,ncol=4)\n",
    "minor_matrix<-function(A,i,j) A[-i,-j]\n",
    "minor<-function(A,i,j) det(A[-i,-j])\n",
    "cofactor<-function(A,i,j) (-1)^(i+j)*minor(A,i,j)\n",
    "cofactor_matrix<-function(A){\n",
    "    n<-sqrt(length(A))\n",
    "    M<-matrix(rep(0,len=n*n),nrow=n)\n",
    "    for (i in 1:n){for (j in 1:n){M[i,j]<-cofactor(A,i,j)}}\n",
    "    return(M)}\n",
    "library(Matrix)"
   ]
  },
  {
   "cell_type": "code",
   "execution_count": 30,
   "metadata": {},
   "outputs": [
    {
     "name": "stdout",
     "output_type": "stream",
     "text": [
      "[[1]]\n",
      "     [,1] [,2]\n",
      "[1,]    1    0\n",
      "[2,]    0    1\n",
      "\n",
      "[[2]]\n",
      "     [,1] [,2] [,3]\n",
      "[1,]    1    0    0\n",
      "[2,]    0    1    0\n",
      "[3,]    0    0    1\n",
      "\n",
      "[[3]]\n",
      "     [,1] [,2] [,3] [,4]\n",
      "[1,]    1    0    0    0\n",
      "[2,]    0    1    0    0\n",
      "[3,]    0    0    1    0\n",
      "[4,]    0    0    0    1\n"
     ]
    }
   ],
   "source": [
    "%%r\n",
    "list(round(A%*%solve(A)),\n",
    "     round(B%*%solve(B)),\n",
    "     round(M%*%solve(M)))"
   ]
  },
  {
   "cell_type": "code",
   "execution_count": 31,
   "metadata": {},
   "outputs": [
    {
     "name": "stdout",
     "output_type": "stream",
     "text": [
      "[[1]]\n",
      "            [,1]         [,2]         [,3]\n",
      "[1,]  0.01098424 -0.014381429  0.010399170\n",
      "[2,] -0.01550574  0.009992046  0.008147859\n",
      "[3,]  0.01035064  0.007066690 -0.012046536\n",
      "\n",
      "[[2]]\n",
      "            [,1]         [,2]         [,3]\n",
      "[1,]  0.01098424 -0.014381429  0.010399170\n",
      "[2,] -0.01550574  0.009992046  0.008147859\n",
      "[3,]  0.01035064  0.007066690 -0.012046536\n",
      "\n",
      "[[3]]\n",
      "           [,1]       [,2]       [,3]\n",
      "[1,] 0.01515152 0.02702703 0.01219512\n",
      "[2,] 0.02631579 0.01123596 0.01075269\n",
      "[3,] 0.01265823 0.01190476 0.02380952\n"
     ]
    }
   ],
   "source": [
    "%%r\n",
    "list(t(cofactor_matrix(B))/det(B),solve(B),B^(-1)) \n",
    "# !!! solve(B) != B^(-1) in R"
   ]
  },
  {
   "cell_type": "code",
   "execution_count": 32,
   "metadata": {},
   "outputs": [
    {
     "name": "stdout",
     "output_type": "stream",
     "text": [
      "[1] -2032098 -2032098\n",
      "[[1]]\n",
      "     [,1] [,2] [,3] [,4]\n",
      "[1,]   55   47   68    3\n",
      "[2,]   34   46   44   29\n",
      "[3,]   61    6   55   16\n",
      "[4,]   62   19   77   69\n",
      "\n",
      "[[2]]\n",
      "     [,1] [,2]\n",
      "[1,]   55   47\n",
      "[2,]   34   46\n",
      "\n",
      "[[3]]\n",
      "     [,1] [,2]\n",
      "[1,]   68    3\n",
      "[2,]   44   29\n",
      "\n",
      "[[4]]\n",
      "     [,1] [,2]\n",
      "[1,]   61    6\n",
      "[2,]   62   19\n",
      "\n",
      "[[5]]\n",
      "     [,1] [,2]\n",
      "[1,]   55   16\n",
      "[2,]   77   69\n"
     ]
    }
   ],
   "source": [
    "%%r\n",
    "A<-M[1:2,1:2]; B<-M[1:2,3:4]; C<-M[3:4,1:2]; D<-M[3:4,3:4]\n",
    "print(c(det(A)*det(D-C%*%solve(A)%*%B),det(M)))\n",
    "list(M,A,B,C,D)"
   ]
  },
  {
   "cell_type": "markdown",
   "metadata": {},
   "source": [
    "## 2. Ранг матрицы\n",
    "Ранг матрицы не меняется в результате элементарных преобразований.\n",
    "\n",
    "_Элементарные преобразования:_\n",
    "\n",
    "1) отбрасывание нулевой строки (столбца);\n",
    "\n",
    "2) изменение порядка строк (столбцов);\n",
    "\n",
    "3) умножение всех элементов строки (столбца) на число, не равное 0;\n",
    "\n",
    "4) транспонирование;\n",
    "\n",
    "5) прибавление к каждому элементу одной строки (столбца) \n",
    "\n",
    "   соответствующих элементов другой строки (столбца), умноженных на любое число."
   ]
  },
  {
   "cell_type": "code",
   "execution_count": 33,
   "metadata": {},
   "outputs": [
    {
     "data": {
      "text/plain": [
       "(2, 3, 4, 2)"
      ]
     },
     "execution_count": 33,
     "metadata": {},
     "output_type": "execute_result"
    }
   ],
   "source": [
    "M2.rank(),M3.rank(),M4.rank(),S.rank()"
   ]
  },
  {
   "cell_type": "code",
   "execution_count": 34,
   "metadata": {},
   "outputs": [
    {
     "name": "stdout",
     "output_type": "stream",
     "text": [
      "[2, 3, 4]\n",
      "[2, 3, 4]\n"
     ]
    }
   ],
   "source": [
    "print([numpy.linalg.matrix_rank(MN2),\n",
    "       numpy.linalg.matrix_rank(MN3),\n",
    "       numpy.linalg.matrix_rank(MN4)])\n",
    "sympy.pprint([MS2.rank(),MS3.rank(),MS4.rank()])"
   ]
  },
  {
   "cell_type": "code",
   "execution_count": 35,
   "metadata": {},
   "outputs": [
    {
     "name": "stdout",
     "output_type": "stream",
     "text": [
      "[1] 2 4\n",
      "$qr\n",
      "             [,1]        [,2]        [,3]       [,4]\n",
      "[1,] -108.3789647 -52.5286435 -123.317288 -59.098184\n",
      "[2,]    0.3137140 -44.3028398  -12.082976   5.018808\n",
      "[3,]    0.5628398  -0.7033527   12.682594  35.151670\n",
      "[4,]    0.5720667  -0.4236683   -0.692744  33.370291\n",
      "\n",
      "$rank\n",
      "[1] 4\n",
      "\n",
      "$qraux\n",
      "[1]  1.507479  1.570789  1.721184 33.370291\n",
      "\n",
      "$pivot\n",
      "[1] 1 2 3 4\n",
      "\n",
      "attr(,\"class\")\n",
      "[1] \"qr\"\n"
     ]
    }
   ],
   "source": [
    "%%r\n",
    "print(c(qr(A)$rank,qr(M)$rank))\n",
    "qr(M)"
   ]
  },
  {
   "cell_type": "markdown",
   "metadata": {},
   "source": [
    "## 3. Задание\n",
    "\n",
    "Инициировать случайную матрицу $A(3x3)$, рассчитать для нее определитель, ранг и обратную матрицу\n",
    "\n",
    "с использованием SageMath, Numpy, SymPy, R."
   ]
  }
 ],
 "metadata": {
  "kernelspec": {
   "display_name": "SageMath 8.8",
   "language": "sage",
   "name": "sagemath"
  },
  "language_info": {
   "codemirror_mode": {
    "name": "ipython",
    "version": 2
   },
   "file_extension": ".py",
   "mimetype": "text/x-python",
   "name": "python",
   "nbconvert_exporter": "python",
   "pygments_lexer": "ipython2",
   "version": "2.7.15"
  }
 },
 "nbformat": 4,
 "nbformat_minor": 2
}

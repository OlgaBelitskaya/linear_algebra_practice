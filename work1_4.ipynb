{
 "cells": [
  {
   "cell_type": "markdown",
   "metadata": {},
   "source": [
    "<h1 style=\"color: #3636ff;\">Линейная алгебра. Практическая работа №4</h1>\n",
    "\n",
    "### Программные средства\n",
    "\n",
    "[LaTeX. Mathematics. Matrices & Arrays](https://en.wikibooks.org/wiki/LaTeX/Mathematics#Matrices_and_arrays)\n",
    "\n",
    "[Sage. Matrices & Spaces of Matrices](https://doc.sagemath.org/html/en/reference/matrices/index.html)\n",
    "\n",
    "[Numpy. Quickstart tutorial](https://docs.scipy.org/doc/numpy/user/quickstart.html#linear-algebra)\n",
    "\n",
    "[SymPy. Matrices (linear algebra)](https://docs.sympy.org/latest/modules/matrices/matrices.html)\n",
    "\n",
    "[Quick-R. Matrix Algebra](https://www.statmethods.net/advstats/matrix.html)\n",
    "\n",
    "[R - Matrices](https://www.tutorialspoint.com/r/r_matrices.htm)"
   ]
  },
  {
   "cell_type": "markdown",
   "metadata": {},
   "source": [
    "### Конспекты лекций\n",
    "\n",
    "[Матрицы. Системы линейных уравнений. Алгоритм Гаусса](http://matematika.phys.msu.ru/files/a_stud_gen/246/AG-08_2009-2010.pdf)\n",
    "\n",
    "[АЛГЕБРА И ГЕОМЕТРИЯ ДЛЯ СТУДЕНТОВ-ФИЗИКОВ](http://math.phys.msu.ru/data/24/Algebra_and_geometry.pdf)"
   ]
  },
  {
   "cell_type": "markdown",
   "metadata": {},
   "source": [
    "# Матрицы\n",
    "\n",
    "## 1. Обратная матрица"
   ]
  },
  {
   "cell_type": "code",
   "execution_count": 11,
   "metadata": {},
   "outputs": [
    {
     "data": {
      "text/html": [
       "<script type=\"math/tex\">\\left(\\begin{array}{rr} \\frac{1}{a} - \\frac{b c}{a^{2} {\\left(\\frac{b c}{a} - d\\right)}} & \\frac{b}{a {\\left(\\frac{b c}{a} - d\\right)}} \\\\ \\frac{c}{a {\\left(\\frac{b c}{a} - d\\right)}} & -\\frac{1}{\\frac{b c}{a} - d} \\end{array}\\right)</script>"
      ],
      "text/plain": [
       "<script type=\"math/tex\">\\left(\\begin{array}{rr} \\frac{1}{a} - \\frac{b c}{a^{2} {\\left(\\frac{b c}{a} - d\\right)}} & \\frac{b}{a {\\left(\\frac{b c}{a} - d\\right)}} \\\\ \\frac{c}{a {\\left(\\frac{b c}{a} - d\\right)}} & -\\frac{1}{\\frac{b c}{a} - d} \\end{array}\\right)</script>"
      ]
     },
     "execution_count": 11,
     "metadata": {},
     "output_type": "execute_result"
    }
   ],
   "source": [
    "M = matrix(SR, 2, var('a,b,c,d')) \n",
    "html(M^(-1))"
   ]
  },
  {
   "cell_type": "code",
   "execution_count": 12,
   "metadata": {},
   "outputs": [
    {
     "data": {
      "text/html": [
       "<script type=\"math/tex\">\\left(\\begin{array}{rr} \\frac{1}{a} - \\frac{b c}{a^{2} {\\left(\\frac{b c}{a} - d\\right)}} & \\frac{b}{a {\\left(\\frac{b c}{a} - d\\right)}} \\\\ \\frac{c}{a {\\left(\\frac{b c}{a} - d\\right)}} & -\\frac{1}{\\frac{b c}{a} - d} \\end{array}\\right)</script>"
      ],
      "text/plain": [
       "<script type=\"math/tex\">\\left(\\begin{array}{rr} \\frac{1}{a} - \\frac{b c}{a^{2} {\\left(\\frac{b c}{a} - d\\right)}} & \\frac{b}{a {\\left(\\frac{b c}{a} - d\\right)}} \\\\ \\frac{c}{a {\\left(\\frac{b c}{a} - d\\right)}} & -\\frac{1}{\\frac{b c}{a} - d} \\end{array}\\right)</script>"
      ]
     },
     "execution_count": 12,
     "metadata": {},
     "output_type": "execute_result"
    }
   ],
   "source": [
    "html(M.inverse())"
   ]
  },
  {
   "cell_type": "code",
   "execution_count": 15,
   "metadata": {},
   "outputs": [
    {
     "data": {
      "text/html": [
       "<script type=\"math/tex\">\\left(\\begin{array}{rr} a {\\left(\\frac{1}{a} - \\frac{b c}{a^{2} {\\left(\\frac{b c}{a} - d\\right)}}\\right)} + \\frac{b c}{a {\\left(\\frac{b c}{a} - d\\right)}} & 0 \\\\ c {\\left(\\frac{1}{a} - \\frac{b c}{a^{2} {\\left(\\frac{b c}{a} - d\\right)}}\\right)} + \\frac{c d}{a {\\left(\\frac{b c}{a} - d\\right)}} & \\frac{b c}{a {\\left(\\frac{b c}{a} - d\\right)}} - \\frac{d}{\\frac{b c}{a} - d} \\end{array}\\right)</script>"
      ],
      "text/plain": [
       "<script type=\"math/tex\">\\left(\\begin{array}{rr} a {\\left(\\frac{1}{a} - \\frac{b c}{a^{2} {\\left(\\frac{b c}{a} - d\\right)}}\\right)} + \\frac{b c}{a {\\left(\\frac{b c}{a} - d\\right)}} & 0 \\\\ c {\\left(\\frac{1}{a} - \\frac{b c}{a^{2} {\\left(\\frac{b c}{a} - d\\right)}}\\right)} + \\frac{c d}{a {\\left(\\frac{b c}{a} - d\\right)}} & \\frac{b c}{a {\\left(\\frac{b c}{a} - d\\right)}} - \\frac{d}{\\frac{b c}{a} - d} \\end{array}\\right)</script>"
      ]
     },
     "execution_count": 15,
     "metadata": {},
     "output_type": "execute_result"
    }
   ],
   "source": [
    "html(M * M^(-1))"
   ]
  },
  {
   "cell_type": "code",
   "execution_count": 32,
   "metadata": {},
   "outputs": [
    {
     "data": {
      "text/plain": [
       "[1 0]\n",
       "[0 1]"
      ]
     },
     "execution_count": 32,
     "metadata": {},
     "output_type": "execute_result"
    }
   ],
   "source": [
    "(M * M^(-1)).simplify_rational()"
   ]
  },
  {
   "cell_type": "code",
   "execution_count": 33,
   "metadata": {},
   "outputs": [
    {
     "data": {
      "text/html": [
       "<script type=\"math/tex\">\\left(\\begin{array}{rr} a {\\left(\\frac{1}{a} - \\frac{b c}{a^{2} {\\left(\\frac{b c}{a} - d\\right)}}\\right)} + \\frac{b c}{a {\\left(\\frac{b c}{a} - d\\right)}} & b {\\left(\\frac{1}{a} - \\frac{b c}{a^{2} {\\left(\\frac{b c}{a} - d\\right)}}\\right)} + \\frac{b d}{a {\\left(\\frac{b c}{a} - d\\right)}} \\\\ 0 & \\frac{b c}{a {\\left(\\frac{b c}{a} - d\\right)}} - \\frac{d}{\\frac{b c}{a} - d} \\end{array}\\right)</script>"
      ],
      "text/plain": [
       "<script type=\"math/tex\">\\left(\\begin{array}{rr} a {\\left(\\frac{1}{a} - \\frac{b c}{a^{2} {\\left(\\frac{b c}{a} - d\\right)}}\\right)} + \\frac{b c}{a {\\left(\\frac{b c}{a} - d\\right)}} & b {\\left(\\frac{1}{a} - \\frac{b c}{a^{2} {\\left(\\frac{b c}{a} - d\\right)}}\\right)} + \\frac{b d}{a {\\left(\\frac{b c}{a} - d\\right)}} \\\\ 0 & \\frac{b c}{a {\\left(\\frac{b c}{a} - d\\right)}} - \\frac{d}{\\frac{b c}{a} - d} \\end{array}\\right)</script>"
      ]
     },
     "execution_count": 33,
     "metadata": {},
     "output_type": "execute_result"
    }
   ],
   "source": [
    "html(M^(-1) * M)"
   ]
  },
  {
   "cell_type": "code",
   "execution_count": 34,
   "metadata": {},
   "outputs": [
    {
     "data": {
      "text/plain": [
       "[1 0]\n",
       "[0 1]"
      ]
     },
     "execution_count": 34,
     "metadata": {},
     "output_type": "execute_result"
    }
   ],
   "source": [
    "(M^(-1) * M).simplify_rational()"
   ]
  },
  {
   "cell_type": "code",
   "execution_count": 36,
   "metadata": {},
   "outputs": [
    {
     "data": {
      "text/plain": [
       "True"
      ]
     },
     "execution_count": 36,
     "metadata": {},
     "output_type": "execute_result"
    }
   ],
   "source": [
    "(M * M^(-1)).simplify_rational() == (M^(-1) * M).simplify_rational() == identity_matrix(2)"
   ]
  },
  {
   "cell_type": "code",
   "execution_count": 49,
   "metadata": {},
   "outputs": [
    {
     "data": {
      "text/plain": [
       "(\n",
       "                        [ 41 -58  -7  45]\n",
       "         [ -1 -21 -57]  [ 70   8  60  69]\n",
       "[61 81]  [-16 -12 -18]  [  9  93  68  74]\n",
       "[96  6], [-88 -46 -25], [ 50  95 -86 -52]\n",
       ")"
      ]
     },
     "execution_count": 49,
     "metadata": {},
     "output_type": "execute_result"
    }
   ],
   "source": [
    "# sage\n",
    "A1 = random_matrix(ZZ,2,x=0,y=100)\n",
    "B1 = random_matrix(ZZ,3,x=-100,y=0)\n",
    "C1 = random_matrix(ZZ,4,x=-100,y=100)\n",
    "A1, B1, C1"
   ]
  },
  {
   "cell_type": "code",
   "execution_count": 50,
   "metadata": {},
   "outputs": [
    {
     "data": {
      "text/plain": [
       "(\n",
       "                                                      [ -263018/60198711   299232/20066237  -499469/60198711   252779/60198711]\n",
       "                     [   11/127 -699/2032   51/1016]  [ -160034/60198711   -33686/20066237   340156/60198711   211481/60198711]\n",
       "[ -1/1235  27/2470]  [  -74/381 4991/6096 -149/1016]  [-1059131/60198711   299675/20066237  -415781/60198711  -315307/60198711]\n",
       "[ 16/1235 -61/7410], [   20/381 -901/3048    27/508], [ 1206368/60198711  -269435/20066237   828818/60198711    -6782/60198711]\n",
       ")"
      ]
     },
     "execution_count": 50,
     "metadata": {},
     "output_type": "execute_result"
    }
   ],
   "source": [
    "A1.inverse(), B1.inverse(), C1.inverse()"
   ]
  },
  {
   "cell_type": "code",
   "execution_count": 51,
   "metadata": {},
   "outputs": [
    {
     "data": {
      "text/plain": [
       "(\n",
       "                [1 0 0 0]\n",
       "       [1 0 0]  [0 1 0 0]\n",
       "[1 0]  [0 1 0]  [0 0 1 0]\n",
       "[0 1], [0 0 1], [0 0 0 1]\n",
       ")"
      ]
     },
     "execution_count": 51,
     "metadata": {},
     "output_type": "execute_result"
    }
   ],
   "source": [
    "A1 * A1^(-1), B1 * B1^(-1), C1 * C1^(-1)"
   ]
  },
  {
   "cell_type": "code",
   "execution_count": 71,
   "metadata": {},
   "outputs": [
    {
     "data": {
      "text/plain": [
       "(\n",
       "                     [ -263018  -897696  -499469  -252779]\n",
       "[ -528 -2097  -306]  [  160034  -101058  -340156   211481]\n",
       "[-1184 -4991  -894]  [-1059131  -899025  -415781   315307]\n",
       "[ -320 -1802  -324], [-1206368  -808305  -828818    -6782]\n",
       ")"
      ]
     },
     "execution_count": 71,
     "metadata": {},
     "output_type": "execute_result"
    }
   ],
   "source": [
    "B1_m = B1.minors(2)\n",
    "B1_m.reverse()\n",
    "C1_m = C1.minors(3)\n",
    "C1_m.reverse()\n",
    "B1_M = matrix(3, B1_m).T\n",
    "C1_M = matrix(4, C1_m).T\n",
    "B1_M, C1_M"
   ]
  },
  {
   "cell_type": "code",
   "execution_count": 72,
   "metadata": {},
   "outputs": [
    {
     "data": {
      "text/plain": [
       "(\n",
       "                     [ -263018   897696  -499469   252779]\n",
       "[ -528  2097  -306]  [ -160034  -101058   340156   211481]\n",
       "[ 1184 -4991   894]  [-1059131   899025  -415781  -315307]\n",
       "[ -320  1802  -324], [ 1206368  -808305   828818    -6782]\n",
       ")"
      ]
     },
     "execution_count": 72,
     "metadata": {},
     "output_type": "execute_result"
    }
   ],
   "source": [
    "B1.adjoint(), C1.adjoint()"
   ]
  },
  {
   "cell_type": "code",
   "execution_count": 74,
   "metadata": {},
   "outputs": [
    {
     "data": {
      "text/plain": [
       "(True, False)"
      ]
     },
     "execution_count": 74,
     "metadata": {},
     "output_type": "execute_result"
    }
   ],
   "source": [
    "B1.adjoint()/B1.det() == B1.inverse(), C1.adjoint()/B1.det() == C1.inverse()"
   ]
  },
  {
   "cell_type": "code",
   "execution_count": 76,
   "metadata": {},
   "outputs": [
    {
     "data": {
      "text/latex": [
       "$| M | = \n",
       "\\begin{vmatrix}\n",
       "A & B \\\\\n",
       "C & D\n",
       "\\end{vmatrix} = | A | * |D - C * A^{-1} * B|$"
      ],
      "text/plain": [
       "<IPython.core.display.Latex object>"
      ]
     },
     "metadata": {},
     "output_type": "display_data"
    }
   ],
   "source": [
    "%%latex\n",
    "$| M | = \n",
    "\\begin{vmatrix}\n",
    "A & B \\\\\n",
    "C & D\n",
    "\\end{vmatrix} = | A | * |D - C * A^{-1} * B|$"
   ]
  },
  {
   "cell_type": "code",
   "execution_count": 75,
   "metadata": {},
   "outputs": [
    {
     "data": {
      "text/plain": [
       "(\n",
       "[-91   9 -81 -59]           \n",
       "[ 47 -13   7  -3]           \n",
       "[-59  40 -77 -41]           \n",
       "[ 80 -15 -78  43], -15180522\n",
       ")"
      ]
     },
     "execution_count": 75,
     "metadata": {},
     "output_type": "execute_result"
    }
   ],
   "source": [
    "M = random_matrix(ZZ,4,x=-100,y=100)\n",
    "M, M.det()"
   ]
  },
  {
   "cell_type": "code",
   "execution_count": 77,
   "metadata": {},
   "outputs": [
    {
     "data": {
      "text/plain": [
       "(\n",
       "[-91   9]  [-81 -59]  [-59  40]  [-77 -41]\n",
       "[ 47 -13], [  7  -3], [ 80 -15], [-78  43]\n",
       ")"
      ]
     },
     "execution_count": 77,
     "metadata": {},
     "output_type": "execute_result"
    }
   ],
   "source": [
    "A, B, C, D = M[0:2,0:2], M[0:2,2:4], M[2:4,0:2], M[2:4,2:4]\n",
    "A, B, C, D"
   ]
  },
  {
   "cell_type": "code",
   "execution_count": 78,
   "metadata": {},
   "outputs": [
    {
     "data": {
      "text/plain": [
       "True"
      ]
     },
     "execution_count": 78,
     "metadata": {},
     "output_type": "execute_result"
    }
   ],
   "source": [
    "A.det() * (D - C * A.inverse() * B).det() == M.det()"
   ]
  },
  {
   "cell_type": "code",
   "execution_count": 143,
   "metadata": {},
   "outputs": [
    {
     "name": "stdout",
     "output_type": "stream",
     "text": [
      "[[89 79]\n",
      " [91 79]]\n",
      "[[-90 -70 -56]\n",
      " [-59  -3 -82]\n",
      " [-95  -8 -88]]\n",
      "[[  5 -57 -58 -16]\n",
      " [ 10  -8  73 -35]\n",
      " [-82  15 -61 -65]\n",
      " [-71 -34  25 -89]]\n"
     ]
    }
   ],
   "source": [
    "# python numpy\n",
    "import numpy\n",
    "A2 = numpy.matrix(numpy.random.randint(0, 100, size=(2,2)))\n",
    "B2 = numpy.matrix(numpy.random.randint(-100, 0, size=(3,3)))\n",
    "C2 = numpy.matrix(numpy.random.randint(-100, 100, size=(4,4)))\n",
    "print(A2)\n",
    "print(B2)\n",
    "print(C2)"
   ]
  },
  {
   "cell_type": "code",
   "execution_count": 144,
   "metadata": {},
   "outputs": [
    {
     "name": "stdout",
     "output_type": "stream",
     "text": [
      "[[-0.5         0.5       ]\n",
      " [ 0.57594937 -0.56329114]]\n",
      "[[ 0.00249599  0.03637012 -0.03547869]\n",
      " [-0.01654229 -0.01655503  0.02595319]\n",
      " [-0.00119069 -0.03775819  0.02457785]]\n",
      "[[ 0.0138232   0.03064886  0.01352754 -0.02441765]\n",
      " [-0.00517495  0.01546846  0.01640867 -0.01713663]\n",
      " [-0.00785836 -0.00388364 -0.00951597  0.00988988]\n",
      " [-0.01125795 -0.03145042 -0.01973314  0.01756793]]\n"
     ]
    }
   ],
   "source": [
    "print(numpy.linalg.inv(A2))\n",
    "print(numpy.linalg.inv(B2))\n",
    "print(numpy.linalg.inv(C2))"
   ]
  },
  {
   "cell_type": "code",
   "execution_count": 145,
   "metadata": {},
   "outputs": [
    {
     "name": "stdout",
     "output_type": "stream",
     "text": [
      "[[ 1.  0.]\n",
      " [ 0.  1.]]\n",
      "[[ 1. -0. -0.]\n",
      " [-0.  1.  0.]\n",
      " [ 0. -0.  1.]]\n",
      "[[ 1.  0.  0. -0.]\n",
      " [ 0.  1.  0.  0.]\n",
      " [ 0. -0.  1.  0.]\n",
      " [ 0. -0.  0.  1.]]\n"
     ]
    }
   ],
   "source": [
    "print(round(A2 * numpy.linalg.inv(A2))) \n",
    "print(round(B2 * numpy.linalg.inv(B2)))\n",
    "print(round(C2 * numpy.linalg.inv(C2))) "
   ]
  },
  {
   "cell_type": "code",
   "execution_count": 188,
   "metadata": {},
   "outputs": [
    {
     "name": "stdout",
     "output_type": "stream",
     "text": [
      "[[-90 -70 -56]\n",
      " [-59  -3 -82]\n",
      " [-95  -8 -88]]\n",
      "\n",
      "element: -90  <=>\n",
      "[[ -3 -82]\n",
      " [ -8 -88]]\n",
      "minor: -392\n",
      "\n",
      "[[ 0.00249599  0.03637012 -0.03547869]\n",
      " [-0.01654229 -0.01655503  0.02595319]\n",
      " [-0.00119069 -0.03775819  0.02457785]]\n",
      "[[ 0.00249599  0.03637012 -0.03547869]\n",
      " [-0.01654229 -0.01655503  0.02595319]\n",
      " [-0.00119069 -0.03775819  0.02457785]]\n"
     ]
    }
   ],
   "source": [
    "def minor_matrix(M, x, y):\n",
    "    return numpy.matrix([[M[i,j] for j in range(len(M)) if j != y] \\\n",
    "                         for i in range(len(M)) if i != x])\n",
    "def minor(M, x, y):\n",
    "    return numpy.linalg.det(minor_matrix(M, x, y))\n",
    "\n",
    "def cofactor_matrix(M):\n",
    "    return numpy.matrix([[(-1) ** (i + j) * minor(M,i,j) for j in range(len(M))]\\\n",
    "                         for i in range(len(M))])\n",
    "\n",
    "print(B2)\n",
    "print\n",
    "print('element: ' + str(B2[0,0]) + '  <=>')\n",
    "print(minor_matrix(B2,0,0))\n",
    "print('minor: ' + str(int(round(minor(B2,0,0)))))\n",
    "print\n",
    "print(cofactor_matrix(B2).T / numpy.linalg.det(B2))\n",
    "print(numpy.linalg.inv(B2))"
   ]
  },
  {
   "cell_type": "code",
   "execution_count": 183,
   "metadata": {},
   "outputs": [
    {
     "data": {
      "text/plain": [
       "matrix([[False, False, False],\n",
       "        [False, False, False],\n",
       "        [False, False, False]], dtype=bool)"
      ]
     },
     "execution_count": 183,
     "metadata": {},
     "output_type": "execute_result"
    }
   ],
   "source": [
    "cofactor_matrix(B2).T / numpy.linalg.det(B2) == numpy.linalg.inv(B2)"
   ]
  },
  {
   "cell_type": "code",
   "execution_count": 182,
   "metadata": {},
   "outputs": [
    {
     "data": {
      "text/plain": [
       "array([[ True,  True,  True],\n",
       "       [ True,  True,  True],\n",
       "       [ True,  True,  True]], dtype=bool)"
      ]
     },
     "execution_count": 182,
     "metadata": {},
     "output_type": "execute_result"
    }
   ],
   "source": [
    "numpy.round(cofactor_matrix(B2).T/numpy.linalg.det(B2),16) == numpy.round(numpy.linalg.inv(B2),16)"
   ]
  },
  {
   "cell_type": "code",
   "execution_count": 79,
   "metadata": {},
   "outputs": [
    {
     "name": "stdout",
     "output_type": "stream",
     "text": [
      "[[99 31 84 41]\n",
      " [57 37 16 39]\n",
      " [78 62 35 50]\n",
      " [14 96 85  4]]\n"
     ]
    }
   ],
   "source": [
    "M = numpy.matrix(numpy.random.randint(0, 100, size=(4,4)))\n",
    "print(M)"
   ]
  },
  {
   "cell_type": "code",
   "execution_count": 80,
   "metadata": {},
   "outputs": [
    {
     "name": "stdout",
     "output_type": "stream",
     "text": [
      "[[99 31]\n",
      " [57 37]]\n",
      "[[84 41]\n",
      " [16 39]]\n",
      "[[78 62]\n",
      " [14 96]]\n",
      "[[35 50]\n",
      " [85  4]]\n"
     ]
    }
   ],
   "source": [
    "A, B, C, D = M[0:2,0:2], M[0:2,2:4], M[2:4,0:2], M[2:4,2:4]\n",
    "print(A); print(B); print(C); print(D)"
   ]
  },
  {
   "cell_type": "code",
   "execution_count": 85,
   "metadata": {},
   "outputs": [
    {
     "data": {
      "text/plain": [
       "(782647.99999999371, 782647.99999999721)"
      ]
     },
     "execution_count": 85,
     "metadata": {},
     "output_type": "execute_result"
    }
   ],
   "source": [
    "numpy.linalg.det(A) * numpy.linalg.det(D - C * numpy.linalg.inv(A) * B), numpy.linalg.det(M)"
   ]
  },
  {
   "cell_type": "code",
   "execution_count": 84,
   "metadata": {},
   "outputs": [
    {
     "data": {
      "text/plain": [
       "True"
      ]
     },
     "execution_count": 84,
     "metadata": {},
     "output_type": "execute_result"
    }
   ],
   "source": [
    "round(numpy.linalg.det(A) * numpy.linalg.det(D - C * numpy.linalg.inv(A) * B)) == \\\n",
    "round(numpy.linalg.det(M))"
   ]
  },
  {
   "cell_type": "code",
   "execution_count": null,
   "metadata": {},
   "outputs": [],
   "source": []
  }
 ],
 "metadata": {
  "kernelspec": {
   "display_name": "SageMath 8.4",
   "language": "",
   "name": "sagemath"
  },
  "language_info": {
   "codemirror_mode": {
    "name": "ipython",
    "version": 2
   },
   "file_extension": ".py",
   "mimetype": "text/x-python",
   "name": "python",
   "nbconvert_exporter": "python",
   "pygments_lexer": "ipython2",
   "version": "2.7.15"
  }
 },
 "nbformat": 4,
 "nbformat_minor": 2
}

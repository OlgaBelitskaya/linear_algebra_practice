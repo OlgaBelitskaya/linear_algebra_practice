{
 "cells": [
  {
   "cell_type": "markdown",
   "metadata": {},
   "source": [
    "<h1 style=\"color: #3636ff;\">Линейная алгебра. Практическая работа №3</h1>\n",
    "\n",
    "### Программные средства\n",
    "\n",
    "[LaTeX. Mathematics. Matrices & Arrays](https://en.wikibooks.org/wiki/LaTeX/Mathematics#Matrices_and_arrays)\n",
    "\n",
    "[Sage. Matrices & Spaces of Matrices](https://doc.sagemath.org/html/en/reference/matrices/index.html)\n",
    "\n",
    "[Numpy. Quickstart tutorial](https://docs.scipy.org/doc/numpy/user/quickstart.html#linear-algebra)\n",
    "\n",
    "[SymPy. Matrices (linear algebra)](https://docs.sympy.org/latest/modules/matrices/matrices.html)\n",
    "\n",
    "[Quick-R. Matrix Algebra](https://www.statmethods.net/advstats/matrix.html)\n",
    "\n",
    "[R - Matrices](https://www.tutorialspoint.com/r/r_matrices.htm)"
   ]
  },
  {
   "cell_type": "markdown",
   "metadata": {},
   "source": [
    "### Конспекты лекций\n",
    "\n",
    "[Матрицы. Системы линейных уравнений. Алгоритм Гаусса](http://matematika.phys.msu.ru/files/a_stud_gen/246/AG-08_2009-2010.pdf)\n",
    "\n",
    "[АЛГЕБРА И ГЕОМЕТРИЯ ДЛЯ СТУДЕНТОВ-ФИЗИКОВ](http://math.phys.msu.ru/data/24/Algebra_and_geometry.pdf)"
   ]
  },
  {
   "cell_type": "markdown",
   "metadata": {},
   "source": [
    "# Матрицы\n",
    "\n",
    "## 1. Определители"
   ]
  },
  {
   "cell_type": "code",
   "execution_count": 7,
   "metadata": {},
   "outputs": [
    {
     "data": {
      "text/plain": [
       "(\n",
       "[a b]            \n",
       "[c d], -b*c + a*d\n",
       ")"
      ]
     },
     "execution_count": 7,
     "metadata": {},
     "output_type": "execute_result"
    }
   ],
   "source": [
    "M = matrix(SR, 2, var('a,b,c,d')) \n",
    "M, M.det()"
   ]
  },
  {
   "cell_type": "code",
   "execution_count": 8,
   "metadata": {},
   "outputs": [
    {
     "data": {
      "text/plain": [
       "(\n",
       "[a b c]                                                \n",
       "[d e f]                                                \n",
       "[g h i], -(f*h - e*i)*a + (c*h - b*i)*d - (c*e - b*f)*g\n",
       ")"
      ]
     },
     "execution_count": 8,
     "metadata": {},
     "output_type": "execute_result"
    }
   ],
   "source": [
    "M = matrix(SR, 3, var('a,b,c,d,e,f,g,h,i')) \n",
    "M, M.det()"
   ]
  },
  {
   "cell_type": "code",
   "execution_count": 29,
   "metadata": {},
   "outputs": [
    {
     "data": {
      "text/plain": [
       "(\n",
       "                           [ 45  13  94 -85]\n",
       "         [ -70  -13  -79]  [-34 -20 -58  67]\n",
       "[60 93]  [ -52  -53  -87]  [-58  68 -31  28]\n",
       "[93 75], [ -58  -75 -100], [ 11  25  17  47]\n",
       ")"
      ]
     },
     "execution_count": 29,
     "metadata": {},
     "output_type": "execute_result"
    }
   ],
   "source": [
    "# sage\n",
    "A1 = random_matrix(ZZ,2,x=0,y=100)\n",
    "B1 = random_matrix(ZZ,3,x=-100,y=0)\n",
    "C1 = random_matrix(ZZ,4,x=-100,y=100)\n",
    "A1, B1, C1"
   ]
  },
  {
   "cell_type": "code",
   "execution_count": 30,
   "metadata": {},
   "outputs": [
    {
     "data": {
      "text/plain": [
       "(-4149, 22498, -7293820)"
      ]
     },
     "execution_count": 30,
     "metadata": {},
     "output_type": "execute_result"
    }
   ],
   "source": [
    "A1.det(), B1.det(), C1.det()"
   ]
  },
  {
   "cell_type": "code",
   "execution_count": 31,
   "metadata": {},
   "outputs": [
    {
     "name": "stdout",
     "output_type": "stream",
     "text": [
      "[[32 17]\n",
      " [39 31]]\n",
      "[[-11 -99 -25]\n",
      " [-84 -42 -26]\n",
      " [-51 -40 -48]]\n",
      "[[ 87   9 -22  82]\n",
      " [-27  63  24  67]\n",
      " [-66  28  37 -27]\n",
      " [-25  94  62 -61]]\n"
     ]
    }
   ],
   "source": [
    "# python numpy\n",
    "import numpy\n",
    "A2 = numpy.matrix(numpy.random.randint(0, 100, size=(2,2)))\n",
    "B2 = numpy.matrix(numpy.random.randint(-100, 0, size=(3,3)))\n",
    "C2 = numpy.matrix(numpy.random.randint(-100, 100, size=(4,4)))\n",
    "print(A2)\n",
    "print(B2)\n",
    "print(C2)"
   ]
  },
  {
   "cell_type": "code",
   "execution_count": 32,
   "metadata": {},
   "outputs": [
    {
     "data": {
      "text/plain": [
       "(329.0, 226708.0, -8725969.0)"
      ]
     },
     "execution_count": 32,
     "metadata": {},
     "output_type": "execute_result"
    }
   ],
   "source": [
    "round(numpy.linalg.det(A2)), round(numpy.linalg.det(B2)), round(numpy.linalg.det(C2))"
   ]
  },
  {
   "cell_type": "code",
   "execution_count": 55,
   "metadata": {},
   "outputs": [
    {
     "name": "stdout",
     "output_type": "stream",
     "text": [
      "⎡-8  -4  5   2 ⎤\n",
      "⎢              ⎥\n",
      "⎢3   -5  8   -2⎥\n",
      "⎢              ⎥\n",
      "⎢5   4   -8  1 ⎥\n",
      "⎢              ⎥\n",
      "⎣7   -2  9   5 ⎦\n"
     ]
    }
   ],
   "source": [
    "# python sympy\n",
    "import sympy\n",
    "A3 = sympy.Matrix([[-3, -3], [-4, -7]])\n",
    "B3 = sympy.Matrix([[2, 10, 7], [-5, -6, -2], [-8, 4, -8]])\n",
    "C3 = sympy.Matrix([[-8, -4, 5, 2], [3, -5, 8, -2], [5, 4, -8, 1], [7, -2, 9, 5]])\n",
    "sympy.pprint(C3)"
   ]
  },
  {
   "cell_type": "code",
   "execution_count": 57,
   "metadata": {},
   "outputs": [
    {
     "data": {
      "text/plain": [
       "(9, -604, -1566)"
      ]
     },
     "execution_count": 57,
     "metadata": {},
     "output_type": "execute_result"
    }
   ],
   "source": [
    "A3.det(), B3.det(), C3.det()"
   ]
  },
  {
   "cell_type": "code",
   "execution_count": 66,
   "metadata": {},
   "outputs": [
    {
     "name": "stdout",
     "output_type": "stream",
     "text": [
      "\n",
      "\n",
      "\n",
      "     [,1] [,2]\n",
      "[1,]   28   80\n",
      "[2,]   74    5\n",
      "     [,1] [,2] [,3]\n",
      "[1,]   63   78   51\n",
      "[2,]   22   17    5\n",
      "[3,]   42   21   68\n",
      "     [,1] [,2] [,3] [,4]\n",
      "[1,]   83   16   55   73\n",
      "[2,]   33   47   94   96\n",
      "[3,]   75   13   88   18\n",
      "[4,]   80    3    3   52\n"
     ]
    }
   ],
   "source": [
    "%%r\n",
    "A4 <- matrix(sample.int(100, size=2*2, replace=T), nrow=2, ncol=2)\n",
    "B4 <- matrix(sample.int(100, size=3*3, replace=T), nrow=3, ncol=3)\n",
    "C4 <- matrix(sample.int(100, size=4*4, replace=T), nrow=4, ncol=4)\n",
    "A4; B4; C4"
   ]
  },
  {
   "cell_type": "code",
   "execution_count": 67,
   "metadata": {},
   "outputs": [
    {
     "name": "stdout",
     "output_type": "stream",
     "text": [
      "[1] -5780\n",
      "[1] -46947\n",
      "[1] -4006338\n"
     ]
    }
   ],
   "source": [
    "%%r\n",
    "det(A4); det(B4); det(C4)"
   ]
  },
  {
   "cell_type": "markdown",
   "metadata": {},
   "source": [
    "## 2. Свойства определителей"
   ]
  },
  {
   "cell_type": "code",
   "execution_count": 131,
   "metadata": {},
   "outputs": [
    {
     "data": {
      "text/plain": [
       "True"
      ]
     },
     "execution_count": 131,
     "metadata": {},
     "output_type": "execute_result"
    }
   ],
   "source": [
    "# sage\n",
    "A1 = random_matrix(ZZ,3,x=0,y=100)\n",
    "B1 = random_matrix(ZZ,3,x=-100,y=0)\n",
    "A1.det() == A1.T.det()"
   ]
  },
  {
   "cell_type": "code",
   "execution_count": 170,
   "metadata": {},
   "outputs": [
    {
     "data": {
      "text/plain": [
       "True"
      ]
     },
     "execution_count": 170,
     "metadata": {},
     "output_type": "execute_result"
    }
   ],
   "source": [
    "(A1 * B1).det() == (B1 * A1).det() == A1.det() * B1.det()"
   ]
  },
  {
   "cell_type": "code",
   "execution_count": 142,
   "metadata": {},
   "outputs": [
    {
     "data": {
      "text/plain": [
       "True"
      ]
     },
     "execution_count": 142,
     "metadata": {},
     "output_type": "execute_result"
    }
   ],
   "source": [
    "(-2 * A1).det() == (-2)^A1.dimensions()[0] * A1.det()"
   ]
  },
  {
   "cell_type": "code",
   "execution_count": 145,
   "metadata": {},
   "outputs": [
    {
     "data": {
      "text/plain": [
       "0"
      ]
     },
     "execution_count": 145,
     "metadata": {},
     "output_type": "execute_result"
    }
   ],
   "source": [
    "# строка или столбец состоит из нулей\n",
    "C1 = matrix([[1,2,3],[0,0,0],[7,8,9]])\n",
    "C1.det()"
   ]
  },
  {
   "cell_type": "code",
   "execution_count": 146,
   "metadata": {},
   "outputs": [
    {
     "data": {
      "text/plain": [
       "0"
      ]
     },
     "execution_count": 146,
     "metadata": {},
     "output_type": "execute_result"
    }
   ],
   "source": [
    "# линейно-зависимые строки или столбцы\n",
    "C1 = matrix([[1,2,3],[2,4,6],[7,8,9]])\n",
    "C1.det()"
   ]
  },
  {
   "cell_type": "code",
   "execution_count": 183,
   "metadata": {},
   "outputs": [
    {
     "data": {
      "text/plain": [
       "True"
      ]
     },
     "execution_count": 183,
     "metadata": {},
     "output_type": "execute_result"
    }
   ],
   "source": [
    "# python numpy\n",
    "A2 = numpy.matrix(numpy.random.randint(0, 100, size=(3,3)))\n",
    "B2 = numpy.matrix(numpy.random.randint(-100, 0, size=(3,3)))\n",
    "round(numpy.linalg.det(A2)) == round(numpy.linalg.det(A2.T))"
   ]
  },
  {
   "cell_type": "code",
   "execution_count": 188,
   "metadata": {},
   "outputs": [
    {
     "data": {
      "text/plain": [
       "True"
      ]
     },
     "execution_count": 188,
     "metadata": {},
     "output_type": "execute_result"
    }
   ],
   "source": [
    "round(numpy.linalg.det(A2 * B2)) == \\\n",
    "round(numpy.linalg.det(B2 * A2)) == \\\n",
    "round(numpy.linalg.det(A2)) * round(numpy.linalg.det(B2))"
   ]
  },
  {
   "cell_type": "code",
   "execution_count": 186,
   "metadata": {},
   "outputs": [
    {
     "data": {
      "text/plain": [
       "True"
      ]
     },
     "execution_count": 186,
     "metadata": {},
     "output_type": "execute_result"
    }
   ],
   "source": [
    "round(numpy.linalg.det(-2 * A2)) == -2 ** A2.shape[0] * round(numpy.linalg.det(A2))"
   ]
  },
  {
   "cell_type": "code",
   "execution_count": 189,
   "metadata": {},
   "outputs": [
    {
     "data": {
      "text/plain": [
       "0.0"
      ]
     },
     "execution_count": 189,
     "metadata": {},
     "output_type": "execute_result"
    }
   ],
   "source": [
    "# строка или столбец состоит из нулей\n",
    "C2 = numpy.matrix([[1,2,3],[0,0,0],[7,8,9]])\n",
    "round(numpy.linalg.det(C2))"
   ]
  },
  {
   "cell_type": "code",
   "execution_count": 190,
   "metadata": {},
   "outputs": [
    {
     "data": {
      "text/plain": [
       "0.0"
      ]
     },
     "execution_count": 190,
     "metadata": {},
     "output_type": "execute_result"
    }
   ],
   "source": [
    "# линейно-зависимые строки или столбцы\n",
    "C2 = numpy.matrix([[1,2,3],[2,4,6],[7,8,9]])\n",
    "round(numpy.linalg.det(C2))"
   ]
  },
  {
   "cell_type": "code",
   "execution_count": 147,
   "metadata": {},
   "outputs": [
    {
     "data": {
      "text/plain": [
       "True"
      ]
     },
     "execution_count": 147,
     "metadata": {},
     "output_type": "execute_result"
    }
   ],
   "source": [
    "# python sympy\n",
    "import sympy\n",
    "A3 = sympy.Matrix([[-3, -3, 1], [-4, -7, 5], [2, 8, -7]])\n",
    "B3 = sympy.Matrix([[2, 10, 7], [-5, -6, -2], [-8, 4, -8]])\n",
    "A3.det() == A3.T.det()"
   ]
  },
  {
   "cell_type": "code",
   "execution_count": 171,
   "metadata": {},
   "outputs": [
    {
     "data": {
      "text/plain": [
       "True"
      ]
     },
     "execution_count": 171,
     "metadata": {},
     "output_type": "execute_result"
    }
   ],
   "source": [
    "(A3 * B3).det() == (B3 * A3).det() == A3.det() * B3.det()"
   ]
  },
  {
   "cell_type": "code",
   "execution_count": 151,
   "metadata": {},
   "outputs": [
    {
     "data": {
      "text/plain": [
       "True"
      ]
     },
     "execution_count": 151,
     "metadata": {},
     "output_type": "execute_result"
    }
   ],
   "source": [
    "(-2 * A3).det() == (-2)^A3.shape[0] * A3.det()"
   ]
  },
  {
   "cell_type": "code",
   "execution_count": 152,
   "metadata": {},
   "outputs": [
    {
     "data": {
      "text/plain": [
       "0"
      ]
     },
     "execution_count": 152,
     "metadata": {},
     "output_type": "execute_result"
    }
   ],
   "source": [
    "# строка или столбец состоит из нулей\n",
    "C3 = sympy.Matrix([[1,2,3],[0,0,0],[7,8,9]])\n",
    "C3.det()"
   ]
  },
  {
   "cell_type": "code",
   "execution_count": 154,
   "metadata": {},
   "outputs": [
    {
     "data": {
      "text/plain": [
       "0"
      ]
     },
     "execution_count": 154,
     "metadata": {},
     "output_type": "execute_result"
    }
   ],
   "source": [
    "# линейно-зависимые строки или столбцы\n",
    "C3 = sympy.Matrix([[1,2,3],[2,4,6],[7,8,9]])\n",
    "C3.det()"
   ]
  },
  {
   "cell_type": "code",
   "execution_count": 156,
   "metadata": {},
   "outputs": [
    {
     "name": "stdout",
     "output_type": "stream",
     "text": [
      "\n",
      "\n",
      "[1] TRUE\n"
     ]
    }
   ],
   "source": [
    "%%r\n",
    "A4 <- matrix(sample.int(100, size=3*3, replace=T), nrow=3, ncol=3)\n",
    "B4 <- matrix(sample.int(100, size=3*3, replace=T), nrow=3, ncol=3)\n",
    "det(A4) == det(t(A4))"
   ]
  },
  {
   "cell_type": "code",
   "execution_count": 160,
   "metadata": {},
   "outputs": [
    {
     "name": "stdout",
     "output_type": "stream",
     "text": [
      "[1] FALSE\n"
     ]
    }
   ],
   "source": [
    "%%r\n",
    "det(A4 %*% B4) == det(A4) * det(B4)"
   ]
  },
  {
   "cell_type": "code",
   "execution_count": 172,
   "metadata": {},
   "outputs": [
    {
     "name": "stdout",
     "output_type": "stream",
     "text": [
      "[1] TRUE\n"
     ]
    }
   ],
   "source": [
    "%%r\n",
    "all.equal(det(A4 %*% B4), det(B4 %*% A4), det(A4) * det(B4))"
   ]
  },
  {
   "cell_type": "code",
   "execution_count": 168,
   "metadata": {},
   "outputs": [
    {
     "name": "stdout",
     "output_type": "stream",
     "text": [
      "[1] FALSE\n"
     ]
    }
   ],
   "source": [
    "%%r\n",
    "det(-2 * A4) == (-2)^(dim(A4)[1]) * det(A4)"
   ]
  },
  {
   "cell_type": "code",
   "execution_count": 169,
   "metadata": {},
   "outputs": [
    {
     "name": "stdout",
     "output_type": "stream",
     "text": [
      "[1] TRUE\n"
     ]
    }
   ],
   "source": [
    "%%r\n",
    "all.equal(det(-2 * A4), (-2)^(dim(A4)[1]) * det(A4))"
   ]
  },
  {
   "cell_type": "code",
   "execution_count": 173,
   "metadata": {},
   "outputs": [
    {
     "name": "stdout",
     "output_type": "stream",
     "text": [
      "\n",
      "[1] 0\n"
     ]
    }
   ],
   "source": [
    "%%r\n",
    "C4 <- matrix(c(1,3,5,0,0,0,2,4,6), nrow=3, ncol=3)\n",
    "det(C4)"
   ]
  },
  {
   "cell_type": "code",
   "execution_count": 181,
   "metadata": {},
   "outputs": [
    {
     "name": "stdout",
     "output_type": "stream",
     "text": [
      "\n",
      "[1] -1.776357e-15\n",
      "[1] 0\n"
     ]
    }
   ],
   "source": [
    "%%r\n",
    "C4 <- matrix(c(1,3,5,2,6,10,-1,-2,-3), nrow=3, ncol=3)\n",
    "det(C4); round(det(C4))"
   ]
  },
  {
   "cell_type": "markdown",
   "metadata": {},
   "source": [
    "## 3. Миноры и алгебраические дополнения\n",
    "Матрицы знаков для определителей 3-ого и 4-ого порядка "
   ]
  },
  {
   "cell_type": "code",
   "execution_count": 63,
   "metadata": {},
   "outputs": [
    {
     "data": {
      "text/latex": [
       "$ SIGN_{(3,3)} = \n",
       " \\begin{pmatrix}\n",
       "+ & - & +  \\\\\n",
       "- & + & - \\\\\n",
       "+ & - & +  \\\\\n",
       " \\end{pmatrix} \\ \\\n",
       "SIGN_{(4,4)} = \n",
       " \\begin{pmatrix}\n",
       "+ & - & + & - \\\\\n",
       "- & + & - & + \\\\\n",
       "+ & - & + & - \\\\\n",
       "- & + & - & +\n",
       " \\end{pmatrix}$"
      ],
      "text/plain": [
       "<IPython.core.display.Latex object>"
      ]
     },
     "metadata": {},
     "output_type": "display_data"
    }
   ],
   "source": [
    "%%latex\n",
    "$ SIGN_{(3,3)} = \n",
    " \\begin{pmatrix}\n",
    "+ & - & +  \\\\\n",
    "- & + & - \\\\\n",
    "+ & - & +  \\\\\n",
    " \\end{pmatrix} \\ \\\n",
    "SIGN_{(4,4)} = \n",
    " \\begin{pmatrix}\n",
    "+ & - & + & - \\\\\n",
    "- & + & - & + \\\\\n",
    "+ & - & + & - \\\\\n",
    "- & + & - & +\n",
    " \\end{pmatrix}$"
   ]
  },
  {
   "cell_type": "markdown",
   "metadata": {},
   "source": [
    "Алгебраическое дополнение = Минор & Знак (+/-)"
   ]
  },
  {
   "cell_type": "code",
   "execution_count": 84,
   "metadata": {},
   "outputs": [
    {
     "data": {
      "text/plain": [
       "[-b*d + a*e,\n",
       " -c*d + a*f,\n",
       " -c*e + b*f,\n",
       " -b*g + a*h,\n",
       " -c*g + a*i,\n",
       " -c*h + b*i,\n",
       " -e*g + d*h,\n",
       " -f*g + d*i,\n",
       " -f*h + e*i]"
      ]
     },
     "execution_count": 84,
     "metadata": {},
     "output_type": "execute_result"
    }
   ],
   "source": [
    "M = matrix(SR, 3, var('a,b,c,d,e,f,g,h,i'))\n",
    "M.minors(2)"
   ]
  },
  {
   "cell_type": "code",
   "execution_count": 103,
   "metadata": {},
   "outputs": [
    {
     "data": {
      "text/plain": [
       "-(f*h - e*i)*a + (c*h - b*i)*d - (c*e - b*f)*g == -(f*h - e*i)*a + (c*h - b*i)*d - (c*e - b*f)*g"
      ]
     },
     "execution_count": 103,
     "metadata": {},
     "output_type": "execute_result"
    }
   ],
   "source": [
    "# разложение определителя по первому столбцу\n",
    "M.det() == M[0,0] * M.minors(2)[8] - M[1,0] * M.minors(2)[5] + M[2,0] * M.minors(2)[2]"
   ]
  },
  {
   "cell_type": "code",
   "execution_count": 47,
   "metadata": {},
   "outputs": [
    {
     "data": {
      "text/plain": [
       "[-(g*j - f*k)*a + (c*j - b*k)*e - (c*f - b*g)*i,\n",
       " -(h*j - f*l)*a + (d*j - b*l)*e - (d*f - b*h)*i,\n",
       " -(h*k - g*l)*a + (d*k - c*l)*e - (d*g - c*h)*i,\n",
       " -(h*k - g*l)*b + (d*k - c*l)*f - (d*g - c*h)*j,\n",
       " -(g*n - f*o)*a + (c*n - b*o)*e - (c*f - b*g)*m,\n",
       " -(h*n - f*p)*a + (d*n - b*p)*e - (d*f - b*h)*m,\n",
       " -(h*o - g*p)*a + (d*o - c*p)*e - (d*g - c*h)*m,\n",
       " -(h*o - g*p)*b + (d*o - c*p)*f - (d*g - c*h)*n,\n",
       " -(k*n - j*o)*a + (c*n - b*o)*i - (c*j - b*k)*m,\n",
       " -(l*n - j*p)*a + (d*n - b*p)*i - (d*j - b*l)*m,\n",
       " -(l*o - k*p)*a + (d*o - c*p)*i - (d*k - c*l)*m,\n",
       " -(l*o - k*p)*b + (d*o - c*p)*j - (d*k - c*l)*n,\n",
       " -(k*n - j*o)*e + (g*n - f*o)*i - (g*j - f*k)*m,\n",
       " -(l*n - j*p)*e + (h*n - f*p)*i - (h*j - f*l)*m,\n",
       " -(l*o - k*p)*e + (h*o - g*p)*i - (h*k - g*l)*m,\n",
       " -(l*o - k*p)*f + (h*o - g*p)*j - (h*k - g*l)*n]"
      ]
     },
     "execution_count": 47,
     "metadata": {},
     "output_type": "execute_result"
    }
   ],
   "source": [
    "M = matrix(SR, 4, var('a,b,c,d,e,f,g,h,i,j,k,l,m,n,o,p'))\n",
    "M.minors(3)"
   ]
  },
  {
   "cell_type": "code",
   "execution_count": 37,
   "metadata": {},
   "outputs": [
    {
     "data": {
      "text/plain": [
       "[3034, 1982, -3056, 4496, 2418, -4625, 826, 154, -1225]"
      ]
     },
     "execution_count": 37,
     "metadata": {},
     "output_type": "execute_result"
    }
   ],
   "source": [
    "# sage\n",
    "B1.minors(2)"
   ]
  },
  {
   "cell_type": "code",
   "execution_count": 53,
   "metadata": {},
   "outputs": [
    {
     "name": "stdout",
     "output_type": "stream",
     "text": [
      "[-458, 586, 125, 1126, -829, 1368, 3814, 4057, -3670, -6795, 6144, -3, 982, -269, 3050, -2129, 2736, 5863, -3472, -2310, 2934, 4564, -5116, 453, -630, 60, -2335, 1110, -2615, -3865, -2198, -645, -3034, 1931, 2496, -1933]\n",
      "[-90958, 26758, -59061, 98853, -10050, -33770, 40465, 101215, -111332, 338592, 253036, -423888, 48930, -292810, -153465, 312805]\n"
     ]
    }
   ],
   "source": [
    "print(C1.minors(2))\n",
    "print(C1.minors(3))"
   ]
  },
  {
   "cell_type": "code",
   "execution_count": 78,
   "metadata": {},
   "outputs": [],
   "source": [
    "# python only, i,j start from 0\n",
    "def minor(m,i,j):\n",
    "    return [row[:j] + row[j+1:] for row in (m[:i] + m[i+1:])]\n",
    "\n",
    "def deternminant(m):\n",
    "    if len(m) == 2:\n",
    "        return m[0][0] * m[1][1] - m[0][1] * m[1][0]\n",
    "\n",
    "    det = 0\n",
    "    for c in range(len(m)):\n",
    "        det += ((-1) ** c) * m[0][c] * deternminant(minor(m,0,c))\n",
    "    return det"
   ]
  },
  {
   "cell_type": "code",
   "execution_count": 79,
   "metadata": {},
   "outputs": [
    {
     "data": {
      "text/plain": [
       "[[1, 3], [-7, -9]]"
      ]
     },
     "execution_count": 79,
     "metadata": {},
     "output_type": "execute_result"
    }
   ],
   "source": [
    "minor([[1,2,3],[-4,5,-6],[-7,8,-9]],1,1)"
   ]
  },
  {
   "cell_type": "code",
   "execution_count": 80,
   "metadata": {},
   "outputs": [
    {
     "data": {
      "text/plain": [
       "24"
      ]
     },
     "execution_count": 80,
     "metadata": {},
     "output_type": "execute_result"
    }
   ],
   "source": [
    "deternminant([[1,2,3],[-4,5,-6],[-7,8,-9]])"
   ]
  },
  {
   "cell_type": "code",
   "execution_count": 97,
   "metadata": {},
   "outputs": [
    {
     "name": "stdout",
     "output_type": "stream",
     "text": [
      "⎡2   10  7 ⎤\n",
      "⎢          ⎥\n",
      "⎢-5  -6  -2⎥\n",
      "⎢          ⎥\n",
      "⎣-8  4   -8⎦\n"
     ]
    }
   ],
   "source": [
    "# python sympy\n",
    "sympy.pprint(B3)"
   ]
  },
  {
   "cell_type": "code",
   "execution_count": 96,
   "metadata": {},
   "outputs": [
    {
     "data": {
      "text/plain": [
       "2"
      ]
     },
     "execution_count": 96,
     "metadata": {},
     "output_type": "execute_result"
    }
   ],
   "source": [
    "B3[0,0]"
   ]
  },
  {
   "cell_type": "code",
   "execution_count": 105,
   "metadata": {},
   "outputs": [
    {
     "name": "stdout",
     "output_type": "stream",
     "text": [
      "⎡-6  -2⎤\n",
      "⎢      ⎥\n",
      "⎣4   -8⎦\n"
     ]
    }
   ],
   "source": [
    "sympy.pprint(B3.minorMatrix(0,0))"
   ]
  },
  {
   "cell_type": "code",
   "execution_count": 107,
   "metadata": {},
   "outputs": [
    {
     "data": {
      "text/plain": [
       "True"
      ]
     },
     "execution_count": 107,
     "metadata": {},
     "output_type": "execute_result"
    }
   ],
   "source": [
    "# разложение определителя по первому столбцу\n",
    "B3.det() == \\\n",
    "B3[0,0] * B3.minorMatrix(0,0).det() - \\\n",
    "B3[1,0] * B3.minorMatrix(1,0).det() + \\\n",
    "B3[2,0] * B3.minorMatrix(2,0).det()"
   ]
  },
  {
   "cell_type": "code",
   "execution_count": 110,
   "metadata": {},
   "outputs": [
    {
     "name": "stdout",
     "output_type": "stream",
     "text": [
      "\n",
      "\n",
      "\n"
     ]
    }
   ],
   "source": [
    "%%r\n",
    "minor_matrix <- function(A, i, j) A[-i,-j]\n",
    "minor <- function(A, i, j) det( A[-i,-j] )\n",
    "cofactor <- function(A, i, j) (-1)^(i+j) * minor(A,i,j)"
   ]
  },
  {
   "cell_type": "code",
   "execution_count": 112,
   "metadata": {},
   "outputs": [
    {
     "name": "stdout",
     "output_type": "stream",
     "text": [
      "     [,1] [,2] [,3]\n",
      "[1,]   63   78   51\n",
      "[2,]   22   17    5\n",
      "[3,]   42   21   68\n",
      "[1] 78\n",
      "     [,1] [,2]\n",
      "[1,]   22    5\n",
      "[2,]   42   68\n",
      "[1] 1286\n",
      "[1] -1286\n"
     ]
    }
   ],
   "source": [
    "%%r\n",
    "B4; B4[1,2]; minor_matrix(B4,1,2); minor(B4,1,2); cofactor(B4,1,2)"
   ]
  },
  {
   "cell_type": "code",
   "execution_count": 128,
   "metadata": {},
   "outputs": [
    {
     "name": "stdout",
     "output_type": "stream",
     "text": [
      "[1] FALSE\n"
     ]
    }
   ],
   "source": [
    "%%r\n",
    "det(B4) == (B4[1,1] * minor(B4,1,1) - B4[2,1] * minor(B4,2,1) + B4[3,1] * minor(B4,3,1))"
   ]
  },
  {
   "cell_type": "code",
   "execution_count": 126,
   "metadata": {},
   "outputs": [
    {
     "name": "stdout",
     "output_type": "stream",
     "text": [
      "[1] TRUE\n"
     ]
    }
   ],
   "source": [
    "%%r\n",
    "all.equal(det(B4), (B4[1,1] * minor(B4,1,1) - B4[2,1] * minor(B4,2,1) + B4[3,1] * minor(B4,3,1)))"
   ]
  },
  {
   "cell_type": "code",
   "execution_count": 127,
   "metadata": {},
   "outputs": [
    {
     "name": "stdout",
     "output_type": "stream",
     "text": [
      "[1] -46947\n",
      "[1] -46947\n"
     ]
    }
   ],
   "source": [
    "%%r\n",
    "det(B4); (B4[1,1] * minor(B4,1,1) - B4[2,1] * minor(B4,2,1) + B4[3,1] * minor(B4,3,1))"
   ]
  },
  {
   "cell_type": "markdown",
   "metadata": {},
   "source": [
    "## 4. Задание.\n",
    "\n",
    "Инициировать матрицу $A(3x3)$, рассчитать определитель и исследовать его свойства \n",
    "\n",
    "с использованием SageMath, Numpy, SymPy, R.\n",
    "\n",
    "Вычислить определитель с помощью разложения по третьему столбцу."
   ]
  }
 ],
 "metadata": {
  "kernelspec": {
   "display_name": "SageMath 8.4",
   "language": "",
   "name": "sagemath"
  },
  "language_info": {
   "codemirror_mode": {
    "name": "ipython",
    "version": 2
   },
   "file_extension": ".py",
   "mimetype": "text/x-python",
   "name": "python",
   "nbconvert_exporter": "python",
   "pygments_lexer": "ipython2",
   "version": "2.7.15"
  }
 },
 "nbformat": 4,
 "nbformat_minor": 2
}

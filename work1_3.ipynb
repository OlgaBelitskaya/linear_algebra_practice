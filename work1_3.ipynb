{
 "cells": [
  {
   "cell_type": "markdown",
   "metadata": {},
   "source": [
    "<h1 style=\"color: #3636ff;\">Линейная алгебра. Практическая работа №3</h1>\n",
    "\n",
    "<a href=\"https://olgabelitskaya.github.io/README.html\">&#x1F300; &nbsp; Home Page</a> &nbsp; &nbsp; <a href=\"https://github.com/OlgaBelitskaya/linear_algebra_practice/blob/master/work1_2.ipynb\">📓 &nbsp; Previous</a> &nbsp; &nbsp; <a href=\"https://github.com/OlgaBelitskaya/linear_algebra_practice/blob/master/work1_4.ipynb\">📓 &nbsp; Next</a>\n",
    "\n",
    "### Программные средства\n",
    "\n",
    "[LaTeX. Mathematics. Matrices & Arrays](https://en.wikibooks.org/wiki/LaTeX/Mathematics#Matrices_and_arrays)\n",
    "\n",
    "[Sage. Matrices & Spaces of Matrices](https://doc.sagemath.org/html/en/reference/matrices/index.html)\n",
    "\n",
    "[Numpy. Quickstart tutorial](https://docs.scipy.org/doc/numpy/user/quickstart.html#linear-algebra)\n",
    "\n",
    "[SymPy. Matrices (linear algebra)](https://docs.sympy.org/latest/modules/matrices/matrices.html)\n",
    "\n",
    "[Quick-R. Matrix Algebra](https://www.statmethods.net/advstats/matrix.html)\n",
    "\n",
    "[R - Matrices](https://www.tutorialspoint.com/r/r_matrices.htm)\n",
    "\n",
    "### Конспекты лекций\n",
    "\n",
    "[Матрицы. Системы линейных уравнений. Алгоритм Гаусса](http://matematika.phys.msu.ru/files/a_stud_gen/246/AG-08_2009-2010.pdf)\n",
    "\n",
    "[АЛГЕБРА И ГЕОМЕТРИЯ ДЛЯ СТУДЕНТОВ-ФИЗИКОВ](http://math.phys.msu.ru/data/24/Algebra_and_geometry.pdf)"
   ]
  },
  {
   "cell_type": "markdown",
   "metadata": {},
   "source": [
    "# Определители, миноры и алгебраические дополнения\n",
    "\n",
    "## 1. Определители"
   ]
  },
  {
   "cell_type": "code",
   "execution_count": 1,
   "metadata": {},
   "outputs": [],
   "source": [
    "M2=matrix(SR,2,var('a,b,c,d'))\n",
    "M3=matrix(SR,3,var('a,b,c,d,e,f,g,h,i'))\n",
    "M4=matrix(SR,4,\n",
    "          var('a,b,c,d,e,f,g,h,i,j,k,l,m,n,o,p'))\n",
    "A=random_matrix(ZZ,3,x=0,y=100)\n",
    "B=random_matrix(ZZ,3,x=-100,y=0) \n",
    "C=random_matrix(ZZ,4,x=-100,y=100)"
   ]
  },
  {
   "cell_type": "code",
   "execution_count": 2,
   "metadata": {},
   "outputs": [
    {
     "data": {
      "text/html": [
       "<html><script type=\"math/tex; mode=display\">\\newcommand{\\Bold}[1]{\\mathbf{#1}}\\left(\\left(\\begin{array}{rr}\n",
       "a & b \\\\\n",
       "c & d\n",
       "\\end{array}\\right), -b c + a d\\right)</script></html>"
      ],
      "text/plain": [
       "(\n",
       "[a b]            \n",
       "[c d], -b*c + a*d\n",
       ")"
      ]
     },
     "metadata": {},
     "output_type": "display_data"
    },
    {
     "data": {
      "text/html": [
       "<html><script type=\"math/tex; mode=display\">\\newcommand{\\Bold}[1]{\\mathbf{#1}}\\left(\\left(\\begin{array}{rrr}\n",
       "a & b & c \\\\\n",
       "d & e & f \\\\\n",
       "g & h & i\n",
       "\\end{array}\\right), -{\\left(f h - e i\\right)} a + {\\left(c h - b i\\right)} d - {\\left(c e - b f\\right)} g\\right)</script></html>"
      ],
      "text/plain": [
       "(\n",
       "[a b c]                                                \n",
       "[d e f]                                                \n",
       "[g h i], -(f*h - e*i)*a + (c*h - b*i)*d - (c*e - b*f)*g\n",
       ")"
      ]
     },
     "metadata": {},
     "output_type": "display_data"
    },
    {
     "data": {
      "text/html": [
       "<html><script type=\"math/tex; mode=display\">\\newcommand{\\Bold}[1]{\\mathbf{#1}}\\left(\\left(\\begin{array}{rrr}\n",
       "35 & 20 & 57 \\\\\n",
       "14 & 59 & 74 \\\\\n",
       "13 & 63 & 86\n",
       "\\end{array}\\right), 16135\\right)</script></html>"
      ],
      "text/plain": [
       "(\n",
       "[35 20 57]       \n",
       "[14 59 74]       \n",
       "[13 63 86], 16135\n",
       ")"
      ]
     },
     "metadata": {},
     "output_type": "display_data"
    },
    {
     "data": {
      "text/html": [
       "<html><script type=\"math/tex; mode=display\">\\newcommand{\\Bold}[1]{\\mathbf{#1}}\\left(\\left(\\begin{array}{rrr}\n",
       "-95 & -62 & -87 \\\\\n",
       "-86 & -11 & -33 \\\\\n",
       "-31 & -61 & -10\n",
       "\\end{array}\\right), -256056\\right)</script></html>"
      ],
      "text/plain": [
       "(\n",
       "[-95 -62 -87]         \n",
       "[-86 -11 -33]         \n",
       "[-31 -61 -10], -256056\n",
       ")"
      ]
     },
     "metadata": {},
     "output_type": "display_data"
    },
    {
     "data": {
      "text/html": [
       "<html><script type=\"math/tex; mode=display\">\\newcommand{\\Bold}[1]{\\mathbf{#1}}\\left(\\left(\\begin{array}{rrrr}\n",
       "15 & -68 & -31 & 74 \\\\\n",
       "25 & 50 & -3 & -7 \\\\\n",
       "41 & -33 & -93 & -15 \\\\\n",
       "20 & 98 & -61 & 78\n",
       "\\end{array}\\right), -34838865\\right)</script></html>"
      ],
      "text/plain": [
       "(\n",
       "[ 15 -68 -31  74]           \n",
       "[ 25  50  -3  -7]           \n",
       "[ 41 -33 -93 -15]           \n",
       "[ 20  98 -61  78], -34838865\n",
       ")"
      ]
     },
     "metadata": {},
     "output_type": "display_data"
    }
   ],
   "source": [
    "for M in [M2,M3,A,B,C]: \n",
    "    pretty_print((M,M.det()))"
   ]
  },
  {
   "cell_type": "code",
   "execution_count": 12,
   "metadata": {},
   "outputs": [],
   "source": [
    "import numpy,sympy\n",
    "A1=numpy.matrix(numpy.random.randint(0,100,\n",
    "                size=(3,3)))\n",
    "B1=numpy.matrix(numpy.random.randint(-100,0,\n",
    "                size=(3,3)))\n",
    "C1=numpy.matrix(numpy.random.randint(-100,100,\n",
    "                size=(4,4)))\n",
    "A2=sympy.Matrix([[-3,-3,1],[-4,-7,7],[2,2,5]])\n",
    "B2=sympy.Matrix([[2,10,7],[-5,-6,-2],[-8,4,-8]])\n",
    "C2=sympy.Matrix([[-8,-4,5,2],[3,-5,8,-2],\n",
    "                 [5,4,-8,1],[7,-2,9,5]])\n",
    "mm=sympy.symbols(\" \".join(list('m_%d%d' %(i,j) \n",
    "                 for i in [1,2] for j in [1,2])))\n",
    "M=sympy.Matrix(int(2),int(2),mm) \n",
    "nn=sympy.symbols(\" \".join(list('n_%d%d' %(i,j) \n",
    "                 for i in [1,2,3] for j in [1,2,3])))\n",
    "N=sympy.Matrix(int(3),int(3),nn)"
   ]
  },
  {
   "cell_type": "code",
   "execution_count": 13,
   "metadata": {},
   "outputs": [
    {
     "name": "stdout",
     "output_type": "stream",
     "text": [
      "[matrix([[16, 61, 13],\n",
      "        [ 3, 83, 41],\n",
      "        [60, 75, 87]]), 138660.0]\n",
      "[matrix([[-95, -94,  -5],\n",
      "        [-21, -32, -26],\n",
      "        [-48, -97, -46]]), 70737.0]\n",
      "[matrix([[ -7,  12,   6,  34],\n",
      "        [  1,  35, -55, -39],\n",
      "        [ 30,  25, -65, -85],\n",
      "        [ 43,  59, -62, -39]]), 243150.0]\n",
      "[Matrix([\n",
      "[-3, -3, 1],\n",
      "[-4, -7, 7],\n",
      "[ 2,  2, 5]]), 51]\n",
      "[Matrix([\n",
      "[ 2, 10,  7],\n",
      "[-5, -6, -2],\n",
      "[-8,  4, -8]]), -604]\n",
      "[Matrix([\n",
      "[-8, -4,  5,  2],\n",
      "[ 3, -5,  8, -2],\n",
      "[ 5,  4, -8,  1],\n",
      "[ 7, -2,  9,  5]]), -1566]\n",
      "⎡m₁₁  m₁₂⎤\n",
      "⎢        ⎥\n",
      "⎣m₂₁  m₂₂⎦\n",
      "m₁₁⋅m₂₂ - m₁₂⋅m₂₁\n",
      "⎡n₁₁  n₁₂  n₁₃⎤\n",
      "⎢             ⎥\n",
      "⎢n₂₁  n₂₂  n₂₃⎥\n",
      "⎢             ⎥\n",
      "⎣n₃₁  n₃₂  n₃₃⎦\n",
      "n₁₁⋅n₂₂⋅n₃₃ - n₁₁⋅n₂₃⋅n₃₂ - n₁₂⋅n₂₁⋅n₃₃ + n₁₂⋅n₂₃⋅n₃₁ + n₁₃⋅n₂₁⋅n₃₂ - n₁₃⋅n₂₂⋅\n",
      "n₃₁\n"
     ]
    }
   ],
   "source": [
    "for m in [A1,B1,C1]:\n",
    "    print([m,round(numpy.linalg.det(m))])\n",
    "for m in [A2,B2,C2]:\n",
    "    print([m,m.det()])\n",
    "for m in [M,N]: \n",
    "    sympy.pprint(m)\n",
    "    sympy.pprint(m.det())"
   ]
  },
  {
   "cell_type": "code",
   "execution_count": 3,
   "metadata": {},
   "outputs": [
    {
     "name": "stdout",
     "output_type": "stream",
     "text": [
      "[1] \"Matrix\"    \"tools\"     \"stats\"     \"graphics\"  \"grDevices\" \"utils\"    \n",
      "[7] \"datasets\"  \"methods\"   \"base\"\n"
     ]
    }
   ],
   "source": [
    "%%r\n",
    "A<-matrix(sample.int(100,size=3*3,replace=T),\n",
    "          nrow=3,ncol=3)\n",
    "B<-matrix(sample.int(100,size=3*3,replace=T),\n",
    "          nrow=3,ncol=3)\n",
    "C<-matrix(sample.int(100,size=4*4,replace=T),\n",
    "          nrow=4,ncol=4)\n",
    "library(Matrix)"
   ]
  },
  {
   "cell_type": "code",
   "execution_count": 4,
   "metadata": {},
   "outputs": [
    {
     "name": "stdout",
     "output_type": "stream",
     "text": [
      "[1]   -80788  -129720 -7780394\n"
     ]
    }
   ],
   "source": [
    "%%r\n",
    "c(det(A),det(B),det(C))"
   ]
  },
  {
   "cell_type": "markdown",
   "metadata": {},
   "source": [
    "## 2. Свойства определителей"
   ]
  },
  {
   "cell_type": "code",
   "execution_count": 5,
   "metadata": {},
   "outputs": [
    {
     "data": {
      "text/html": [
       "<html><script type=\"math/tex; mode=display\">\\newcommand{\\Bold}[1]{\\mathbf{#1}}\\verb|A.det()=A.T.det():|\\phantom{\\verb!x!}\\verb|True|</script></html>"
      ],
      "text/plain": [
       "'A.det()=A.T.det(): True'"
      ]
     },
     "metadata": {},
     "output_type": "display_data"
    },
    {
     "data": {
      "text/html": [
       "<html><script type=\"math/tex; mode=display\">\\newcommand{\\Bold}[1]{\\mathbf{#1}}\\verb|(A*B).det()=(B*A).det()=A.det()*B.det():|\\phantom{\\verb!x!}\\verb|True|</script></html>"
      ],
      "text/plain": [
       "'(A*B).det()=(B*A).det()=A.det()*B.det(): True'"
      ]
     },
     "metadata": {},
     "output_type": "display_data"
    },
    {
     "data": {
      "text/html": [
       "<html><script type=\"math/tex; mode=display\">\\newcommand{\\Bold}[1]{\\mathbf{#1}}\\verb|(-2*A).det()=(-2)^A.dimensions()[0]*A.det():|\\phantom{\\verb!x!}\\verb|True|</script></html>"
      ],
      "text/plain": [
       "'(-2*A).det()=(-2)^A.dimensions()[0]*A.det(): True'"
      ]
     },
     "metadata": {},
     "output_type": "display_data"
    },
    {
     "data": {
      "text/plain": [
       "[0, 0]"
      ]
     },
     "execution_count": 5,
     "metadata": {},
     "output_type": "execute_result"
    }
   ],
   "source": [
    "pretty_print('A.det()=A.T.det(): '+\\\n",
    "             str(A.det()==A.T.det()))\n",
    "pretty_print('(A*B).det()=(B*A).det()=A.det()*B.det(): '+\\\n",
    "             str((A*B).det()==(B*A).det()==A.det()*B.det()))\n",
    "pretty_print('(-2*A).det()=(-2)^A.dimensions()[0]*A.det(): '+\\\n",
    "             str((-2*A).det()==(-2)^A.dimensions()[0]*A.det()))\n",
    "# linear dependence\n",
    "[matrix([[1,2,3],[0,0,0],[7,8,9]]).det(),\n",
    " matrix([[1,2,3],[2,4,6],[7,8,9]]).det()]"
   ]
  },
  {
   "cell_type": "code",
   "execution_count": 14,
   "metadata": {},
   "outputs": [
    {
     "name": "stdout",
     "output_type": "stream",
     "text": [
      "(True, True, True)\n"
     ]
    },
    {
     "data": {
      "text/plain": [
       "(0.0, 0.0)"
      ]
     },
     "execution_count": 14,
     "metadata": {},
     "output_type": "execute_result"
    }
   ],
   "source": [
    "print(round(numpy.linalg.det(A1))==\\\n",
    "round(numpy.linalg.det(A1.T)),\\\n",
    "round(numpy.linalg.det(A1*B1))==\\\n",
    "round(numpy.linalg.det(B1*A1))==\\\n",
    "round(numpy.linalg.det(A1))*round(numpy.linalg.det(B1)),\\\n",
    "round(numpy.linalg.det(-2*A1))==\\\n",
    "-2**A2.shape[0]*round(numpy.linalg.det(A1))) \n",
    "# linear dependence\n",
    "round(numpy.linalg.det(numpy.matrix([[1,2,3],[0,0,0],[7,8,9]]))),\\\n",
    "round(numpy.linalg.det(numpy.matrix([[1,2,3],[2,4,6],[7,8,9]])))"
   ]
  },
  {
   "cell_type": "code",
   "execution_count": 15,
   "metadata": {},
   "outputs": [
    {
     "name": "stdout",
     "output_type": "stream",
     "text": [
      "[True, True, True]\n"
     ]
    },
    {
     "data": {
      "text/plain": [
       "[0, 0]"
      ]
     },
     "execution_count": 15,
     "metadata": {},
     "output_type": "execute_result"
    }
   ],
   "source": [
    "print([A2.det()==A2.T.det(),\n",
    "      (A2*B2).det()==(B2*A2).det()==A2.det()*B2.det(),\n",
    "      (-2*A2).det()==(-2)^A2.shape[0]*A2.det()])\n",
    "# linear dependence\n",
    "[sympy.Matrix([[1,2,3],[0,0,0],[7,8,9]]).det(),\n",
    "sympy.Matrix([[1,2,3],[2,4,6],[7,8,9]]).det()]"
   ]
  },
  {
   "cell_type": "code",
   "execution_count": 6,
   "metadata": {},
   "outputs": [
    {
     "name": "stdout",
     "output_type": "stream",
     "text": [
      "[1] TRUE TRUE TRUE\n",
      "[1] 0.000000e+00 3.552714e-15\n"
     ]
    }
   ],
   "source": [
    "%%r\n",
    "print(c(all.equal(det(A),det(t(A))),\n",
    "        all.equal(det(A%*%B),\n",
    "        det(B%*%A),det(A)*det(B)),\n",
    "        all.equal(det(-2*A),(-2)^(dim(A)[1])*det(A))))\n",
    "# linear dependence\n",
    "c(det(matrix(c(1,3,5,0,0,0,2,4,6),\n",
    "             nrow=3,ncol=3)),\n",
    "  det(matrix(c(1,3,5,2,6,10,2,4,6),\n",
    "             nrow=3,ncol=3)))"
   ]
  },
  {
   "cell_type": "markdown",
   "metadata": {},
   "source": [
    "## 3. Миноры и алгебраические дополнения\n",
    "Матрицы знаков для определителей 3-ого и 4-ого порядка "
   ]
  },
  {
   "cell_type": "code",
   "execution_count": 7,
   "metadata": {},
   "outputs": [
    {
     "data": {
      "text/latex": [
       "$ SIGN_{(3,3)} = \n",
       " \\begin{pmatrix}\n",
       "+ & - & +  \\\\\n",
       "- & + & - \\\\\n",
       "+ & - & +  \\\\\n",
       " \\end{pmatrix} \\ \\\n",
       "SIGN_{(4,4)} = \n",
       " \\begin{pmatrix}\n",
       "+ & - & + & - \\\\\n",
       "- & + & - & + \\\\\n",
       "+ & - & + & - \\\\\n",
       "- & + & - & +\n",
       " \\end{pmatrix}$"
      ],
      "text/plain": [
       "<IPython.core.display.Latex object>"
      ]
     },
     "metadata": {},
     "output_type": "display_data"
    }
   ],
   "source": [
    "%%latex\n",
    "$ SIGN_{(3,3)} = \n",
    " \\begin{pmatrix}\n",
    "+ & - & +  \\\\\n",
    "- & + & - \\\\\n",
    "+ & - & +  \\\\\n",
    " \\end{pmatrix} \\ \\\n",
    "SIGN_{(4,4)} = \n",
    " \\begin{pmatrix}\n",
    "+ & - & + & - \\\\\n",
    "- & + & - & + \\\\\n",
    "+ & - & + & - \\\\\n",
    "- & + & - & +\n",
    " \\end{pmatrix}$"
   ]
  },
  {
   "cell_type": "markdown",
   "metadata": {},
   "source": [
    "Алгебраическое дополнение = Минор & Знак (+/-)"
   ]
  },
  {
   "cell_type": "code",
   "execution_count": 8,
   "metadata": {},
   "outputs": [
    {
     "data": {
      "text/plain": [
       "[[-b*d + a*e,\n",
       "  -c*d + a*f,\n",
       "  -c*e + b*f,\n",
       "  -b*g + a*h,\n",
       "  -c*g + a*i,\n",
       "  -c*h + b*i,\n",
       "  -e*g + d*h,\n",
       "  -f*g + d*i,\n",
       "  -f*h + e*i],\n",
       " [-(g*j - f*k)*a + (c*j - b*k)*e - (c*f - b*g)*i,\n",
       "  -(h*j - f*l)*a + (d*j - b*l)*e - (d*f - b*h)*i,\n",
       "  -(h*k - g*l)*a + (d*k - c*l)*e - (d*g - c*h)*i,\n",
       "  -(h*k - g*l)*b + (d*k - c*l)*f - (d*g - c*h)*j,\n",
       "  -(g*n - f*o)*a + (c*n - b*o)*e - (c*f - b*g)*m,\n",
       "  -(h*n - f*p)*a + (d*n - b*p)*e - (d*f - b*h)*m,\n",
       "  -(h*o - g*p)*a + (d*o - c*p)*e - (d*g - c*h)*m,\n",
       "  -(h*o - g*p)*b + (d*o - c*p)*f - (d*g - c*h)*n,\n",
       "  -(k*n - j*o)*a + (c*n - b*o)*i - (c*j - b*k)*m,\n",
       "  -(l*n - j*p)*a + (d*n - b*p)*i - (d*j - b*l)*m,\n",
       "  -(l*o - k*p)*a + (d*o - c*p)*i - (d*k - c*l)*m,\n",
       "  -(l*o - k*p)*b + (d*o - c*p)*j - (d*k - c*l)*n,\n",
       "  -(k*n - j*o)*e + (g*n - f*o)*i - (g*j - f*k)*m,\n",
       "  -(l*n - j*p)*e + (h*n - f*p)*i - (h*j - f*l)*m,\n",
       "  -(l*o - k*p)*e + (h*o - g*p)*i - (h*k - g*l)*m,\n",
       "  -(l*o - k*p)*f + (h*o - g*p)*j - (h*k - g*l)*n],\n",
       " [1785, 1792, -1883, 1945, 2269, -1871, 115, 242, 412],\n",
       " [-4287, -4347, 1089, 3873, -1747, -4687, 4905, -163, -1903],\n",
       " [-131846,\n",
       "  -233449,\n",
       "  -174766,\n",
       "  -340629,\n",
       "  -185910,\n",
       "  318210,\n",
       "  -53535,\n",
       "  -16830,\n",
       "  -21701,\n",
       "  567476,\n",
       "  -61531,\n",
       "  1344666,\n",
       "  296191,\n",
       "  -235246,\n",
       "  -189244,\n",
       "  -489651]]"
      ]
     },
     "execution_count": 8,
     "metadata": {},
     "output_type": "execute_result"
    }
   ],
   "source": [
    "[M3.minors(2),M4.minors(3),\n",
    " A.minors(2),B.minors(2),C.minors(3)]"
   ]
  },
  {
   "cell_type": "code",
   "execution_count": 9,
   "metadata": {},
   "outputs": [
    {
     "data": {
      "text/plain": [
       "-(f*h - e*i)*a + (c*h - b*i)*d - (c*e - b*f)*g == -(f*h - e*i)*a + (c*h - b*i)*d - (c*e - b*f)*g"
      ]
     },
     "execution_count": 9,
     "metadata": {},
     "output_type": "execute_result"
    }
   ],
   "source": [
    "# разложение определителя по первому столбцу\n",
    "M3.det()==M3[0,0]*M3.minors(2)[8]-\\\n",
    "M3[1,0]*M3.minors(2)[5]+M3[2,0]*M3.minors(2)[2]"
   ]
  },
  {
   "cell_type": "code",
   "execution_count": 10,
   "metadata": {},
   "outputs": [
    {
     "data": {
      "text/plain": [
       "[[[1, 3], [-7, -9]], 24]"
      ]
     },
     "execution_count": 10,
     "metadata": {},
     "output_type": "execute_result"
    }
   ],
   "source": [
    "def minor(m,i,j): \n",
    "    return [row[:j]+row[j+1:] \n",
    "            for row in (m[:i]+m[i+1:])]\n",
    "def deternminant(m):\n",
    "    if len(m)==2: \n",
    "        return m[0][0]*m[1][1]-m[0][1]*m[1][0]\n",
    "    det=0\n",
    "    for c in range(len(m)): \n",
    "        det+=((-1)**c)*m[0][c]*deternminant(minor(m,0,c))\n",
    "    return det\n",
    "[minor([[1,2,3],[-4,5,-6],[-7,8,-9]],1,1),\n",
    "deternminant([[1,2,3],[-4,5,-6],[-7,8,-9]])]"
   ]
  },
  {
   "cell_type": "code",
   "execution_count": 16,
   "metadata": {},
   "outputs": [
    {
     "name": "stdout",
     "output_type": "stream",
     "text": [
      "⎡-3  -3  1⎤\n",
      "⎢         ⎥\n",
      "⎢-4  -7  7⎥\n",
      "⎢         ⎥\n",
      "⎣2   2   5⎦\n",
      "⎡-7  7⎤\n",
      "⎢     ⎥\n",
      "⎣2   5⎦\n"
     ]
    }
   ],
   "source": [
    "sympy.pprint(A2)\n",
    "sympy.pprint(A2.minorMatrix(0,0))"
   ]
  },
  {
   "cell_type": "code",
   "execution_count": 17,
   "metadata": {},
   "outputs": [
    {
     "data": {
      "text/plain": [
       "True"
      ]
     },
     "execution_count": 17,
     "metadata": {},
     "output_type": "execute_result"
    }
   ],
   "source": [
    "# разложение определителя по первому столбцу\n",
    "B2.det()==B2[0,0]*B2.minorMatrix(0,0).det()-\\\n",
    "B2[1,0]*B2.minorMatrix(1,0).det()+\\\n",
    "B2[2,0]*B2.minorMatrix(2,0).det()"
   ]
  },
  {
   "cell_type": "code",
   "execution_count": 18,
   "metadata": {},
   "outputs": [
    {
     "name": "stdout",
     "output_type": "stream",
     "text": [
      "[1]   97    6   81    8  290 -290\n"
     ]
    }
   ],
   "source": [
    "%%r\n",
    "minor_matrix<-function(A,i,j) A[-i,-j]\n",
    "minor<-function(A,i,j) det(A[-i,-j])\n",
    "cofactor<-function(A,i,j) (-1)^(i+j)*minor(A,i,j)\n",
    "c(minor_matrix(A,1,2),minor(A,1,2),cofactor(A,1,2))"
   ]
  },
  {
   "cell_type": "code",
   "execution_count": 19,
   "metadata": {},
   "outputs": [
    {
     "name": "stdout",
     "output_type": "stream",
     "text": [
      "[1] -80788 -80788\n"
     ]
    }
   ],
   "source": [
    "%%r\n",
    "c(det(A),\n",
    " (A[1,1]*minor(A,1,1)-\n",
    " A[2,1]*minor(A,2,1)+\n",
    " A[3,1]*minor(A,3,1)))"
   ]
  },
  {
   "cell_type": "markdown",
   "metadata": {},
   "source": [
    "## 4. Задание\n",
    "\n",
    "Инициировать матрицу $A(3x3)$, рассчитать определитель и исследовать его свойства \n",
    "\n",
    "с использованием SageMath, Numpy, SymPy, R.\n",
    "\n",
    "Вычислить определитель с помощью разложения по третьему столбцу."
   ]
  }
 ],
 "metadata": {
  "kernelspec": {
   "display_name": "SageMath 8.8",
   "language": "sage",
   "name": "sagemath"
  },
  "language_info": {
   "codemirror_mode": {
    "name": "ipython",
    "version": 2
   },
   "file_extension": ".py",
   "mimetype": "text/x-python",
   "name": "python",
   "nbconvert_exporter": "python",
   "pygments_lexer": "ipython2",
   "version": "2.7.15"
  }
 },
 "nbformat": 4,
 "nbformat_minor": 2
}

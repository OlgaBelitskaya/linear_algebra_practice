{
 "cells": [
  {
   "cell_type": "markdown",
   "metadata": {},
   "source": [
    "<h1 style=\"color: #3636ff;\">Линейная алгебра. Практическая работа №0</h1>\n",
    "\n",
    "### Программные средства\n",
    "\n",
    "[LaTeX. Mathematics](https://en.wikibooks.org/wiki/LaTeX/Mathematics)\n",
    "\n",
    "[Sage. Basic Algebra and Calculus](http://doc.sagemath.org/html/en/tutorial/tour_algebra.html)\n",
    "\n",
    "[Sympy. Iterables](https://docs.sympy.org/latest/modules/utilities/iterables.html)\n",
    "\n",
    "[Numpy. Quickstart tutorial](https://docs.scipy.org/doc/numpy/user/quickstart.html#linear-algebra)\n",
    "\n",
    "[R Tutorial](https://www.tutorialspoint.com/r/index.htm)"
   ]
  },
  {
   "cell_type": "markdown",
   "metadata": {},
   "source": [
    "### Конспекты лекций\n",
    "\n",
    "[АЛГЕБРА И ГЕОМЕТРИЯ ДЛЯ СТУДЕНТОВ-ФИЗИКОВ](http://math.phys.msu.ru/data/24/Algebra_and_geometry.pdf)\n",
    "\n",
    "[Computational Mathematics with SageMath](http://dl.lateralis.org/public/sagebook/sagebook-ba6596d.pdf)\n",
    "\n",
    "[Семинары по алгебре](https://www.mccme.ru/~yasinsky/teaching/)\n",
    "\n",
    "[Python Data Science Handbook by Jake VanderPlas](https://www.oreilly.com/library/view/python-data-science/9781491912126/ch04.html)"
   ]
  },
  {
   "cell_type": "markdown",
   "metadata": {},
   "source": [
    "# Подстановка (таблица перестановки элементов)\n",
    "## 1. Перестановки, размещения, сочетания"
   ]
  },
  {
   "cell_type": "code",
   "execution_count": 77,
   "metadata": {},
   "outputs": [
    {
     "name": "stdout",
     "output_type": "stream",
     "text": [
      "☜ || ☞ || ☝︎ || ☟\n",
      "☜ || ☞ || ☟ || ☝︎\n",
      "☜ || ☝︎ || ☞ || ☟\n",
      "☜ || ☝︎ || ☟ || ☞\n",
      "☜ || ☟ || ☞ || ☝︎\n",
      "☜ || ☟ || ☝︎ || ☞\n",
      "☞ || ☜ || ☝︎ || ☟\n",
      "☞ || ☜ || ☟ || ☝︎\n",
      "☞ || ☝︎ || ☜ || ☟\n",
      "☞ || ☝︎ || ☟ || ☜\n",
      "☞ || ☟ || ☜ || ☝︎\n",
      "☞ || ☟ || ☝︎ || ☜\n",
      "☝︎ || ☜ || ☞ || ☟\n",
      "☝︎ || ☜ || ☟ || ☞\n",
      "☝︎ || ☞ || ☜ || ☟\n",
      "☝︎ || ☞ || ☟ || ☜\n",
      "☝︎ || ☟ || ☜ || ☞\n",
      "☝︎ || ☟ || ☞ || ☜\n",
      "☟ || ☜ || ☞ || ☝︎\n",
      "☟ || ☜ || ☝︎ || ☞\n",
      "☟ || ☞ || ☜ || ☝︎\n",
      "☟ || ☞ || ☝︎ || ☜\n",
      "☟ || ☝︎ || ☜ || ☞\n",
      "☟ || ☝︎ || ☞ || ☜\n"
     ]
    }
   ],
   "source": [
    "# sage\n",
    "S = Arrangements([\"☜\",\"☞\",\"☝︎\",\"☟\"],4).list()\n",
    "for i in range(len(S)):\n",
    "    print(ascii_art(S[i][0],S[i][1],S[i][2],S[i][3], sep=' || '))"
   ]
  },
  {
   "cell_type": "code",
   "execution_count": 73,
   "metadata": {},
   "outputs": [
    {
     "data": {
      "text/plain": [
       "True"
      ]
     },
     "execution_count": 73,
     "metadata": {},
     "output_type": "execute_result"
    }
   ],
   "source": [
    "len(S) == factorial(4)"
   ]
  },
  {
   "cell_type": "code",
   "execution_count": 80,
   "metadata": {},
   "outputs": [
    {
     "name": "stdout",
     "output_type": "stream",
     "text": [
      "🍊 || 🍋 || 🍎\n",
      "🍊 || 🍋 || 🍐\n",
      "🍊 || 🍋 || 🍑\n",
      "🍊 || 🍎 || 🍋\n",
      "🍊 || 🍎 || 🍐\n",
      "🍊 || 🍎 || 🍑\n",
      "🍊 || 🍐 || 🍋\n",
      "🍊 || 🍐 || 🍎\n",
      "🍊 || 🍐 || 🍑\n",
      "🍊 || 🍑 || 🍋\n",
      "🍊 || 🍑 || 🍎\n",
      "🍊 || 🍑 || 🍐\n",
      "🍋 || 🍊 || 🍎\n",
      "🍋 || 🍊 || 🍐\n",
      "🍋 || 🍊 || 🍑\n",
      "🍋 || 🍎 || 🍊\n",
      "🍋 || 🍎 || 🍐\n",
      "🍋 || 🍎 || 🍑\n",
      "🍋 || 🍐 || 🍊\n",
      "🍋 || 🍐 || 🍎\n",
      "🍋 || 🍐 || 🍑\n",
      "🍋 || 🍑 || 🍊\n",
      "🍋 || 🍑 || 🍎\n",
      "🍋 || 🍑 || 🍐\n",
      "🍎 || 🍊 || 🍋\n",
      "🍎 || 🍊 || 🍐\n",
      "🍎 || 🍊 || 🍑\n",
      "🍎 || 🍋 || 🍊\n",
      "🍎 || 🍋 || 🍐\n",
      "🍎 || 🍋 || 🍑\n",
      "🍎 || 🍐 || 🍊\n",
      "🍎 || 🍐 || 🍋\n",
      "🍎 || 🍐 || 🍑\n",
      "🍎 || 🍑 || 🍊\n",
      "🍎 || 🍑 || 🍋\n",
      "🍎 || 🍑 || 🍐\n",
      "🍐 || 🍊 || 🍋\n",
      "🍐 || 🍊 || 🍎\n",
      "🍐 || 🍊 || 🍑\n",
      "🍐 || 🍋 || 🍊\n",
      "🍐 || 🍋 || 🍎\n",
      "🍐 || 🍋 || 🍑\n",
      "🍐 || 🍎 || 🍊\n",
      "🍐 || 🍎 || 🍋\n",
      "🍐 || 🍎 || 🍑\n",
      "🍐 || 🍑 || 🍊\n",
      "🍐 || 🍑 || 🍋\n",
      "🍐 || 🍑 || 🍎\n",
      "🍑 || 🍊 || 🍋\n",
      "🍑 || 🍊 || 🍎\n",
      "🍑 || 🍊 || 🍐\n",
      "🍑 || 🍋 || 🍊\n",
      "🍑 || 🍋 || 🍎\n",
      "🍑 || 🍋 || 🍐\n",
      "🍑 || 🍎 || 🍊\n",
      "🍑 || 🍎 || 🍋\n",
      "🍑 || 🍎 || 🍐\n",
      "🍑 || 🍐 || 🍊\n",
      "🍑 || 🍐 || 🍋\n",
      "🍑 || 🍐 || 🍎\n"
     ]
    }
   ],
   "source": [
    "S = Arrangements([\"🍊\",\"🍋\",\"🍎\",\"🍐\",\"🍑\"],3).list()\n",
    "for i in range(len(S)):\n",
    "    print(ascii_art(S[i][0],S[i][1],S[i][2], sep=' || '))"
   ]
  },
  {
   "cell_type": "code",
   "execution_count": 75,
   "metadata": {},
   "outputs": [
    {
     "data": {
      "text/plain": [
       "True"
      ]
     },
     "execution_count": 75,
     "metadata": {},
     "output_type": "execute_result"
    }
   ],
   "source": [
    "len(S) == factorial(5)/factorial(5-3)"
   ]
  },
  {
   "cell_type": "code",
   "execution_count": 78,
   "metadata": {},
   "outputs": [
    {
     "name": "stdout",
     "output_type": "stream",
     "text": [
      "♔ || ♕ || ♖\n",
      "♔ || ♕ || ♗\n",
      "♔ || ♕ || ♘\n",
      "♔ || ♕ || ♙\n",
      "♔ || ♖ || ♗\n",
      "♔ || ♖ || ♘\n",
      "♔ || ♖ || ♙\n",
      "♔ || ♗ || ♘\n",
      "♔ || ♗ || ♙\n",
      "♔ || ♘ || ♙\n",
      "♕ || ♖ || ♗\n",
      "♕ || ♖ || ♘\n",
      "♕ || ♖ || ♙\n",
      "♕ || ♗ || ♘\n",
      "♕ || ♗ || ♙\n",
      "♕ || ♘ || ♙\n",
      "♖ || ♗ || ♘\n",
      "♖ || ♗ || ♙\n",
      "♖ || ♘ || ♙\n",
      "♗ || ♘ || ♙\n"
     ]
    }
   ],
   "source": [
    "S = Combinations([\"♔\",\"♕\",\"♖\",\"♗\",\"♘\",\"♙\"],3).list()\n",
    "for i in range(len(S)):\n",
    "    print(ascii_art(S[i][0],S[i][1],S[i][2], sep=' || '))"
   ]
  },
  {
   "cell_type": "code",
   "execution_count": 79,
   "metadata": {},
   "outputs": [
    {
     "data": {
      "text/plain": [
       "True"
      ]
     },
     "execution_count": 79,
     "metadata": {},
     "output_type": "execute_result"
    }
   ],
   "source": [
    "len(S) == factorial(6)/(factorial(6-3)*factorial(3))"
   ]
  },
  {
   "cell_type": "code",
   "execution_count": 111,
   "metadata": {},
   "outputs": [
    {
     "name": "stdout",
     "output_type": "stream",
     "text": [
      "[ ☜, ☝︎, ☞, ☟ ]\n",
      "[ ☜, ☝︎, ☟, ☞ ]\n",
      "[ ☜, ☞, ☝︎, ☟ ]\n",
      "[ ☜, ☞, ☟, ☝︎ ]\n",
      "[ ☜, ☟, ☝︎, ☞ ]\n",
      "[ ☜, ☟, ☞, ☝︎ ]\n",
      "[ ☝︎, ☜, ☞, ☟ ]\n",
      "[ ☝︎, ☜, ☟, ☞ ]\n",
      "[ ☝︎, ☞, ☜, ☟ ]\n",
      "[ ☝︎, ☞, ☟, ☜ ]\n",
      "[ ☝︎, ☟, ☜, ☞ ]\n",
      "[ ☝︎, ☟, ☞, ☜ ]\n",
      "[ ☞, ☜, ☝︎, ☟ ]\n",
      "[ ☞, ☜, ☟, ☝︎ ]\n",
      "[ ☞, ☝︎, ☜, ☟ ]\n",
      "[ ☞, ☝︎, ☟, ☜ ]\n",
      "[ ☞, ☟, ☜, ☝︎ ]\n",
      "[ ☞, ☟, ☝︎, ☜ ]\n",
      "[ ☟, ☜, ☝︎, ☞ ]\n",
      "[ ☟, ☜, ☞, ☝︎ ]\n",
      "[ ☟, ☝︎, ☜, ☞ ]\n",
      "[ ☟, ☝︎, ☞, ☜ ]\n",
      "[ ☟, ☞, ☜, ☝︎ ]\n",
      "[ ☟, ☞, ☝︎, ☜ ]\n"
     ]
    }
   ],
   "source": [
    "# python sympy module\n",
    "import sympy\n",
    "sympy.init_printing(use_unicode=True)\n",
    "S = sympy.utilities.iterables.multiset_permutations([\"☜\",\"☞\",\"☝︎\",\"☟\"])\n",
    "C = 0\n",
    "for s in S:\n",
    "    print(ascii_art(s))\n",
    "    C +=1"
   ]
  },
  {
   "cell_type": "code",
   "execution_count": 112,
   "metadata": {},
   "outputs": [
    {
     "data": {
      "text/plain": [
       "True"
      ]
     },
     "execution_count": 112,
     "metadata": {},
     "output_type": "execute_result"
    }
   ],
   "source": [
    "C == sympy.factorial(4)"
   ]
  },
  {
   "cell_type": "code",
   "execution_count": 11,
   "metadata": {},
   "outputs": [
    {
     "name": "stdout",
     "output_type": "stream",
     "text": [
      "[ 🍊, 🍋, 🍎 ]\n",
      "[ 🍊, 🍋, 🍐 ]\n",
      "[ 🍊, 🍋, 🍑 ]\n",
      "[ 🍊, 🍎, 🍋 ]\n",
      "[ 🍊, 🍎, 🍐 ]\n",
      "[ 🍊, 🍎, 🍑 ]\n",
      "[ 🍊, 🍐, 🍋 ]\n",
      "[ 🍊, 🍐, 🍎 ]\n",
      "[ 🍊, 🍐, 🍑 ]\n",
      "[ 🍊, 🍑, 🍋 ]\n",
      "[ 🍊, 🍑, 🍎 ]\n",
      "[ 🍊, 🍑, 🍐 ]\n",
      "[ 🍋, 🍊, 🍎 ]\n",
      "[ 🍋, 🍊, 🍐 ]\n",
      "[ 🍋, 🍊, 🍑 ]\n",
      "[ 🍋, 🍎, 🍊 ]\n",
      "[ 🍋, 🍎, 🍐 ]\n",
      "[ 🍋, 🍎, 🍑 ]\n",
      "[ 🍋, 🍐, 🍊 ]\n",
      "[ 🍋, 🍐, 🍎 ]\n",
      "[ 🍋, 🍐, 🍑 ]\n",
      "[ 🍋, 🍑, 🍊 ]\n",
      "[ 🍋, 🍑, 🍎 ]\n",
      "[ 🍋, 🍑, 🍐 ]\n",
      "[ 🍎, 🍊, 🍋 ]\n",
      "[ 🍎, 🍊, 🍐 ]\n",
      "[ 🍎, 🍊, 🍑 ]\n",
      "[ 🍎, 🍋, 🍊 ]\n",
      "[ 🍎, 🍋, 🍐 ]\n",
      "[ 🍎, 🍋, 🍑 ]\n",
      "[ 🍎, 🍐, 🍊 ]\n",
      "[ 🍎, 🍐, 🍋 ]\n",
      "[ 🍎, 🍐, 🍑 ]\n",
      "[ 🍎, 🍑, 🍊 ]\n",
      "[ 🍎, 🍑, 🍋 ]\n",
      "[ 🍎, 🍑, 🍐 ]\n",
      "[ 🍐, 🍊, 🍋 ]\n",
      "[ 🍐, 🍊, 🍎 ]\n",
      "[ 🍐, 🍊, 🍑 ]\n",
      "[ 🍐, 🍋, 🍊 ]\n",
      "[ 🍐, 🍋, 🍎 ]\n",
      "[ 🍐, 🍋, 🍑 ]\n",
      "[ 🍐, 🍎, 🍊 ]\n",
      "[ 🍐, 🍎, 🍋 ]\n",
      "[ 🍐, 🍎, 🍑 ]\n",
      "[ 🍐, 🍑, 🍊 ]\n",
      "[ 🍐, 🍑, 🍋 ]\n",
      "[ 🍐, 🍑, 🍎 ]\n",
      "[ 🍑, 🍊, 🍋 ]\n",
      "[ 🍑, 🍊, 🍎 ]\n",
      "[ 🍑, 🍊, 🍐 ]\n",
      "[ 🍑, 🍋, 🍊 ]\n",
      "[ 🍑, 🍋, 🍎 ]\n",
      "[ 🍑, 🍋, 🍐 ]\n",
      "[ 🍑, 🍎, 🍊 ]\n",
      "[ 🍑, 🍎, 🍋 ]\n",
      "[ 🍑, 🍎, 🍐 ]\n",
      "[ 🍑, 🍐, 🍊 ]\n",
      "[ 🍑, 🍐, 🍋 ]\n",
      "[ 🍑, 🍐, 🍎 ]\n"
     ]
    }
   ],
   "source": [
    "S = sympy.utilities.iterables.multiset_permutations([\"🍊\",\"🍋\",\"🍎\",\"🍐\",\"🍑\"], 3)\n",
    "C = 0\n",
    "for s in S:\n",
    "    print(ascii_art(s))\n",
    "    C +=1"
   ]
  },
  {
   "cell_type": "code",
   "execution_count": 12,
   "metadata": {},
   "outputs": [
    {
     "data": {
      "text/plain": [
       "True"
      ]
     },
     "execution_count": 12,
     "metadata": {},
     "output_type": "execute_result"
    }
   ],
   "source": [
    "C == sympy.factorial(5)/sympy.factorial(5-3)"
   ]
  },
  {
   "cell_type": "code",
   "execution_count": 13,
   "metadata": {
    "scrolled": false
   },
   "outputs": [
    {
     "name": "stdout",
     "output_type": "stream",
     "text": [
      "[ ♔, ♕, ♖ ]\n",
      "[ ♔, ♕, ♗ ]\n",
      "[ ♔, ♕, ♘ ]\n",
      "[ ♔, ♕, ♙ ]\n",
      "[ ♔, ♖, ♗ ]\n",
      "[ ♔, ♖, ♘ ]\n",
      "[ ♔, ♖, ♙ ]\n",
      "[ ♔, ♗, ♘ ]\n",
      "[ ♔, ♗, ♙ ]\n",
      "[ ♔, ♘, ♙ ]\n",
      "[ ♕, ♖, ♗ ]\n",
      "[ ♕, ♖, ♘ ]\n",
      "[ ♕, ♖, ♙ ]\n",
      "[ ♕, ♗, ♘ ]\n",
      "[ ♕, ♗, ♙ ]\n",
      "[ ♕, ♘, ♙ ]\n",
      "[ ♖, ♗, ♘ ]\n",
      "[ ♖, ♗, ♙ ]\n",
      "[ ♖, ♘, ♙ ]\n",
      "[ ♗, ♘, ♙ ]\n"
     ]
    }
   ],
   "source": [
    "S = sympy.utilities.iterables.multiset_combinations([\"♔\",\"♕\",\"♖\",\"♗\",\"♘\",\"♙\"], 3)\n",
    "C = 0\n",
    "for s in S:\n",
    "    print(ascii_art(s))\n",
    "    C +=1"
   ]
  },
  {
   "cell_type": "code",
   "execution_count": 14,
   "metadata": {},
   "outputs": [
    {
     "data": {
      "text/plain": [
       "True"
      ]
     },
     "execution_count": 14,
     "metadata": {},
     "output_type": "execute_result"
    }
   ],
   "source": [
    "C == sympy.factorial(6)/(sympy.factorial(6-3)*sympy.factorial(3))"
   ]
  },
  {
   "cell_type": "code",
   "execution_count": 17,
   "metadata": {},
   "outputs": [
    {
     "name": "stdout",
     "output_type": "stream",
     "text": [
      "( ☜, ☞, ☝︎, ☟ )\n",
      "( ☜, ☞, ☟, ☝︎ )\n",
      "( ☜, ☝︎, ☞, ☟ )\n",
      "( ☜, ☝︎, ☟, ☞ )\n",
      "( ☜, ☟, ☞, ☝︎ )\n",
      "( ☜, ☟, ☝︎, ☞ )\n",
      "( ☞, ☜, ☝︎, ☟ )\n",
      "( ☞, ☜, ☟, ☝︎ )\n",
      "( ☞, ☝︎, ☜, ☟ )\n",
      "( ☞, ☝︎, ☟, ☜ )\n",
      "( ☞, ☟, ☜, ☝︎ )\n",
      "( ☞, ☟, ☝︎, ☜ )\n",
      "( ☝︎, ☜, ☞, ☟ )\n",
      "( ☝︎, ☜, ☟, ☞ )\n",
      "( ☝︎, ☞, ☜, ☟ )\n",
      "( ☝︎, ☞, ☟, ☜ )\n",
      "( ☝︎, ☟, ☜, ☞ )\n",
      "( ☝︎, ☟, ☞, ☜ )\n",
      "( ☟, ☜, ☞, ☝︎ )\n",
      "( ☟, ☜, ☝︎, ☞ )\n",
      "( ☟, ☞, ☜, ☝︎ )\n",
      "( ☟, ☞, ☝︎, ☜ )\n",
      "( ☟, ☝︎, ☜, ☞ )\n",
      "( ☟, ☝︎, ☞, ☜ )\n"
     ]
    }
   ],
   "source": [
    "# python itertools, numpy modules\n",
    "import itertools, numpy\n",
    "S = itertools.permutations([\"☜\",\"☞\",\"☝︎\",\"☟\"], 4)\n",
    "C = 0\n",
    "for s in S:\n",
    "    print(ascii_art(s))\n",
    "    C +=1"
   ]
  },
  {
   "cell_type": "code",
   "execution_count": 18,
   "metadata": {},
   "outputs": [
    {
     "data": {
      "text/plain": [
       "True"
      ]
     },
     "execution_count": 18,
     "metadata": {},
     "output_type": "execute_result"
    }
   ],
   "source": [
    "C == numpy.math.factorial(4)"
   ]
  },
  {
   "cell_type": "code",
   "execution_count": 32,
   "metadata": {},
   "outputs": [
    {
     "name": "stdout",
     "output_type": "stream",
     "text": [
      "( 🍊, 🍋, 🍎 )\n",
      "( 🍊, 🍋, 🍐 )\n",
      "( 🍊, 🍋, 🍑 )\n",
      "( 🍊, 🍎, 🍋 )\n",
      "( 🍊, 🍎, 🍐 )\n",
      "( 🍊, 🍎, 🍑 )\n",
      "( 🍊, 🍐, 🍋 )\n",
      "( 🍊, 🍐, 🍎 )\n",
      "( 🍊, 🍐, 🍑 )\n",
      "( 🍊, 🍑, 🍋 )\n",
      "( 🍊, 🍑, 🍎 )\n",
      "( 🍊, 🍑, 🍐 )\n",
      "( 🍋, 🍊, 🍎 )\n",
      "( 🍋, 🍊, 🍐 )\n",
      "( 🍋, 🍊, 🍑 )\n",
      "( 🍋, 🍎, 🍊 )\n",
      "( 🍋, 🍎, 🍐 )\n",
      "( 🍋, 🍎, 🍑 )\n",
      "( 🍋, 🍐, 🍊 )\n",
      "( 🍋, 🍐, 🍎 )\n",
      "( 🍋, 🍐, 🍑 )\n",
      "( 🍋, 🍑, 🍊 )\n",
      "( 🍋, 🍑, 🍎 )\n",
      "( 🍋, 🍑, 🍐 )\n",
      "( 🍎, 🍊, 🍋 )\n",
      "( 🍎, 🍊, 🍐 )\n",
      "( 🍎, 🍊, 🍑 )\n",
      "( 🍎, 🍋, 🍊 )\n",
      "( 🍎, 🍋, 🍐 )\n",
      "( 🍎, 🍋, 🍑 )\n",
      "( 🍎, 🍐, 🍊 )\n",
      "( 🍎, 🍐, 🍋 )\n",
      "( 🍎, 🍐, 🍑 )\n",
      "( 🍎, 🍑, 🍊 )\n",
      "( 🍎, 🍑, 🍋 )\n",
      "( 🍎, 🍑, 🍐 )\n",
      "( 🍐, 🍊, 🍋 )\n",
      "( 🍐, 🍊, 🍎 )\n",
      "( 🍐, 🍊, 🍑 )\n",
      "( 🍐, 🍋, 🍊 )\n",
      "( 🍐, 🍋, 🍎 )\n",
      "( 🍐, 🍋, 🍑 )\n",
      "( 🍐, 🍎, 🍊 )\n",
      "( 🍐, 🍎, 🍋 )\n",
      "( 🍐, 🍎, 🍑 )\n",
      "( 🍐, 🍑, 🍊 )\n",
      "( 🍐, 🍑, 🍋 )\n",
      "( 🍐, 🍑, 🍎 )\n",
      "( 🍑, 🍊, 🍋 )\n",
      "( 🍑, 🍊, 🍎 )\n",
      "( 🍑, 🍊, 🍐 )\n",
      "( 🍑, 🍋, 🍊 )\n",
      "( 🍑, 🍋, 🍎 )\n",
      "( 🍑, 🍋, 🍐 )\n",
      "( 🍑, 🍎, 🍊 )\n",
      "( 🍑, 🍎, 🍋 )\n",
      "( 🍑, 🍎, 🍐 )\n",
      "( 🍑, 🍐, 🍊 )\n",
      "( 🍑, 🍐, 🍋 )\n",
      "( 🍑, 🍐, 🍎 )\n"
     ]
    }
   ],
   "source": [
    "S = itertools.permutations([\"🍊\",\"🍋\",\"🍎\",\"🍐\",\"🍑\"], 3)\n",
    "C = 0\n",
    "for s in S:\n",
    "    print(ascii_art(s))\n",
    "    C +=1"
   ]
  },
  {
   "cell_type": "code",
   "execution_count": 20,
   "metadata": {},
   "outputs": [
    {
     "data": {
      "text/plain": [
       "True"
      ]
     },
     "execution_count": 20,
     "metadata": {},
     "output_type": "execute_result"
    }
   ],
   "source": [
    "C == numpy.math.factorial(5)/numpy.math.factorial(5-3)"
   ]
  },
  {
   "cell_type": "code",
   "execution_count": 21,
   "metadata": {},
   "outputs": [
    {
     "name": "stdout",
     "output_type": "stream",
     "text": [
      "( ♔, ♕, ♖ )\n",
      "( ♔, ♕, ♗ )\n",
      "( ♔, ♕, ♘ )\n",
      "( ♔, ♕, ♙ )\n",
      "( ♔, ♖, ♗ )\n",
      "( ♔, ♖, ♘ )\n",
      "( ♔, ♖, ♙ )\n",
      "( ♔, ♗, ♘ )\n",
      "( ♔, ♗, ♙ )\n",
      "( ♔, ♘, ♙ )\n",
      "( ♕, ♖, ♗ )\n",
      "( ♕, ♖, ♘ )\n",
      "( ♕, ♖, ♙ )\n",
      "( ♕, ♗, ♘ )\n",
      "( ♕, ♗, ♙ )\n",
      "( ♕, ♘, ♙ )\n",
      "( ♖, ♗, ♘ )\n",
      "( ♖, ♗, ♙ )\n",
      "( ♖, ♘, ♙ )\n",
      "( ♗, ♘, ♙ )\n"
     ]
    }
   ],
   "source": [
    "S = itertools.combinations([\"♔\",\"♕\",\"♖\",\"♗\",\"♘\",\"♙\"], 3)\n",
    "C = 0\n",
    "for s in S:\n",
    "    print(ascii_art(s))\n",
    "    C +=1"
   ]
  },
  {
   "cell_type": "code",
   "execution_count": 22,
   "metadata": {},
   "outputs": [
    {
     "data": {
      "text/plain": [
       "True"
      ]
     },
     "execution_count": 22,
     "metadata": {},
     "output_type": "execute_result"
    }
   ],
   "source": [
    "C == numpy.math.factorial(6)/(numpy.math.factorial(6-3)*numpy.math.factorial(3))"
   ]
  },
  {
   "cell_type": "code",
   "execution_count": 65,
   "metadata": {},
   "outputs": [
    {
     "name": "stdout",
     "output_type": "stream",
     "text": [
      "\n",
      "\n",
      "\n",
      "☜☝︎☞☟ ☜☝︎☟☞ ☜☞☝︎☟ ☜☞☟☝︎ ☜☟☝︎☞ ☜☟☞☝︎ ☝︎☜☞☟ ☝︎☜☟☞ \n",
      "☝︎☞☜☟ ☝︎☞☟☜ ☝︎☟☜☞ ☝︎☟☞☜ ☞☜☝︎☟ ☞☜☟☝︎ ☞☝︎☜☟ ☞☝︎☟☜ \n",
      "☞☟☜☝︎ ☞☟☝︎☜ ☟☜☝︎☞ ☟☜☞☝︎ ☟☝︎☜☞ ☟☝︎☞☜ ☟☞☜☝︎ ☟☞☝︎☜ \n",
      "[1] TRUE\n"
     ]
    }
   ],
   "source": [
    "%%r\n",
    "library(gtools)\n",
    "S <- permutations(4,4,c(\"☜\",\"☞\",\"☝︎\",\"☟\"))\n",
    "s <- apply(S,1,function(x) paste0(x,collapse=\"\"))\n",
    "cat(s[1:8],\"\\n\"); cat(s[9:16],\"\\n\"); cat(s[17:24],\"\\n\")\n",
    "length(s)==factorial(4)"
   ]
  },
  {
   "cell_type": "code",
   "execution_count": 62,
   "metadata": {},
   "outputs": [
    {
     "name": "stdout",
     "output_type": "stream",
     "text": [
      "\n",
      "\n",
      "\n",
      "🍊🍋🍎 🍊🍋🍐 🍊🍋🍑 🍊🍎🍋 🍊🍎🍐 🍊🍎🍑 🍊🍐🍋 🍊🍐🍎 🍊🍐🍑 🍊🍑🍋 \n",
      "🍊🍑🍎 🍊🍑🍐 🍋🍊🍎 🍋🍊🍐 🍋🍊🍑 🍋🍎🍊 🍋🍎🍐 🍋🍎🍑 🍋🍐🍊 🍋🍐🍎 \n",
      "🍋🍐🍑 🍋🍑🍊 🍋🍑🍎 🍋🍑🍐 🍎🍊🍋 🍎🍊🍐 🍎🍊🍑 🍎🍋🍊 🍎🍋🍐 🍎🍋🍑 \n",
      "🍎🍐🍊 🍎🍐🍋 🍎🍐🍑 🍎🍑🍊 🍎🍑🍋 🍎🍑🍐 🍐🍊🍋 🍐🍊🍎 🍐🍊🍑 🍐🍋🍊 \n",
      "🍐🍋🍎 🍐🍋🍑 🍐🍎🍊 🍐🍎🍋 🍐🍎🍑 🍐🍑🍊 🍐🍑🍋 🍐🍑🍎 🍑🍊🍋 🍑🍊🍎 \n",
      "🍑🍊🍐 🍑🍋🍊 🍑🍋🍎 🍑🍋🍐 🍑🍎🍊 🍑🍎🍋 🍑🍎🍐 🍑🍐🍊 🍑🍐🍋 🍑🍐🍎 \n",
      "[1] TRUE\n"
     ]
    }
   ],
   "source": [
    "%%r\n",
    "library(gtools)\n",
    "S <- permutations(5,3,c(\"🍊\",\"🍋\",\"🍎\",\"🍐\",\"🍑\"))\n",
    "s <- apply(S,1,function(x) paste0(x,collapse=\"\"))\n",
    "cat(s[1:10],\"\\n\"); cat(s[11:20],\"\\n\")\n",
    "cat(s[21:30],\"\\n\"); cat(s[31:40],\"\\n\")\n",
    "cat(s[41:50],\"\\n\"); cat(s[51:60],\"\\n\")\n",
    "length(s)==factorial(5)/factorial(5-3)"
   ]
  },
  {
   "cell_type": "code",
   "execution_count": 64,
   "metadata": {},
   "outputs": [
    {
     "name": "stdout",
     "output_type": "stream",
     "text": [
      "\n",
      "\n",
      "♔♕♖ ♔♕♗ ♔♕♘ ♔♕♙ ♔♖♗ ♔♖♘ ♔♖♙ ♔♗♘ ♔♗♙ ♔♘♙ \n",
      "♕♖♗ ♕♖♘ ♕♖♙ ♕♗♘ ♕♗♙ ♕♘♙ ♖♗♘ ♖♗♙ ♖♘♙ ♗♘♙ \n",
      "[1] TRUE\n",
      "[1] TRUE\n"
     ]
    }
   ],
   "source": [
    "%%r\n",
    "S <- t(combn(c(\"♔\",\"♕\",\"♖\",\"♗\",\"♘\",\"♙\"), 3))\n",
    "s <- apply(S,1,function(x) paste0(x,collapse=\"\"))\n",
    "cat(s[1:10],\"\\n\"); cat(s[11:20],\"\\n\")\n",
    "length(s)==factorial(6)/(factorial(6-3)*factorial(3)); length(s)==choose(6,3)"
   ]
  },
  {
   "cell_type": "markdown",
   "metadata": {},
   "source": [
    "## 2. Свойства перестановок\n",
    "Пример для конечного множества элементов\n",
    "\n",
    "$\\{a_1 a_2 a_3 a_4 a_5 a_6 a_7\\} \\to \\{a_3 a_2 a_4 a_1 a_5 a_7 a_6\\} \\\\\n",
    "\\tau = \\begin {cases}\n",
    "1 \\ 2 \\ 3 \\ 4 \\ 5 \\ 6 \\ 7 \\\\ \n",
    "3 \\ 2 \\ 4 \\ 1 \\ 5 \\ 7 \\ 6 \n",
    "\\end{cases}$\n",
    "\n",
    "Тождественная перестановка\n",
    "\n",
    "$ e = \n",
    "\\begin {cases}\n",
    "1 \\ 2 \\ 3 \\ 4 \\ 5 \\ 6 \\ 7 \\\\ \n",
    "1 \\ 2 \\ 3 \\ 4 \\ 5 \\ 6 \\ 7\n",
    "\\end{cases}$\n",
    "\n",
    "$\\tau \\circ e = e \\circ \\tau = \\tau \\\\\n",
    "\\tau \\circ \\tau ^{-1} = \\tau ^ {-1} \\circ \\tau = e \\\\\n",
    "\\tau_1 \\circ (\\tau_2 \\circ \\tau_3) = (\\tau_1 \\circ \\tau_2) \\circ \\tau_3$\n",
    "\n",
    "В общем случае\n",
    "\n",
    "$\\tau_1 \\circ \\tau_2 \\neq \\tau_2 \\circ \\tau_1$\n",
    "\n",
    "Цикл\n",
    "\n",
    "$\\{a_1 a_2 a_3 a_4 a_5 a_6 a_7\\} \\to \\{a_2 a_3 a_4 a_5 a_6 a_7 a_1\\} \\\\\n",
    "\\tau = \\begin {cases}\n",
    "1 \\ 2 \\ 3 \\ 4 \\ 5 \\ 6 \\ 7 \\\\ \n",
    "2 \\ 3 \\ 4 \\ 5 \\ 6 \\ 7 \\ 1 \n",
    "\\end{cases}$\n",
    "\n",
    "Любая перестановка - произведение циклов.\n",
    "\n",
    "Транспозиция\n",
    "\n",
    "$\\{a_1 a_2 a_3 a_4 a_5 a_6 a_7\\} \\to \\{a_2 a_1 a_3 a_4 a_5 a_6 a_7\\} \\\\\n",
    "\\tau = \\begin {cases}\n",
    "1 \\ 2 \\ 3 \\ 4 \\ 5 \\ 6 \\ 7 \\\\ \n",
    "2 \\ 1 \\ 3 \\ 4 \\ 5 \\ 6 \\ 7  \n",
    "\\end{cases}$\n",
    "\n",
    "Любой цикл - произведение транспозиций. $\\implies$ Любая перестановка - произведение транспозиций.\n",
    "\n",
    "Инверсии в подстановке\n",
    "\n",
    "$\\tau = \\begin {cases}\n",
    "1 \\ 2 \\ 3 \\ 4 \\ 5 \\ 6 \\ 7 \\\\ \n",
    "3 \\ 2 \\ 4 \\ 1 \\ 5 \\ 7 \\ 6 \n",
    "\\end{cases} \\\\\n",
    "(2,1), (3,1), (4,1), \\\\ (3,2), \\\\ (7,6)$\n",
    "\n",
    "Четность подстановки определяется числом инверсий."
   ]
  },
  {
   "cell_type": "code",
   "execution_count": 113,
   "metadata": {},
   "outputs": [
    {
     "name": "stdout",
     "output_type": "stream",
     "text": [
      "('Cycles in P: ', [(1, 3, 4), (2,), (5,), (6, 7)])\n",
      "('Product of cycles: ', [3, 2, 4, 1, 5, 7, 6])\n"
     ]
    },
    {
     "data": {
      "text/plain": [
       "True"
      ]
     },
     "execution_count": 113,
     "metadata": {},
     "output_type": "execute_result"
    }
   ],
   "source": [
    "# sage\n",
    "P = [3,2,4,1,5,7,6]\n",
    "print('Cycles in P: ', Permutation(P).to_cycles())\n",
    "print('Product of cycles: ', Permutation([3,2,4,1,5,6,7]) * Permutation([1,2,3,4,5,7,6]))\n",
    "Permutation([3,2,4,1,5,6,7]) * Permutation([1,2,3,4,5,7,6]) == P"
   ]
  },
  {
   "cell_type": "code",
   "execution_count": 114,
   "metadata": {},
   "outputs": [
    {
     "data": {
      "image/png": "[encoded data removed]",
      "text/latex": [
       "$$\\left [ 2, \\quad 5\\right ]$$"
      ],
      "text/plain": [
       "[2, 5]"
      ]
     },
     "execution_count": 114,
     "metadata": {},
     "output_type": "execute_result"
    }
   ],
   "source": [
    "Permutation(P).fixed_points()"
   ]
  },
  {
   "cell_type": "code",
   "execution_count": 115,
   "metadata": {},
   "outputs": [
    {
     "name": "stdout",
     "output_type": "stream",
     "text": [
      "('Inversions and their number: ', [(1, 2), (1, 4), (2, 4), (3, 4), (6, 7)], 5)\n"
     ]
    }
   ],
   "source": [
    "print('Inversions and their number: ',\n",
    "      Permutation(P).inversions(), \n",
    "      Permutation(P).number_of_inversions())"
   ]
  },
  {
   "cell_type": "code",
   "execution_count": 116,
   "metadata": {},
   "outputs": [
    {
     "data": {
      "text/plain": [
       "False"
      ]
     },
     "execution_count": 116,
     "metadata": {},
     "output_type": "execute_result"
    }
   ],
   "source": [
    "Permutation(P).is_even()"
   ]
  },
  {
   "cell_type": "code",
   "execution_count": 117,
   "metadata": {},
   "outputs": [
    {
     "data": {
      "text/plain": [
       "[0 0 0 1 0 0 0]\n",
       "[0 1 0 0 0 0 0]\n",
       "[1 0 0 0 0 0 0]\n",
       "[0 0 1 0 0 0 0]\n",
       "[0 0 0 0 1 0 0]\n",
       "[0 0 0 0 0 0 1]\n",
       "[0 0 0 0 0 1 0]"
      ]
     },
     "execution_count": 117,
     "metadata": {},
     "output_type": "execute_result"
    }
   ],
   "source": [
    "Permutation(P).to_matrix()"
   ]
  },
  {
   "cell_type": "code",
   "execution_count": 118,
   "metadata": {},
   "outputs": [
    {
     "data": {
      "image/png": "[encoded data removed]",
      "text/latex": [
       "$$\\left ( \\left [ 2, \\quad 1, \\quad 3, \\quad 0, \\quad 4, \\quad 6, \\quad 5\\right ], \\quad \\left [ 2, \\quad 1, \\quad 3, \\quad 0, \\quad 4, \\quad 6, \\quad 5\\right ]\\right )$$"
      ],
      "text/plain": [
       "([2, 1, 3, 0, 4, 6, 5], [2, 1, 3, 0, 4, 6, 5])"
      ]
     },
     "execution_count": 118,
     "metadata": {},
     "output_type": "execute_result"
    }
   ],
   "source": [
    "# sympy\n",
    "from sympy.combinatorics import permutations\n",
    "P = [x-1 for x in [3,2,4,1,5,7,6]]\n",
    "P = permutations.Permutation(P)\n",
    "P.list(), P.array_form"
   ]
  },
  {
   "cell_type": "code",
   "execution_count": 119,
   "metadata": {},
   "outputs": [
    {
     "data": {
      "image/png": "[encoded data removed]",
      "text/latex": [
       "$$\\left ( \\left [ \\left [ 0, \\quad 2, \\quad 3\\right ], \\quad \\left [ 5, \\quad 6\\right ]\\right ], \\quad \\left [ \\left [ 0, \\quad 2, \\quad 3\\right ], \\quad \\left [ 1\\right ], \\quad \\left [ 4\\right ], \\quad \\left [ 5, \\quad 6\\right ]\\right ]\\right )$$"
      ],
      "text/plain": [
       "([[0, 2, 3], [5, 6]], [[0, 2, 3], [1], [4], [5, 6]])"
      ]
     },
     "execution_count": 119,
     "metadata": {},
     "output_type": "execute_result"
    }
   ],
   "source": [
    "P.cyclic_form, P.full_cyclic_form"
   ]
  },
  {
   "cell_type": "code",
   "execution_count": 120,
   "metadata": {},
   "outputs": [
    {
     "name": "stdout",
     "output_type": "stream",
     "text": [
      "Product of cycles\n"
     ]
    },
    {
     "data": {
      "text/plain": [
       "True"
      ]
     },
     "execution_count": 120,
     "metadata": {},
     "output_type": "execute_result"
    }
   ],
   "source": [
    "print('Product of cycles')\n",
    "permutations.Permutation([2,1,3,0,4,5,6]) * \\\n",
    "permutations.Permutation([0,1,2,3,4,6,5]) == P"
   ]
  },
  {
   "cell_type": "code",
   "execution_count": 121,
   "metadata": {},
   "outputs": [
    {
     "data": {
      "image/png": "[encoded data removed]",
      "text/latex": [
       "$$\\left [ \\left ( 0, \\quad 3\\right ), \\quad \\left ( 0, \\quad 2\\right ), \\quad \\left ( 5, \\quad 6\\right )\\right ]$$"
      ],
      "text/plain": [
       "[(0, 3), (0, 2), (5, 6)]"
      ]
     },
     "execution_count": 121,
     "metadata": {},
     "output_type": "execute_result"
    }
   ],
   "source": [
    "P.transpositions()"
   ]
  },
  {
   "cell_type": "code",
   "execution_count": 127,
   "metadata": {},
   "outputs": [
    {
     "data": {
      "image/png": "[encoded data removed]",
      "text/latex": [
       "$$\\left ( \\left\\{0, 1, 2, 3, 4, 5, 6\\right\\}, \\quad 7, \\quad \\left [ 2, \\quad 1, \\quad 1, \\quad 0, \\quad 0, \\quad 1\\right ], \\quad 5\\right )$$"
      ],
      "text/plain": [
       "({0, 1, 2, 3, 4, 5, 6}, 7, [2, 1, 1, 0, 0, 1], 5)"
      ]
     },
     "execution_count": 127,
     "metadata": {},
     "output_type": "execute_result"
    }
   ],
   "source": [
    "P.atoms(), P.size, P.inversion_vector(), P.inversions()"
   ]
  },
  {
   "cell_type": "code",
   "execution_count": 123,
   "metadata": {},
   "outputs": [
    {
     "data": {
      "image/png": "[encoded data removed]",
      "text/latex": [
       "$$\\left ( \\left [ 1, \\quad 3, \\quad 4\\right ], \\quad \\left [ 0, \\quad 2, \\quad 5\\right ]\\right )$$"
      ],
      "text/plain": [
       "([1, 3, 4], [0, 2, 5])"
      ]
     },
     "execution_count": 123,
     "metadata": {},
     "output_type": "execute_result"
    }
   ],
   "source": [
    "P.ascents(), P.descents()"
   ]
  },
  {
   "cell_type": "code",
   "execution_count": 124,
   "metadata": {},
   "outputs": [
    {
     "data": {
      "image/png": "[encoded data removed]",
      "text/latex": [
       "$$\\left[\\begin{matrix}0 & 0 & 0 & 0 & 1 & 0 & 0\\\\0 & 0 & 0 & 1 & 0 & 0 & 0\\\\0 & 1 & 0 & 0 & 0 & 0 & 0\\\\1 & 0 & 0 & 0 & 0 & 0 & 0\\\\0 & 0 & 0 & 0 & 0 & 0 & 1\\\\0 & 0 & 0 & 0 & 0 & 0 & 0\\\\0 & 0 & 0 & 0 & 0 & 1 & 0\\end{matrix}\\right]$$"
      ],
      "text/plain": [
       "Matrix([\n",
       "[0, 0, 0, 0, 1, 0, 0],\n",
       "[0, 0, 0, 1, 0, 0, 0],\n",
       "[0, 1, 0, 0, 0, 0, 0],\n",
       "[1, 0, 0, 0, 0, 0, 0],\n",
       "[0, 0, 0, 0, 0, 0, 1],\n",
       "[0, 0, 0, 0, 0, 0, 0],\n",
       "[0, 0, 0, 0, 0, 1, 0]])"
      ]
     },
     "execution_count": 124,
     "metadata": {},
     "output_type": "execute_result"
    }
   ],
   "source": [
    "P.get_adjacency_matrix()"
   ]
  },
  {
   "cell_type": "markdown",
   "metadata": {},
   "source": [
    "## 3. В формуле определителя n-ого порядка\n",
    "\n",
    "$\\large{\\displaystyle{| \\Delta | = \\sum_i (-1)^{t(j)} a_{1j_1}a_{2j_2}}...a_{nj_n}}$, где\n",
    "\n",
    "$\\{j_1, j_2, ..., j_n\\}$ - все возможные перестановки из чисел $\\{1, 2, ..., n\\}$;\n",
    "\n",
    "$t(j)$ - число инверсий для перехода от $\\{1, 2, ..., n\\}$ к $\\{j_1, j_2, ..., j_n\\}$. "
   ]
  },
  {
   "cell_type": "code",
   "execution_count": 140,
   "metadata": {},
   "outputs": [
    {
     "data": {
      "text/html": [
       "<script type=\"math/tex\">\\left(\\begin{array}{rr} a_{11} & a_{12} \\\\ a_{21} & a_{22} \\end{array}\\right)</script>"
      ],
      "text/plain": [
       "<script type=\"math/tex\">\\left(\\begin{array}{rr} a_{11} & a_{12} \\\\ a_{21} & a_{22} \\end{array}\\right)</script>"
      ]
     },
     "execution_count": 140,
     "metadata": {},
     "output_type": "execute_result"
    }
   ],
   "source": [
    "# sage\n",
    "aa = \" \".join(list('a_%d%d' %(i,j) for i in (1..2) for j in (1..2)))\n",
    "A = matrix(SR, 2, var(aa))\n",
    "html(A) "
   ]
  },
  {
   "cell_type": "code",
   "execution_count": 141,
   "metadata": {},
   "outputs": [
    {
     "data": {
      "text/plain": [
       "-a_12*a_21 + a_11*a_22"
      ]
     },
     "execution_count": 141,
     "metadata": {},
     "output_type": "execute_result"
    }
   ],
   "source": [
    "A.det()"
   ]
  },
  {
   "cell_type": "code",
   "execution_count": 142,
   "metadata": {},
   "outputs": [
    {
     "data": {
      "text/html": [
       "<script type=\"math/tex\">\\left(\\begin{array}{rrr} a_{11} & a_{12} & a_{13} \\\\ a_{21} & a_{22} & a_{23} \\\\ a_{31} & a_{32} & a_{33} \\end{array}\\right)</script>"
      ],
      "text/plain": [
       "<script type=\"math/tex\">\\left(\\begin{array}{rrr} a_{11} & a_{12} & a_{13} \\\\ a_{21} & a_{22} & a_{23} \\\\ a_{31} & a_{32} & a_{33} \\end{array}\\right)</script>"
      ]
     },
     "execution_count": 142,
     "metadata": {},
     "output_type": "execute_result"
    }
   ],
   "source": [
    "aa = \" \".join(list('a_%d%d' %(i,j) for i in (1..3) for j in (1..3)))\n",
    "A = matrix(SR, 3, var(aa))\n",
    "html(A)   "
   ]
  },
  {
   "cell_type": "code",
   "execution_count": 143,
   "metadata": {},
   "outputs": [
    {
     "data": {
      "text/plain": [
       "-a_13*a_22*a_31 + a_12*a_23*a_31 + a_13*a_21*a_32 - a_11*a_23*a_32 - a_12*a_21*a_33 + a_11*a_22*a_33"
      ]
     },
     "execution_count": 143,
     "metadata": {},
     "output_type": "execute_result"
    }
   ],
   "source": [
    "A.det().expand()"
   ]
  },
  {
   "cell_type": "code",
   "execution_count": 144,
   "metadata": {},
   "outputs": [
    {
     "data": {
      "text/html": [
       "<script type=\"math/tex\">\\left(\\begin{array}{rrrr} a_{11} & a_{12} & a_{13} & a_{14} \\\\ a_{21} & a_{22} & a_{23} & a_{24} \\\\ a_{31} & a_{32} & a_{33} & a_{34} \\\\ a_{41} & a_{42} & a_{43} & a_{44} \\end{array}\\right)</script>"
      ],
      "text/plain": [
       "<script type=\"math/tex\">\\left(\\begin{array}{rrrr} a_{11} & a_{12} & a_{13} & a_{14} \\\\ a_{21} & a_{22} & a_{23} & a_{24} \\\\ a_{31} & a_{32} & a_{33} & a_{34} \\\\ a_{41} & a_{42} & a_{43} & a_{44} \\end{array}\\right)</script>"
      ]
     },
     "execution_count": 144,
     "metadata": {},
     "output_type": "execute_result"
    }
   ],
   "source": [
    "aa = \" \".join(list('a_%d%d' %(i,j) for i in (1..4) for j in (1..4)))\n",
    "A = matrix(SR, 4, var(aa))\n",
    "html(A)"
   ]
  },
  {
   "cell_type": "code",
   "execution_count": 145,
   "metadata": {},
   "outputs": [
    {
     "data": {
      "text/plain": [
       "a_14*a_23*a_32*a_41 - a_13*a_24*a_32*a_41 - a_14*a_22*a_33*a_41 + a_12*a_24*a_33*a_41 + a_13*a_22*a_34*a_41 - a_12*a_23*a_34*a_41 - a_14*a_23*a_31*a_42 + a_13*a_24*a_31*a_42 + a_14*a_21*a_33*a_42 - a_11*a_24*a_33*a_42 - a_13*a_21*a_34*a_42 + a_11*a_23*a_34*a_42 + a_14*a_22*a_31*a_43 - a_12*a_24*a_31*a_43 - a_14*a_21*a_32*a_43 + a_11*a_24*a_32*a_43 + a_12*a_21*a_34*a_43 - a_11*a_22*a_34*a_43 - a_13*a_22*a_31*a_44 + a_12*a_23*a_31*a_44 + a_13*a_21*a_32*a_44 - a_11*a_23*a_32*a_44 - a_12*a_21*a_33*a_44 + a_11*a_22*a_33*a_44"
      ]
     },
     "execution_count": 145,
     "metadata": {},
     "output_type": "execute_result"
    }
   ],
   "source": [
    "A.det().expand()"
   ]
  },
  {
   "cell_type": "code",
   "execution_count": 148,
   "metadata": {},
   "outputs": [
    {
     "data": {
      "image/png": "[encoded data removed]",
      "text/latex": [
       "$$\\left ( \\left[\\begin{matrix}a_{11} & a_{12}\\\\a_{21} & a_{22}\\end{matrix}\\right], \\quad a_{11} a_{22} - a_{12} a_{21}\\right )$$"
      ],
      "text/plain": [
       "(Matrix([\n",
       " [a_11, a_12],\n",
       " [a_21, a_22]]), a_11*a_22 - a_12*a_21)"
      ]
     },
     "execution_count": 148,
     "metadata": {},
     "output_type": "execute_result"
    }
   ],
   "source": [
    "aa = \" \".join(list('a_%d%d' %(i,j) for i in (1..2) for j in (1..2)))\n",
    "aa = sympy.symbols(aa)\n",
    "A = sympy.Matrix(2,2,aa)\n",
    "A, A.det()"
   ]
  },
  {
   "cell_type": "code",
   "execution_count": 151,
   "metadata": {},
   "outputs": [
    {
     "data": {
      "image/png": "[encoded data removed]",
      "text/latex": [
       "$$\\left[\\begin{matrix}a_{11} & a_{12} & a_{13}\\\\a_{21} & a_{22} & a_{23}\\\\a_{31} & a_{32} & a_{33}\\end{matrix}\\right]$$"
      ],
      "text/plain": [
       "Matrix([\n",
       "[a_11, a_12, a_13],\n",
       "[a_21, a_22, a_23],\n",
       "[a_31, a_32, a_33]])"
      ]
     },
     "execution_count": 151,
     "metadata": {},
     "output_type": "execute_result"
    }
   ],
   "source": [
    "aa = \" \".join(list('a_%d%d' %(i,j) for i in (1..3) for j in (1..3)))\n",
    "aa = sympy.symbols(aa)\n",
    "A = sympy.Matrix(3,3,aa)\n",
    "A"
   ]
  },
  {
   "cell_type": "code",
   "execution_count": 152,
   "metadata": {},
   "outputs": [
    {
     "data": {
      "image/png": "[encoded data removed]",
      "text/latex": [
       "$$a_{11} a_{22} a_{33} - a_{11} a_{23} a_{32} - a_{12} a_{21} a_{33} + a_{12} a_{23} a_{31} + a_{13} a_{21} a_{32} - a_{13} a_{22} a_{31}$$"
      ],
      "text/plain": [
       "a_11*a_22*a_33 - a_11*a_23*a_32 - a_12*a_21*a_33 + a_12*a_23*a_31 + a_13*a_21*a_32 - a_13*a_22*a_31"
      ]
     },
     "execution_count": 152,
     "metadata": {},
     "output_type": "execute_result"
    }
   ],
   "source": [
    "A.det()"
   ]
  },
  {
   "cell_type": "code",
   "execution_count": 154,
   "metadata": {},
   "outputs": [
    {
     "data": {
      "image/png": "[encoded data removed]",
      "text/latex": [
       "$$\\left[\\begin{matrix}a_{11} & a_{12} & a_{13} & a_{14}\\\\a_{21} & a_{22} & a_{23} & a_{24}\\\\a_{31} & a_{32} & a_{33} & a_{34}\\\\a_{41} & a_{42} & a_{43} & a_{44}\\end{matrix}\\right]$$"
      ],
      "text/plain": [
       "Matrix([\n",
       "[a_11, a_12, a_13, a_14],\n",
       "[a_21, a_22, a_23, a_24],\n",
       "[a_31, a_32, a_33, a_34],\n",
       "[a_41, a_42, a_43, a_44]])"
      ]
     },
     "execution_count": 154,
     "metadata": {},
     "output_type": "execute_result"
    }
   ],
   "source": [
    "aa = \" \".join(list('a_%d%d' %(i,j) for i in (1..4) for j in (1..4)))\n",
    "aa = sympy.symbols(aa)\n",
    "A = sympy.Matrix(4,4,aa)\n",
    "A"
   ]
  },
  {
   "cell_type": "code",
   "execution_count": 160,
   "metadata": {},
   "outputs": [
    {
     "data": {
      "image/png": "[encoded data removed]",
      "text/latex": [
       "$$a_{11} a_{22} a_{33} a_{44} - a_{11} a_{22} a_{34} a_{43} - a_{11} a_{23} a_{32} a_{44} + a_{11} a_{23} a_{34} a_{42} + a_{11} a_{24} a_{32} a_{43} - a_{11} a_{24} a_{33} a_{42} - a_{12} a_{21} a_{33} a_{44} + a_{12} a_{21} a_{34} a_{43} + a_{12} a_{23} a_{31} a_{44} - a_{12} a_{23} a_{34} a_{41} - a_{12} a_{24} a_{31} a_{43} + a_{12} a_{24} a_{33} a_{41} + a_{13} a_{21} a_{32} a_{44} - a_{13} a_{21} a_{34} a_{42} - a_{13} a_{22} a_{31} a_{44} + a_{13} a_{22} a_{34} a_{41} + a_{13} a_{24} a_{31} a_{42} - a_{13} a_{24} a_{32} a_{41} - a_{14} a_{21} a_{32} a_{43} + a_{14} a_{21} a_{33} a_{42} + a_{14} a_{22} a_{31} a_{43} - a_{14} a_{22} a_{33} a_{41} - a_{14} a_{23} a_{31} a_{42} + a_{14} a_{23} a_{32} a_{41}$$"
      ],
      "text/plain": [
       "a_11*a_22*a_33*a_44 - a_11*a_22*a_34*a_43 - a_11*a_23*a_32*a_44 + a_11*a_23*a_34*a_42 + a_11*a_24*a_32*a_43 - a_11*a_24*a_33*a_42 - a_12*a_21*a_33*a_44 + a_12*a_21*a_34*a_43 + a_12*a_23*a_31*a_44 - a_12*a_23*a_34*a_41 - a_12*a_24*a_31*a_43 + a_12*a_24*a_33*a_41 + a_13*a_21*a_32*a_44 - a_13*a_21*a_34*a_42 - a_13*a_22*a_31*a_44 + a_13*a_22*a_34*a_41 + a_13*a_24*a_31*a_42 - a_13*a_24*a_32*a_41 - a_14*a_21*a_32*a_43 + a_14*a_21*a_33*a_42 + a_14*a_22*a_31*a_43 - a_14*a_22*a_33*a_41 - a_14*a_23*a_31*a_42 + a_14*a_23*a_32*a_41"
      ]
     },
     "execution_count": 160,
     "metadata": {},
     "output_type": "execute_result"
    }
   ],
   "source": [
    "A.det()"
   ]
  },
  {
   "cell_type": "markdown",
   "metadata": {},
   "source": [
    "# 4. Задание\n",
    "\n",
    "Представить подстановку в виде произведения циклов и транспозиций, \n",
    "\n",
    "найти инверсии в подстановке, используя SageMath, Numpy, SymPy, R.\n",
    "\n",
    "$\\tau = \\begin {cases}\n",
    "1 \\ 2 \\ 3 \\ 4 \\ 5 \\ 6 \\ 7 \\ 8 \\\\ \n",
    "3 \\ 5 \\ 4 \\ 1 \\ 2 \\ 8 \\ 6 \\ 7\n",
    "\\end{cases}$"
   ]
  }
 ],
 "metadata": {
  "kernelspec": {
   "display_name": "SageMath 8.4",
   "language": "",
   "name": "sagemath"
  },
  "language_info": {
   "codemirror_mode": {
    "name": "ipython",
    "version": 2
   },
   "file_extension": ".py",
   "mimetype": "text/x-python",
   "name": "python",
   "nbconvert_exporter": "python",
   "pygments_lexer": "ipython2",
   "version": "2.7.15"
  }
 },
 "nbformat": 4,
 "nbformat_minor": 2
}

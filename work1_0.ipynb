{
 "cells": [
  {
   "cell_type": "markdown",
   "metadata": {},
   "source": [
    "<h1 style=\"color: #3636ff;\">Линейная алгебра. Практическая работа №0</h1>\n",
    "\n",
    "### Программные средства\n",
    "\n",
    "[LaTeX. Mathematics](https://en.wikibooks.org/wiki/LaTeX/Mathematics)\n",
    "\n",
    "[Sage. Basic Algebra and Calculus](http://doc.sagemath.org/html/en/tutorial/tour_algebra.html)\n",
    "\n",
    "[Sympy. Iterables](https://docs.sympy.org/latest/modules/utilities/iterables.html)\n",
    "\n",
    "[Numpy. Quickstart tutorial](https://docs.scipy.org/doc/numpy/user/quickstart.html#linear-algebra)\n",
    "\n",
    "[R Tutorial](https://www.tutorialspoint.com/r/index.htm)"
   ]
  },
  {
   "cell_type": "markdown",
   "metadata": {},
   "source": [
    "### Конспекты лекций\n",
    "\n",
    "[АЛГЕБРА И ГЕОМЕТРИЯ ДЛЯ СТУДЕНТОВ-ФИЗИКОВ](http://math.phys.msu.ru/data/24/Algebra_and_geometry.pdf)\n",
    "\n",
    "[Computational Mathematics with SageMath](http://dl.lateralis.org/public/sagebook/sagebook-ba6596d.pdf)\n",
    "\n",
    "[Семинары по алгебре](https://www.mccme.ru/~yasinsky/teaching/)\n",
    "\n",
    "[Python Data Science Handbook by Jake VanderPlas](https://www.oreilly.com/library/view/python-data-science/9781491912126/ch04.html)"
   ]
  },
  {
   "cell_type": "markdown",
   "metadata": {},
   "source": [
    "# Подстановка (таблица перестановки элементов)\n",
    "## 1. Перестановки, размещения, сочетания"
   ]
  },
  {
   "cell_type": "code",
   "execution_count": 6,
   "metadata": {},
   "outputs": [
    {
     "name": "stdout",
     "output_type": "stream",
     "text": [
      "☜ || ☞ || ☝︎ || ☟\n",
      "☜ || ☞ || ☟ || ☝︎\n",
      "☜ || ☝︎ || ☞ || ☟\n",
      "☜ || ☝︎ || ☟ || ☞\n",
      "☜ || ☟ || ☞ || ☝︎\n",
      "☜ || ☟ || ☝︎ || ☞\n",
      "☞ || ☜ || ☝︎ || ☟\n",
      "☞ || ☜ || ☟ || ☝︎\n",
      "☞ || ☝︎ || ☜ || ☟\n",
      "☞ || ☝︎ || ☟ || ☜\n",
      "☞ || ☟ || ☜ || ☝︎\n",
      "☞ || ☟ || ☝︎ || ☜\n",
      "☝︎ || ☜ || ☞ || ☟\n",
      "☝︎ || ☜ || ☟ || ☞\n",
      "☝︎ || ☞ || ☜ || ☟\n",
      "☝︎ || ☞ || ☟ || ☜\n",
      "☝︎ || ☟ || ☜ || ☞\n",
      "☝︎ || ☟ || ☞ || ☜\n",
      "☟ || ☜ || ☞ || ☝︎\n",
      "☟ || ☜ || ☝︎ || ☞\n",
      "☟ || ☞ || ☜ || ☝︎\n",
      "☟ || ☞ || ☝︎ || ☜\n",
      "☟ || ☝︎ || ☜ || ☞\n",
      "☟ || ☝︎ || ☞ || ☜\n"
     ]
    },
    {
     "data": {
      "text/plain": [
       "True"
      ]
     },
     "execution_count": 6,
     "metadata": {},
     "output_type": "execute_result"
    }
   ],
   "source": [
    "# sage\n",
    "S=[\"☜\",\"☞\",\"☝︎\",\"☟\"]\n",
    "S=Arrangements(S,4).list()\n",
    "for i in range(len(S)):\n",
    "    print(ascii_art(S[i][0],S[i][1],\n",
    "                    S[i][2],S[i][3],\n",
    "                    sep=' || '))\n",
    "len(S)==factorial(4)"
   ]
  },
  {
   "cell_type": "code",
   "execution_count": 8,
   "metadata": {},
   "outputs": [
    {
     "name": "stdout",
     "output_type": "stream",
     "text": [
      "🍊 |*| 🍋 |*| 🍎\n",
      "🍊 |*| 🍋 |*| 🍐\n",
      "🍊 |*| 🍋 |*| 🍑\n",
      "🍊 |*| 🍎 |*| 🍋\n",
      "🍊 |*| 🍎 |*| 🍐\n",
      "🍊 |*| 🍎 |*| 🍑\n",
      "🍊 |*| 🍐 |*| 🍋\n",
      "🍊 |*| 🍐 |*| 🍎\n",
      "🍊 |*| 🍐 |*| 🍑\n",
      "🍊 |*| 🍑 |*| 🍋\n",
      "🍊 |*| 🍑 |*| 🍎\n",
      "🍊 |*| 🍑 |*| 🍐\n",
      "🍋 |*| 🍊 |*| 🍎\n",
      "🍋 |*| 🍊 |*| 🍐\n",
      "🍋 |*| 🍊 |*| 🍑\n",
      "🍋 |*| 🍎 |*| 🍊\n",
      "🍋 |*| 🍎 |*| 🍐\n",
      "🍋 |*| 🍎 |*| 🍑\n",
      "🍋 |*| 🍐 |*| 🍊\n",
      "🍋 |*| 🍐 |*| 🍎\n",
      "🍋 |*| 🍐 |*| 🍑\n",
      "🍋 |*| 🍑 |*| 🍊\n",
      "🍋 |*| 🍑 |*| 🍎\n",
      "🍋 |*| 🍑 |*| 🍐\n",
      "🍎 |*| 🍊 |*| 🍋\n",
      "🍎 |*| 🍊 |*| 🍐\n",
      "🍎 |*| 🍊 |*| 🍑\n",
      "🍎 |*| 🍋 |*| 🍊\n",
      "🍎 |*| 🍋 |*| 🍐\n",
      "🍎 |*| 🍋 |*| 🍑\n",
      "🍎 |*| 🍐 |*| 🍊\n",
      "🍎 |*| 🍐 |*| 🍋\n",
      "🍎 |*| 🍐 |*| 🍑\n",
      "🍎 |*| 🍑 |*| 🍊\n",
      "🍎 |*| 🍑 |*| 🍋\n",
      "🍎 |*| 🍑 |*| 🍐\n",
      "🍐 |*| 🍊 |*| 🍋\n",
      "🍐 |*| 🍊 |*| 🍎\n",
      "🍐 |*| 🍊 |*| 🍑\n",
      "🍐 |*| 🍋 |*| 🍊\n",
      "🍐 |*| 🍋 |*| 🍎\n",
      "🍐 |*| 🍋 |*| 🍑\n",
      "🍐 |*| 🍎 |*| 🍊\n",
      "🍐 |*| 🍎 |*| 🍋\n",
      "🍐 |*| 🍎 |*| 🍑\n",
      "🍐 |*| 🍑 |*| 🍊\n",
      "🍐 |*| 🍑 |*| 🍋\n",
      "🍐 |*| 🍑 |*| 🍎\n",
      "🍑 |*| 🍊 |*| 🍋\n",
      "🍑 |*| 🍊 |*| 🍎\n",
      "🍑 |*| 🍊 |*| 🍐\n",
      "🍑 |*| 🍋 |*| 🍊\n",
      "🍑 |*| 🍋 |*| 🍎\n",
      "🍑 |*| 🍋 |*| 🍐\n",
      "🍑 |*| 🍎 |*| 🍊\n",
      "🍑 |*| 🍎 |*| 🍋\n",
      "🍑 |*| 🍎 |*| 🍐\n",
      "🍑 |*| 🍐 |*| 🍊\n",
      "🍑 |*| 🍐 |*| 🍋\n",
      "🍑 |*| 🍐 |*| 🍎\n"
     ]
    },
    {
     "data": {
      "text/plain": [
       "True"
      ]
     },
     "execution_count": 8,
     "metadata": {},
     "output_type": "execute_result"
    }
   ],
   "source": [
    "S=[\"🍊\",\"🍋\",\"🍎\",\"🍐\",\"🍑\"]\n",
    "S=Arrangements(S,3).list() \n",
    "for i in range(len(S)):\n",
    "    print(ascii_art(S[i][0],S[i][1],\n",
    "                    S[i][2],\n",
    "                    sep=' |*| '))\n",
    "len(S)==factorial(5)/factorial(5-3)"
   ]
  },
  {
   "cell_type": "code",
   "execution_count": 10,
   "metadata": {},
   "outputs": [
    {
     "name": "stdout",
     "output_type": "stream",
     "text": [
      "♔ || ♕ || ♖\n",
      "♔ || ♕ || ♗\n",
      "♔ || ♕ || ♘\n",
      "♔ || ♕ || ♙\n",
      "♔ || ♖ || ♗\n",
      "♔ || ♖ || ♘\n",
      "♔ || ♖ || ♙\n",
      "♔ || ♗ || ♘\n",
      "♔ || ♗ || ♙\n",
      "♔ || ♘ || ♙\n",
      "♕ || ♖ || ♗\n",
      "♕ || ♖ || ♘\n",
      "♕ || ♖ || ♙\n",
      "♕ || ♗ || ♘\n",
      "♕ || ♗ || ♙\n",
      "♕ || ♘ || ♙\n",
      "♖ || ♗ || ♘\n",
      "♖ || ♗ || ♙\n",
      "♖ || ♘ || ♙\n",
      "♗ || ♘ || ♙\n"
     ]
    },
    {
     "data": {
      "text/plain": [
       "True"
      ]
     },
     "execution_count": 10,
     "metadata": {},
     "output_type": "execute_result"
    }
   ],
   "source": [
    "S=[\"♔\",\"♕\",\"♖\",\"♗\",\"♘\",\"♙\"]\n",
    "S=Combinations(S,3).list()\n",
    "for i in range(len(S)):\n",
    "    print(ascii_art(S[i][0],S[i][1],\n",
    "                    S[i][2], sep=' || '))\n",
    "len(S)==factorial(6)/(factorial(6-3)*factorial(3))"
   ]
  },
  {
   "cell_type": "code",
   "execution_count": 12,
   "metadata": {},
   "outputs": [
    {
     "name": "stdout",
     "output_type": "stream",
     "text": [
      "[ ☜, ☝︎, ☞, ☟ ]\n",
      "[ ☜, ☝︎, ☟, ☞ ]\n",
      "[ ☜, ☞, ☝︎, ☟ ]\n",
      "[ ☜, ☞, ☟, ☝︎ ]\n",
      "[ ☜, ☟, ☝︎, ☞ ]\n",
      "[ ☜, ☟, ☞, ☝︎ ]\n",
      "[ ☝︎, ☜, ☞, ☟ ]\n",
      "[ ☝︎, ☜, ☟, ☞ ]\n",
      "[ ☝︎, ☞, ☜, ☟ ]\n",
      "[ ☝︎, ☞, ☟, ☜ ]\n",
      "[ ☝︎, ☟, ☜, ☞ ]\n",
      "[ ☝︎, ☟, ☞, ☜ ]\n",
      "[ ☞, ☜, ☝︎, ☟ ]\n",
      "[ ☞, ☜, ☟, ☝︎ ]\n",
      "[ ☞, ☝︎, ☜, ☟ ]\n",
      "[ ☞, ☝︎, ☟, ☜ ]\n",
      "[ ☞, ☟, ☜, ☝︎ ]\n",
      "[ ☞, ☟, ☝︎, ☜ ]\n",
      "[ ☟, ☜, ☝︎, ☞ ]\n",
      "[ ☟, ☜, ☞, ☝︎ ]\n",
      "[ ☟, ☝︎, ☜, ☞ ]\n",
      "[ ☟, ☝︎, ☞, ☜ ]\n",
      "[ ☟, ☞, ☜, ☝︎ ]\n",
      "[ ☟, ☞, ☝︎, ☜ ]\n"
     ]
    },
    {
     "data": {
      "text/plain": [
       "True"
      ]
     },
     "execution_count": 12,
     "metadata": {},
     "output_type": "execute_result"
    }
   ],
   "source": [
    "# python sympy module\n",
    "import sympy\n",
    "sympy.init_printing(use_unicode=True)\n",
    "C=0; S=[\"☜\",\"☞\",\"☝︎\",\"☟\"]\n",
    "S=sympy.utilities.iterables.multiset_permutations(S)\n",
    "for s in S: print(ascii_art(s)); C +=1\n",
    "C==sympy.factorial(4)"
   ]
  },
  {
   "cell_type": "code",
   "execution_count": 13,
   "metadata": {},
   "outputs": [
    {
     "name": "stdout",
     "output_type": "stream",
     "text": [
      "[ 🍊, 🍋, 🍎 ]\n",
      "[ 🍊, 🍋, 🍐 ]\n",
      "[ 🍊, 🍋, 🍑 ]\n",
      "[ 🍊, 🍎, 🍋 ]\n",
      "[ 🍊, 🍎, 🍐 ]\n",
      "[ 🍊, 🍎, 🍑 ]\n",
      "[ 🍊, 🍐, 🍋 ]\n",
      "[ 🍊, 🍐, 🍎 ]\n",
      "[ 🍊, 🍐, 🍑 ]\n",
      "[ 🍊, 🍑, 🍋 ]\n",
      "[ 🍊, 🍑, 🍎 ]\n",
      "[ 🍊, 🍑, 🍐 ]\n",
      "[ 🍋, 🍊, 🍎 ]\n",
      "[ 🍋, 🍊, 🍐 ]\n",
      "[ 🍋, 🍊, 🍑 ]\n",
      "[ 🍋, 🍎, 🍊 ]\n",
      "[ 🍋, 🍎, 🍐 ]\n",
      "[ 🍋, 🍎, 🍑 ]\n",
      "[ 🍋, 🍐, 🍊 ]\n",
      "[ 🍋, 🍐, 🍎 ]\n",
      "[ 🍋, 🍐, 🍑 ]\n",
      "[ 🍋, 🍑, 🍊 ]\n",
      "[ 🍋, 🍑, 🍎 ]\n",
      "[ 🍋, 🍑, 🍐 ]\n",
      "[ 🍎, 🍊, 🍋 ]\n",
      "[ 🍎, 🍊, 🍐 ]\n",
      "[ 🍎, 🍊, 🍑 ]\n",
      "[ 🍎, 🍋, 🍊 ]\n",
      "[ 🍎, 🍋, 🍐 ]\n",
      "[ 🍎, 🍋, 🍑 ]\n",
      "[ 🍎, 🍐, 🍊 ]\n",
      "[ 🍎, 🍐, 🍋 ]\n",
      "[ 🍎, 🍐, 🍑 ]\n",
      "[ 🍎, 🍑, 🍊 ]\n",
      "[ 🍎, 🍑, 🍋 ]\n",
      "[ 🍎, 🍑, 🍐 ]\n",
      "[ 🍐, 🍊, 🍋 ]\n",
      "[ 🍐, 🍊, 🍎 ]\n",
      "[ 🍐, 🍊, 🍑 ]\n",
      "[ 🍐, 🍋, 🍊 ]\n",
      "[ 🍐, 🍋, 🍎 ]\n",
      "[ 🍐, 🍋, 🍑 ]\n",
      "[ 🍐, 🍎, 🍊 ]\n",
      "[ 🍐, 🍎, 🍋 ]\n",
      "[ 🍐, 🍎, 🍑 ]\n",
      "[ 🍐, 🍑, 🍊 ]\n",
      "[ 🍐, 🍑, 🍋 ]\n",
      "[ 🍐, 🍑, 🍎 ]\n",
      "[ 🍑, 🍊, 🍋 ]\n",
      "[ 🍑, 🍊, 🍎 ]\n",
      "[ 🍑, 🍊, 🍐 ]\n",
      "[ 🍑, 🍋, 🍊 ]\n",
      "[ 🍑, 🍋, 🍎 ]\n",
      "[ 🍑, 🍋, 🍐 ]\n",
      "[ 🍑, 🍎, 🍊 ]\n",
      "[ 🍑, 🍎, 🍋 ]\n",
      "[ 🍑, 🍎, 🍐 ]\n",
      "[ 🍑, 🍐, 🍊 ]\n",
      "[ 🍑, 🍐, 🍋 ]\n",
      "[ 🍑, 🍐, 🍎 ]\n"
     ]
    },
    {
     "data": {
      "text/plain": [
       "True"
      ]
     },
     "execution_count": 13,
     "metadata": {},
     "output_type": "execute_result"
    }
   ],
   "source": [
    "C=0; S=[\"🍊\",\"🍋\",\"🍎\",\"🍐\",\"🍑\"]\n",
    "S=sympy.utilities.iterables.multiset_permutations(S,3)\n",
    "for s in S: print(ascii_art(s)); C +=1\n",
    "C==sympy.factorial(5)/sympy.factorial(5-3)"
   ]
  },
  {
   "cell_type": "code",
   "execution_count": 14,
   "metadata": {
    "scrolled": false
   },
   "outputs": [
    {
     "name": "stdout",
     "output_type": "stream",
     "text": [
      "[ ♔, ♕, ♖ ]\n",
      "[ ♔, ♕, ♗ ]\n",
      "[ ♔, ♕, ♘ ]\n",
      "[ ♔, ♕, ♙ ]\n",
      "[ ♔, ♖, ♗ ]\n",
      "[ ♔, ♖, ♘ ]\n",
      "[ ♔, ♖, ♙ ]\n",
      "[ ♔, ♗, ♘ ]\n",
      "[ ♔, ♗, ♙ ]\n",
      "[ ♔, ♘, ♙ ]\n",
      "[ ♕, ♖, ♗ ]\n",
      "[ ♕, ♖, ♘ ]\n",
      "[ ♕, ♖, ♙ ]\n",
      "[ ♕, ♗, ♘ ]\n",
      "[ ♕, ♗, ♙ ]\n",
      "[ ♕, ♘, ♙ ]\n",
      "[ ♖, ♗, ♘ ]\n",
      "[ ♖, ♗, ♙ ]\n",
      "[ ♖, ♘, ♙ ]\n",
      "[ ♗, ♘, ♙ ]\n"
     ]
    },
    {
     "data": {
      "text/plain": [
       "True"
      ]
     },
     "execution_count": 14,
     "metadata": {},
     "output_type": "execute_result"
    }
   ],
   "source": [
    "C=0; S=[\"♔\",\"♕\",\"♖\",\"♗\",\"♘\",\"♙\"]\n",
    "S=sympy.utilities.iterables.multiset_combinations(S,3)\n",
    "for s in S: print(ascii_art(s)); C +=1\n",
    "C==sympy.factorial(6)/(sympy.factorial(6-3)*sympy.factorial(3))"
   ]
  },
  {
   "cell_type": "code",
   "execution_count": 15,
   "metadata": {},
   "outputs": [
    {
     "name": "stdout",
     "output_type": "stream",
     "text": [
      "( ☜, ☞, ☝︎, ☟ )\n",
      "( ☜, ☞, ☟, ☝︎ )\n",
      "( ☜, ☝︎, ☞, ☟ )\n",
      "( ☜, ☝︎, ☟, ☞ )\n",
      "( ☜, ☟, ☞, ☝︎ )\n",
      "( ☜, ☟, ☝︎, ☞ )\n",
      "( ☞, ☜, ☝︎, ☟ )\n",
      "( ☞, ☜, ☟, ☝︎ )\n",
      "( ☞, ☝︎, ☜, ☟ )\n",
      "( ☞, ☝︎, ☟, ☜ )\n",
      "( ☞, ☟, ☜, ☝︎ )\n",
      "( ☞, ☟, ☝︎, ☜ )\n",
      "( ☝︎, ☜, ☞, ☟ )\n",
      "( ☝︎, ☜, ☟, ☞ )\n",
      "( ☝︎, ☞, ☜, ☟ )\n",
      "( ☝︎, ☞, ☟, ☜ )\n",
      "( ☝︎, ☟, ☜, ☞ )\n",
      "( ☝︎, ☟, ☞, ☜ )\n",
      "( ☟, ☜, ☞, ☝︎ )\n",
      "( ☟, ☜, ☝︎, ☞ )\n",
      "( ☟, ☞, ☜, ☝︎ )\n",
      "( ☟, ☞, ☝︎, ☜ )\n",
      "( ☟, ☝︎, ☜, ☞ )\n",
      "( ☟, ☝︎, ☞, ☜ )\n"
     ]
    },
    {
     "data": {
      "text/plain": [
       "True"
      ]
     },
     "execution_count": 15,
     "metadata": {},
     "output_type": "execute_result"
    }
   ],
   "source": [
    "# python itertools, numpy modules\n",
    "import itertools,numpy\n",
    "C=0; S=[\"☜\",\"☞\",\"☝︎\",\"☟\"]\n",
    "S=itertools.permutations(S,4)\n",
    "for s in S: print(ascii_art(s)); C+=1\n",
    "C==numpy.math.factorial(4)  "
   ]
  },
  {
   "cell_type": "code",
   "execution_count": 17,
   "metadata": {},
   "outputs": [
    {
     "name": "stdout",
     "output_type": "stream",
     "text": [
      "( 🍊, 🍋, 🍎 )\n",
      "( 🍊, 🍋, 🍐 )\n",
      "( 🍊, 🍋, 🍑 )\n",
      "( 🍊, 🍎, 🍋 )\n",
      "( 🍊, 🍎, 🍐 )\n",
      "( 🍊, 🍎, 🍑 )\n",
      "( 🍊, 🍐, 🍋 )\n",
      "( 🍊, 🍐, 🍎 )\n",
      "( 🍊, 🍐, 🍑 )\n",
      "( 🍊, 🍑, 🍋 )\n",
      "( 🍊, 🍑, 🍎 )\n",
      "( 🍊, 🍑, 🍐 )\n",
      "( 🍋, 🍊, 🍎 )\n",
      "( 🍋, 🍊, 🍐 )\n",
      "( 🍋, 🍊, 🍑 )\n",
      "( 🍋, 🍎, 🍊 )\n",
      "( 🍋, 🍎, 🍐 )\n",
      "( 🍋, 🍎, 🍑 )\n",
      "( 🍋, 🍐, 🍊 )\n",
      "( 🍋, 🍐, 🍎 )\n",
      "( 🍋, 🍐, 🍑 )\n",
      "( 🍋, 🍑, 🍊 )\n",
      "( 🍋, 🍑, 🍎 )\n",
      "( 🍋, 🍑, 🍐 )\n",
      "( 🍎, 🍊, 🍋 )\n",
      "( 🍎, 🍊, 🍐 )\n",
      "( 🍎, 🍊, 🍑 )\n",
      "( 🍎, 🍋, 🍊 )\n",
      "( 🍎, 🍋, 🍐 )\n",
      "( 🍎, 🍋, 🍑 )\n",
      "( 🍎, 🍐, 🍊 )\n",
      "( 🍎, 🍐, 🍋 )\n",
      "( 🍎, 🍐, 🍑 )\n",
      "( 🍎, 🍑, 🍊 )\n",
      "( 🍎, 🍑, 🍋 )\n",
      "( 🍎, 🍑, 🍐 )\n",
      "( 🍐, 🍊, 🍋 )\n",
      "( 🍐, 🍊, 🍎 )\n",
      "( 🍐, 🍊, 🍑 )\n",
      "( 🍐, 🍋, 🍊 )\n",
      "( 🍐, 🍋, 🍎 )\n",
      "( 🍐, 🍋, 🍑 )\n",
      "( 🍐, 🍎, 🍊 )\n",
      "( 🍐, 🍎, 🍋 )\n",
      "( 🍐, 🍎, 🍑 )\n",
      "( 🍐, 🍑, 🍊 )\n",
      "( 🍐, 🍑, 🍋 )\n",
      "( 🍐, 🍑, 🍎 )\n",
      "( 🍑, 🍊, 🍋 )\n",
      "( 🍑, 🍊, 🍎 )\n",
      "( 🍑, 🍊, 🍐 )\n",
      "( 🍑, 🍋, 🍊 )\n",
      "( 🍑, 🍋, 🍎 )\n",
      "( 🍑, 🍋, 🍐 )\n",
      "( 🍑, 🍎, 🍊 )\n",
      "( 🍑, 🍎, 🍋 )\n",
      "( 🍑, 🍎, 🍐 )\n",
      "( 🍑, 🍐, 🍊 )\n",
      "( 🍑, 🍐, 🍋 )\n",
      "( 🍑, 🍐, 🍎 )\n"
     ]
    },
    {
     "data": {
      "text/plain": [
       "True"
      ]
     },
     "execution_count": 17,
     "metadata": {},
     "output_type": "execute_result"
    }
   ],
   "source": [
    "C=0; S=[\"🍊\",\"🍋\",\"🍎\",\"🍐\",\"🍑\"]\n",
    "S=itertools.permutations(S,3)\n",
    "for s in S: print(ascii_art(s)); C+=1\n",
    "C==numpy.math.factorial(5)/numpy.math.factorial(5-3)"
   ]
  },
  {
   "cell_type": "code",
   "execution_count": 19,
   "metadata": {},
   "outputs": [
    {
     "name": "stdout",
     "output_type": "stream",
     "text": [
      "( ♔, ♕, ♖ )\n",
      "( ♔, ♕, ♗ )\n",
      "( ♔, ♕, ♘ )\n",
      "( ♔, ♕, ♙ )\n",
      "( ♔, ♖, ♗ )\n",
      "( ♔, ♖, ♘ )\n",
      "( ♔, ♖, ♙ )\n",
      "( ♔, ♗, ♘ )\n",
      "( ♔, ♗, ♙ )\n",
      "( ♔, ♘, ♙ )\n",
      "( ♕, ♖, ♗ )\n",
      "( ♕, ♖, ♘ )\n",
      "( ♕, ♖, ♙ )\n",
      "( ♕, ♗, ♘ )\n",
      "( ♕, ♗, ♙ )\n",
      "( ♕, ♘, ♙ )\n",
      "( ♖, ♗, ♘ )\n",
      "( ♖, ♗, ♙ )\n",
      "( ♖, ♘, ♙ )\n",
      "( ♗, ♘, ♙ )\n"
     ]
    },
    {
     "data": {
      "text/plain": [
       "True"
      ]
     },
     "execution_count": 19,
     "metadata": {},
     "output_type": "execute_result"
    }
   ],
   "source": [
    "C=0; S=[\"♔\",\"♕\",\"♖\",\"♗\",\"♘\",\"♙\"]\n",
    "S=itertools.combinations(S,3)\n",
    "for s in S: print(ascii_art(s)); C+=1\n",
    "C==numpy.math.factorial(6)/\\\n",
    "   (numpy.math.factorial(6-3)*numpy.math.factorial(3))"
   ]
  },
  {
   "cell_type": "code",
   "execution_count": 22,
   "metadata": {},
   "outputs": [
    {
     "name": "stdout",
     "output_type": "stream",
     "text": [
      "[1] TRUE\n",
      " [1] \"☞☜☟☝︎\" \"☝︎☜☞☟\" \"☜☝︎☞☟\" \"☝︎☞☜☟\" \"☝︎☟☜☞\" \"☟☞☝︎☜\" \"☞☟☝︎☜\" \"☝︎☞☟☜\" \"☞☜☝︎☟\" \"☟☜☝︎☞\"\n",
      "[11] \"☝︎☟☞☜\" \"☟☝︎☜☞\" \"☟☜☞☝︎\" \"☜☞☟☝︎\" \"☜☝︎☟☞\" \"☜☞☝︎☟\" \"☟☞☜☝︎\" \"☞☝︎☜☟\" \"☟☝︎☞☜\" \"☞☟☜☝︎\"\n",
      "[21] \"☜☟☝︎☞\" \"☝︎☜☟☞\" \"☞☝︎☟☜\" \"☜☟☞☝︎\"\n"
     ]
    }
   ],
   "source": [
    "%%r\n",
    "elements<-c(\"☜\",\"☞\",\"☝︎\",\"☟\")\n",
    "n<-length(elements)\n",
    "S<-unique(t(sapply(1:10^3,\n",
    "                   function(x) sample(elements,n)))) \n",
    "S<-apply(S,1,function(x) paste0(x,collapse=\"\"))\n",
    "print(length(S)==factorial(4)); S"
   ]
  },
  {
   "cell_type": "code",
   "execution_count": 30,
   "metadata": {},
   "outputs": [
    {
     "name": "stdout",
     "output_type": "stream",
     "text": [
      "🍊🍐🍑 🍋🍑🍎 🍊🍎🍐 🍐🍊🍋 🍑🍎🍋 🍎🍐🍊 🍊🍎🍑 🍊🍋🍎 🍑🍋🍐 🍋🍊🍐 \n",
      "🍑🍊🍐 🍊🍐🍋 🍎🍋🍊 🍐🍊🍎 🍎🍊🍑 🍑🍐🍊 🍐🍑🍋 🍊🍑🍐 🍐🍊🍑 🍎🍋🍐 \n",
      "🍎🍋🍑 🍎🍐🍑 🍊🍐🍎 🍑🍐🍋 🍎🍑🍐 🍐🍑🍊 🍎🍊🍐 🍊🍑🍋 🍊🍑🍎 🍋🍑🍊 \n",
      "🍐🍋🍊 🍋🍑🍐 🍑🍋🍊 🍊🍎🍋 🍐🍎🍊 🍎🍊🍋 🍑🍊🍎 🍑🍎🍊 🍋🍐🍊 🍎🍑🍋 \n",
      "🍑🍐🍎 🍋🍐🍎 🍑🍎🍐 🍑🍊🍋 🍊🍋🍑 🍐🍑🍎 🍐🍋🍑 🍋🍎🍑 🍑🍋🍎 🍐🍎🍑 \n",
      "🍋🍊🍎 🍋🍎🍐 🍎🍑🍊 🍐🍋🍎 🍋🍊🍑 🍊🍋🍐 🍋🍎🍊 🍋🍐🍑 🍐🍎🍋 🍎🍐🍋 \n",
      "[1] TRUE\n"
     ]
    }
   ],
   "source": [
    "%%r\n",
    "elements<-c(\"🍊\",\"🍋\",\"🍎\",\"🍐\",\"🍑\"); \n",
    "S<-unique(t(sapply(1:10^3,\n",
    "           function(x) sample(elements,3)))) \n",
    "S<-apply(S,1,function(x) paste0(x,collapse=\"\"))\n",
    "for (i in c(1:6)){\n",
    "    cat(paste(S[(10*i-9):(10*i)],collapse=\" \"),\"\\n\")}\n",
    "length(S)==factorial(5)/factorial(5-3)"
   ]
  },
  {
   "cell_type": "code",
   "execution_count": 31,
   "metadata": {},
   "outputs": [
    {
     "name": "stdout",
     "output_type": "stream",
     "text": [
      "♔♕♖ ♔♕♗ ♔♕♘ ♔♕♙ ♔♖♗ ♔♖♘ ♔♖♙ \n",
      "♔♗♘ ♔♗♙ ♔♘♙ ♕♖♗ ♕♖♘ ♕♖♙ ♕♗♘ \n",
      "♕♗♙ ♕♘♙ ♖♗♘ ♖♗♙ ♖♘♙ ♗♘♙ NA \n",
      "[1] TRUE TRUE\n"
     ]
    }
   ],
   "source": [
    "%%r\n",
    "elements<-c(\"♔\",\"♕\",\"♖\",\"♗\",\"♘\",\"♙\")\n",
    "S<-t(combn(elements,3)) \n",
    "S<-apply(S,1,function(x) paste0(x,collapse=\"\"))\n",
    "for (i in c(1,2,3)){\n",
    "    cat(paste(S[(7*i-6):(7*i)],collapse=\" \"),\"\\n\")}\n",
    "c(length(S)==factorial(6)/(factorial(6-3)*factorial(3)),\n",
    "  length(S)==choose(6,3))"
   ]
  },
  {
   "cell_type": "markdown",
   "metadata": {},
   "source": [
    "## 2. Свойства перестановок\n",
    "Пример для конечного множества элементов\n",
    "\n",
    "$\\{a_1 a_2 a_3 a_4 a_5 a_6 a_7\\} \\to \\{a_3 a_2 a_4 a_1 a_5 a_7 a_6\\} \\\\\n",
    "\\tau = \\begin {cases}\n",
    "1 \\ 2 \\ 3 \\ 4 \\ 5 \\ 6 \\ 7 \\\\ \n",
    "3 \\ 2 \\ 4 \\ 1 \\ 5 \\ 7 \\ 6 \n",
    "\\end{cases}$\n",
    "\n",
    "Тождественная перестановка\n",
    "\n",
    "$ e = \n",
    "\\begin {cases}\n",
    "1 \\ 2 \\ 3 \\ 4 \\ 5 \\ 6 \\ 7 \\\\ \n",
    "1 \\ 2 \\ 3 \\ 4 \\ 5 \\ 6 \\ 7\n",
    "\\end{cases}$\n",
    "\n",
    "$\\tau \\circ e = e \\circ \\tau = \\tau \\\\\n",
    "\\tau \\circ \\tau ^{-1} = \\tau ^ {-1} \\circ \\tau = e \\\\\n",
    "\\tau_1 \\circ (\\tau_2 \\circ \\tau_3) = (\\tau_1 \\circ \\tau_2) \\circ \\tau_3$\n",
    "\n",
    "В общем случае\n",
    "\n",
    "$\\tau_1 \\circ \\tau_2 \\neq \\tau_2 \\circ \\tau_1$\n",
    "\n",
    "Цикл\n",
    "\n",
    "$\\{a_1 a_2 a_3 a_4 a_5 a_6 a_7\\} \\to \\{a_2 a_3 a_4 a_5 a_6 a_7 a_1\\} \\\\\n",
    "\\tau = \\begin {cases}\n",
    "1 \\ 2 \\ 3 \\ 4 \\ 5 \\ 6 \\ 7 \\\\ \n",
    "2 \\ 3 \\ 4 \\ 5 \\ 6 \\ 7 \\ 1 \n",
    "\\end{cases}$\n",
    "\n",
    "Любая перестановка - произведение циклов.\n",
    "\n",
    "Транспозиция\n",
    "\n",
    "$\\{a_1 a_2 a_3 a_4 a_5 a_6 a_7\\} \\to \\{a_2 a_1 a_3 a_4 a_5 a_6 a_7\\} \\\\\n",
    "\\tau = \\begin {cases}\n",
    "1 \\ 2 \\ 3 \\ 4 \\ 5 \\ 6 \\ 7 \\\\ \n",
    "2 \\ 1 \\ 3 \\ 4 \\ 5 \\ 6 \\ 7  \n",
    "\\end{cases}$\n",
    "\n",
    "Любой цикл - произведение транспозиций. $\\implies$ Любая перестановка - произведение транспозиций.\n",
    "\n",
    "Инверсии в подстановке\n",
    "\n",
    "$\\tau = \\begin {cases}\n",
    "1 \\ 2 \\ 3 \\ 4 \\ 5 \\ 6 \\ 7 \\\\ \n",
    "3 \\ 2 \\ 4 \\ 1 \\ 5 \\ 7 \\ 6 \n",
    "\\end{cases} \\\\\n",
    "(2,1), (3,1), (4,1), \\\\ (3,2), \\\\ (7,6)$\n",
    "\n",
    "Четность подстановки определяется числом инверсий."
   ]
  },
  {
   "cell_type": "code",
   "execution_count": 32,
   "metadata": {},
   "outputs": [
    {
     "name": "stdout",
     "output_type": "stream",
     "text": [
      "Cycles in P: \n",
      "[(1, 3, 4), (2,), (5,), (6, 7)]\n",
      "Product of P cycles: \n",
      "[3, 2, 4, 1, 5, 7, 6]\n",
      "Inversions in P: \n",
      "[(1, 2), (1, 4), (2, 4), (3, 4), (6, 7)]\n",
      "Even? \n",
      "[5, False]\n",
      "P matrix: \n",
      "[0 0 0 1 0 0 0]\n",
      "[0 1 0 0 0 0 0]\n",
      "[1 0 0 0 0 0 0]\n",
      "[0 0 1 0 0 0 0]\n",
      "[0 0 0 0 1 0 0]\n",
      "[0 0 0 0 0 0 1]\n",
      "[0 0 0 0 0 1 0]\n"
     ]
    }
   ],
   "source": [
    "# sage\n",
    "X=[3,2,4,1,5,7,6]; P=Permutation(X)\n",
    "X1,X2=[3,2,4,1,5,6,7],[1,2,3,4,5,7,6]\n",
    "ST=['Cycles in P: ',P.to_cycles(),\n",
    "    'Product of P cycles: ',\n",
    "    Permutation(X1)*Permutation(X2),\n",
    "    'Inversions in P: ',P.inversions(),\n",
    "    'Even? ',[P.number_of_inversions(),\n",
    "              P.is_even()],\n",
    "    'P matrix: ',P.to_matrix()]\n",
    "for st in ST: print(st)"
   ]
  },
  {
   "cell_type": "code",
   "execution_count": 33,
   "metadata": {},
   "outputs": [
    {
     "name": "stdout",
     "output_type": "stream",
     "text": [
      "Permutation indices: \n",
      "[[2, 1, 3, 0, 4, 6, 5], [2, 1, 3, 0, 4, 6, 5]]\n",
      "set([0, 1, 2, 3, 4, 5, 6])\n",
      "7\n",
      "[[1, 3, 4], [0, 2, 5]]\n",
      "Cycles in P: \n",
      "[[0, 2, 3], [5, 6]]\n",
      "[[0, 2, 3], [1], [4], [5, 6]]\n",
      "Product of cycles == P\n",
      "True\n",
      "Transpositions in P: \n",
      "[(0, 3), (0, 2), (5, 6)]\n",
      "Inversions in P: \n",
      "[[2, 1, 1, 0, 0, 1], 5]\n",
      "Adjacency matrix: \n"
     ]
    },
    {
     "data": {
      "image/png": "[encoded data removed]",
      "text/latex": [
       "$\\displaystyle \\left[\\begin{matrix}0 & 0 & 0 & 0 & 1 & 0 & 0\\\\0 & 0 & 0 & 1 & 0 & 0 & 0\\\\0 & 1 & 0 & 0 & 0 & 0 & 0\\\\1 & 0 & 0 & 0 & 0 & 0 & 0\\\\0 & 0 & 0 & 0 & 0 & 0 & 1\\\\0 & 0 & 0 & 0 & 0 & 0 & 0\\\\0 & 0 & 0 & 0 & 0 & 1 & 0\\end{matrix}\\right]$"
      ],
      "text/plain": [
       "Matrix([\n",
       "[0, 0, 0, 0, 1, 0, 0],\n",
       "[0, 0, 0, 1, 0, 0, 0],\n",
       "[0, 1, 0, 0, 0, 0, 0],\n",
       "[1, 0, 0, 0, 0, 0, 0],\n",
       "[0, 0, 0, 0, 0, 0, 1],\n",
       "[0, 0, 0, 0, 0, 0, 0],\n",
       "[0, 0, 0, 0, 0, 1, 0]])"
      ]
     },
     "execution_count": 33,
     "metadata": {},
     "output_type": "execute_result"
    }
   ],
   "source": [
    "# sympy\n",
    "from sympy.combinatorics import permutations\n",
    "X=[3,2,4,1,5,7,6]\n",
    "X1,X2=[2,1,3,0,4,5,6],[0,1,2,3,4,6,5]\n",
    "P=permutations.Permutation([x-1 for x in X])\n",
    "ST=['Permutation indices: ',\n",
    "    [P.list(),P.array_form],P.atoms(),\n",
    "    P.size,[P.ascents(),P.descents()],\n",
    "    'Cycles in P: ',\n",
    "    P.cyclic_form,P.full_cyclic_form,\n",
    "    'Product of cycles == P',\n",
    "    permutations.Permutation(X1)*\\\n",
    "    permutations.Permutation(X2)==P,\n",
    "    'Transpositions in P: ',\n",
    "    P.transpositions(),\n",
    "    'Inversions in P: ',\n",
    "    [P.inversion_vector(), P.inversions()],\n",
    "    'Adjacency matrix: ']\n",
    "for st in ST: print(st)\n",
    "P.get_adjacency_matrix()"
   ]
  },
  {
   "cell_type": "code",
   "execution_count": 34,
   "metadata": {},
   "outputs": [
    {
     "name": "stdout",
     "output_type": "stream",
     "text": [
      "[[1]]\n",
      "7 x 7 sparse Matrix of class \"pMatrix\"\n",
      "                  \n",
      "[1,] . . | . . . .\n",
      "[2,] . | . . . . .\n",
      "[3,] . . . | . . .\n",
      "[4,] | . . . . . .\n",
      "[5,] . . . . | . .\n",
      "[6,] . . . . . . |\n",
      "[7,] . . . . . | .\n",
      "\n",
      "[[2]]\n",
      "[1] \"3 2 4 1 5 7 6\"\n",
      "\n",
      "[[3]]\n",
      "7 x 7 sparse Matrix of class \"pMatrix\"\n",
      "                  \n",
      "[1,] . . . | . . .\n",
      "[2,] . | . . . . .\n",
      "[3,] | . . . . . .\n",
      "[4,] . . | . . . .\n",
      "[5,] . . . . | . .\n",
      "[6,] . . . . . . |\n",
      "[7,] . . . . . | .\n",
      "\n",
      "[[4]]\n",
      "[1] -1\n"
     ]
    }
   ],
   "source": [
    "%%r\n",
    "library(Matrix)\n",
    "p<-c(3,2,4,1,5,7,6); P<-as(p,\"pMatrix\")\n",
    "c(P,paste(P@perm,collapse=\" \"),\n",
    "  t(P),determinant(P)$sign)"
   ]
  },
  {
   "cell_type": "markdown",
   "metadata": {},
   "source": [
    "## 3. В формуле определителя n-ого порядка\n",
    "\n",
    "$\\large{\\displaystyle{| \\Delta | = \\sum_i (-1)^{t(j)} a_{1j_1}a_{2j_2}}...a_{nj_n}}$, где\n",
    "\n",
    "$\\{j_1, j_2, ..., j_n\\}$ - все возможные перестановки из чисел $\\{1, 2, ..., n\\}$;\n",
    "\n",
    "$t(j)$ - число инверсий для перехода от $\\{1, 2, ..., n\\}$ к $\\{j_1, j_2, ..., j_n\\}$. "
   ]
  },
  {
   "cell_type": "code",
   "execution_count": 36,
   "metadata": {},
   "outputs": [
    {
     "data": {
      "text/html": [
       "<html><script type=\"math/tex; mode=display\">\\newcommand{\\Bold}[1]{\\mathbf{#1}}\\left(\\begin{array}{r}\n",
       "a_{11}\n",
       "\\end{array}\\right)</script></html>"
      ],
      "text/plain": [
       "[a_11]"
      ]
     },
     "metadata": {},
     "output_type": "display_data"
    },
    {
     "data": {
      "text/html": [
       "<html><script type=\"math/tex; mode=display\">\\newcommand{\\Bold}[1]{\\mathbf{#1}}a_{11}</script></html>"
      ],
      "text/plain": [
       "a_11"
      ]
     },
     "metadata": {},
     "output_type": "display_data"
    },
    {
     "data": {
      "text/html": [
       "<html><script type=\"math/tex; mode=display\">\\newcommand{\\Bold}[1]{\\mathbf{#1}}\\left(\\begin{array}{rr}\n",
       "a_{11} & a_{12} \\\\\n",
       "a_{21} & a_{22}\n",
       "\\end{array}\\right)</script></html>"
      ],
      "text/plain": [
       "[a_11 a_12]\n",
       "[a_21 a_22]"
      ]
     },
     "metadata": {},
     "output_type": "display_data"
    },
    {
     "data": {
      "text/html": [
       "<html><script type=\"math/tex; mode=display\">\\newcommand{\\Bold}[1]{\\mathbf{#1}}-a_{12} a_{21} + a_{11} a_{22}</script></html>"
      ],
      "text/plain": [
       "-a_12*a_21 + a_11*a_22"
      ]
     },
     "metadata": {},
     "output_type": "display_data"
    },
    {
     "data": {
      "text/html": [
       "<html><script type=\"math/tex; mode=display\">\\newcommand{\\Bold}[1]{\\mathbf{#1}}\\left(\\begin{array}{rrr}\n",
       "a_{11} & a_{12} & a_{13} \\\\\n",
       "a_{21} & a_{22} & a_{23} \\\\\n",
       "a_{31} & a_{32} & a_{33}\n",
       "\\end{array}\\right)</script></html>"
      ],
      "text/plain": [
       "[a_11 a_12 a_13]\n",
       "[a_21 a_22 a_23]\n",
       "[a_31 a_32 a_33]"
      ]
     },
     "metadata": {},
     "output_type": "display_data"
    },
    {
     "data": {
      "text/html": [
       "<html><script type=\"math/tex; mode=display\">\\newcommand{\\Bold}[1]{\\mathbf{#1}}-{\\left(a_{23} a_{32} - a_{22} a_{33}\\right)} a_{11} + {\\left(a_{13} a_{32} - a_{12} a_{33}\\right)} a_{21} - {\\left(a_{13} a_{22} - a_{12} a_{23}\\right)} a_{31}</script></html>"
      ],
      "text/plain": [
       "-(a_23*a_32 - a_22*a_33)*a_11 + (a_13*a_32 - a_12*a_33)*a_21 - (a_13*a_22 - a_12*a_23)*a_31"
      ]
     },
     "metadata": {},
     "output_type": "display_data"
    },
    {
     "data": {
      "text/html": [
       "<html><script type=\"math/tex; mode=display\">\\newcommand{\\Bold}[1]{\\mathbf{#1}}\\left(\\begin{array}{rrrr}\n",
       "a_{11} & a_{12} & a_{13} & a_{14} \\\\\n",
       "a_{21} & a_{22} & a_{23} & a_{24} \\\\\n",
       "a_{31} & a_{32} & a_{33} & a_{34} \\\\\n",
       "a_{41} & a_{42} & a_{43} & a_{44}\n",
       "\\end{array}\\right)</script></html>"
      ],
      "text/plain": [
       "[a_11 a_12 a_13 a_14]\n",
       "[a_21 a_22 a_23 a_24]\n",
       "[a_31 a_32 a_33 a_34]\n",
       "[a_41 a_42 a_43 a_44]"
      ]
     },
     "metadata": {},
     "output_type": "display_data"
    },
    {
     "data": {
      "text/html": [
       "<html><script type=\"math/tex; mode=display\">\\newcommand{\\Bold}[1]{\\mathbf{#1}}a_{14} a_{23} a_{32} a_{41} - a_{13} a_{24} a_{32} a_{41} - a_{14} a_{22} a_{33} a_{41} + a_{12} a_{24} a_{33} a_{41} + a_{13} a_{22} a_{34} a_{41} - a_{12} a_{23} a_{34} a_{41} - a_{14} a_{23} a_{31} a_{42} + a_{13} a_{24} a_{31} a_{42} + a_{14} a_{21} a_{33} a_{42} - a_{11} a_{24} a_{33} a_{42} - a_{13} a_{21} a_{34} a_{42} + a_{11} a_{23} a_{34} a_{42} + a_{14} a_{22} a_{31} a_{43} - a_{12} a_{24} a_{31} a_{43} - a_{14} a_{21} a_{32} a_{43} + a_{11} a_{24} a_{32} a_{43} + a_{12} a_{21} a_{34} a_{43} - a_{11} a_{22} a_{34} a_{43} - a_{13} a_{22} a_{31} a_{44} + a_{12} a_{23} a_{31} a_{44} + a_{13} a_{21} a_{32} a_{44} - a_{11} a_{23} a_{32} a_{44} - a_{12} a_{21} a_{33} a_{44} + a_{11} a_{22} a_{33} a_{44}</script></html>"
      ],
      "text/plain": [
       "a_14*a_23*a_32*a_41 - a_13*a_24*a_32*a_41 - a_14*a_22*a_33*a_41 + a_12*a_24*a_33*a_41 + a_13*a_22*a_34*a_41 - a_12*a_23*a_34*a_41 - a_14*a_23*a_31*a_42 + a_13*a_24*a_31*a_42 + a_14*a_21*a_33*a_42 - a_11*a_24*a_33*a_42 - a_13*a_21*a_34*a_42 + a_11*a_23*a_34*a_42 + a_14*a_22*a_31*a_43 - a_12*a_24*a_31*a_43 - a_14*a_21*a_32*a_43 + a_11*a_24*a_32*a_43 + a_12*a_21*a_34*a_43 - a_11*a_22*a_34*a_43 - a_13*a_22*a_31*a_44 + a_12*a_23*a_31*a_44 + a_13*a_21*a_32*a_44 - a_11*a_23*a_32*a_44 - a_12*a_21*a_33*a_44 + a_11*a_22*a_33*a_44"
      ]
     },
     "metadata": {},
     "output_type": "display_data"
    }
   ],
   "source": [
    "# sage\n",
    "for n in [1..4]:\n",
    "    aa=\" \".join(['a_%d%d' %(i,j) \n",
    "                 for i in [1..n] for j in [1..n]])\n",
    "    A=matrix(SR,n,var(aa))\n",
    "    pretty_print(A); pretty_print(A.det()) "
   ]
  },
  {
   "cell_type": "code",
   "execution_count": 41,
   "metadata": {},
   "outputs": [
    {
     "name": "stdout",
     "output_type": "stream",
     "text": [
      "⎡a₁₁  a₁₂  a₁₃  a₁₄⎤\n",
      "⎢                  ⎥\n",
      "⎢a₂₁  a₂₂  a₂₃  a₂₄⎥\n",
      "⎢                  ⎥\n",
      "⎢a₃₁  a₃₂  a₃₃  a₃₄⎥\n",
      "⎢                  ⎥\n",
      "⎣a₄₁  a₄₂  a₄₃  a₄₄⎦\n"
     ]
    },
    {
     "data": {
      "image/png": "[encoded data removed]",
      "text/latex": [
       "$\\displaystyle a_{11} a_{22} a_{33} a_{44} - a_{11} a_{22} a_{34} a_{43} - a_{11} a_{23} a_{32} a_{44} + a_{11} a_{23} a_{34} a_{42} + a_{11} a_{24} a_{32} a_{43} - a_{11} a_{24} a_{33} a_{42} - a_{12} a_{21} a_{33} a_{44} + a_{12} a_{21} a_{34} a_{43} + a_{12} a_{23} a_{31} a_{44} - a_{12} a_{23} a_{34} a_{41} - a_{12} a_{24} a_{31} a_{43} + a_{12} a_{24} a_{33} a_{41} + a_{13} a_{21} a_{32} a_{44} - a_{13} a_{21} a_{34} a_{42} - a_{13} a_{22} a_{31} a_{44} + a_{13} a_{22} a_{34} a_{41} + a_{13} a_{24} a_{31} a_{42} - a_{13} a_{24} a_{32} a_{41} - a_{14} a_{21} a_{32} a_{43} + a_{14} a_{21} a_{33} a_{42} + a_{14} a_{22} a_{31} a_{43} - a_{14} a_{22} a_{33} a_{41} - a_{14} a_{23} a_{31} a_{42} + a_{14} a_{23} a_{32} a_{41}$"
      ],
      "text/plain": [
       "a_11*a_22*a_33*a_44 - a_11*a_22*a_34*a_43 - a_11*a_23*a_32*a_44 + a_11*a_23*a_34*a_42 + a_11*a_24*a_32*a_43 - a_11*a_24*a_33*a_42 - a_12*a_21*a_33*a_44 + a_12*a_21*a_34*a_43 + a_12*a_23*a_31*a_44 - a_12*a_23*a_34*a_41 - a_12*a_24*a_31*a_43 + a_12*a_24*a_33*a_41 + a_13*a_21*a_32*a_44 - a_13*a_21*a_34*a_42 - a_13*a_22*a_31*a_44 + a_13*a_22*a_34*a_41 + a_13*a_24*a_31*a_42 - a_13*a_24*a_32*a_41 - a_14*a_21*a_32*a_43 + a_14*a_21*a_33*a_42 + a_14*a_22*a_31*a_43 - a_14*a_22*a_33*a_41 - a_14*a_23*a_31*a_42 + a_14*a_23*a_32*a_41"
      ]
     },
     "execution_count": 41,
     "metadata": {},
     "output_type": "execute_result"
    }
   ],
   "source": [
    "# sympy\n",
    "import sympy; n=4\n",
    "sympy.init_printing(use_unicode=True)\n",
    "aa=['a_%d%d' %(i,j) \n",
    "    for i in (1..n) for j in (1..n)]\n",
    "aa=sympy.symbols(\" \".join(aa))\n",
    "A=sympy.Matrix(int(n),int(n),aa)\n",
    "sympy.pprint(A); A.det()"
   ]
  },
  {
   "cell_type": "markdown",
   "metadata": {},
   "source": [
    "# 4. Задание\n",
    "\n",
    "Представить подстановку в виде произведения циклов и транспозиций, \n",
    "\n",
    "найти инверсии в подстановке, используя SageMath, Numpy, SymPy, R.\n",
    "\n",
    "$\\tau = \\begin {cases}\n",
    "1 \\ 2 \\ 3 \\ 4 \\ 5 \\ 6 \\ 7 \\ 8 \\\\ \n",
    "3 \\ 5 \\ 4 \\ 1 \\ 2 \\ 8 \\ 6 \\ 7\n",
    "\\end{cases}$"
   ]
  }
 ],
 "metadata": {
  "kernelspec": {
   "display_name": "SageMath 8.8",
   "language": "sage",
   "name": "sagemath"
  },
  "language_info": {
   "codemirror_mode": {
    "name": "ipython",
    "version": 2
   },
   "file_extension": ".py",
   "mimetype": "text/x-python",
   "name": "python",
   "nbconvert_exporter": "python",
   "pygments_lexer": "ipython2",
   "version": "2.7.15"
  }
 },
 "nbformat": 4,
 "nbformat_minor": 2
}

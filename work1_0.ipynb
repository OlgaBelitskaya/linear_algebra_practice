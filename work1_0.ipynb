{
 "cells": [
  {
   "cell_type": "markdown",
   "metadata": {},
   "source": [
    "<h1 style=\"color: #3636ff;\">Линейная алгебра. Практическая работа №0</h1>\n",
    "\n",
    "### Программные средства\n",
    "\n",
    "[LaTeX. Mathematics](https://en.wikibooks.org/wiki/LaTeX/Mathematics)\n",
    "\n",
    "[Sage. Basic Algebra and Calculus](http://doc.sagemath.org/html/en/tutorial/tour_algebra.html)\n",
    "\n",
    "[Sympy. Iterables](https://docs.sympy.org/latest/modules/utilities/iterables.html)\n",
    "\n",
    "[Numpy. Quickstart tutorial](https://docs.scipy.org/doc/numpy/user/quickstart.html#linear-algebra)\n",
    "\n",
    "[R Tutorial](https://www.tutorialspoint.com/r/index.htm)"
   ]
  },
  {
   "cell_type": "markdown",
   "metadata": {},
   "source": [
    "### Конспекты лекций\n",
    "\n",
    "[АЛГЕБРА И ГЕОМЕТРИЯ ДЛЯ СТУДЕНТОВ-ФИЗИКОВ](http://math.phys.msu.ru/data/24/Algebra_and_geometry.pdf)\n",
    "\n",
    "[Computational Mathematics with SageMath](http://dl.lateralis.org/public/sagebook/sagebook-ba6596d.pdf)\n",
    "\n",
    "[Семинары по алгебре](https://www.mccme.ru/~yasinsky/teaching/)\n",
    "\n",
    "[Python Data Science Handbook by Jake VanderPlas](https://www.oreilly.com/library/view/python-data-science/9781491912126/ch04.html)"
   ]
  },
  {
   "cell_type": "markdown",
   "metadata": {},
   "source": [
    "# Подстановка (таблица перестановки элементов)\n",
    "## 1. Перестановки, размещения, сочетания"
   ]
  },
  {
   "cell_type": "code",
   "execution_count": 77,
   "metadata": {},
   "outputs": [
    {
     "name": "stdout",
     "output_type": "stream",
     "text": [
      "☜ || ☞ || ☝︎ || ☟\n",
      "☜ || ☞ || ☟ || ☝︎\n",
      "☜ || ☝︎ || ☞ || ☟\n",
      "☜ || ☝︎ || ☟ || ☞\n",
      "☜ || ☟ || ☞ || ☝︎\n",
      "☜ || ☟ || ☝︎ || ☞\n",
      "☞ || ☜ || ☝︎ || ☟\n",
      "☞ || ☜ || ☟ || ☝︎\n",
      "☞ || ☝︎ || ☜ || ☟\n",
      "☞ || ☝︎ || ☟ || ☜\n",
      "☞ || ☟ || ☜ || ☝︎\n",
      "☞ || ☟ || ☝︎ || ☜\n",
      "☝︎ || ☜ || ☞ || ☟\n",
      "☝︎ || ☜ || ☟ || ☞\n",
      "☝︎ || ☞ || ☜ || ☟\n",
      "☝︎ || ☞ || ☟ || ☜\n",
      "☝︎ || ☟ || ☜ || ☞\n",
      "☝︎ || ☟ || ☞ || ☜\n",
      "☟ || ☜ || ☞ || ☝︎\n",
      "☟ || ☜ || ☝︎ || ☞\n",
      "☟ || ☞ || ☜ || ☝︎\n",
      "☟ || ☞ || ☝︎ || ☜\n",
      "☟ || ☝︎ || ☜ || ☞\n",
      "☟ || ☝︎ || ☞ || ☜\n"
     ]
    }
   ],
   "source": [
    "S = Arrangements([\"☜\",\"☞\",\"☝︎\",\"☟\"],4).list()\n",
    "for i in range(len(S)):\n",
    "    print(ascii_art(S[i][0],S[i][1],S[i][2],S[i][3], sep=' || '))"
   ]
  },
  {
   "cell_type": "code",
   "execution_count": 73,
   "metadata": {},
   "outputs": [
    {
     "data": {
      "text/plain": [
       "True"
      ]
     },
     "execution_count": 73,
     "metadata": {},
     "output_type": "execute_result"
    }
   ],
   "source": [
    "len(S) == factorial(4)"
   ]
  },
  {
   "cell_type": "code",
   "execution_count": 80,
   "metadata": {},
   "outputs": [
    {
     "name": "stdout",
     "output_type": "stream",
     "text": [
      "🍊 || 🍋 || 🍎\n",
      "🍊 || 🍋 || 🍐\n",
      "🍊 || 🍋 || 🍑\n",
      "🍊 || 🍎 || 🍋\n",
      "🍊 || 🍎 || 🍐\n",
      "🍊 || 🍎 || 🍑\n",
      "🍊 || 🍐 || 🍋\n",
      "🍊 || 🍐 || 🍎\n",
      "🍊 || 🍐 || 🍑\n",
      "🍊 || 🍑 || 🍋\n",
      "🍊 || 🍑 || 🍎\n",
      "🍊 || 🍑 || 🍐\n",
      "🍋 || 🍊 || 🍎\n",
      "🍋 || 🍊 || 🍐\n",
      "🍋 || 🍊 || 🍑\n",
      "🍋 || 🍎 || 🍊\n",
      "🍋 || 🍎 || 🍐\n",
      "🍋 || 🍎 || 🍑\n",
      "🍋 || 🍐 || 🍊\n",
      "🍋 || 🍐 || 🍎\n",
      "🍋 || 🍐 || 🍑\n",
      "🍋 || 🍑 || 🍊\n",
      "🍋 || 🍑 || 🍎\n",
      "🍋 || 🍑 || 🍐\n",
      "🍎 || 🍊 || 🍋\n",
      "🍎 || 🍊 || 🍐\n",
      "🍎 || 🍊 || 🍑\n",
      "🍎 || 🍋 || 🍊\n",
      "🍎 || 🍋 || 🍐\n",
      "🍎 || 🍋 || 🍑\n",
      "🍎 || 🍐 || 🍊\n",
      "🍎 || 🍐 || 🍋\n",
      "🍎 || 🍐 || 🍑\n",
      "🍎 || 🍑 || 🍊\n",
      "🍎 || 🍑 || 🍋\n",
      "🍎 || 🍑 || 🍐\n",
      "🍐 || 🍊 || 🍋\n",
      "🍐 || 🍊 || 🍎\n",
      "🍐 || 🍊 || 🍑\n",
      "🍐 || 🍋 || 🍊\n",
      "🍐 || 🍋 || 🍎\n",
      "🍐 || 🍋 || 🍑\n",
      "🍐 || 🍎 || 🍊\n",
      "🍐 || 🍎 || 🍋\n",
      "🍐 || 🍎 || 🍑\n",
      "🍐 || 🍑 || 🍊\n",
      "🍐 || 🍑 || 🍋\n",
      "🍐 || 🍑 || 🍎\n",
      "🍑 || 🍊 || 🍋\n",
      "🍑 || 🍊 || 🍎\n",
      "🍑 || 🍊 || 🍐\n",
      "🍑 || 🍋 || 🍊\n",
      "🍑 || 🍋 || 🍎\n",
      "🍑 || 🍋 || 🍐\n",
      "🍑 || 🍎 || 🍊\n",
      "🍑 || 🍎 || 🍋\n",
      "🍑 || 🍎 || 🍐\n",
      "🍑 || 🍐 || 🍊\n",
      "🍑 || 🍐 || 🍋\n",
      "🍑 || 🍐 || 🍎\n"
     ]
    }
   ],
   "source": [
    "S = Arrangements([\"🍊\",\"🍋\",\"🍎\",\"🍐\",\"🍑\"],3).list()\n",
    "for i in range(len(S)):\n",
    "    print(ascii_art(S[i][0],S[i][1],S[i][2], sep=' || '))"
   ]
  },
  {
   "cell_type": "code",
   "execution_count": 75,
   "metadata": {},
   "outputs": [
    {
     "data": {
      "text/plain": [
       "True"
      ]
     },
     "execution_count": 75,
     "metadata": {},
     "output_type": "execute_result"
    }
   ],
   "source": [
    "len(S) == factorial(5)/factorial(5-3)"
   ]
  },
  {
   "cell_type": "code",
   "execution_count": 78,
   "metadata": {},
   "outputs": [
    {
     "name": "stdout",
     "output_type": "stream",
     "text": [
      "♔ || ♕ || ♖\n",
      "♔ || ♕ || ♗\n",
      "♔ || ♕ || ♘\n",
      "♔ || ♕ || ♙\n",
      "♔ || ♖ || ♗\n",
      "♔ || ♖ || ♘\n",
      "♔ || ♖ || ♙\n",
      "♔ || ♗ || ♘\n",
      "♔ || ♗ || ♙\n",
      "♔ || ♘ || ♙\n",
      "♕ || ♖ || ♗\n",
      "♕ || ♖ || ♘\n",
      "♕ || ♖ || ♙\n",
      "♕ || ♗ || ♘\n",
      "♕ || ♗ || ♙\n",
      "♕ || ♘ || ♙\n",
      "♖ || ♗ || ♘\n",
      "♖ || ♗ || ♙\n",
      "♖ || ♘ || ♙\n",
      "♗ || ♘ || ♙\n"
     ]
    }
   ],
   "source": [
    "S = Combinations([\"♔\",\"♕\",\"♖\",\"♗\",\"♘\",\"♙\"],3).list()\n",
    "for i in range(len(S)):\n",
    "    print(ascii_art(S[i][0],S[i][1],S[i][2], sep=' || '))"
   ]
  },
  {
   "cell_type": "code",
   "execution_count": 79,
   "metadata": {},
   "outputs": [
    {
     "data": {
      "text/plain": [
       "True"
      ]
     },
     "execution_count": 79,
     "metadata": {},
     "output_type": "execute_result"
    }
   ],
   "source": [
    "len(S) == factorial(6)/(factorial(6-3)*factorial(3))"
   ]
  },
  {
   "cell_type": "code",
   "execution_count": 96,
   "metadata": {},
   "outputs": [
    {
     "name": "stdout",
     "output_type": "stream",
     "text": [
      "[ ☜, ☝︎, ☞, ☟ ]\n",
      "[ ☜, ☝︎, ☟, ☞ ]\n",
      "[ ☜, ☞, ☝︎, ☟ ]\n",
      "[ ☜, ☞, ☟, ☝︎ ]\n",
      "[ ☜, ☟, ☝︎, ☞ ]\n",
      "[ ☜, ☟, ☞, ☝︎ ]\n",
      "[ ☝︎, ☜, ☞, ☟ ]\n",
      "[ ☝︎, ☜, ☟, ☞ ]\n",
      "[ ☝︎, ☞, ☜, ☟ ]\n",
      "[ ☝︎, ☞, ☟, ☜ ]\n",
      "[ ☝︎, ☟, ☜, ☞ ]\n",
      "[ ☝︎, ☟, ☞, ☜ ]\n",
      "[ ☞, ☜, ☝︎, ☟ ]\n",
      "[ ☞, ☜, ☟, ☝︎ ]\n",
      "[ ☞, ☝︎, ☜, ☟ ]\n",
      "[ ☞, ☝︎, ☟, ☜ ]\n",
      "[ ☞, ☟, ☜, ☝︎ ]\n",
      "[ ☞, ☟, ☝︎, ☜ ]\n",
      "[ ☟, ☜, ☝︎, ☞ ]\n",
      "[ ☟, ☜, ☞, ☝︎ ]\n",
      "[ ☟, ☝︎, ☜, ☞ ]\n",
      "[ ☟, ☝︎, ☞, ☜ ]\n",
      "[ ☟, ☞, ☜, ☝︎ ]\n",
      "[ ☟, ☞, ☝︎, ☜ ]\n"
     ]
    }
   ],
   "source": [
    "import sympy\n",
    "S = sympy.utilities.iterables.multiset_permutations([\"☜\",\"☞\",\"☝︎\",\"☟\"])\n",
    "C = 0\n",
    "for s in S:\n",
    "    print(ascii_art(s))\n",
    "    C +=1"
   ]
  },
  {
   "cell_type": "code",
   "execution_count": 97,
   "metadata": {},
   "outputs": [
    {
     "data": {
      "text/plain": [
       "True"
      ]
     },
     "execution_count": 97,
     "metadata": {},
     "output_type": "execute_result"
    }
   ],
   "source": [
    "C == sympy.factorial(4)"
   ]
  },
  {
   "cell_type": "code",
   "execution_count": 98,
   "metadata": {},
   "outputs": [
    {
     "name": "stdout",
     "output_type": "stream",
     "text": [
      "[ 🍊, 🍋, 🍎 ]\n",
      "[ 🍊, 🍋, 🍐 ]\n",
      "[ 🍊, 🍋, 🍑 ]\n",
      "[ 🍊, 🍎, 🍋 ]\n",
      "[ 🍊, 🍎, 🍐 ]\n",
      "[ 🍊, 🍎, 🍑 ]\n",
      "[ 🍊, 🍐, 🍋 ]\n",
      "[ 🍊, 🍐, 🍎 ]\n",
      "[ 🍊, 🍐, 🍑 ]\n",
      "[ 🍊, 🍑, 🍋 ]\n",
      "[ 🍊, 🍑, 🍎 ]\n",
      "[ 🍊, 🍑, 🍐 ]\n",
      "[ 🍋, 🍊, 🍎 ]\n",
      "[ 🍋, 🍊, 🍐 ]\n",
      "[ 🍋, 🍊, 🍑 ]\n",
      "[ 🍋, 🍎, 🍊 ]\n",
      "[ 🍋, 🍎, 🍐 ]\n",
      "[ 🍋, 🍎, 🍑 ]\n",
      "[ 🍋, 🍐, 🍊 ]\n",
      "[ 🍋, 🍐, 🍎 ]\n",
      "[ 🍋, 🍐, 🍑 ]\n",
      "[ 🍋, 🍑, 🍊 ]\n",
      "[ 🍋, 🍑, 🍎 ]\n",
      "[ 🍋, 🍑, 🍐 ]\n",
      "[ 🍎, 🍊, 🍋 ]\n",
      "[ 🍎, 🍊, 🍐 ]\n",
      "[ 🍎, 🍊, 🍑 ]\n",
      "[ 🍎, 🍋, 🍊 ]\n",
      "[ 🍎, 🍋, 🍐 ]\n",
      "[ 🍎, 🍋, 🍑 ]\n",
      "[ 🍎, 🍐, 🍊 ]\n",
      "[ 🍎, 🍐, 🍋 ]\n",
      "[ 🍎, 🍐, 🍑 ]\n",
      "[ 🍎, 🍑, 🍊 ]\n",
      "[ 🍎, 🍑, 🍋 ]\n",
      "[ 🍎, 🍑, 🍐 ]\n",
      "[ 🍐, 🍊, 🍋 ]\n",
      "[ 🍐, 🍊, 🍎 ]\n",
      "[ 🍐, 🍊, 🍑 ]\n",
      "[ 🍐, 🍋, 🍊 ]\n",
      "[ 🍐, 🍋, 🍎 ]\n",
      "[ 🍐, 🍋, 🍑 ]\n",
      "[ 🍐, 🍎, 🍊 ]\n",
      "[ 🍐, 🍎, 🍋 ]\n",
      "[ 🍐, 🍎, 🍑 ]\n",
      "[ 🍐, 🍑, 🍊 ]\n",
      "[ 🍐, 🍑, 🍋 ]\n",
      "[ 🍐, 🍑, 🍎 ]\n",
      "[ 🍑, 🍊, 🍋 ]\n",
      "[ 🍑, 🍊, 🍎 ]\n",
      "[ 🍑, 🍊, 🍐 ]\n",
      "[ 🍑, 🍋, 🍊 ]\n",
      "[ 🍑, 🍋, 🍎 ]\n",
      "[ 🍑, 🍋, 🍐 ]\n",
      "[ 🍑, 🍎, 🍊 ]\n",
      "[ 🍑, 🍎, 🍋 ]\n",
      "[ 🍑, 🍎, 🍐 ]\n",
      "[ 🍑, 🍐, 🍊 ]\n",
      "[ 🍑, 🍐, 🍋 ]\n",
      "[ 🍑, 🍐, 🍎 ]\n"
     ]
    }
   ],
   "source": [
    "S = sympy.utilities.iterables.multiset_permutations([\"🍊\",\"🍋\",\"🍎\",\"🍐\",\"🍑\"], 3)\n",
    "C = 0\n",
    "for s in S:\n",
    "    print(ascii_art(s))\n",
    "    C +=1"
   ]
  },
  {
   "cell_type": "code",
   "execution_count": 99,
   "metadata": {},
   "outputs": [
    {
     "data": {
      "text/plain": [
       "True"
      ]
     },
     "execution_count": 99,
     "metadata": {},
     "output_type": "execute_result"
    }
   ],
   "source": [
    "C == factorial(5)/factorial(5-3)"
   ]
  },
  {
   "cell_type": "code",
   "execution_count": 106,
   "metadata": {
    "scrolled": false
   },
   "outputs": [
    {
     "name": "stdout",
     "output_type": "stream",
     "text": [
      "[ ♔, ♕, ♖ ]\n",
      "[ ♔, ♕, ♗ ]\n",
      "[ ♔, ♕, ♘ ]\n",
      "[ ♔, ♕, ♙ ]\n",
      "[ ♔, ♖, ♗ ]\n",
      "[ ♔, ♖, ♘ ]\n",
      "[ ♔, ♖, ♙ ]\n",
      "[ ♔, ♗, ♘ ]\n",
      "[ ♔, ♗, ♙ ]\n",
      "[ ♔, ♘, ♙ ]\n",
      "[ ♕, ♖, ♗ ]\n",
      "[ ♕, ♖, ♘ ]\n",
      "[ ♕, ♖, ♙ ]\n",
      "[ ♕, ♗, ♘ ]\n",
      "[ ♕, ♗, ♙ ]\n",
      "[ ♕, ♘, ♙ ]\n",
      "[ ♖, ♗, ♘ ]\n",
      "[ ♖, ♗, ♙ ]\n",
      "[ ♖, ♘, ♙ ]\n",
      "[ ♗, ♘, ♙ ]\n"
     ]
    }
   ],
   "source": [
    "S = sympy.utilities.iterables.multiset_combinations([\"♔\",\"♕\",\"♖\",\"♗\",\"♘\",\"♙\"], 3)\n",
    "C = 0\n",
    "for s in S:\n",
    "    print(ascii_art(s))\n",
    "    C +=1"
   ]
  },
  {
   "cell_type": "code",
   "execution_count": 107,
   "metadata": {},
   "outputs": [
    {
     "data": {
      "text/plain": [
       "True"
      ]
     },
     "execution_count": 107,
     "metadata": {},
     "output_type": "execute_result"
    }
   ],
   "source": [
    "C == factorial(6)/(factorial(6-3)*factorial(3))"
   ]
  },
  {
   "cell_type": "markdown",
   "metadata": {},
   "source": [
    "## 2. Свойства перестановок\n",
    "Пример для конечного множества элементов\n",
    "\n",
    "$\\{a_1 a_2 a_3 a_4 a_5 a_6 a_7\\} \\to \\{a_3 a_2 a_4 a_1 a_5 a_7 a_6\\} \\\\\n",
    "\\tau = \\begin {cases}\n",
    "1 \\ 2 \\ 3 \\ 4 \\ 5 \\ 6 \\ 7 \\\\ \n",
    "3 \\ 2 \\ 4 \\ 1 \\ 5 \\ 7 \\ 6 \n",
    "\\end{cases}$\n",
    "\n",
    "Тождественная перестановка\n",
    "\n",
    "$ e = \n",
    "\\begin {cases}\n",
    "1 \\ 2 \\ 3 \\ 4 \\ 5 \\ 6 \\ 7 \\\\ \n",
    "1 \\ 2 \\ 3 \\ 4 \\ 5 \\ 6 \\ 7\n",
    "\\end{cases}$\n",
    "\n",
    "$\\tau \\circ e = e \\circ \\tau = \\tau \\\\\n",
    "\\tau \\circ \\tau ^{-1} = \\tau ^ {-1} \\circ \\tau = e \\\\\n",
    "\\tau_1 \\circ (\\tau_2 \\circ \\tau_3) = (\\tau_1 \\circ \\tau_2) \\circ \\tau_3$\n",
    "\n",
    "В общем случае\n",
    "\n",
    "$\\tau_1 \\circ \\tau_2 \\neq \\tau_2 \\circ \\tau_1$\n",
    "\n",
    "Цикл\n",
    "\n",
    "$\\{a_1 a_2 a_3 a_4 a_5 a_6 a_7\\} \\to \\{a_2 a_3 a_4 a_5 a_6 a_7 a_1\\} \\\\\n",
    "\\tau = \\begin {cases}\n",
    "1 \\ 2 \\ 3 \\ 4 \\ 5 \\ 6 \\ 7 \\\\ \n",
    "2 \\ 3 \\ 4 \\ 5 \\ 6 \\ 7 \\ 1 \n",
    "\\end{cases}$\n",
    "\n",
    "Любая перестановка - произведение циклов.\n",
    "\n",
    "Транспозиция\n",
    "\n",
    "$\\{a_1 a_2 a_3 a_4 a_5 a_6 a_7\\} \\to \\{a_2 a_1 a_3 a_4 a_5 a_6 a_7\\} \\\\\n",
    "\\tau = \\begin {cases}\n",
    "1 \\ 2 \\ 3 \\ 4 \\ 5 \\ 6 \\ 7 \\\\ \n",
    "2 \\ 1 \\ 3 \\ 4 \\ 5 \\ 6 \\ 7  \n",
    "\\end{cases}$\n",
    "\n",
    "Любой цикл - произведение транспозиций, любая перестановка - произведение транспозиций.\n",
    "\n",
    "Инверсии в подстановке\n",
    "\n",
    "$\\tau = \\begin {cases}\n",
    "1 \\ 2 \\ 3 \\ 4 \\ 5 \\ 6 \\ 7 \\\\ \n",
    "3 \\ 2 \\ 4 \\ 1 \\ 5 \\ 7 \\ 6 \n",
    "\\end{cases} \\\\\n",
    "(2,1), (3,1), (4,1), \\\\ (3,2), \\\\ (7,6)$\n",
    "\n",
    "Четность подстановки - количество инверсий."
   ]
  },
  {
   "cell_type": "code",
   "execution_count": 19,
   "metadata": {},
   "outputs": [
    {
     "data": {
      "text/plain": [
       "[(1, 3, 4), (2,), (5,), (6, 7)]"
      ]
     },
     "execution_count": 19,
     "metadata": {},
     "output_type": "execute_result"
    }
   ],
   "source": [
    "Permutation([3,2,4,1,5,7,6]).to_cycles()"
   ]
  },
  {
   "cell_type": "code",
   "execution_count": 28,
   "metadata": {},
   "outputs": [
    {
     "data": {
      "text/plain": [
       "[3, 2, 4, 1, 5, 7, 6]"
      ]
     },
     "execution_count": 28,
     "metadata": {},
     "output_type": "execute_result"
    }
   ],
   "source": [
    "Permutation([3,2,4,1,5,6,7]) * Permutation([1,2,3,4,5,7,6]) "
   ]
  },
  {
   "cell_type": "code",
   "execution_count": 24,
   "metadata": {},
   "outputs": [
    {
     "data": {
      "text/plain": [
       "[2, 5]"
      ]
     },
     "execution_count": 24,
     "metadata": {},
     "output_type": "execute_result"
    }
   ],
   "source": [
    "Permutation([3,2,4,1,5,7,6]).fixed_points()"
   ]
  },
  {
   "cell_type": "code",
   "execution_count": 20,
   "metadata": {},
   "outputs": [
    {
     "data": {
      "text/plain": [
       "[(1, 2), (1, 4), (2, 4), (3, 4), (6, 7)]"
      ]
     },
     "execution_count": 20,
     "metadata": {},
     "output_type": "execute_result"
    }
   ],
   "source": [
    "Permutation([3,2,4,1,5,7,6]).inversions()"
   ]
  },
  {
   "cell_type": "code",
   "execution_count": 22,
   "metadata": {},
   "outputs": [
    {
     "data": {
      "text/plain": [
       "5"
      ]
     },
     "execution_count": 22,
     "metadata": {},
     "output_type": "execute_result"
    }
   ],
   "source": [
    "Permutation([3,2,4,1,5,7,6]).number_of_inversions()"
   ]
  },
  {
   "cell_type": "code",
   "execution_count": 23,
   "metadata": {},
   "outputs": [
    {
     "data": {
      "text/plain": [
       "False"
      ]
     },
     "execution_count": 23,
     "metadata": {},
     "output_type": "execute_result"
    }
   ],
   "source": [
    "Permutation([3,2,4,1,5,7,6]).is_even()"
   ]
  },
  {
   "cell_type": "code",
   "execution_count": 27,
   "metadata": {},
   "outputs": [
    {
     "data": {
      "text/plain": [
       "[0 0 0 1 0 0 0]\n",
       "[0 1 0 0 0 0 0]\n",
       "[1 0 0 0 0 0 0]\n",
       "[0 0 1 0 0 0 0]\n",
       "[0 0 0 0 1 0 0]\n",
       "[0 0 0 0 0 0 1]\n",
       "[0 0 0 0 0 1 0]"
      ]
     },
     "execution_count": 27,
     "metadata": {},
     "output_type": "execute_result"
    }
   ],
   "source": [
    "Permutation([3,2,4,1,5,7,6]).to_matrix()"
   ]
  },
  {
   "cell_type": "code",
   "execution_count": null,
   "metadata": {},
   "outputs": [],
   "source": []
  },
  {
   "cell_type": "markdown",
   "metadata": {},
   "source": [
    "## 3. В формуле определителя n-ого порядка\n",
    "\n",
    "$\\large{\\displaystyle{| \\Delta | = \\sum_i (-1)^{t(j)} a_{1j_1}a_{2j_2}}...a_{nj_n}}$, где\n",
    "\n",
    "$\\{j_1, j_2, ..., j_n\\}$ - все возможные перестановки из чисел $\\{1, 2, ..., n\\}$;\n",
    "\n",
    "$t(j)$ - число транспозиций для перехода от $\\{1, 2, ..., n\\}$ к $\\{j_1, j_2, ..., j_n\\}$. "
   ]
  },
  {
   "cell_type": "code",
   "execution_count": 1,
   "metadata": {},
   "outputs": [
    {
     "data": {
      "text/plain": [
       "-a_12*a_21 + a_11*a_22"
      ]
     },
     "execution_count": 1,
     "metadata": {},
     "output_type": "execute_result"
    }
   ],
   "source": [
    "aa = \" \".join(list('a_%d%d' %(i,j) for i in (1..2) for j in (1..2)))\n",
    "A = matrix(SR, 2, var(aa))\n",
    "A.det() "
   ]
  },
  {
   "cell_type": "code",
   "execution_count": 2,
   "metadata": {},
   "outputs": [
    {
     "data": {
      "text/plain": [
       "-a_13*a_22*a_31 + a_12*a_23*a_31 + a_13*a_21*a_32 - a_11*a_23*a_32 - a_12*a_21*a_33 + a_11*a_22*a_33"
      ]
     },
     "execution_count": 2,
     "metadata": {},
     "output_type": "execute_result"
    }
   ],
   "source": [
    "aa = \" \".join(list('a_%d%d' %(i,j) for i in (1..3) for j in (1..3)))\n",
    "A = matrix(SR, 3, var(aa))\n",
    "A.det().expand()   "
   ]
  },
  {
   "cell_type": "code",
   "execution_count": 3,
   "metadata": {},
   "outputs": [
    {
     "data": {
      "text/plain": [
       "a_14*a_23*a_32*a_41 - a_13*a_24*a_32*a_41 - a_14*a_22*a_33*a_41 + a_12*a_24*a_33*a_41 + a_13*a_22*a_34*a_41 - a_12*a_23*a_34*a_41 - a_14*a_23*a_31*a_42 + a_13*a_24*a_31*a_42 + a_14*a_21*a_33*a_42 - a_11*a_24*a_33*a_42 - a_13*a_21*a_34*a_42 + a_11*a_23*a_34*a_42 + a_14*a_22*a_31*a_43 - a_12*a_24*a_31*a_43 - a_14*a_21*a_32*a_43 + a_11*a_24*a_32*a_43 + a_12*a_21*a_34*a_43 - a_11*a_22*a_34*a_43 - a_13*a_22*a_31*a_44 + a_12*a_23*a_31*a_44 + a_13*a_21*a_32*a_44 - a_11*a_23*a_32*a_44 - a_12*a_21*a_33*a_44 + a_11*a_22*a_33*a_44"
      ]
     },
     "execution_count": 3,
     "metadata": {},
     "output_type": "execute_result"
    }
   ],
   "source": [
    "aa = \" \".join(list('a_%d%d' %(i,j) for i in (1..4) for j in (1..4)))\n",
    "A = matrix(SR, 4, var(aa))\n",
    "A.det().expand() "
   ]
  },
  {
   "cell_type": "code",
   "execution_count": null,
   "metadata": {},
   "outputs": [],
   "source": []
  }
 ],
 "metadata": {
  "kernelspec": {
   "display_name": "SageMath 8.4",
   "language": "",
   "name": "sagemath"
  },
  "language_info": {
   "codemirror_mode": {
    "name": "ipython",
    "version": 2
   },
   "file_extension": ".py",
   "mimetype": "text/x-python",
   "name": "python",
   "nbconvert_exporter": "python",
   "pygments_lexer": "ipython2",
   "version": "2.7.15"
  }
 },
 "nbformat": 4,
 "nbformat_minor": 2
}

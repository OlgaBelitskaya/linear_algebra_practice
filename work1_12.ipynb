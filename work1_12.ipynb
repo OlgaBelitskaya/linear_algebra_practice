{
 "cells": [
  {
   "cell_type": "markdown",
   "metadata": {},
   "source": [
    "<h1 style=\"color: #3636ff;\">Линейная алгебра. Практическая работа №12</h1>\n",
    "\n",
    "### Программные средства\n",
    "\n",
    "[LaTeX. Mathematics](https://en.wikibooks.org/wiki/LaTeX/Mathematics)\n",
    "\n",
    "[Sage. Linear Algebra](http://doc.sagemath.org/html/en/tutorial/tour_linalg.html)\n",
    "\n",
    "[Numpy. Quickstart tutorial](https://docs.scipy.org/doc/numpy/user/quickstart.html#linear-algebra)\n",
    "\n",
    "[R Functions - Tutorialspoint](https://www.tutorialspoint.com/r/r_functions.htm)\n",
    "\n",
    "[Quick-R: User-Defined Functions](https://www.statmethods.net/management/userfunctions.html)"
   ]
  },
  {
   "cell_type": "markdown",
   "metadata": {},
   "source": [
    "[АЛГЕБРА И ГЕОМЕТРИЯ ДЛЯ СТУДЕНТОВ-ФИЗИКОВ](http://math.phys.msu.ru/data/24/Algebra_and_geometry.pdf)\n",
    "\n",
    "[АНАЛИТИЧЕСКАЯ ГЕОМЕТРИЯ](http://ffmgu.ru/images/1/16/%D0%9E%D0%B2%D1%87%D0%B8%D0%BD%D0%BD%D0%B8%D0%BA%D0%BE%D0%B2._%D0%9B%D0%B5%D0%BA%D1%86%D0%B8%D0%B8_%D0%90%D0%93._2009.pdf)\n",
    "\n",
    "[]()\n",
    "\n",
    "[Computational Mathematics with SageMath](http://dl.lateralis.org/public/sagebook/sagebook-ba6596d.pdf)\n",
    "\n",
    "[Introduction to Symbolic Computation](http://homepages.math.uic.edu/~jan/mcs320/mcs320.pdf)"
   ]
  },
  {
   "cell_type": "markdown",
   "metadata": {},
   "source": [
    "# Линейные пространства и линейные преобразования\n",
    "\n",
    "## 1. Линейные пространства\n",
    "\n",
    "Линейное пространство $\\mathbb{L(C)}$ над числовым полем $\\mathbb{C}$ — это множество векторов $\\mathbb{L}$, в котором введены две операции: \n",
    "\n",
    "- сложение элементов $x + y, \\ \\forall x, y \\in \\mathbb{L}$ \n",
    "\n",
    "- умножение элемента на число $\\alpha \\cdot x, \\forall \\alpha \\in \\mathbb{C}, \\forall x \\in \\mathbb{L}$\n",
    "\n",
    "причем выполнены следующие аксиомы:\n",
    "\n",
    "$(1) \\forall x, y \\in \\mathbb{L} : x + y = y + x$ (коммутативность сложения);\n",
    "\n",
    "$(2) \\forall x, y, z \\in \\mathbb{L} : x + (y + z) = x + (y + z)$ (ассоциативность сложения);\n",
    "\n",
    "$(3) \\exists 0 \\in \\mathbb{L} \\forall x \\in \\mathbb{L} : x + 0 = x$ (существование нулевого вектора);\n",
    "\n",
    "$(4) \\forall x \\in \\mathbb{L} \\exists -x \\in \\mathbb{L} : x + (-x) = 0$ (существование противоположного вектора);\n",
    "\n",
    "$(5) \\forall x \\in \\mathbb{L} : 1 \\cdot x = x$ (существование единичного вектора);\n",
    "\n",
    "$(6) \\forall α, β \\in K, \\forall x \\in \\mathbb{L} : (α \\cdot β) \\cdot x = α \\cdot (β \\cdot x)$;\n",
    "\n",
    "$(7) \\forall α \\in K, \\forall x, y \\in \\mathbb{L} : α \\cdot (x + y) = α \\cdot x + α \\cdot y$ (дистрибутивность-1);\n",
    "\n",
    "$(8) \\forall α, β \\in K, \\forall x \\in \\mathbb{L} : (α + β) \\cdot x = α \\cdot x + β \\cdot x$ (дистрибутивность-2).\n",
    "\n",
    "Простейшие свойства линейных пространств:\n",
    "\n",
    "1) нулевой элемент единственен;\n",
    "\n",
    "2) единичный элемент единственен;\n",
    "\n",
    "3) $\\forall x, y, z \\in \\mathbb{L}: x + z = y + z \\implies x = y$ и т.д."
   ]
  },
  {
   "cell_type": "code",
   "execution_count": null,
   "metadata": {},
   "outputs": [],
   "source": []
  }
 ],
 "metadata": {
  "kernelspec": {
   "display_name": "SageMath 8.4",
   "language": "",
   "name": "sagemath"
  },
  "language_info": {
   "codemirror_mode": {
    "name": "ipython",
    "version": 2
   },
   "file_extension": ".py",
   "mimetype": "text/x-python",
   "name": "python",
   "nbconvert_exporter": "python",
   "pygments_lexer": "ipython2",
   "version": "2.7.15"
  }
 },
 "nbformat": 4,
 "nbformat_minor": 2
}

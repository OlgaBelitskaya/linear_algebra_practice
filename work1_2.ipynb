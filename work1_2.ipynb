{
 "cells": [
  {
   "cell_type": "markdown",
   "metadata": {},
   "source": [
    "<h1 style=\"color: #3636ff;\">Линейная алгебра. Практическая работа №2</h1>\n",
    "\n",
    "### Программные средства\n",
    "\n",
    "[LaTeX. Mathematics. Matrices & Arrays](https://en.wikibooks.org/wiki/LaTeX/Mathematics#Matrices_and_arrays)\n",
    "\n",
    "[Sage. Matrices & Spaces of Matrices](https://doc.sagemath.org/html/en/reference/matrices/index.html)\n",
    "\n",
    "[Numpy. Quickstart tutorial](https://docs.scipy.org/doc/numpy/user/quickstart.html#linear-algebra)\n",
    "\n",
    "[SymPy. Matrices (linear algebra)](https://docs.sympy.org/latest/modules/matrices/matrices.html)\n",
    "\n",
    "[Quick-R. Matrix Algebra](https://www.statmethods.net/advstats/matrix.html)\n",
    "\n",
    "[R - Matrices](https://www.tutorialspoint.com/r/r_matrices.htm)"
   ]
  },
  {
   "cell_type": "markdown",
   "metadata": {},
   "source": [
    "### Конспекты лекций\n",
    "\n",
    "[Матрицы. Системы линейных уравнений. Алгоритм Гаусса](http://matematika.phys.msu.ru/files/a_stud_gen/246/AG-08_2009-2010.pdf)\n",
    "\n",
    "[АЛГЕБРА И ГЕОМЕТРИЯ ДЛЯ СТУДЕНТОВ-ФИЗИКОВ](http://math.phys.msu.ru/data/24/Algebra_and_geometry.pdf)"
   ]
  },
  {
   "cell_type": "markdown",
   "metadata": {},
   "source": [
    "# Матрицы\n",
    "\n",
    "## 1. Операции над матрицами\n",
    "### 1.1 Возведение в степень"
   ]
  },
  {
   "cell_type": "code",
   "execution_count": 116,
   "metadata": {},
   "outputs": [
    {
     "name": "stdout",
     "output_type": "stream",
     "text": [
      "⎡    2                                                                        \n",
      "⎢ M₀₀  + M₀₁⋅M₁₀ + M₀₂⋅M₂₀    M₀₀⋅M₀₁ + M₀₁⋅M₁₁ + M₀₂⋅M₂₁  M₀₀⋅M₀₂ + M₀₁⋅M₁₂ +\n",
      "⎢                                                                             \n",
      "⎢                                           2                                 \n",
      "⎢M₀₀⋅M₁₀ + M₁₀⋅M₁₁ + M₁₂⋅M₂₀   M₀₁⋅M₁₀ + M₁₁  + M₁₂⋅M₂₁    M₀₂⋅M₁₀ + M₁₁⋅M₁₂ +\n",
      "⎢                                                                             \n",
      "⎢                                                                             \n",
      "⎣M₀₀⋅M₂₀ + M₁₀⋅M₂₁ + M₂₀⋅M₂₂  M₀₁⋅M₂₀ + M₁₁⋅M₂₁ + M₂₁⋅M₂₂   M₀₂⋅M₂₀ + M₁₂⋅M₂₁ \n",
      "\n",
      "        ⎤\n",
      " M₀₂⋅M₂₂⎥\n",
      "        ⎥\n",
      "        ⎥\n",
      " M₁₂⋅M₂₂⎥\n",
      "        ⎥\n",
      "     2  ⎥\n",
      "+ M₂₂   ⎦\n"
     ]
    }
   ],
   "source": [
    "import sympy\n",
    "M = sympy.MatrixSymbol('M', 3, 3)\n",
    "sympy.printing.pprint((M^2).as_explicit())"
   ]
  },
  {
   "cell_type": "code",
   "execution_count": 117,
   "metadata": {},
   "outputs": [
    {
     "data": {
      "text/plain": [
       "[a^2 + b*d + c*g a*b + b*e + c*h a*c + b*f + c*i]\n",
       "[a*d + d*e + f*g b*d + e^2 + f*h c*d + e*f + f*i]\n",
       "[a*g + d*h + g*i b*g + e*h + h*i c*g + f*h + i^2]"
      ]
     },
     "execution_count": 117,
     "metadata": {},
     "output_type": "execute_result"
    }
   ],
   "source": [
    "M = matrix(SR, 3, var('a,b,c,d,e,f,g,h,i')) \n",
    "M^2"
   ]
  },
  {
   "cell_type": "code",
   "execution_count": 64,
   "metadata": {},
   "outputs": [
    {
     "data": {
      "text/plain": [
       "(\n",
       "[59 57 83 29 42]\n",
       "[55 51 61 66 92]\n",
       "[65 50 50 12 88]\n",
       "[84 63 93  0 85]\n",
       "[56 58 22 85 21],\n",
       "\n",
       "[1.10000000000000 3.20000000000000 5.00000000000000 7.60000000000000]\n",
       "[2.20000000000000 4.10000000000000 6.50000000000000 8.10000000000000],\n",
       "\n",
       "[-33 -53 -63 -49 -36]\n",
       "[-68 -81 -31 -39 -61]\n",
       "[-79 -44 -76 -36 -52]\n",
       "[-16 -79 -60 -72 -40]\n",
       "[-27 -66 -73 -53 -10]\n",
       ")"
      ]
     },
     "execution_count": 64,
     "metadata": {},
     "output_type": "execute_result"
    }
   ],
   "source": [
    "# sage\n",
    "A1 = random_matrix(ZZ,5,x=0,y=100)\n",
    "C1 = random_matrix(ZZ,5,x=-100,y=0)\n",
    "B1 = matrix([[1.1,3.2,5.0,7.6],[2.2,4.1,6.5,8.1]])\n",
    "A1, B1, C1"
   ]
  },
  {
   "cell_type": "code",
   "execution_count": 4,
   "metadata": {},
   "outputs": [
    {
     "data": {
      "text/plain": [
       "[1903139 1407412  430391 2135404 1027929]\n",
       "[3037405 2319981  677216 2463603 1352851]\n",
       "[4192550 3342288 1136504 4016230 2271365]\n",
       "[2542433 1982484  554519 1823154 1020706]\n",
       "[1550282 1174324  345948 1392686  784439]"
      ]
     },
     "execution_count": 4,
     "metadata": {},
     "output_type": "execute_result"
    }
   ],
   "source": [
    "A1^3"
   ]
  },
  {
   "cell_type": "code",
   "execution_count": 6,
   "metadata": {},
   "outputs": [
    {
     "data": {
      "text/plain": [
       "True"
      ]
     },
     "execution_count": 6,
     "metadata": {},
     "output_type": "execute_result"
    }
   ],
   "source": [
    "A1^3 == A1 * A1 * A1"
   ]
  },
  {
   "cell_type": "code",
   "execution_count": 14,
   "metadata": {},
   "outputs": [
    {
     "name": "stdout",
     "output_type": "stream",
     "text": [
      "[[21  3 92 98 23]\n",
      " [ 2 93 65 27 21]\n",
      " [43 88 19 49 51]\n",
      " [34 31 89 65  5]\n",
      " [13 70 94 56 29]]\n",
      "[[1 3 5 7]\n",
      " [2 4 6 8]]\n",
      "[[-72 -78 -51 -46 -48]\n",
      " [-18 -15 -15 -23 -74]\n",
      " [-11 -49 -16 -12 -78]\n",
      " [-55 -80 -79 -89 -74]\n",
      " [-98 -68 -55 -71 -67]]\n"
     ]
    }
   ],
   "source": [
    "# python numpy\n",
    "import numpy\n",
    "A2 = numpy.matrix(numpy.random.randint(0, 100, size=(5,5)))\n",
    "C2 = numpy.matrix(numpy.random.randint(-100, 0, size=(5,5)))\n",
    "B2 = numpy.matrix([[1,3,5,7],[2,4,6,8]])\n",
    "print(A2)\n",
    "print(B2)\n",
    "print(C2)"
   ]
  },
  {
   "cell_type": "code",
   "execution_count": 18,
   "metadata": {},
   "outputs": [
    {
     "data": {
      "text/plain": [
       "matrix([[ True,  True,  True,  True,  True],\n",
       "        [ True,  True,  True,  True,  True],\n",
       "        [ True,  True,  True,  True,  True],\n",
       "        [ True,  True,  True,  True,  True],\n",
       "        [ True,  True,  True,  True,  True]], dtype=bool)"
      ]
     },
     "execution_count": 18,
     "metadata": {},
     "output_type": "execute_result"
    }
   ],
   "source": [
    "A2 ** int(3) == A2 * A2 * A2"
   ]
  },
  {
   "cell_type": "code",
   "execution_count": 93,
   "metadata": {},
   "outputs": [
    {
     "name": "stdout",
     "output_type": "stream",
     "text": [
      "⎡-3  -3  -6  -3⎤\n",
      "⎢              ⎥\n",
      "⎢-4  -7  8   -7⎥\n",
      "⎢              ⎥\n",
      "⎢2   -3  9   -5⎥\n",
      "⎢              ⎥\n",
      "⎣6   -3  8   2 ⎦\n"
     ]
    }
   ],
   "source": [
    "# python sympy\n",
    "import sympy\n",
    "A3 = sympy.Matrix([[-3, -3, -6,-3], [-4, -7, 8,-7], [2, -3, 9, -5], [6, -3, 8, 2]])\n",
    "B3 = sympy.Matrix([[2, 10, 7], [-5, -6, -2], [-8, 4, -8], [7, 4, -6]])\n",
    "C3 = sympy.Matrix([[-8, -4, 5, 2], [3, -5, 8, -2], [5, 4, -8, 1], [7, -2, 9, 5]])\n",
    "sympy.pprint(A3)"
   ]
  },
  {
   "cell_type": "code",
   "execution_count": 21,
   "metadata": {},
   "outputs": [
    {
     "data": {
      "text/plain": [
       "True"
      ]
     },
     "execution_count": 21,
     "metadata": {},
     "output_type": "execute_result"
    }
   ],
   "source": [
    "A3^3 == A3 * A3 * A3"
   ]
  },
  {
   "cell_type": "code",
   "execution_count": 92,
   "metadata": {},
   "outputs": [
    {
     "name": "stdout",
     "output_type": "stream",
     "text": [
      "⎡-45   -282  186   156 ⎤\n",
      "⎢                      ⎥\n",
      "⎢-264  -421  292   -354⎥\n",
      "⎢                      ⎥\n",
      "⎢-224  102   -215  -108⎥\n",
      "⎢                      ⎥\n",
      "⎣-100  138   -360  -83 ⎦\n"
     ]
    }
   ],
   "source": [
    "sympy.pprint(sympy.MatPow(A3, 3).as_explicit())"
   ]
  },
  {
   "cell_type": "code",
   "execution_count": 113,
   "metadata": {},
   "outputs": [
    {
     "name": "stdout",
     "output_type": "stream",
     "text": [
      "\n",
      "\n",
      "\n",
      "\n",
      "          [,1]      [,2]      [,3]      [,4]      [,5]\n",
      "[1,]  5.145262 7.6355023 17.804171  9.190138 17.022647\n",
      "[2,] 22.127271 6.2519561 11.310773  2.006535 15.860863\n",
      "[3,]  4.765332 1.9121855 11.133964  7.669811  2.371183\n",
      "[4,]  1.985914 0.2554269  4.387942  1.655704  4.891216\n",
      "[5,] 29.849628 1.8712198 17.227341 17.670541  3.348429\n",
      "     [,1] [,2] [,3] [,4]\n",
      "[1,]    1    5    2    6\n",
      "[2,]    3    7    4    8\n",
      "     [,1] [,2] [,3] [,4]\n",
      "[1,]   99    3   41   30\n",
      "[2,]   30   22   80   26\n",
      "[3,]   55   73   25   53\n"
     ]
    }
   ],
   "source": [
    "%%r\n",
    "A4 <- matrix(rexp(25, rate=0.1), nrow=5, ncol=5)\n",
    "B4 <- matrix(c(1,3,5,7,2,4,6,8), nrow=2, ncol=4)\n",
    "C4 <- matrix(rexp(25, rate=0.2), nrow=5, ncol=5)\n",
    "D4 <- matrix(sample.int(100, size=3*4, replace=T), nrow=3, ncol=4)\n",
    "A4; B4; D4"
   ]
  },
  {
   "cell_type": "code",
   "execution_count": 34,
   "metadata": {},
   "outputs": [
    {
     "name": "stdout",
     "output_type": "stream",
     "text": [
      "\n",
      "         [,1]     [,2]      [,3]     [,4]      [,5]\n",
      "[1,] 55716.69 53363.55  8426.515 37093.58 17453.453\n",
      "[2,] 39089.35 38291.07  7822.746 27764.37 11128.061\n",
      "[3,] 18702.66 19173.39  2726.560 13405.02  7423.997\n",
      "[4,] 24555.27 28934.91  3989.446 18465.41 10486.499\n",
      "[5,] 92435.68 91806.61 13525.140 63656.86 33121.563\n"
     ]
    }
   ],
   "source": [
    "%%r \n",
    "require(matrixcalc)\n",
    "matrix.power(A4,3)"
   ]
  },
  {
   "cell_type": "code",
   "execution_count": 36,
   "metadata": {},
   "outputs": [
    {
     "name": "stdout",
     "output_type": "stream",
     "text": [
      "     [,1] [,2] [,3] [,4] [,5]\n",
      "[1,] TRUE TRUE TRUE TRUE TRUE\n",
      "[2,] TRUE TRUE TRUE TRUE TRUE\n",
      "[3,] TRUE TRUE TRUE TRUE TRUE\n",
      "[4,] TRUE TRUE TRUE TRUE TRUE\n",
      "[5,] TRUE TRUE TRUE TRUE TRUE\n"
     ]
    }
   ],
   "source": [
    "%%r\n",
    "matrix.power(A4,3) == A4 %*% A4 %*% A4"
   ]
  },
  {
   "cell_type": "markdown",
   "metadata": {},
   "source": [
    "### 1.2 Транспонирование"
   ]
  },
  {
   "cell_type": "code",
   "execution_count": 122,
   "metadata": {},
   "outputs": [
    {
     "data": {
      "text/html": [
       "<script type=\"math/tex\">\\left(\\begin{array}{rrr} a & d & g \\\\ b & e & h \\\\ c & f & i \\end{array}\\right)</script>"
      ],
      "text/plain": [
       "<script type=\"math/tex\">\\left(\\begin{array}{rrr} a & d & g \\\\ b & e & h \\\\ c & f & i \\end{array}\\right)</script>"
      ]
     },
     "execution_count": 122,
     "metadata": {},
     "output_type": "execute_result"
    }
   ],
   "source": [
    "M = matrix(SR, 3, var('a,b,c,d,e,f,g,h,i'))\n",
    "N = matrix(SR, 3, var('j,k,l,m,n,o,p,q,r'))\n",
    "html(M.T)"
   ]
  },
  {
   "cell_type": "code",
   "execution_count": 119,
   "metadata": {},
   "outputs": [
    {
     "data": {
      "text/plain": [
       "True"
      ]
     },
     "execution_count": 119,
     "metadata": {},
     "output_type": "execute_result"
    }
   ],
   "source": [
    "M.T.T == M"
   ]
  },
  {
   "cell_type": "code",
   "execution_count": 124,
   "metadata": {},
   "outputs": [
    {
     "data": {
      "text/html": [
       "<script type=\"math/tex\">\\left(\\begin{array}{rrr} a + j & d + m & g + p \\\\ b + k & e + n & h + q \\\\ c + l & f + o & i + r \\end{array}\\right)</script>"
      ],
      "text/plain": [
       "<script type=\"math/tex\">\\left(\\begin{array}{rrr} a + j & d + m & g + p \\\\ b + k & e + n & h + q \\\\ c + l & f + o & i + r \\end{array}\\right)</script>"
      ]
     },
     "execution_count": 124,
     "metadata": {},
     "output_type": "execute_result"
    }
   ],
   "source": [
    "html((M + N).T)"
   ]
  },
  {
   "cell_type": "code",
   "execution_count": 127,
   "metadata": {},
   "outputs": [
    {
     "data": {
      "text/plain": [
       "(True, True, True)"
      ]
     },
     "execution_count": 127,
     "metadata": {},
     "output_type": "execute_result"
    }
   ],
   "source": [
    "(M + N).T == M.T + N.T, (M - N).T == M.T - N.T, (var('k') * M).T == var('k') * M.T"
   ]
  },
  {
   "cell_type": "code",
   "execution_count": 128,
   "metadata": {},
   "outputs": [
    {
     "data": {
      "text/html": [
       "<script type=\"math/tex\">\\left(\\begin{array}{rrr} a j + b m + c p & d j + e m + f p & g j + h m + i p \\\\ a k + b n + c q & d k + e n + f q & g k + h n + i q \\\\ a l + b o + c r & d l + e o + f r & g l + h o + i r \\end{array}\\right)</script>"
      ],
      "text/plain": [
       "<script type=\"math/tex\">\\left(\\begin{array}{rrr} a j + b m + c p & d j + e m + f p & g j + h m + i p \\\\ a k + b n + c q & d k + e n + f q & g k + h n + i q \\\\ a l + b o + c r & d l + e o + f r & g l + h o + i r \\end{array}\\right)</script>"
      ]
     },
     "execution_count": 128,
     "metadata": {},
     "output_type": "execute_result"
    }
   ],
   "source": [
    "html((M * N).T)"
   ]
  },
  {
   "cell_type": "code",
   "execution_count": 129,
   "metadata": {},
   "outputs": [
    {
     "data": {
      "text/plain": [
       "True"
      ]
     },
     "execution_count": 129,
     "metadata": {},
     "output_type": "execute_result"
    }
   ],
   "source": [
    "(M * N).T == N.T * M.T"
   ]
  },
  {
   "cell_type": "code",
   "execution_count": 38,
   "metadata": {},
   "outputs": [
    {
     "data": {
      "text/plain": [
       "(\n",
       "[ 4 33  1  7 59]  [ 4 13 12 20 42]\n",
       "[13 76 83 66 70]  [33 76 24 94 94]\n",
       "[12 24 76 95  8]  [ 1 83 76 54 77]\n",
       "[20 94 54 67 79]  [ 7 66 95 67 78]\n",
       "[42 94 77 78 85], [59 70  8 79 85]\n",
       ")"
      ]
     },
     "execution_count": 38,
     "metadata": {},
     "output_type": "execute_result"
    }
   ],
   "source": [
    "# sage\n",
    "A1, A1.transpose()"
   ]
  },
  {
   "cell_type": "code",
   "execution_count": 107,
   "metadata": {},
   "outputs": [
    {
     "name": "stdout",
     "output_type": "stream",
     "text": [
      "[[21  3 92 98 23]\n",
      " [ 2 93 65 27 21]\n",
      " [43 88 19 49 51]\n",
      " [34 31 89 65  5]\n",
      " [13 70 94 56 29]]\n",
      "[[21  2 43 34 13]\n",
      " [ 3 93 88 31 70]\n",
      " [92 65 19 89 94]\n",
      " [98 27 49 65 56]\n",
      " [23 21 51  5 29]]\n"
     ]
    }
   ],
   "source": [
    "# python numpy\n",
    "print(A2)\n",
    "print(numpy.transpose(A2))"
   ]
  },
  {
   "cell_type": "code",
   "execution_count": 108,
   "metadata": {},
   "outputs": [
    {
     "name": "stdout",
     "output_type": "stream",
     "text": [
      "⎡-3  -3  -6  -3⎤\n",
      "⎢              ⎥\n",
      "⎢-4  -7  8   -7⎥\n",
      "⎢              ⎥\n",
      "⎢2   -3  9   -5⎥\n",
      "⎢              ⎥\n",
      "⎣6   -3  8   2 ⎦\n",
      "⎡-3  -4  2   6 ⎤\n",
      "⎢              ⎥\n",
      "⎢-3  -7  -3  -3⎥\n",
      "⎢              ⎥\n",
      "⎢-6  8   9   8 ⎥\n",
      "⎢              ⎥\n",
      "⎣-3  -7  -5  2 ⎦\n"
     ]
    },
    {
     "data": {
      "text/plain": [
       "(None, None)"
      ]
     },
     "execution_count": 108,
     "metadata": {},
     "output_type": "execute_result"
    }
   ],
   "source": [
    "# python sympy\n",
    "sympy.pprint(A3), sympy.pprint(A3.T)"
   ]
  },
  {
   "cell_type": "code",
   "execution_count": 41,
   "metadata": {},
   "outputs": [
    {
     "name": "stdout",
     "output_type": "stream",
     "text": [
      "          [,1]      [,2]       [,3]       [,4]        [,5]\n",
      "[1,]  9.423773 18.555664  0.2288297 12.6718144 13.62604867\n",
      "[2,] 26.408819  4.740174  3.4295191 11.4775862  0.08964574\n",
      "[3,]  6.027099 11.172584  1.3450325  8.6214268  0.20625451\n",
      "[4,] 11.788261 18.301193  0.9501415  0.9755198  0.70827746\n",
      "[5,] 23.088658 44.437817 12.4730859 31.0452286  9.44632553\n",
      "           [,1]        [,2]       [,3]       [,4]      [,5]\n",
      "[1,]  9.4237731 26.40881853  6.0270994 11.7882608 23.088658\n",
      "[2,] 18.5556635  4.74017434 11.1725836 18.3011928 44.437817\n",
      "[3,]  0.2288297  3.42951907  1.3450325  0.9501415 12.473086\n",
      "[4,] 12.6718144 11.47758623  8.6214268  0.9755198 31.045229\n",
      "[5,] 13.6260487  0.08964574  0.2062545  0.7082775  9.446326\n"
     ]
    }
   ],
   "source": [
    "%%r\n",
    "A4; t(A4)"
   ]
  },
  {
   "cell_type": "markdown",
   "metadata": {},
   "source": [
    "## 2. След матрицы\n",
    "<table border=\"1\">\n",
    "        <thead>\n",
    "            <tr>\n",
    "                <th>-</th>\n",
    "                <th>1</th>\n",
    "                <th>2</th>\n",
    "                <th>3</th>\n",
    "                <th>4</th>\n",
    "                <th>5</th>\n",
    "            </tr>\n",
    "        </thead>\n",
    "        <tbody>\n",
    "            <tr>\n",
    "                <td style=\"font-weight:bold;\">1</td>\n",
    "                <td style=\"color:#3636ff;\">$A_{11}$</td>\n",
    "                <td>$A_{12}$</td>\n",
    "                <td>$A_{13}$</td>\n",
    "                <td>$A_{14}$</td>\n",
    "                <td>$A_{15}$</td>\n",
    "            </tr>\n",
    "            <tr>\n",
    "                <td style=\"font-weight:bold;\">2</td>\n",
    "                <td>$A_{21}$</td>\n",
    "                <td style=\"color:#3636ff;\">$A_{22}$</td>\n",
    "                <td>$A_{23}$</td>\n",
    "                <td>$A_{24}$</td>\n",
    "                <td>$A_{25}$</td>\n",
    "            </tr>\n",
    "                        <tr>\n",
    "                <td style=\"font-weight:bold;\">3</td>\n",
    "                <td>$A_{31}$</td>\n",
    "                <td>$A_{32}$</td>\n",
    "                <td style=\"color:#3636ff;\">$A_{33}$</td>\n",
    "                <td>$A_{34}$</td>\n",
    "                <td>$A_{35}$</td>\n",
    "            </tr>\n",
    "            <tr>\n",
    "                <td style=\"font-weight:bold;\">4</td>\n",
    "                <td>$A_{41}$</td>\n",
    "                <td>$A_{42}$</td>\n",
    "                <td>$A_{43}$</td>\n",
    "                <td style=\"color:#3636ff;\">$A_{44}$</td>\n",
    "                <td>$A_{45}$</td>\n",
    "            </tr>\n",
    "            <tr>\n",
    "                <td style=\"font-weight:bold;\">5</td>\n",
    "                <td>$A_{51}$</td>\n",
    "                <td>$A_{52}$</td>\n",
    "                <td>$A_{53}$</td>\n",
    "                <td>$A_{54}$</td>\n",
    "                <td style=\"color:#3636ff;\">$A_{55}$</td>\n",
    "            </tr>\n",
    "        </tbody>\n",
    "    </table>\n",
    "    \n",
    "$TR = A_{11} + A_{22} + A_{33} + A_{44} + A_{55}$ "
   ]
  },
  {
   "cell_type": "code",
   "execution_count": 45,
   "metadata": {},
   "outputs": [
    {
     "data": {
      "text/plain": [
       "(\n",
       "[ 4 33  1  7 59]          \n",
       "[13 76 83 66 70]          \n",
       "[12 24 76 95  8]          \n",
       "[20 94 54 67 79]          \n",
       "[42 94 77 78 85], 308, 308\n",
       ")"
      ]
     },
     "execution_count": 45,
     "metadata": {},
     "output_type": "execute_result"
    }
   ],
   "source": [
    "# sage\n",
    "A1, A1.trace(), 4 + 76 + 76 + 67 + 85"
   ]
  },
  {
   "cell_type": "code",
   "execution_count": 47,
   "metadata": {},
   "outputs": [
    {
     "data": {
      "text/plain": [
       "(matrix([[21,  3, 92, 98, 23],\n",
       "         [ 2, 93, 65, 27, 21],\n",
       "         [43, 88, 19, 49, 51],\n",
       "         [34, 31, 89, 65,  5],\n",
       "         [13, 70, 94, 56, 29]]), 227, 227)"
      ]
     },
     "execution_count": 47,
     "metadata": {},
     "output_type": "execute_result"
    }
   ],
   "source": [
    "# python numpy\n",
    "A2, numpy.trace(A2), 21 + 93 + 19 + 65 + 29"
   ]
  },
  {
   "cell_type": "code",
   "execution_count": 53,
   "metadata": {},
   "outputs": [
    {
     "data": {
      "text/plain": [
       "(Matrix([\n",
       " [-3, -3, -6, -3],\n",
       " [-4, -7,  8, -7],\n",
       " [ 2, -3,  9, -5],\n",
       " [ 6, -3,  8,  2]]), 1, 1)"
      ]
     },
     "execution_count": 53,
     "metadata": {},
     "output_type": "execute_result"
    }
   ],
   "source": [
    "# python sympy\n",
    "A3, sympy.trace(A3), -3 -7 + 9 + 2"
   ]
  },
  {
   "cell_type": "code",
   "execution_count": 56,
   "metadata": {},
   "outputs": [
    {
     "name": "stdout",
     "output_type": "stream",
     "text": [
      "\n",
      "          [,1]      [,2]       [,3]       [,4]        [,5]\n",
      "[1,]  9.423773 18.555664  0.2288297 12.6718144 13.62604867\n",
      "[2,] 26.408819  4.740174  3.4295191 11.4775862  0.08964574\n",
      "[3,]  6.027099 11.172584  1.3450325  8.6214268  0.20625451\n",
      "[4,] 11.788261 18.301193  0.9501415  0.9755198  0.70827746\n",
      "[5,] 23.088658 44.437817 12.4730859 31.0452286  9.44632553\n",
      "[1] 25.93083\n",
      "[1] 25.93082\n"
     ]
    }
   ],
   "source": [
    "%%r\n",
    "require(matrixcalc)\n",
    "A4; matrix.trace(A4); 9.423773 + 4.740174 + 1.3450325 + 0.9755198 + 9.44632553"
   ]
  },
  {
   "cell_type": "markdown",
   "metadata": {},
   "source": [
    "## 3. Норма матрицы"
   ]
  },
  {
   "cell_type": "code",
   "execution_count": 137,
   "metadata": {},
   "outputs": [
    {
     "data": {
      "text/plain": [
       "328.0"
      ]
     },
     "execution_count": 137,
     "metadata": {},
     "output_type": "execute_result"
    }
   ],
   "source": [
    "# sage\n",
    "# the largest column-sum norm\n",
    "A1.norm(p=1)"
   ]
  },
  {
   "cell_type": "code",
   "execution_count": 158,
   "metadata": {},
   "outputs": [
    {
     "data": {
      "text/plain": [
       "(True, True)"
      ]
     },
     "execution_count": 158,
     "metadata": {},
     "output_type": "execute_result"
    }
   ],
   "source": [
    "A1.norm(p=1) >= 0, (-2*A1).norm(p=1) == abs(-2)*A1.norm(p=1)"
   ]
  },
  {
   "cell_type": "code",
   "execution_count": 161,
   "metadata": {},
   "outputs": [
    {
     "data": {
      "text/plain": [
       "True"
      ]
     },
     "execution_count": 161,
     "metadata": {},
     "output_type": "execute_result"
    }
   ],
   "source": [
    "(A1 + C1).norm(p=1) <= A1.norm(p=1) + C1.norm(p=1)"
   ]
  },
  {
   "cell_type": "code",
   "execution_count": 162,
   "metadata": {},
   "outputs": [
    {
     "data": {
      "text/plain": [
       "True"
      ]
     },
     "execution_count": 162,
     "metadata": {},
     "output_type": "execute_result"
    }
   ],
   "source": [
    "(A1 * C1).norm(p=1) <= A1.norm(p=1) * C1.norm(p=1)"
   ]
  },
  {
   "cell_type": "code",
   "execution_count": 138,
   "metadata": {},
   "outputs": [
    {
     "data": {
      "text/plain": [
       "293.15364020430553"
      ]
     },
     "execution_count": 138,
     "metadata": {},
     "output_type": "execute_result"
    }
   ],
   "source": [
    "# the Euclidean norm\n",
    "A1.norm(p=2)"
   ]
  },
  {
   "cell_type": "code",
   "execution_count": 139,
   "metadata": {},
   "outputs": [
    {
     "data": {
      "text/plain": [
       "325.0"
      ]
     },
     "execution_count": 139,
     "metadata": {},
     "output_type": "execute_result"
    }
   ],
   "source": [
    "# the largest row-sum norm\n",
    "A1.norm(p=oo)"
   ]
  },
  {
   "cell_type": "code",
   "execution_count": 141,
   "metadata": {},
   "outputs": [
    {
     "data": {
      "text/plain": [
       "311.5333048006264"
      ]
     },
     "execution_count": 141,
     "metadata": {},
     "output_type": "execute_result"
    }
   ],
   "source": [
    "# the Frobenius (sum of squares) norm\n",
    "A1.norm(p='frob')"
   ]
  },
  {
   "cell_type": "code",
   "execution_count": 142,
   "metadata": {},
   "outputs": [
    {
     "data": {
      "text/plain": [
       "359.0"
      ]
     },
     "execution_count": 142,
     "metadata": {},
     "output_type": "execute_result"
    }
   ],
   "source": [
    "# python numpy\n",
    "# the largest column-sum norm\n",
    "numpy.linalg.norm(A2, 1)"
   ]
  },
  {
   "cell_type": "code",
   "execution_count": 149,
   "metadata": {},
   "outputs": [
    {
     "data": {
      "text/plain": [
       "True"
      ]
     },
     "execution_count": 149,
     "metadata": {},
     "output_type": "execute_result"
    }
   ],
   "source": [
    "numpy.linalg.norm(A2, 1) == numpy.max(sum(abs(A2), axis=0))"
   ]
  },
  {
   "cell_type": "code",
   "execution_count": 166,
   "metadata": {},
   "outputs": [
    {
     "data": {
      "text/plain": [
       "113.0"
      ]
     },
     "execution_count": 166,
     "metadata": {},
     "output_type": "execute_result"
    }
   ],
   "source": [
    "# the smalest column-sum norm\n",
    "numpy.linalg.norm(A2, -1)"
   ]
  },
  {
   "cell_type": "code",
   "execution_count": 150,
   "metadata": {},
   "outputs": [
    {
     "data": {
      "text/plain": [
       "True"
      ]
     },
     "execution_count": 150,
     "metadata": {},
     "output_type": "execute_result"
    }
   ],
   "source": [
    "numpy.linalg.norm(A2, -1) == numpy.min(sum(abs(A2), axis=0))"
   ]
  },
  {
   "cell_type": "code",
   "execution_count": 151,
   "metadata": {},
   "outputs": [
    {
     "data": {
      "text/plain": [
       "256.75120834956067"
      ]
     },
     "execution_count": 151,
     "metadata": {},
     "output_type": "execute_result"
    }
   ],
   "source": [
    "# the Euclidean norm (which is equal to the largest singular value of a matrix)\n",
    "numpy.linalg.norm(A2, 2)"
   ]
  },
  {
   "cell_type": "code",
   "execution_count": 157,
   "metadata": {},
   "outputs": [
    {
     "data": {
      "text/plain": [
       "6.5850356145855979"
      ]
     },
     "execution_count": 157,
     "metadata": {},
     "output_type": "execute_result"
    }
   ],
   "source": [
    "# the smallest singular value\n",
    "numpy.linalg.norm(A2, -2)"
   ]
  },
  {
   "cell_type": "code",
   "execution_count": 164,
   "metadata": {},
   "outputs": [
    {
     "data": {
      "text/plain": [
       "262.0"
      ]
     },
     "execution_count": 164,
     "metadata": {},
     "output_type": "execute_result"
    }
   ],
   "source": [
    "# the largest row-sum norm\n",
    "numpy.linalg.norm(A2, numpy.inf)"
   ]
  },
  {
   "cell_type": "code",
   "execution_count": 167,
   "metadata": {},
   "outputs": [
    {
     "data": {
      "text/plain": [
       "True"
      ]
     },
     "execution_count": 167,
     "metadata": {},
     "output_type": "execute_result"
    }
   ],
   "source": [
    "numpy.linalg.norm(A2, numpy.infty) == numpy.max(sum(abs(A2), axis=1))"
   ]
  },
  {
   "cell_type": "code",
   "execution_count": 165,
   "metadata": {},
   "outputs": [
    {
     "data": {
      "text/plain": [
       "208.0"
      ]
     },
     "execution_count": 165,
     "metadata": {},
     "output_type": "execute_result"
    }
   ],
   "source": [
    "# the smalest row-sum norm\n",
    "numpy.linalg.norm(A2, -numpy.inf)"
   ]
  },
  {
   "cell_type": "code",
   "execution_count": 168,
   "metadata": {},
   "outputs": [
    {
     "data": {
      "text/plain": [
       "True"
      ]
     },
     "execution_count": 168,
     "metadata": {},
     "output_type": "execute_result"
    }
   ],
   "source": [
    "numpy.linalg.norm(A2, -numpy.infty) == numpy.min(sum(abs(A2), axis=1))"
   ]
  },
  {
   "cell_type": "code",
   "execution_count": 169,
   "metadata": {},
   "outputs": [
    {
     "data": {
      "text/plain": [
       "283.23311953230331"
      ]
     },
     "execution_count": 169,
     "metadata": {},
     "output_type": "execute_result"
    }
   ],
   "source": [
    "# the Frobenius (sum of squares) norm\n",
    "numpy.linalg.norm(A2, 'fro')"
   ]
  },
  {
   "cell_type": "code",
   "execution_count": 170,
   "metadata": {},
   "outputs": [
    {
     "data": {
      "text/plain": [
       "445.25853270705431"
      ]
     },
     "execution_count": 170,
     "metadata": {},
     "output_type": "execute_result"
    }
   ],
   "source": [
    "# nuclear norm\n",
    "numpy.linalg.norm(A2, 'nuc')"
   ]
  },
  {
   "cell_type": "code",
   "execution_count": 176,
   "metadata": {},
   "outputs": [
    {
     "data": {
      "text/plain": [
       "31"
      ]
     },
     "execution_count": 176,
     "metadata": {},
     "output_type": "execute_result"
    }
   ],
   "source": [
    "# python sympy\n",
    "A3.norm(1)"
   ]
  },
  {
   "cell_type": "code",
   "execution_count": 181,
   "metadata": {},
   "outputs": [
    {
     "data": {
      "text/plain": [
       "26"
      ]
     },
     "execution_count": 181,
     "metadata": {},
     "output_type": "execute_result"
    }
   ],
   "source": [
    "A3.norm(oo)"
   ]
  },
  {
   "cell_type": "code",
   "execution_count": 184,
   "metadata": {},
   "outputs": [
    {
     "data": {
      "text/plain": [
       "(sqrt(473), 21.75)"
      ]
     },
     "execution_count": 184,
     "metadata": {},
     "output_type": "execute_result"
    }
   ],
   "source": [
    "A3.norm('fro'), round(A3.norm('fro'), 2)"
   ]
  },
  {
   "cell_type": "markdown",
   "metadata": {},
   "source": [
    "#### In R\n",
    "Matrix norm (type):\n",
    "\n",
    "- \"O\", \"o\" or \"1\"\n",
    "  - maximum absolute column sum;\n",
    "\n",
    "- \"I\" or \"i\"\n",
    "  - maximum absolute row sum;\n",
    "\n",
    "- \"F\" or \"f\"\n",
    "  - the Euclidean norm of a matrix treated as if it were a vector;\n",
    "\n",
    "- \"M\" or \"m\"\n",
    "  - the maximum modulus of all the elements in a matrix; \n",
    "\n",
    "- \"2\"\n",
    "  - the “spectral” or 2-norm, which is the largest singular value (svd) of a matrix."
   ]
  },
  {
   "cell_type": "code",
   "execution_count": 193,
   "metadata": {},
   "outputs": [
    {
     "name": "stdout",
     "output_type": "stream",
     "text": [
      "[1] 63.87341\n"
     ]
    }
   ],
   "source": [
    "%%r\n",
    "norm(A4, type=\"O\")"
   ]
  },
  {
   "cell_type": "code",
   "execution_count": 194,
   "metadata": {},
   "outputs": [
    {
     "name": "stdout",
     "output_type": "stream",
     "text": [
      "[1] 69.96716\n"
     ]
    }
   ],
   "source": [
    "%%r\n",
    "norm(A4, type=\"I\")"
   ]
  },
  {
   "cell_type": "code",
   "execution_count": 195,
   "metadata": {},
   "outputs": [
    {
     "name": "stdout",
     "output_type": "stream",
     "text": [
      "[1] 58.88694\n"
     ]
    }
   ],
   "source": [
    "%%r\n",
    "norm(A4, type=\"F\")"
   ]
  },
  {
   "cell_type": "code",
   "execution_count": 196,
   "metadata": {},
   "outputs": [
    {
     "name": "stdout",
     "output_type": "stream",
     "text": [
      "[1] 29.84963\n"
     ]
    }
   ],
   "source": [
    "%%r\n",
    "norm(A4, type=\"M\")"
   ]
  },
  {
   "cell_type": "code",
   "execution_count": 197,
   "metadata": {},
   "outputs": [
    {
     "name": "stdout",
     "output_type": "stream",
     "text": [
      "[1] 53.71423\n"
     ]
    }
   ],
   "source": [
    "%%r\n",
    "norm(A4, type=\"2\")"
   ]
  },
  {
   "cell_type": "markdown",
   "metadata": {},
   "source": [
    "## 4. Задание.\n",
    "\n",
    "Инициировать матрицу $A(3x3)$ и рассчитать $A^2$, $A^T$, \n",
    "\n",
    "а также найти след и нормы матрицы с использованием SageMath, Numpy, SymPy, R."
   ]
  }
 ],
 "metadata": {
  "kernelspec": {
   "display_name": "SageMath 8.4",
   "language": "",
   "name": "sagemath"
  },
  "language_info": {
   "codemirror_mode": {
    "name": "ipython",
    "version": 2
   },
   "file_extension": ".py",
   "mimetype": "text/x-python",
   "name": "python",
   "nbconvert_exporter": "python",
   "pygments_lexer": "ipython2",
   "version": "2.7.15"
  }
 },
 "nbformat": 4,
 "nbformat_minor": 2
}

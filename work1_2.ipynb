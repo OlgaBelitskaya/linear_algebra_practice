{
 "cells": [
  {
   "cell_type": "markdown",
   "metadata": {},
   "source": [
    "<h1 style=\"color: #3636ff;\">Линейная алгебра. Практическая работа №2</h1>\n",
    "\n",
    "<a href=\"https://olgabelitskaya.github.io/README.html\">&#x1F300; &nbsp; Home Page</a> &nbsp; &nbsp; <a href=\"https://github.com/OlgaBelitskaya/linear_algebra_practice/blob/master/work1_1.ipynb\">📓 &nbsp; Previous</a> &nbsp; &nbsp; <a href=\"https://github.com/OlgaBelitskaya/linear_algebra_practice/blob/master/work1_3.ipynb\">📓 &nbsp; Next</a>\n",
    "\n",
    "### Программные средства\n",
    "\n",
    "[LaTeX. Mathematics. Matrices & Arrays](https://en.wikibooks.org/wiki/LaTeX/Mathematics#Matrices_and_arrays)\n",
    "\n",
    "[Sage. Matrices & Spaces of Matrices](https://doc.sagemath.org/html/en/reference/matrices/index.html)\n",
    "\n",
    "[Numpy. Quickstart tutorial](https://docs.scipy.org/doc/numpy/user/quickstart.html#linear-algebra)\n",
    "\n",
    "[SymPy. Matrices (linear algebra)](https://docs.sympy.org/latest/modules/matrices/matrices.html)\n",
    "\n",
    "[Quick-R. Matrix Algebra](https://www.statmethods.net/advstats/matrix.html)\n",
    "\n",
    "[R - Matrices](https://www.tutorialspoint.com/r/r_matrices.htm)\n",
    "\n",
    "### Конспекты лекций\n",
    "\n",
    "[Матрицы. Системы линейных уравнений. Алгоритм Гаусса](http://matematika.phys.msu.ru/files/a_stud_gen/246/AG-08_2009-2010.pdf)\n",
    "\n",
    "[АЛГЕБРА И ГЕОМЕТРИЯ ДЛЯ СТУДЕНТОВ-ФИЗИКОВ](http://math.phys.msu.ru/data/24/Algebra_and_geometry.pdf)"
   ]
  },
  {
   "cell_type": "markdown",
   "metadata": {},
   "source": [
    "# Матрицы\n",
    "\n",
    "## 1. Операции над матрицами\n",
    "### 1.1 Возведение в степень"
   ]
  },
  {
   "cell_type": "code",
   "execution_count": 1,
   "metadata": {},
   "outputs": [],
   "source": [
    "A=random_matrix(ZZ,5,x=0,y=100)\n",
    "B=random_matrix(ZZ,5,x=-100,y=0)\n",
    "mm=\" \".join(list('m_%d%d'%(i,j) \n",
    "            for i in [1..3] for j in [1..3]))\n",
    "M=matrix(SR,3,var(mm)) \n",
    "nn=\" \".join(list('n_%d%d'%(i,j) \n",
    "            for i in [1..3] for j in [1..3]))\n",
    "N=matrix(SR,3,var(nn))"
   ]
  },
  {
   "cell_type": "code",
   "execution_count": 2,
   "metadata": {},
   "outputs": [
    {
     "data": {
      "text/html": [
       "<html><script type=\"math/tex; mode=display\">\\newcommand{\\Bold}[1]{\\mathbf{#1}}\\left(\\begin{array}{rrrrr}\n",
       "65 & 75 & 32 & 54 & 10 \\\\\n",
       "12 & 83 & 39 & 31 & 8 \\\\\n",
       "56 & 11 & 67 & 34 & 87 \\\\\n",
       "20 & 88 & 93 & 7 & 22 \\\\\n",
       "1 & 84 & 29 & 21 & 4\n",
       "\\end{array}\\right) \\left(\\begin{array}{rrrrr}\n",
       "-21 & -53 & -100 & -32 & -68 \\\\\n",
       "-55 & -20 & -86 & -72 & -70 \\\\\n",
       "-30 & -11 & -58 & -3 & -2 \\\\\n",
       "-83 & -83 & -49 & -100 & -70 \\\\\n",
       "-18 & -88 & -49 & -19 & -76\n",
       "\\end{array}\\right)</script></html>"
      ],
      "text/plain": [
       "[65 75 32 54 10]\n",
       "[12 83 39 31  8]\n",
       "[56 11 67 34 87]\n",
       "[20 88 93  7 22]\n",
       "[ 1 84 29 21  4] [ -21  -53 -100  -32  -68]\n",
       "[ -55  -20  -86  -72  -70]\n",
       "[ -30  -11  -58   -3   -2]\n",
       "[ -83  -83  -49 -100  -70]\n",
       "[ -18  -88  -49  -19  -76]"
      ]
     },
     "metadata": {},
     "output_type": "display_data"
    },
    {
     "data": {
      "text/html": [
       "<html><script type=\"math/tex; mode=display\">\\newcommand{\\Bold}[1]{\\mathbf{#1}}\\left(\\begin{array}{rrr}\n",
       "m_{11} & m_{12} & m_{13} \\\\\n",
       "m_{21} & m_{22} & m_{23} \\\\\n",
       "m_{31} & m_{32} & m_{33}\n",
       "\\end{array}\\right) \\left(\\begin{array}{rrr}\n",
       "n_{11} & n_{12} & n_{13} \\\\\n",
       "n_{21} & n_{22} & n_{23} \\\\\n",
       "n_{31} & n_{32} & n_{33}\n",
       "\\end{array}\\right)</script></html>"
      ],
      "text/plain": [
       "[m_11 m_12 m_13]\n",
       "[m_21 m_22 m_23]\n",
       "[m_31 m_32 m_33] [n_11 n_12 n_13]\n",
       "[n_21 n_22 n_23]\n",
       "[n_31 n_32 n_33]"
      ]
     },
     "metadata": {},
     "output_type": "display_data"
    },
    {
     "data": {
      "text/html": [
       "<html><script type=\"math/tex; mode=display\">\\newcommand{\\Bold}[1]{\\mathbf{#1}}\\left(\\begin{array}{rrr}\n",
       "m_{11}^{2} + m_{12} m_{21} + m_{13} m_{31} & m_{11} m_{12} + m_{12} m_{22} + m_{13} m_{32} & m_{11} m_{13} + m_{12} m_{23} + m_{13} m_{33} \\\\\n",
       "m_{11} m_{21} + m_{21} m_{22} + m_{23} m_{31} & m_{12} m_{21} + m_{22}^{2} + m_{23} m_{32} & m_{13} m_{21} + m_{22} m_{23} + m_{23} m_{33} \\\\\n",
       "m_{11} m_{31} + m_{21} m_{32} + m_{31} m_{33} & m_{12} m_{31} + m_{22} m_{32} + m_{32} m_{33} & m_{13} m_{31} + m_{23} m_{32} + m_{33}^{2}\n",
       "\\end{array}\\right)</script></html>"
      ],
      "text/plain": [
       "[   m_11^2 + m_12*m_21 + m_13*m_31 m_11*m_12 + m_12*m_22 + m_13*m_32 m_11*m_13 + m_12*m_23 + m_13*m_33]\n",
       "[m_11*m_21 + m_21*m_22 + m_23*m_31    m_12*m_21 + m_22^2 + m_23*m_32 m_13*m_21 + m_22*m_23 + m_23*m_33]\n",
       "[m_11*m_31 + m_21*m_32 + m_31*m_33 m_12*m_31 + m_22*m_32 + m_32*m_33    m_13*m_31 + m_23*m_32 + m_33^2]"
      ]
     },
     "metadata": {},
     "output_type": "display_data"
    },
    {
     "data": {
      "text/html": [
       "<html><script type=\"math/tex; mode=display\">\\newcommand{\\Bold}[1]{\\mathbf{#1}}\\verb|A^3|\\phantom{\\verb!x!}\\verb|=|\\phantom{\\verb!x!}\\verb|A*A*A:|\\phantom{\\verb!x!}\\verb|True|</script></html>"
      ],
      "text/plain": [
       "'A^3 = A*A*A: True'"
      ]
     },
     "metadata": {},
     "output_type": "display_data"
    },
    {
     "data": {
      "text/html": [
       "<html><script type=\"math/tex; mode=display\">\\newcommand{\\Bold}[1]{\\mathbf{#1}}\\left(\\begin{array}{rrrrr}\n",
       "1578281 & 3255224 & 2606948 & 1547495 & 1486819 \\\\\n",
       "1064711 & 2256093 & 1826816 & 1063011 & 1080255 \\\\\n",
       "1588568 & 3413056 & 2662088 & 1582783 & 1490343 \\\\\n",
       "1457691 & 3161351 & 2466851 & 1438697 & 1385622 \\\\\n",
       "808568 & 1757617 & 1429944 & 817932 & 844432\n",
       "\\end{array}\\right)</script></html>"
      ],
      "text/plain": [
       "[1578281 3255224 2606948 1547495 1486819]\n",
       "[1064711 2256093 1826816 1063011 1080255]\n",
       "[1588568 3413056 2662088 1582783 1490343]\n",
       "[1457691 3161351 2466851 1438697 1385622]\n",
       "[ 808568 1757617 1429944  817932  844432]"
      ]
     },
     "metadata": {},
     "output_type": "display_data"
    }
   ],
   "source": [
    "pretty_print(A,B); pretty_print(M,N)\n",
    "pretty_print(M^2)\n",
    "pretty_print('A^3 = A*A*A: %s'%str(A^3==A*A*A))\n",
    "pretty_print(A^3)"
   ]
  },
  {
   "cell_type": "code",
   "execution_count": 9,
   "metadata": {},
   "outputs": [],
   "source": [
    "import numpy,sympy\n",
    "A1=numpy.matrix(numpy.random.randint(0,100,size=(5,5)))\n",
    "B1=numpy.matrix(numpy.random.randint(-100,0,size=(5,5)))\n",
    "A2=sympy.Matrix([[-3,-3,-6,-3],[-4,-7,8,-7],\n",
    "                 [2,-3,9,-5],[6,-3,8,2]])\n",
    "B2=sympy.Matrix([[-8,-4,5,2],[3,-5,8,-2],\n",
    "                 [5,4,-8,1],[7,-2,9,5]])\n",
    "mm=sympy.symbols(\" \".join(list('m_%d%d' %(i,j) \n",
    "                 for i in [1,2,3] for j in [1,2,3])))\n",
    "M=sympy.Matrix(int(3),int(3),mm) \n",
    "nn=sympy.symbols(\" \".join(list('n_%d%d' %(i,j) \n",
    "                 for i in [1,2,3] for j in [1,2,3])))\n",
    "N=sympy.Matrix(int(3),int(3),nn)"
   ]
  },
  {
   "cell_type": "code",
   "execution_count": 10,
   "metadata": {},
   "outputs": [
    {
     "name": "stdout",
     "output_type": "stream",
     "text": [
      "[[57 35 82  8 29]\n",
      " [97  0 62 35 26]\n",
      " [30  8 80  1 60]\n",
      " [98 46 60 94 21]\n",
      " [29 60 51  1 38]]\n",
      "[[ -60  -80  -61  -91 -100]\n",
      " [ -64  -85  -79  -68  -29]\n",
      " [ -18  -95  -57  -74   -2]\n",
      " [ -46  -31  -52  -91  -50]\n",
      " [ -92  -45  -57  -85  -35]]\n",
      "⎡-3  -3  -6  -3⎤\n",
      "⎢              ⎥\n",
      "⎢-4  -7  8   -7⎥\n",
      "⎢              ⎥\n",
      "⎢2   -3  9   -5⎥\n",
      "⎢              ⎥\n",
      "⎣6   -3  8   2 ⎦\n",
      "⎡-8  -4  5   2 ⎤\n",
      "⎢              ⎥\n",
      "⎢3   -5  8   -2⎥\n",
      "⎢              ⎥\n",
      "⎢5   4   -8  1 ⎥\n",
      "⎢              ⎥\n",
      "⎣7   -2  9   5 ⎦\n",
      "⎡m₁₁  m₁₂  m₁₃⎤\n",
      "⎢             ⎥\n",
      "⎢m₂₁  m₂₂  m₂₃⎥\n",
      "⎢             ⎥\n",
      "⎣m₃₁  m₃₂  m₃₃⎦\n",
      "⎡n₁₁  n₁₂  n₁₃⎤\n",
      "⎢             ⎥\n",
      "⎢n₂₁  n₂₂  n₂₃⎥\n",
      "⎢             ⎥\n",
      "⎣n₃₁  n₃₂  n₃₃⎦\n",
      "[[ True  True  True  True  True]\n",
      " [ True  True  True  True  True]\n",
      " [ True  True  True  True  True]\n",
      " [ True  True  True  True  True]\n",
      " [ True  True  True  True  True]]\n",
      "True\n",
      "[[2037215 1140623 3002919  515649 1742693]\n",
      " [2481294 1222219 3364264  754791 1900565]\n",
      " [1586223  860572 2342649  332083 1408928]\n",
      " [4238389 2082513 5366976 1601685 2852296]\n",
      " [1757828  985763 2547290  468351 1439924]]\n",
      "⎡-45   -282  186   156 ⎤\n",
      "⎢                      ⎥\n",
      "⎢-264  -421  292   -354⎥\n",
      "⎢                      ⎥\n",
      "⎢-224  102   -215  -108⎥\n",
      "⎢                      ⎥\n",
      "⎣-100  138   -360  -83 ⎦\n"
     ]
    }
   ],
   "source": [
    "for el in [A1,B1]: print(el)\n",
    "for el in [A2,B2,M,N]: sympy.pprint(el)\n",
    "print(A1**int(3)==A1*A1*A1); print(A2^3==A2*A2*A2)\n",
    "print(A1**int(3)); sympy.pprint(A2^3)"
   ]
  },
  {
   "cell_type": "code",
   "execution_count": 11,
   "metadata": {},
   "outputs": [
    {
     "name": "stdout",
     "output_type": "stream",
     "text": [
      "[1] \"Matrix\"    \"tools\"     \"stats\"     \"graphics\"  \"grDevices\" \"utils\"    \n",
      "[7] \"datasets\"  \"methods\"   \"base\"\n"
     ]
    }
   ],
   "source": [
    "%%r\n",
    "A<-matrix(rexp(49,rate=0.1),nrow=7,ncol=7) \n",
    "B<-matrix(rexp(49,rate=1.0),nrow=7,ncol=7)\n",
    "library(Matrix)"
   ]
  },
  {
   "cell_type": "code",
   "execution_count": 12,
   "metadata": {},
   "outputs": [
    {
     "name": "stdout",
     "output_type": "stream",
     "text": [
      "           [,1]      [,2]      [,3]      [,4]      [,5]      [,6]      [,7]\n",
      "[1,]  8.5905794 28.055757  5.544592 46.036219 10.673266  2.542988  6.466423\n",
      "[2,]  4.1642001  5.789427 12.885968  1.332868 65.185268  8.732660  8.305124\n",
      "[3,]  0.5360842 12.038240  0.665423  4.745214 14.563884 24.863652 20.589531\n",
      "[4,] 37.7957455  6.835676 12.857274  4.182911  3.910649 26.330004 17.266585\n",
      "[5,]  9.0514115 11.014719  4.589773  5.839543 22.800490  1.741804 14.076278\n",
      "[6,]  7.8284320  1.451585  4.425303  1.356473  1.123814  7.074737 14.074253\n",
      "[7,]  4.9746267  2.158784  9.964632 19.930931  4.724029 32.408054 35.351161\n",
      "          [,8]       [,9]      [,10]       [,11]     [,12]     [,13]     [,14]\n",
      "[1,] 0.5200754 2.43683592 0.08059778 1.652155571 2.0057791 0.9052351 0.2082438\n",
      "[2,] 1.0335650 2.54848983 0.83361777 2.039018299 0.2728333 2.1047306 0.5650266\n",
      "[3,] 1.1171442 0.03778145 0.87132942 0.008152395 0.5455714 0.2311155 1.4975198\n",
      "[4,] 0.5685954 0.73730024 0.49788886 0.241557481 4.3933869 0.2894384 0.4376707\n",
      "[5,] 3.6321777 0.22741171 0.47199795 2.409985376 4.0243463 3.2150779 2.0292593\n",
      "[6,] 1.0342282 1.10921149 0.13114544 1.976358171 2.3725772 0.6914185 0.2723958\n",
      "[7,] 3.3405553 1.06739442 6.19464730 0.306928985 0.8522239 1.4585601 1.7373270\n",
      "         [,15]     [,16]    [,17]     [,18]     [,19]     [,20]     [,21]\n",
      "[1,]  99168.64 116387.66 70627.05 154999.70 167714.44 133408.36 176789.74\n",
      "[2,]  77532.12  69851.51 59780.68  92605.21 147176.02 111434.35 141932.14\n",
      "[3,]  57615.26  50898.92 41982.72  74860.87  79374.50  93598.88 116014.82\n",
      "[4,] 127899.77  74465.30 80227.18  95785.55 156817.03 155593.72 164997.81\n",
      "[5,]  68859.93  54610.57 47004.21  70082.16 103989.49  91683.79 111724.88\n",
      "[6,]  42194.77  23696.82 27380.13  35352.54  44095.31  59236.49  64219.77\n",
      "[7,]  92444.90  73523.10 66483.10 123045.39  98620.66 152722.18 174882.60\n",
      "         [,22]      [,23]      [,24]       [,25]     [,26]     [,27]     [,28]\n",
      "[1,] 0.5200754 2.43683592 0.08059778 1.652155571 2.0057791 0.9052351 0.2082438\n",
      "[2,] 1.0335650 2.54848983 0.83361777 2.039018299 0.2728333 2.1047306 0.5650266\n",
      "[3,] 1.1171442 0.03778145 0.87132942 0.008152395 0.5455714 0.2311155 1.4975198\n",
      "[4,] 0.5685954 0.73730024 0.49788886 0.241557481 4.3933869 0.2894384 0.4376707\n",
      "[5,] 3.6321777 0.22741171 0.47199795 2.409985376 4.0243463 3.2150779 2.0292593\n",
      "[6,] 1.0342282 1.10921149 0.13114544 1.976358171 2.3725772 0.6914185 0.2723958\n",
      "[7,] 3.3405553 1.06739442 6.19464730 0.306928985 0.8522239 1.4585601 1.7373270\n"
     ]
    }
   ],
   "source": [
    "%%r\n",
    "AP<-A%*%A%*%A # Matrix Power \n",
    "expm(B) # Matrix Exponential\n",
    "matrix(c(A,B,AP,B),nrow=7)"
   ]
  },
  {
   "cell_type": "markdown",
   "metadata": {},
   "source": [
    "### 1.2 Транспонирование"
   ]
  },
  {
   "cell_type": "code",
   "execution_count": 3,
   "metadata": {},
   "outputs": [
    {
     "data": {
      "text/plain": [
       "[True, True, True, True, True]"
      ]
     },
     "execution_count": 3,
     "metadata": {},
     "output_type": "execute_result"
    }
   ],
   "source": [
    "[M.T.T==M,(M+N).T==M.T+N.T,(M-N).T==\\\n",
    " M.T-N.T,(var('k')*M).T==var('k')*M.T,\n",
    " (M*N).T==N.T*M.T]"
   ]
  },
  {
   "cell_type": "code",
   "execution_count": 4,
   "metadata": {},
   "outputs": [
    {
     "data": {
      "text/html": [
       "<html><script type=\"math/tex; mode=display\">\\newcommand{\\Bold}[1]{\\mathbf{#1}}\\left(\\begin{array}{rrr}\n",
       "m_{11} & m_{12} & m_{13} \\\\\n",
       "m_{21} & m_{22} & m_{23} \\\\\n",
       "m_{31} & m_{32} & m_{33}\n",
       "\\end{array}\\right) \\verb|->| \\left(\\begin{array}{rrr}\n",
       "m_{11} & m_{21} & m_{31} \\\\\n",
       "m_{12} & m_{22} & m_{32} \\\\\n",
       "m_{13} & m_{23} & m_{33}\n",
       "\\end{array}\\right)</script></html>"
      ],
      "text/plain": [
       "[m_11 m_12 m_13]\n",
       "[m_21 m_22 m_23]\n",
       "[m_31 m_32 m_33] '->' [m_11 m_21 m_31]\n",
       "[m_12 m_22 m_32]\n",
       "[m_13 m_23 m_33]"
      ]
     },
     "metadata": {},
     "output_type": "display_data"
    },
    {
     "data": {
      "text/html": [
       "<html><script type=\"math/tex; mode=display\">\\newcommand{\\Bold}[1]{\\mathbf{#1}}\\left(\\begin{array}{rrr}\n",
       "m_{11} + n_{11} & m_{21} + n_{21} & m_{31} + n_{31} \\\\\n",
       "m_{12} + n_{12} & m_{22} + n_{22} & m_{32} + n_{32} \\\\\n",
       "m_{13} + n_{13} & m_{23} + n_{23} & m_{33} + n_{33}\n",
       "\\end{array}\\right) \\left(\\begin{array}{rrr}\n",
       "m_{11} n_{11} + m_{12} n_{21} + m_{13} n_{31} & m_{21} n_{11} + m_{22} n_{21} + m_{23} n_{31} & m_{31} n_{11} + m_{32} n_{21} + m_{33} n_{31} \\\\\n",
       "m_{11} n_{12} + m_{12} n_{22} + m_{13} n_{32} & m_{21} n_{12} + m_{22} n_{22} + m_{23} n_{32} & m_{31} n_{12} + m_{32} n_{22} + m_{33} n_{32} \\\\\n",
       "m_{11} n_{13} + m_{12} n_{23} + m_{13} n_{33} & m_{21} n_{13} + m_{22} n_{23} + m_{23} n_{33} & m_{31} n_{13} + m_{32} n_{23} + m_{33} n_{33}\n",
       "\\end{array}\\right)</script></html>"
      ],
      "text/plain": [
       "[m_11 + n_11 m_21 + n_21 m_31 + n_31]\n",
       "[m_12 + n_12 m_22 + n_22 m_32 + n_32]\n",
       "[m_13 + n_13 m_23 + n_23 m_33 + n_33] [m_11*n_11 + m_12*n_21 + m_13*n_31 m_21*n_11 + m_22*n_21 + m_23*n_31 m_31*n_11 + m_32*n_21 + m_33*n_31]\n",
       "[m_11*n_12 + m_12*n_22 + m_13*n_32 m_21*n_12 + m_22*n_22 + m_23*n_32 m_31*n_12 + m_32*n_22 + m_33*n_32]\n",
       "[m_11*n_13 + m_12*n_23 + m_13*n_33 m_21*n_13 + m_22*n_23 + m_23*n_33 m_31*n_13 + m_32*n_23 + m_33*n_33]"
      ]
     },
     "metadata": {},
     "output_type": "display_data"
    }
   ],
   "source": [
    "pretty_print(M,'->',M.T)\n",
    "pretty_print((M+N).T,(M*N).T)"
   ]
  },
  {
   "cell_type": "code",
   "execution_count": 13,
   "metadata": {},
   "outputs": [
    {
     "name": "stdout",
     "output_type": "stream",
     "text": [
      "[[57 35 82  8 29]\n",
      " [97  0 62 35 26]\n",
      " [30  8 80  1 60]\n",
      " [98 46 60 94 21]\n",
      " [29 60 51  1 38]]\n",
      "[[57 97 30 98 29]\n",
      " [35  0  8 46 60]\n",
      " [82 62 80 60 51]\n",
      " [ 8 35  1 94  1]\n",
      " [29 26 60 21 38]]\n",
      "⎡-3  -3  -6  -3⎤\n",
      "⎢              ⎥\n",
      "⎢-4  -7  8   -7⎥\n",
      "⎢              ⎥\n",
      "⎢2   -3  9   -5⎥\n",
      "⎢              ⎥\n",
      "⎣6   -3  8   2 ⎦\n",
      "⎡-3  -4  2   6 ⎤\n",
      "⎢              ⎥\n",
      "⎢-3  -7  -3  -3⎥\n",
      "⎢              ⎥\n",
      "⎢-6  8   9   8 ⎥\n",
      "⎢              ⎥\n",
      "⎣-3  -7  -5  2 ⎦\n"
     ]
    }
   ],
   "source": [
    "print(A1); print(numpy.transpose(A1))\n",
    "sympy.pprint(A2); sympy.pprint(A2.T)"
   ]
  },
  {
   "cell_type": "code",
   "execution_count": 14,
   "metadata": {},
   "outputs": [
    {
     "name": "stdout",
     "output_type": "stream",
     "text": [
      "[[ -3  33  12  52 -63]\n",
      " [-45 -85 -87  15  15]\n",
      " [ 21 -17  23   8  -6]\n",
      " [-83 -33 -73   3 -84]\n",
      " [-71  -3  58 -29   3]]\n",
      "[[-10172 -10938  -9318 -16160 -10040]\n",
      " [-16878 -15905 -13411 -21309 -14006]\n",
      " [-12985 -12753 -10494 -19117 -11634]\n",
      " [-16828 -18810 -14385 -26825 -13814]\n",
      " [ -8294 -12484  -5542 -16689  -6122]]\n",
      "⎡-11  -1   7   13⎤\n",
      "⎢                ⎥\n",
      "⎢-7   -12  1   -5⎥\n",
      "⎢                ⎥\n",
      "⎢-1   16   1   17⎥\n",
      "⎢                ⎥\n",
      "⎣-1   -9   -4  7 ⎦\n",
      "⎡-36   2    -15   -3 ⎤\n",
      "⎢                    ⎥\n",
      "⎢ 9    97    53   19 ⎥\n",
      "⎢                    ⎥\n",
      "⎢-18  -203  -131  -40⎥\n",
      "⎢                    ⎥\n",
      "⎣-21  -21    -6   36 ⎦\n"
     ]
    }
   ],
   "source": [
    "print(numpy.transpose(A1+B1))\n",
    "print(numpy.transpose(A1*B1))\n",
    "sympy.pprint((A2+B2).T)\n",
    "sympy.pprint((A2*B2).T)"
   ]
  },
  {
   "cell_type": "code",
   "execution_count": 15,
   "metadata": {},
   "outputs": [
    {
     "name": "stdout",
     "output_type": "stream",
     "text": [
      "           [,1]      [,2]      [,3]      [,4]      [,5]      [,6]      [,7]\n",
      "[1,]  8.5905794 28.055757  5.544592 46.036219 10.673266  2.542988  6.466423\n",
      "[2,]  4.1642001  5.789427 12.885968  1.332868 65.185268  8.732660  8.305124\n",
      "[3,]  0.5360842 12.038240  0.665423  4.745214 14.563884 24.863652 20.589531\n",
      "[4,] 37.7957455  6.835676 12.857274  4.182911  3.910649 26.330004 17.266585\n",
      "[5,]  9.0514115 11.014719  4.589773  5.839543 22.800490  1.741804 14.076278\n",
      "[6,]  7.8284320  1.451585  4.425303  1.356473  1.123814  7.074737 14.074253\n",
      "[7,]  4.9746267  2.158784  9.964632 19.930931  4.724029 32.408054 35.351161\n",
      "          [,8]      [,9]      [,10]     [,11]     [,12]     [,13]     [,14]\n",
      "[1,]  8.590579  4.164200  0.5360842 37.795745  9.051412  7.828432  4.974627\n",
      "[2,] 28.055757  5.789427 12.0382395  6.835676 11.014719  1.451585  2.158784\n",
      "[3,]  5.544592 12.885968  0.6654230 12.857274  4.589773  4.425303  9.964632\n",
      "[4,] 46.036219  1.332868  4.7452137  4.182911  5.839543  1.356473 19.930931\n",
      "[5,] 10.673266 65.185268 14.5638835  3.910649 22.800490  1.123814  4.724029\n",
      "[6,]  2.542988  8.732660 24.8636518 26.330004  1.741804  7.074737 32.408054\n",
      "[7,]  6.466423  8.305124 20.5895312 17.266585 14.076278 14.074253 35.351161\n"
     ]
    }
   ],
   "source": [
    "%%r\n",
    "matrix(c(A,t(A)),nrow=7)"
   ]
  },
  {
   "cell_type": "code",
   "execution_count": 16,
   "metadata": {},
   "outputs": [
    {
     "name": "stdout",
     "output_type": "stream",
     "text": [
      "          [,1]      [,2]       [,3]      [,4]      [,5]      [,6]      [,7]\n",
      "[1,]  8.590579  4.164200  0.5360842 37.795745  9.051412  7.828432  4.974627\n",
      "[2,] 28.055757  5.789427 12.0382395  6.835676 11.014719  1.451585  2.158784\n",
      "[3,]  5.544592 12.885968  0.6654230 12.857274  4.589773  4.425303  9.964632\n",
      "[4,] 46.036219  1.332868  4.7452137  4.182911  5.839543  1.356473 19.930931\n",
      "[5,] 10.673266 65.185268 14.5638835  3.910649 22.800490  1.123814  4.724029\n",
      "[6,]  2.542988  8.732660 24.8636518 26.330004  1.741804  7.074737 32.408054\n",
      "[7,]  6.466423  8.305124 20.5895312 17.266585 14.076278 14.074253 35.351161\n",
      "           [,8]      [,9]       [,10]     [,11]     [,12]     [,13]     [,14]\n",
      "[1,] 0.52007538 1.0335650 1.117144171 0.5685954 3.6321777 1.0342282 3.3405553\n",
      "[2,] 2.43683592 2.5484898 0.037781448 0.7373002 0.2274117 1.1092115 1.0673944\n",
      "[3,] 0.08059778 0.8336178 0.871329420 0.4978889 0.4719980 0.1311454 6.1946473\n",
      "[4,] 1.65215557 2.0390183 0.008152395 0.2415575 2.4099854 1.9763582 0.3069290\n",
      "[5,] 2.00577909 0.2728333 0.545571380 4.3933869 4.0243463 2.3725772 0.8522239\n",
      "[6,] 0.90523512 2.1047306 0.231115465 0.2894384 3.2150779 0.6914185 1.4585601\n",
      "[7,] 0.20824380 0.5650266 1.497519821 0.4376707 2.0292593 0.2723958 1.7373270\n",
      "         [,15]     [,16]     [,17]     [,18]     [,19]     [,20]     [,21]\n",
      "[1,]  9.110655  5.197765  1.653228 38.364341 12.683589  8.862660  8.315182\n",
      "[2,] 30.492593  8.337917 12.076021  7.572976 11.242131  2.560796  3.226178\n",
      "[3,]  5.625189 13.719586  1.536752 13.355163  5.061771  4.556448 16.159279\n",
      "[4,] 47.688374  3.371887  4.753366  4.424469  8.249528  3.332831 20.237860\n",
      "[5,] 12.679045 65.458101 15.109455  8.304036 26.824836  3.496391  5.576253\n",
      "[6,]  3.448223 10.837391 25.094767 26.619442  4.956882  7.766155 33.866614\n",
      "[7,]  6.674667  8.870150 22.087051 17.704256 16.105537 14.346649 37.088488\n",
      "         [,22]     [,23]     [,24]     [,25]     [,26]    [,27]    [,28]\n",
      "[1,] 128.83396 296.84256 163.55636 142.57895 156.17906 69.70127 196.0513\n",
      "[2,] 138.73580  59.74645  88.37766 161.61764  76.74868 47.06900 107.4509\n",
      "[3,]  97.26071 100.41321 150.70065 134.28943 115.00603 95.01558 246.2743\n",
      "[4,] 115.29777 196.01516 117.14130 144.25949 101.57325 37.26772 103.8014\n",
      "[5,] 284.66244 312.94286 160.71823 195.98939 157.20550 57.77437 229.5965\n",
      "[6,] 126.93771 247.04585 121.39605 108.74595 129.16839 40.59003 106.2761\n",
      "[7,]  79.67884 173.10397  82.08429  77.92344  88.73525 38.33029 105.7317\n"
     ]
    }
   ],
   "source": [
    "%%r\n",
    "matrix(c(t(A),t(B),t(A+B),t(A%*%B)),nrow=7)"
   ]
  },
  {
   "cell_type": "markdown",
   "metadata": {},
   "source": [
    "## 2. След матрицы\n",
    "<table border=\"1\">\n",
    "        <thead>\n",
    "            <tr>\n",
    "                <th>-</th>\n",
    "                <th>1</th>\n",
    "                <th>2</th>\n",
    "                <th>3</th>\n",
    "                <th>4</th>\n",
    "                <th>5</th>\n",
    "            </tr>\n",
    "        </thead>\n",
    "        <tbody>\n",
    "            <tr>\n",
    "                <td style=\"font-weight:bold;\">1</td>\n",
    "                <td style=\"color:#3636ff;\">$A_{11}$</td>\n",
    "                <td>$A_{12}$</td>\n",
    "                <td>$A_{13}$</td>\n",
    "                <td>$A_{14}$</td>\n",
    "                <td>$A_{15}$</td>\n",
    "            </tr>\n",
    "            <tr>\n",
    "                <td style=\"font-weight:bold;\">2</td>\n",
    "                <td>$A_{21}$</td>\n",
    "                <td style=\"color:#3636ff;\">$A_{22}$</td>\n",
    "                <td>$A_{23}$</td>\n",
    "                <td>$A_{24}$</td>\n",
    "                <td>$A_{25}$</td>\n",
    "            </tr>\n",
    "                        <tr>\n",
    "                <td style=\"font-weight:bold;\">3</td>\n",
    "                <td>$A_{31}$</td>\n",
    "                <td>$A_{32}$</td>\n",
    "                <td style=\"color:#3636ff;\">$A_{33}$</td>\n",
    "                <td>$A_{34}$</td>\n",
    "                <td>$A_{35}$</td>\n",
    "            </tr>\n",
    "            <tr>\n",
    "                <td style=\"font-weight:bold;\">4</td>\n",
    "                <td>$A_{41}$</td>\n",
    "                <td>$A_{42}$</td>\n",
    "                <td>$A_{43}$</td>\n",
    "                <td style=\"color:#3636ff;\">$A_{44}$</td>\n",
    "                <td>$A_{45}$</td>\n",
    "            </tr>\n",
    "            <tr>\n",
    "                <td style=\"font-weight:bold;\">5</td>\n",
    "                <td>$A_{51}$</td>\n",
    "                <td>$A_{52}$</td>\n",
    "                <td>$A_{53}$</td>\n",
    "                <td>$A_{54}$</td>\n",
    "                <td style=\"color:#3636ff;\">$A_{55}$</td>\n",
    "            </tr>\n",
    "        </tbody>\n",
    "    </table>\n",
    "    \n",
    "$TR = A_{11} + A_{22} + A_{33} + A_{44} + A_{55}$ "
   ]
  },
  {
   "cell_type": "code",
   "execution_count": 5,
   "metadata": {},
   "outputs": [
    {
     "data": {
      "text/html": [
       "<html><script type=\"math/tex; mode=display\">\\newcommand{\\Bold}[1]{\\mathbf{#1}}\\left(\\begin{array}{rrrrr}\n",
       "65 & 75 & 32 & 54 & 10 \\\\\n",
       "12 & 83 & 39 & 31 & 8 \\\\\n",
       "56 & 11 & 67 & 34 & 87 \\\\\n",
       "20 & 88 & 93 & 7 & 22 \\\\\n",
       "1 & 84 & 29 & 21 & 4\n",
       "\\end{array}\\right) \\verb|->| 226</script></html>"
      ],
      "text/plain": [
       "[65 75 32 54 10]\n",
       "[12 83 39 31  8]\n",
       "[56 11 67 34 87]\n",
       "[20 88 93  7 22]\n",
       "[ 1 84 29 21  4] '->' 226"
      ]
     },
     "metadata": {},
     "output_type": "display_data"
    },
    {
     "data": {
      "text/html": [
       "<html><script type=\"math/tex; mode=display\">\\newcommand{\\Bold}[1]{\\mathbf{#1}}\\left(\\begin{array}{rrrrr}\n",
       "-21 & -53 & -100 & -32 & -68 \\\\\n",
       "-55 & -20 & -86 & -72 & -70 \\\\\n",
       "-30 & -11 & -58 & -3 & -2 \\\\\n",
       "-83 & -83 & -49 & -100 & -70 \\\\\n",
       "-18 & -88 & -49 & -19 & -76\n",
       "\\end{array}\\right) \\verb|->| -275</script></html>"
      ],
      "text/plain": [
       "[ -21  -53 -100  -32  -68]\n",
       "[ -55  -20  -86  -72  -70]\n",
       "[ -30  -11  -58   -3   -2]\n",
       "[ -83  -83  -49 -100  -70]\n",
       "[ -18  -88  -49  -19  -76] '->' -275"
      ]
     },
     "metadata": {},
     "output_type": "display_data"
    }
   ],
   "source": [
    "pretty_print(A,'->',A.trace())\n",
    "pretty_print(B,'->',B.trace())"
   ]
  },
  {
   "cell_type": "code",
   "execution_count": 17,
   "metadata": {},
   "outputs": [
    {
     "name": "stdout",
     "output_type": "stream",
     "text": [
      "(269, True)\n"
     ]
    },
    {
     "data": {
      "text/plain": [
       "[1, True]"
      ]
     },
     "execution_count": 17,
     "metadata": {},
     "output_type": "execute_result"
    }
   ],
   "source": [
    "print(numpy.trace(A1),\n",
    "      sum(numpy.diagonal(A1))==numpy.trace(A1))\n",
    "[sympy.trace(A2),\n",
    "sum([A2[i,j] for i in [0..A2.shape[0]-1] \n",
    "             for j in [0..A2.shape[0]-1] \n",
    "             if i==j])==sympy.trace(A2)]"
   ]
  },
  {
   "cell_type": "code",
   "execution_count": 18,
   "metadata": {},
   "outputs": [
    {
     "name": "stdout",
     "output_type": "stream",
     "text": [
      "[1] TRUE TRUE\n",
      "[1] 84.45473 10.63454\n"
     ]
    }
   ],
   "source": [
    "%%r\n",
    "print(c(dim(A)[1]==dim(A)[2],\n",
    "        dim(B)[1]==dim(B)[2]))\n",
    "c(sum(diag(A)),sum(diag(B)))"
   ]
  },
  {
   "cell_type": "markdown",
   "metadata": {},
   "source": [
    "## 3. Норма матрицы"
   ]
  },
  {
   "cell_type": "code",
   "execution_count": 6,
   "metadata": {},
   "outputs": [
    {
     "data": {
      "text/html": [
       "<html><script type=\"math/tex; mode=display\">\\newcommand{\\Bold}[1]{\\mathbf{#1}}341.0 \\phantom{\\verb!x!}\\verb|-|\\phantom{\\verb!x!}\\verb|the|\\phantom{\\verb!x!}\\verb|largest|\\phantom{\\verb!x!}\\verb|column-sum|\\phantom{\\verb!x!}\\verb|norm|</script></html>"
      ],
      "text/plain": [
       "341.0 ' - the largest column-sum norm'"
      ]
     },
     "metadata": {},
     "output_type": "display_data"
    },
    {
     "data": {
      "text/html": [
       "<html><script type=\"math/tex; mode=display\">\\newcommand{\\Bold}[1]{\\mathbf{#1}}\\mathrm{True} \\mathrm{True} \\mathrm{True} \\mathrm{True}</script></html>"
      ],
      "text/plain": [
       "True True True True"
      ]
     },
     "metadata": {},
     "output_type": "display_data"
    },
    {
     "data": {
      "text/html": [
       "<html><script type=\"math/tex; mode=display\">\\newcommand{\\Bold}[1]{\\mathbf{#1}}224.4288329283189 \\phantom{\\verb!x!}\\verb|-|\\phantom{\\verb!x!}\\verb|the|\\phantom{\\verb!x!}\\verb|Euclidean|\\phantom{\\verb!x!}\\verb|norm|</script></html>"
      ],
      "text/plain": [
       "224.4288329283189 ' - the Euclidean norm'"
      ]
     },
     "metadata": {},
     "output_type": "display_data"
    },
    {
     "data": {
      "text/html": [
       "<html><script type=\"math/tex; mode=display\">\\newcommand{\\Bold}[1]{\\mathbf{#1}}\\mathrm{True} \\mathrm{True} \\mathrm{True} \\mathrm{True}</script></html>"
      ],
      "text/plain": [
       "True True True True"
      ]
     },
     "metadata": {},
     "output_type": "display_data"
    },
    {
     "data": {
      "text/html": [
       "<html><script type=\"math/tex; mode=display\">\\newcommand{\\Bold}[1]{\\mathbf{#1}}255.0 \\phantom{\\verb!x!}\\verb|-|\\phantom{\\verb!x!}\\verb|the|\\phantom{\\verb!x!}\\verb|largest|\\phantom{\\verb!x!}\\verb|row-sum|\\phantom{\\verb!x!}\\verb|norm|\\phantom{\\verb!x!}\\verb|norm|</script></html>"
      ],
      "text/plain": [
       "255.0 ' - the largest row-sum norm norm'"
      ]
     },
     "metadata": {},
     "output_type": "display_data"
    },
    {
     "data": {
      "text/html": [
       "<html><script type=\"math/tex; mode=display\">\\newcommand{\\Bold}[1]{\\mathbf{#1}}\\mathrm{True} \\mathrm{True} \\mathrm{True} \\mathrm{True}</script></html>"
      ],
      "text/plain": [
       "True True True True"
      ]
     },
     "metadata": {},
     "output_type": "display_data"
    },
    {
     "data": {
      "text/html": [
       "<html><script type=\"math/tex; mode=display\">\\newcommand{\\Bold}[1]{\\mathbf{#1}}256.1659618294359 \\phantom{\\verb!x!}\\verb|-|\\phantom{\\verb!x!}\\verb|the|\\phantom{\\verb!x!}\\verb|Frobenius|\\phantom{\\verb!x!}\\verb|(sum|\\phantom{\\verb!x!}\\verb|of|\\phantom{\\verb!x!}\\verb|squares)|\\phantom{\\verb!x!}\\verb|norm|</script></html>"
      ],
      "text/plain": [
       "256.1659618294359 ' - the Frobenius (sum of squares) norm'"
      ]
     },
     "metadata": {},
     "output_type": "display_data"
    },
    {
     "data": {
      "text/html": [
       "<html><script type=\"math/tex; mode=display\">\\newcommand{\\Bold}[1]{\\mathbf{#1}}\\mathrm{True} \\mathrm{False} \\mathrm{True} \\mathrm{True}</script></html>"
      ],
      "text/plain": [
       "True False True True"
      ]
     },
     "metadata": {},
     "output_type": "display_data"
    }
   ],
   "source": [
    "pretty_print(A.norm(p=1),\n",
    "             ' - the largest column-sum norm')\n",
    "pretty_print(A.norm(p=1)>=0,\n",
    "             (-1*A).norm(p=1)==abs(-1)*A.norm(p=1),\n",
    "             (A+B).norm(p=1)<=A.norm(p=1)+B.norm(p=1),\n",
    "             (A*B).norm(p=1)<=A.norm(p=1)*B.norm(p=1))\n",
    "pretty_print(A.norm(p=2),' - the Euclidean norm')\n",
    "pretty_print(A.norm(p=2)>=0,\n",
    "             (-2*A).norm(p=2)==abs(-2)*A.norm(p=2),\n",
    "             (A+B).norm(p=2)<=A.norm(p=2)+B.norm(p=2),\n",
    "             (A*B).norm(p=2)<=A.norm(p=2)*B.norm(p=2))\n",
    "pretty_print(A.norm(p=oo),\n",
    "             ' - the largest row-sum norm norm')\n",
    "pretty_print(A.norm(p=oo)>=0,\n",
    "             (-3*A).norm(p=oo)==abs(-3)*A.norm(p=oo),\n",
    "             (A+B).norm(p=oo)<=A.norm(p=oo)+B.norm(p=oo),\n",
    "             (A*B).norm(p=oo)<=A.norm(p=oo)*B.norm(p=oo))\n",
    "pretty_print(A.norm(p='frob'),\n",
    "             ' - the Frobenius (sum of squares) norm')\n",
    "pretty_print(A.norm(p=oo)>=0,\n",
    "             (-4*A).norm(p=oo)==abs(-4)*A.norm(p='frob'),\n",
    "             (A+B).norm(p='frob')<=A.norm(p='frob')+B.norm(p='frob'),\n",
    "             (A*B).norm(p='frob')<=A.norm(p='frob')*B.norm(p='frob'))"
   ]
  },
  {
   "cell_type": "code",
   "execution_count": 21,
   "metadata": {},
   "outputs": [
    {
     "name": "stdout",
     "output_type": "stream",
     "text": [
      "335.0 - the largest column-sum norm\n",
      "True\n",
      "139.0 - the smalest column-sum norm\n",
      "True\n",
      "242.21860667987545 - the Euclidean norm (which is equal to the largest singular value of a matrix)\n",
      "15.035837774067339 - the smallest singular value\n",
      "319.0 - the largest row-sum norm\n",
      "True\n",
      "179.0 - the smallest row-sum norm\n",
      "True\n",
      "267.0318333083155 - the Frobenius (sum of squares) norm\n",
      "434.1275277780401- the nuclear norm\n",
      "=-==-==-==-==-==-==-==-==-==-==-==-==-==-==-==-==-==-==-==-==-==-==-==-==-==-==-==-==-==-=\n"
     ]
    },
    {
     "data": {
      "text/plain": [
       "[31, 26, sqrt(473), 21.75]"
      ]
     },
     "execution_count": 21,
     "metadata": {},
     "output_type": "execute_result"
    }
   ],
   "source": [
    "print(str(numpy.linalg.norm(A1,1))+\\\n",
    "      ' - the largest column-sum norm')\n",
    "print(numpy.linalg.norm(A1,1)==numpy.max(sum(abs(A1),\n",
    "      axis=0)))\n",
    "print(str(numpy.linalg.norm(A1,-1))+\\\n",
    "      ' - the smalest column-sum norm')\n",
    "print(numpy.linalg.norm(A1,-1)==numpy.min(sum(abs(A1),axis=0)))\n",
    "print(str(numpy.linalg.norm(A1,2))+\\\n",
    "      ' - the Euclidean norm (which is equal'+\\\n",
    "      ' to the largest singular value of a matrix)')\n",
    "print(str(numpy.linalg.norm(A1,-2))+\\\n",
    "      ' - the smallest singular value')\n",
    "print(str(numpy.linalg.norm(A1,numpy.inf))+\\\n",
    "      ' - the largest row-sum norm')\n",
    "print(numpy.linalg.norm(A1,numpy.infty)==numpy.max(sum(abs(A1),\n",
    "      axis=1)))\n",
    "print(str(numpy.linalg.norm(A1,-numpy.inf))+\\\n",
    "      ' - the smallest row-sum norm')\n",
    "print(numpy.linalg.norm(A1,\n",
    "      -numpy.infty)==numpy.min(sum(abs(A1),\n",
    "      axis=1)))\n",
    "print(str(numpy.linalg.norm(A1,'fro'))+\\\n",
    "      ' - the Frobenius (sum of squares) norm')\n",
    "print(str(numpy.linalg.norm(A1,'nuc'))+\\\n",
    "      '- the nuclear norm')\n",
    "print(30*'=-=')\n",
    "[A2.norm(1),A2.norm(oo),\n",
    " A2.norm('fro'),round(A2.norm('fro'),2)]"
   ]
  },
  {
   "cell_type": "markdown",
   "metadata": {},
   "source": [
    "#### In R\n",
    "Matrix norm (type):\n",
    "\n",
    "- \"O\", \"o\" or \"1\"\n",
    "  - maximum absolute column sum;\n",
    "\n",
    "- \"I\" or \"i\"\n",
    "  - maximum absolute row sum;\n",
    "\n",
    "- \"F\" or \"f\"\n",
    "  - the Euclidean norm of a matrix treated as if it were a vector;\n",
    "\n",
    "- \"M\" or \"m\"\n",
    "  - the maximum modulus of all the elements in a matrix; \n",
    "\n",
    "- \"2\"\n",
    "  - the “spectral” or 2-norm, which is the largest singular value (svd) of a matrix."
   ]
  },
  {
   "cell_type": "code",
   "execution_count": 22,
   "metadata": {},
   "outputs": [
    {
     "name": "stdout",
     "output_type": "stream",
     "text": [
      "[1] 69.44913\n",
      "[1] 91.81856\n",
      "[1] 70.21392\n",
      "[1] 26.88156\n",
      "[1] 58.74793\n"
     ]
    }
   ],
   "source": [
    "%%r\n",
    "A<-matrix(rexp(49,rate=0.1),nrow=7,ncol=7)\n",
    "#\"O\", \"o\" or \"1\" - the maximum absolute column sum\n",
    "print(norm(A,type=\"O\")) \n",
    "#\"I\" or \"i\" - the maximum absolute row sum\n",
    "print(norm(A,type=\"I\"))\n",
    "#\"F\" or \"f\" - the Euclidean norm of a matrix treated as if it were a vector\n",
    "print(norm(A,type=\"F\"))\n",
    "#\"M\" or \"m\" - the maximum modulus of all the elements in a matrix\n",
    "print(norm(A,type=\"M\"))\n",
    "#\"2\" - the “spectral” or 2-norm, \n",
    "#which is the largest singular value (svd) of a matrix\n",
    "norm(A,type=\"2\")"
   ]
  },
  {
   "cell_type": "markdown",
   "metadata": {},
   "source": [
    "## 4. Задание.\n",
    "\n",
    "Инициировать матрицу $A(3x3)$ и рассчитать $A^2$, $A^T$, \n",
    "\n",
    "а также найти след и нормы матрицы с использованием SageMath, Numpy, SymPy, R."
   ]
  }
 ],
 "metadata": {
  "kernelspec": {
   "display_name": "SageMath 8.8",
   "language": "sage",
   "name": "sagemath"
  },
  "language_info": {
   "codemirror_mode": {
    "name": "ipython",
    "version": 2
   },
   "file_extension": ".py",
   "mimetype": "text/x-python",
   "name": "python",
   "nbconvert_exporter": "python",
   "pygments_lexer": "ipython2",
   "version": "2.7.15"
  }
 },
 "nbformat": 4,
 "nbformat_minor": 2
}

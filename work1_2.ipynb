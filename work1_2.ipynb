{
 "cells": [
  {
   "cell_type": "markdown",
   "metadata": {},
   "source": [
    "<h1 style=\"color: #3636ff;\">Линейная алгебра. Практическая работа №2</h1>\n",
    "\n",
    "### Программные средства\n",
    "\n",
    "[LaTeX. Mathematics. Matrices & Arrays](https://en.wikibooks.org/wiki/LaTeX/Mathematics#Matrices_and_arrays)\n",
    "\n",
    "[Sage. Matrices & Spaces of Matrices](https://doc.sagemath.org/html/en/reference/matrices/index.html)\n",
    "\n",
    "[Numpy. Quickstart tutorial](https://docs.scipy.org/doc/numpy/user/quickstart.html#linear-algebra)\n",
    "\n",
    "[SymPy. Matrices (linear algebra)](https://docs.sympy.org/latest/modules/matrices/matrices.html)\n",
    "\n",
    "[Quick-R. Matrix Algebra](https://www.statmethods.net/advstats/matrix.html)\n",
    "\n",
    "[R - Matrices](https://www.tutorialspoint.com/r/r_matrices.htm)"
   ]
  },
  {
   "cell_type": "markdown",
   "metadata": {},
   "source": [
    "### Конспекты лекций\n",
    "\n",
    "[Матрицы. Системы линейных уравнений. Алгоритм Гаусса](http://matematika.phys.msu.ru/files/a_stud_gen/246/AG-08_2009-2010.pdf)\n",
    "\n",
    "[АЛГЕБРА И ГЕОМЕТРИЯ ДЛЯ СТУДЕНТОВ-ФИЗИКОВ](http://math.phys.msu.ru/data/24/Algebra_and_geometry.pdf)"
   ]
  },
  {
   "cell_type": "markdown",
   "metadata": {},
   "source": [
    "# Матрицы\n",
    "\n",
    "## 1. Операции над матрицами\n",
    "### 1.1 Возведение в степень"
   ]
  },
  {
   "cell_type": "code",
   "execution_count": 7,
   "metadata": {},
   "outputs": [
    {
     "data": {
      "text/plain": [
       "(\n",
       "[ 4 33  1  7 59]\n",
       "[13 76 83 66 70]\n",
       "[12 24 76 95  8]\n",
       "[20 94 54 67 79]\n",
       "[42 94 77 78 85],\n",
       "\n",
       "[1.10000000000000 3.20000000000000 5.00000000000000 7.60000000000000]\n",
       "[2.20000000000000 4.10000000000000 6.50000000000000 8.10000000000000],\n",
       "\n",
       "[-31 -45 -21 -93 -29]\n",
       "[-74 -32 -98 -27  -8]\n",
       "[-18 -22  -3 -91  -9]\n",
       "[-51 -18 -93 -59 -49]\n",
       "[-20  -4 -85 -32  -9]\n",
       ")"
      ]
     },
     "execution_count": 7,
     "metadata": {},
     "output_type": "execute_result"
    }
   ],
   "source": [
    "# sage\n",
    "A1 = random_matrix(ZZ,5,x=0,y=100)\n",
    "C1 = random_matrix(ZZ,5,x=-100,y=0)\n",
    "B1 = matrix([[1.1,3.2,5.0,7.6],[2.2,4.1,6.5,8.1]])\n",
    "A1, B1, C1"
   ]
  },
  {
   "cell_type": "code",
   "execution_count": 4,
   "metadata": {},
   "outputs": [
    {
     "data": {
      "text/plain": [
       "[1903139 1407412  430391 2135404 1027929]\n",
       "[3037405 2319981  677216 2463603 1352851]\n",
       "[4192550 3342288 1136504 4016230 2271365]\n",
       "[2542433 1982484  554519 1823154 1020706]\n",
       "[1550282 1174324  345948 1392686  784439]"
      ]
     },
     "execution_count": 4,
     "metadata": {},
     "output_type": "execute_result"
    }
   ],
   "source": [
    "A1^3"
   ]
  },
  {
   "cell_type": "code",
   "execution_count": 6,
   "metadata": {},
   "outputs": [
    {
     "data": {
      "text/plain": [
       "True"
      ]
     },
     "execution_count": 6,
     "metadata": {},
     "output_type": "execute_result"
    }
   ],
   "source": [
    "A1^3 == A1 * A1 * A1"
   ]
  },
  {
   "cell_type": "code",
   "execution_count": 14,
   "metadata": {},
   "outputs": [
    {
     "name": "stdout",
     "output_type": "stream",
     "text": [
      "[[21  3 92 98 23]\n",
      " [ 2 93 65 27 21]\n",
      " [43 88 19 49 51]\n",
      " [34 31 89 65  5]\n",
      " [13 70 94 56 29]]\n",
      "[[1 3 5 7]\n",
      " [2 4 6 8]]\n",
      "[[-72 -78 -51 -46 -48]\n",
      " [-18 -15 -15 -23 -74]\n",
      " [-11 -49 -16 -12 -78]\n",
      " [-55 -80 -79 -89 -74]\n",
      " [-98 -68 -55 -71 -67]]\n"
     ]
    }
   ],
   "source": [
    "# python numpy\n",
    "import numpy\n",
    "A2 = numpy.matrix(numpy.random.randint(0, 100, size=(5,5)))\n",
    "C2 = numpy.matrix(numpy.random.randint(-100, 0, size=(5,5)))\n",
    "B2 = numpy.matrix([[1,3,5,7],[2,4,6,8]])\n",
    "print(A2)\n",
    "print(B2)\n",
    "print(C2)"
   ]
  },
  {
   "cell_type": "code",
   "execution_count": 18,
   "metadata": {},
   "outputs": [
    {
     "data": {
      "text/plain": [
       "matrix([[ True,  True,  True,  True,  True],\n",
       "        [ True,  True,  True,  True,  True],\n",
       "        [ True,  True,  True,  True,  True],\n",
       "        [ True,  True,  True,  True,  True],\n",
       "        [ True,  True,  True,  True,  True]], dtype=bool)"
      ]
     },
     "execution_count": 18,
     "metadata": {},
     "output_type": "execute_result"
    }
   ],
   "source": [
    "A2 ** int(3) == A2 * A2 * A2"
   ]
  },
  {
   "cell_type": "code",
   "execution_count": 19,
   "metadata": {},
   "outputs": [
    {
     "name": "stdout",
     "output_type": "stream",
     "text": [
      "(Matrix([\n",
      "[-3, -3, -6, -3],\n",
      "[-4, -7,  8, -7],\n",
      "[ 2, -3,  9, -5],\n",
      "[ 6, -3,  8,  2]]), Matrix([\n",
      "[ 2, 10,  7],\n",
      "[-5, -6, -2],\n",
      "[-8,  4, -8],\n",
      "[ 7,  4, -6]]), Matrix([\n",
      "[-8, -4,  5,  2],\n",
      "[ 3, -5,  8, -2],\n",
      "[ 5,  4, -8,  1],\n",
      "[ 7, -2,  9,  5]]))\n"
     ]
    }
   ],
   "source": [
    "# python sympy\n",
    "import sympy\n",
    "A3 = sympy.Matrix([[-3, -3, -6,-3], [-4, -7, 8,-7], [2, -3, 9, -5], [6, -3, 8, 2]])\n",
    "B3 = sympy.Matrix([[2, 10, 7], [-5, -6, -2], [-8, 4, -8], [7, 4, -6]])\n",
    "C3 = sympy.Matrix([[-8, -4, 5, 2], [3, -5, 8, -2], [5, 4, -8, 1], [7, -2, 9, 5]])\n",
    "print(A3, B3, C3)"
   ]
  },
  {
   "cell_type": "code",
   "execution_count": 21,
   "metadata": {},
   "outputs": [
    {
     "data": {
      "text/plain": [
       "True"
      ]
     },
     "execution_count": 21,
     "metadata": {},
     "output_type": "execute_result"
    }
   ],
   "source": [
    "A3^3 == A3 * A3 * A3"
   ]
  },
  {
   "cell_type": "code",
   "execution_count": 24,
   "metadata": {},
   "outputs": [
    {
     "data": {
      "text/plain": [
       "Matrix([\n",
       "[ -45, -282,  186,  156],\n",
       "[-264, -421,  292, -354],\n",
       "[-224,  102, -215, -108],\n",
       "[-100,  138, -360,  -83]])"
      ]
     },
     "execution_count": 24,
     "metadata": {},
     "output_type": "execute_result"
    }
   ],
   "source": [
    "sympy.MatPow(A3, 3).as_explicit()"
   ]
  },
  {
   "cell_type": "code",
   "execution_count": 25,
   "metadata": {},
   "outputs": [
    {
     "name": "stdout",
     "output_type": "stream",
     "text": [
      "\n",
      "\n",
      "\n",
      "\n",
      "          [,1]      [,2]       [,3]       [,4]        [,5]\n",
      "[1,]  9.423773 18.555664  0.2288297 12.6718144 13.62604867\n",
      "[2,] 26.408819  4.740174  3.4295191 11.4775862  0.08964574\n",
      "[3,]  6.027099 11.172584  1.3450325  8.6214268  0.20625451\n",
      "[4,] 11.788261 18.301193  0.9501415  0.9755198  0.70827746\n",
      "[5,] 23.088658 44.437817 12.4730859 31.0452286  9.44632553\n",
      "     [,1] [,2] [,3] [,4]\n",
      "[1,]    1    5    2    6\n",
      "[2,]    3    7    4    8\n",
      "     [,1] [,2] [,3] [,4]\n",
      "[1,]   45   38   56   49\n",
      "[2,]   86   38   76   61\n",
      "[3,]   53   58    8   34\n"
     ]
    }
   ],
   "source": [
    "%%r\n",
    "A4 <- matrix(rexp(25, rate=0.1), nrow=5, ncol=5)\n",
    "B4 <- matrix(c(1,3,5,7,2,4,6,8), nrow=2, ncol=4)\n",
    "C4 <- matrix(rexp(25, rate=0.2), nrow=5, ncol=5)\n",
    "D4 <- matrix(sample.int(100, size=3*4, replace=T), nrow=3, ncol=4)\n",
    "A4; B4; D4"
   ]
  },
  {
   "cell_type": "code",
   "execution_count": 34,
   "metadata": {},
   "outputs": [
    {
     "name": "stdout",
     "output_type": "stream",
     "text": [
      "\n",
      "         [,1]     [,2]      [,3]     [,4]      [,5]\n",
      "[1,] 55716.69 53363.55  8426.515 37093.58 17453.453\n",
      "[2,] 39089.35 38291.07  7822.746 27764.37 11128.061\n",
      "[3,] 18702.66 19173.39  2726.560 13405.02  7423.997\n",
      "[4,] 24555.27 28934.91  3989.446 18465.41 10486.499\n",
      "[5,] 92435.68 91806.61 13525.140 63656.86 33121.563\n"
     ]
    }
   ],
   "source": [
    "%%r \n",
    "require(matrixcalc)\n",
    "matrix.power(A4,3)"
   ]
  },
  {
   "cell_type": "code",
   "execution_count": 36,
   "metadata": {},
   "outputs": [
    {
     "name": "stdout",
     "output_type": "stream",
     "text": [
      "     [,1] [,2] [,3] [,4] [,5]\n",
      "[1,] TRUE TRUE TRUE TRUE TRUE\n",
      "[2,] TRUE TRUE TRUE TRUE TRUE\n",
      "[3,] TRUE TRUE TRUE TRUE TRUE\n",
      "[4,] TRUE TRUE TRUE TRUE TRUE\n",
      "[5,] TRUE TRUE TRUE TRUE TRUE\n"
     ]
    }
   ],
   "source": [
    "%%r\n",
    "matrix.power(A4,3) == A4 %*% A4 %*% A4"
   ]
  },
  {
   "cell_type": "markdown",
   "metadata": {},
   "source": [
    "### 1.2 Транспонирование"
   ]
  },
  {
   "cell_type": "code",
   "execution_count": 38,
   "metadata": {},
   "outputs": [
    {
     "data": {
      "text/plain": [
       "(\n",
       "[ 4 33  1  7 59]  [ 4 13 12 20 42]\n",
       "[13 76 83 66 70]  [33 76 24 94 94]\n",
       "[12 24 76 95  8]  [ 1 83 76 54 77]\n",
       "[20 94 54 67 79]  [ 7 66 95 67 78]\n",
       "[42 94 77 78 85], [59 70  8 79 85]\n",
       ")"
      ]
     },
     "execution_count": 38,
     "metadata": {},
     "output_type": "execute_result"
    }
   ],
   "source": [
    "# sage\n",
    "A1, A1.transpose()"
   ]
  },
  {
   "cell_type": "code",
   "execution_count": 39,
   "metadata": {},
   "outputs": [
    {
     "data": {
      "text/plain": [
       "(matrix([[21,  3, 92, 98, 23],\n",
       "         [ 2, 93, 65, 27, 21],\n",
       "         [43, 88, 19, 49, 51],\n",
       "         [34, 31, 89, 65,  5],\n",
       "         [13, 70, 94, 56, 29]]), matrix([[21,  2, 43, 34, 13],\n",
       "         [ 3, 93, 88, 31, 70],\n",
       "         [92, 65, 19, 89, 94],\n",
       "         [98, 27, 49, 65, 56],\n",
       "         [23, 21, 51,  5, 29]]))"
      ]
     },
     "execution_count": 39,
     "metadata": {},
     "output_type": "execute_result"
    }
   ],
   "source": [
    "# python numpy\n",
    "A2, numpy.transpose(A2)"
   ]
  },
  {
   "cell_type": "code",
   "execution_count": 40,
   "metadata": {},
   "outputs": [
    {
     "data": {
      "text/plain": [
       "(Matrix([\n",
       " [-3, -3, -6, -3],\n",
       " [-4, -7,  8, -7],\n",
       " [ 2, -3,  9, -5],\n",
       " [ 6, -3,  8,  2]]), Matrix([\n",
       " [-3, -4,  2,  6],\n",
       " [-3, -7, -3, -3],\n",
       " [-6,  8,  9,  8],\n",
       " [-3, -7, -5,  2]]))"
      ]
     },
     "execution_count": 40,
     "metadata": {},
     "output_type": "execute_result"
    }
   ],
   "source": [
    "# python sympy\n",
    "A3, A3.T"
   ]
  },
  {
   "cell_type": "code",
   "execution_count": 41,
   "metadata": {},
   "outputs": [
    {
     "name": "stdout",
     "output_type": "stream",
     "text": [
      "          [,1]      [,2]       [,3]       [,4]        [,5]\n",
      "[1,]  9.423773 18.555664  0.2288297 12.6718144 13.62604867\n",
      "[2,] 26.408819  4.740174  3.4295191 11.4775862  0.08964574\n",
      "[3,]  6.027099 11.172584  1.3450325  8.6214268  0.20625451\n",
      "[4,] 11.788261 18.301193  0.9501415  0.9755198  0.70827746\n",
      "[5,] 23.088658 44.437817 12.4730859 31.0452286  9.44632553\n",
      "           [,1]        [,2]       [,3]       [,4]      [,5]\n",
      "[1,]  9.4237731 26.40881853  6.0270994 11.7882608 23.088658\n",
      "[2,] 18.5556635  4.74017434 11.1725836 18.3011928 44.437817\n",
      "[3,]  0.2288297  3.42951907  1.3450325  0.9501415 12.473086\n",
      "[4,] 12.6718144 11.47758623  8.6214268  0.9755198 31.045229\n",
      "[5,] 13.6260487  0.08964574  0.2062545  0.7082775  9.446326\n"
     ]
    }
   ],
   "source": [
    "%%r\n",
    "A4; t(A4)"
   ]
  },
  {
   "cell_type": "markdown",
   "metadata": {},
   "source": [
    "## 2. След матрицы"
   ]
  },
  {
   "cell_type": "code",
   "execution_count": null,
   "metadata": {},
   "outputs": [],
   "source": []
  },
  {
   "cell_type": "markdown",
   "metadata": {},
   "source": [
    "## 3. Норма матрицы"
   ]
  },
  {
   "cell_type": "code",
   "execution_count": null,
   "metadata": {},
   "outputs": [],
   "source": []
  }
 ],
 "metadata": {
  "kernelspec": {
   "display_name": "SageMath 8.4",
   "language": "",
   "name": "sagemath"
  },
  "language_info": {
   "codemirror_mode": {
    "name": "ipython",
    "version": 2
   },
   "file_extension": ".py",
   "mimetype": "text/x-python",
   "name": "python",
   "nbconvert_exporter": "python",
   "pygments_lexer": "ipython2",
   "version": "2.7.15"
  }
 },
 "nbformat": 4,
 "nbformat_minor": 2
}

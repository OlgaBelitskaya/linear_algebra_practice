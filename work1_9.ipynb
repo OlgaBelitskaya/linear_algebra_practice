{
 "cells": [
  {
   "cell_type": "markdown",
   "metadata": {},
   "source": [
    "<h1 style=\"color: #3636ff;\">Линейная алгебра. Практическая работа №9</h1>\n",
    "\n",
    "### Программные средства\n",
    "\n",
    "[LaTeX. Mathematics](https://en.wikibooks.org/wiki/LaTeX/Mathematics)\n",
    "\n",
    "[Sage. Linear Algebra](http://doc.sagemath.org/html/en/tutorial/tour_linalg.html)\n",
    "\n",
    "[Numpy. Quickstart tutorial](https://docs.scipy.org/doc/numpy/user/quickstart.html#linear-algebra)\n",
    "\n",
    "[R Functions - Tutorialspoint](https://www.tutorialspoint.com/r/r_functions.htm)\n",
    "\n",
    "[Quick-R: User-Defined Functions](https://www.statmethods.net/management/userfunctions.html)"
   ]
  },
  {
   "cell_type": "markdown",
   "metadata": {},
   "source": [
    "### Конспекты лекций\n",
    "\n",
    "[АЛГЕБРА И ГЕОМЕТРИЯ ДЛЯ СТУДЕНТОВ-ФИЗИКОВ](http://math.phys.msu.ru/data/24/Algebra_and_geometry.pdf)\n",
    "\n",
    "[Прямые и плоскости](http://hoster.bmstu.ru/~fn1/wp-content/uploads/2012/10/uchebno-metod/Surf_and_lines_ST_metod.pdf)\n",
    "\n",
    "[Computational Mathematics with SageMath](http://dl.lateralis.org/public/sagebook/sagebook-ba6596d.pdf)\n",
    "\n",
    "[Introduction to Symbolic Computation](http://homepages.math.uic.edu/~jan/mcs320/mcs320.pdf)"
   ]
  },
  {
   "cell_type": "markdown",
   "metadata": {},
   "source": [
    "# Плоскость\n",
    "\n",
    "## 1. Уравнения.\n",
    "\n",
    "Общий вид\n",
    "\n",
    "$\\pi: \\ a * x + b * y + c * z + d = 0$\n",
    "\n",
    "$\\overrightarrow{n}\\{a;b;c\\} \\perp \\pi$\n",
    "\n",
    "Проходящая через точку $A_0(x_0;y_0;z_0)$ и перпендикулярная $\\overrightarrow{n}\\{a;b;c\\}$\n",
    "\n",
    "$\\pi: \\ a * (x - x_0) + b * (y - y_0) + c * (z -z_0) = 0$\n",
    "\n",
    "Через три точки $A_1 (x_1;y_1;z_1), A_2 (x_2,y_2,z_2), A_3 (x_3,y_3,z_3)$\n",
    "\n",
    "$\\begin {vmatrix}\n",
    "x - x_1 & y - y_1 & z - z_1 \\\\\n",
    "x_2 - x_1 & y_2 - y_1 & z_2 - z_1 \\\\\n",
    "x_3 - x_1 & y_3 - y_1 & z_3 - z_1\n",
    "\\end{vmatrix} = 0$\n",
    "\n",
    "В отрезках\n",
    "\n",
    "$\\pi: \\frac{x}{\\alpha} + \\frac{x}{\\beta} + \\frac{z}{\\gamma} = 1$\n",
    "\n",
    "$\\alpha = -\\frac{d}{a}, \\ \\beta = -\\frac{d}{b}, \\ \\gamma = -\\frac{d}{c}$\n",
    "\n",
    "Параметрические уравнения плоскости\n",
    "\n",
    "$\\pi: \\begin {cases} \n",
    "x = x_0 + p_1 * t_1 + p_2 * t_2 \\\\\n",
    "y = y_0 + q_1 * t_1 + q_2 * t_2 \\\\\n",
    "z = z_0 + r_1 * t_1 + r_2 * t_2 \n",
    "\\end {cases}, \\ t_1, t_2 \\in \\mathbb{R}$\n",
    "\n",
    "$\\overrightarrow{s_1}\\{p_1;q_1;r_1\\}, \\ \\overrightarrow{s_2}\\{p_2;q_2;r_2\\} \\parallel \\pi, \n",
    "\\ A_0(x_0;y_0;z_0) \\in \\pi$\n",
    "\n",
    "Нормальное уравнение плоскости\n",
    "\n",
    "$P$ - проекция начала координат $O(0;0;0)$ на плоскость $\\pi$\n",
    "\n",
    "$ |\\overrightarrow{OP}| = p, \\ \n",
    "\\angle(\\overrightarrow{OP}, \\overrightarrow{OX}) = \\alpha, \\ \n",
    "\\angle(\\overrightarrow{OP}, \\overrightarrow{OY}) = \\beta, \\ \n",
    "\\angle(\\overrightarrow{OP}, \\overrightarrow{OZ}) = \\gamma, \\ $\n",
    "\n",
    "$\\pi: x \\cdot \\cos \\alpha + y \\cdot \\cos \\beta + z \\cdot \\cos \\gamma = p$\n",
    "\n",
    "$\\cos^2 \\alpha + \\cos^2 \\beta + \\cos^2 \\gamma = 1$"
   ]
  },
  {
   "cell_type": "code",
   "execution_count": 8,
   "metadata": {},
   "outputs": [],
   "source": [
    "# sage\n",
    "x,y,z,x0,y0,z0,x1,y1,z1,x2,y2,z2,x3,y3,z3 = var('x,y,z,x0,y0,z0,x1,y1,z1,x2,y2,z2,x3,y3,z3')\n",
    "a,b,c,d,p1,q1,r1,p2,q2,r2,t1,t2 = var('a,b,c,d,p1,q1,r1,p2,q2,r2,t1,t2')\n",
    "eq1 = a*x+b*y+c*z+d==0\n",
    "eq2 = a*(x-x0)+b*(y-y0)+c*(z-z0)==0\n",
    "P = Matrix(SR, 3, [x-x1, y-y1, z-z1, \n",
    "                   x2-x1, y2-y1, z2-z1, \n",
    "                   x3-x1, y3-y1, z3-z1])\n",
    "eq3 = P.det()==0\n",
    "eq4 = x==x0+p1*t1+p2*t2\n",
    "eq5 = y==y0+q1*t1+q2*t2\n",
    "eq6 = z==z0+r1*t1+r2*t2"
   ]
  },
  {
   "cell_type": "code",
   "execution_count": 9,
   "metadata": {},
   "outputs": [
    {
     "data": {
      "text/plain": [
       "[[a == 3, b == -1, c == -1, d == 2, x == r1, y == r2, z == 3*r1 - r2 + 2]]"
      ]
     },
     "execution_count": 9,
     "metadata": {},
     "output_type": "execute_result"
    }
   ],
   "source": [
    "solve([eq1, a==3, b==-1, c==-1, d==2], \n",
    "      a,b,c,d,x,y,z)"
   ]
  },
  {
   "cell_type": "code",
   "execution_count": 10,
   "metadata": {},
   "outputs": [
    {
     "data": {
      "text/plain": [
       "[[a == 3, b == 2, c == -1, d == r3, x0 == 1, y0 == -1, z0 == 2, x == r4, y == r5, z == 3*r4 + 2*r5 + 1]]"
      ]
     },
     "execution_count": 10,
     "metadata": {},
     "output_type": "execute_result"
    }
   ],
   "source": [
    "solve([eq2, a==3, b==2, c==-1, x0==1, y0==-1, z0==2], \n",
    "      a,b,c,d,x0,y0,z0,x,y,z)"
   ]
  },
  {
   "cell_type": "code",
   "execution_count": 11,
   "metadata": {},
   "outputs": [
    {
     "data": {
      "text/plain": [
       "[[x1 == -3, y1 == 2, z1 == 1, x2 == 1, y2 == -3, z2 == 3, x3 == -2, y3 == 1, z3 == 1, x == r6, y == r7, z == -2*r6 - 2*r7 - 1]]"
      ]
     },
     "execution_count": 11,
     "metadata": {},
     "output_type": "execute_result"
    }
   ],
   "source": [
    "solve([eq3, x1==-3, y1==2, z1==1, x2==1, y2==-3, z2==3, x3==-2, y3==1, z3==1], \n",
    "      x1,y1,z1,x2,y2,z2,x3,y3,z3,x,y,z)"
   ]
  },
  {
   "cell_type": "code",
   "execution_count": 12,
   "metadata": {},
   "outputs": [
    {
     "data": {
      "text/plain": [
       "[[x0 == -1, y0 == 2, z0 == -2, p1 == 2, q1 == 1, r1 == -1, p2 == -2, q2 == -3, r2 == 2, t1 == r8, t2 == r9, x == 2*r8 - 2*r9 - 1, y == r8 - 3*r9 + 2, z == -r8 + 2*r9 - 2]]"
      ]
     },
     "execution_count": 12,
     "metadata": {},
     "output_type": "execute_result"
    }
   ],
   "source": [
    "solve([eq4, eq5, eq6, x0==-1, y0==2, z0==-2, p1==2, q1==1, r1==-1, p2==-2, q2==-3, r2==2],\n",
    "      x0,y0,z0,p1,q1,r1,p2,q2,r2,t1,t2,x,y,z)"
   ]
  },
  {
   "cell_type": "code",
   "execution_count": 13,
   "metadata": {},
   "outputs": [],
   "source": [
    "# sympy\n",
    "import sympy\n",
    "x,y,z,x0,y0,z0,x1,y1,z1,x2,y2,z2,x3,y3,z3 = sympy.symbols('x,y,z,x0,y0,z0,x1,y1,z1,x2,y2,z2,x3,y3,z3')\n",
    "a,b,c,d,p1,q1,r1,p2,q2,r2,t1,t2 = sympy.symbols('a,b,c,d,p1,q1,r1,p2,q2,r2,t1,t2')\n",
    "eq1 = a*x+b*y+c*z+d\n",
    "eq2 = a*(x-x0)+b*(y-y0)+c*(z-z0)\n",
    "P = Matrix(SR, 3, [x-x1, y-y1, z-z1, \n",
    "                   x2-x1, y2-y1, z2-z1, \n",
    "                   x3-x1, y3-y1, z3-z1])\n",
    "eq3 = P.det()\n",
    "eq4 = x-x0-p1*t1-p2*t2\n",
    "eq5 = y-y0-q1*t1-q2*t2\n",
    "eq6 = z-z0-r1*t1-r2*t2"
   ]
  },
  {
   "cell_type": "code",
   "execution_count": 14,
   "metadata": {},
   "outputs": [
    {
     "data": {
      "text/plain": [
       "[(3, -1, -1, 2, 3*x - y + 2)]"
      ]
     },
     "execution_count": 14,
     "metadata": {},
     "output_type": "execute_result"
    }
   ],
   "source": [
    "sympy.solve([eq1, a-3, b+1, c+1, d-2], a,b,c,d,z)"
   ]
  },
  {
   "cell_type": "code",
   "execution_count": 15,
   "metadata": {},
   "outputs": [
    {
     "data": {
      "text/plain": [
       "[(3, 2, -1, d, 1, -1, 2, 3*x + 2*y + 1)]"
      ]
     },
     "execution_count": 15,
     "metadata": {},
     "output_type": "execute_result"
    }
   ],
   "source": [
    "sympy.solve([eq2, a-3, b-2, c+1, x0-1, y0+1, z0-2], a,b,c,d,x0,y0,z0,z)"
   ]
  },
  {
   "cell_type": "code",
   "execution_count": 16,
   "metadata": {},
   "outputs": [
    {
     "data": {
      "text/plain": [
       "[(-3, 2, 1, 1, -3, 3, -2, 1, 1, -2*x - 2*y - 1)]"
      ]
     },
     "execution_count": 16,
     "metadata": {},
     "output_type": "execute_result"
    }
   ],
   "source": [
    "sympy.solve([eq3, x1+3, y1-2, z1-1, x2-1, y2+3, z2-3, x3+2, y3-1, z3-1], \n",
    "            x1,y1,z1,x2,y2,z2,x3,y3,z3,z)"
   ]
  },
  {
   "cell_type": "code",
   "execution_count": 17,
   "metadata": {},
   "outputs": [
    {
     "data": {
      "text/plain": [
       "{p1: 2,\n",
       " p2: -2,\n",
       " q1: 1,\n",
       " q2: -3,\n",
       " r1: -1,\n",
       " r2: 2,\n",
       " x: 2*t1 - 2*t2 - 1,\n",
       " x0: -1,\n",
       " y: t1 - 3*t2 + 2,\n",
       " y0: 2,\n",
       " z: -t1 + 2*t2 - 2,\n",
       " z0: -2}"
      ]
     },
     "execution_count": 17,
     "metadata": {},
     "output_type": "execute_result"
    }
   ],
   "source": [
    "sympy.solve([eq4, eq5, eq6, x0+1, y0-2, z0+2, p1-2, q1-1, r1+1, p2+2, q2+3, r2-2],\n",
    "            x0,y0,z0,p1,q1,r1,p2,q2,r2,x,y,z)"
   ]
  },
  {
   "cell_type": "markdown",
   "metadata": {},
   "source": [
    "## 2. Взаимное расположение точек, прямых и плоскостей.\n",
    "\n",
    "Расстояние от точки $M(x_M;y_M;z_M)$ до плоскости $\\pi: \\ a * x + b * y + c * z + d = 0$\n",
    "\n",
    "$\\rho(M, \\pi) = \\frac{|a * x_M + b * y_M + c * z_M + d|}{\\sqrt{a^2 + b^2 + c^2}}$\n",
    "\n",
    "Две плоскости $\\pi_1: \\ a_1 * x + b_1 * y + c_1 * z + d_1 = 0$, $\\pi_2: \\ a_2 * x + b_2 * y + c_2 * z + d_2 = 0$\n",
    "\n"
   ]
  },
  {
   "cell_type": "code",
   "execution_count": null,
   "metadata": {},
   "outputs": [],
   "source": []
  }
 ],
 "metadata": {
  "kernelspec": {
   "display_name": "SageMath 8.4",
   "language": "",
   "name": "sagemath"
  },
  "language_info": {
   "codemirror_mode": {
    "name": "ipython",
    "version": 2
   },
   "file_extension": ".py",
   "mimetype": "text/x-python",
   "name": "python",
   "nbconvert_exporter": "python",
   "pygments_lexer": "ipython2",
   "version": "2.7.15"
  }
 },
 "nbformat": 4,
 "nbformat_minor": 2
}

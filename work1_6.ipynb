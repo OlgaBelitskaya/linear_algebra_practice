{
 "cells": [
  {
   "cell_type": "markdown",
   "metadata": {},
   "source": [
    "<h1 style=\"color: #3636ff;\">Линейная алгебра. Практическая работа №6</h1>\n",
    "\n",
    "### Программные средства\n",
    "\n",
    "[LaTeX. Mathematics](https://en.wikibooks.org/wiki/LaTeX/Mathematics)\n",
    "\n",
    "[Sage. Double Precision Complex Numbers](http://doc.sagemath.org/html/en/reference/rings_numerical/sage/rings/complex_double.html)\n",
    "\n",
    "[Numpy. Quickstart tutorial](https://docs.scipy.org/doc/numpy/user/quickstart.html#linear-algebra)\n",
    "\n",
    "[SymPy. Numerical evaluation](https://docs.sympy.org/latest/modules/evalf.html)\n",
    "\n",
    "[complex function | R Documentation](https://www.rdocumentation.org/packages/base/versions/3.1.1/topics/complex)"
   ]
  },
  {
   "cell_type": "markdown",
   "metadata": {},
   "source": [
    "### Конспекты лекций\n",
    "\n",
    "[АЛГЕБРА И ГЕОМЕТРИЯ ДЛЯ СТУДЕНТОВ-ФИЗИКОВ](http://math.phys.msu.ru/data/24/Algebra_and_geometry.pdf)\n"
   ]
  },
  {
   "cell_type": "markdown",
   "metadata": {},
   "source": [
    "# Комплексные числа\n",
    "\n",
    "## 1. Действия с комплексными числами."
   ]
  },
  {
   "cell_type": "code",
   "execution_count": 1,
   "metadata": {},
   "outputs": [
    {
     "data": {
      "text/plain": [
       "(4.0 + 3.0*I, 1.0 + 2.0*I, 1.0 + 3.0*I, -10.0 + 1.0*I, -7.0 + 6.0*I)"
      ]
     },
     "execution_count": 1,
     "metadata": {},
     "output_type": "execute_result"
    }
   ],
   "source": [
    "# sage\n",
    "z1, z2, z3, z4, z5 = CDF(4,3), CDF(1,2), CDF(1,3), CDF(-10,1), CDF(-7,6)\n",
    "z1, z2, z3, z4, z5"
   ]
  },
  {
   "cell_type": "code",
   "execution_count": 10,
   "metadata": {},
   "outputs": [
    {
     "data": {
      "text/plain": [
       "((4+3j), (1+2j), (1+3j), (-10+1j), (-7+6j))"
      ]
     },
     "execution_count": 10,
     "metadata": {},
     "output_type": "execute_result"
    }
   ],
   "source": [
    "# numpy\n",
    "import numpy\n",
    "z = numpy.array([4+3j, 1+2j, 1+3j, -10+1j, -7+6j])\n",
    "z[0], z[1], z[2], z[3], z[4]"
   ]
  },
  {
   "cell_type": "code",
   "execution_count": 6,
   "metadata": {},
   "outputs": [
    {
     "data": {
      "text/plain": [
       "((4+3j), (1+2j), (1+3j), (-10+1j), (-7+6j))"
      ]
     },
     "execution_count": 6,
     "metadata": {},
     "output_type": "execute_result"
    }
   ],
   "source": [
    "# sympy\n",
    "import sympy\n",
    "z1, z2, z3, z4, z5 = complex(4 + 3 * sympy.I), complex(1 + 2 * sympy.I), \\\n",
    "complex(1 + 3 * sympy.I), complex(-10 + 1 * sympy.I), complex(-7 + 6 * sympy.I)\n",
    "z1, z2, z3, z4, z5"
   ]
  },
  {
   "cell_type": "code",
   "execution_count": 9,
   "metadata": {},
   "outputs": [
    {
     "name": "stdout",
     "output_type": "stream",
     "text": [
      "\n",
      "\n",
      "\n",
      "[1] 4+3i\n",
      "[1] 1+2i\n",
      "[1] 1+3i\n",
      "[1] -10+1i\n",
      "[1] -7+6i\n"
     ]
    }
   ],
   "source": [
    "%%r\n",
    "z1 <- complex(real=4,imaginary=3); z2 <- complex(real=1,imaginary=2)\n",
    "z3 <- complex(real=1,imaginary=3); z4 <- complex(real=-10,imaginary=1)\n",
    "z5 <- complex(real=-7,imaginary=6)\n",
    "z1; z2; z3; z4; z5"
   ]
  },
  {
   "cell_type": "code",
   "execution_count": null,
   "metadata": {},
   "outputs": [],
   "source": []
  }
 ],
 "metadata": {
  "kernelspec": {
   "display_name": "SageMath 8.4",
   "language": "",
   "name": "sagemath"
  },
  "language_info": {
   "codemirror_mode": {
    "name": "ipython",
    "version": 2
   },
   "file_extension": ".py",
   "mimetype": "text/x-python",
   "name": "python",
   "nbconvert_exporter": "python",
   "pygments_lexer": "ipython2",
   "version": "2.7.15"
  }
 },
 "nbformat": 4,
 "nbformat_minor": 2
}

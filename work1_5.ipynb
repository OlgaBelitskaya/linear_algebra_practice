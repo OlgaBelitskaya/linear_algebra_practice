{
 "cells": [
  {
   "cell_type": "markdown",
   "metadata": {},
   "source": [
    "<h1 style=\"color: #3636ff;\">Линейная алгебра. Практическая работа №5</h1>\n",
    "\n",
    "### Программные средства\n",
    "\n",
    "[LaTeX. Mathematics](https://en.wikibooks.org/wiki/LaTeX/Mathematics)\n",
    "\n",
    "[Sage. Basic Algebra and Calculus](http://doc.sagemath.org/html/en/tutorial/tour_algebra.html)\n",
    "\n",
    "[Numpy. Quickstart tutorial](https://docs.scipy.org/doc/numpy/user/quickstart.html#linear-algebra)\n",
    "\n",
    "[SymPy. Matrices (linear algebra)](https://docs.sympy.org/latest/modules/matrices/matrices.html)\n",
    "\n",
    "[Quick-R. Matrix Algebra](https://www.statmethods.net/advstats/matrix.html)\n",
    "\n",
    "[R: Solve a System of Equations](https://stat.ethz.ch/R-manual/R-devel/library/base/html/solve.html)"
   ]
  },
  {
   "cell_type": "markdown",
   "metadata": {},
   "source": [
    "### Конспекты лекций\n",
    "\n",
    "[Матрицы. Системы линейных уравнений. Алгоритм Гаусса](http://matematika.phys.msu.ru/files/a_stud_gen/246/AG-08_2009-2010.pdf)\n",
    "\n",
    "[АЛГЕБРА И ГЕОМЕТРИЯ ДЛЯ СТУДЕНТОВ-ФИЗИКОВ](http://math.phys.msu.ru/data/24/Algebra_and_geometry.pdf)\n",
    "\n",
    "[exponenta.ru Теоретическая справка](http://old.exponenta.ru/educat/class/courses/la/theme4/theory.asp)"
   ]
  },
  {
   "cell_type": "markdown",
   "metadata": {},
   "source": [
    "# Системы линейных уравнений\n",
    "\n",
    "## 1. Однородные и неоднородные системы."
   ]
  },
  {
   "cell_type": "code",
   "execution_count": 1,
   "metadata": {},
   "outputs": [
    {
     "data": {
      "text/latex": [
       "\\begin{cases}\n",
       "x + y - z = 0 \\\\\n",
       "8x - y - 5z = 0 \\\\\n",
       "-5x + y + 3z = 0 \n",
       "\\end{cases}"
      ],
      "text/plain": [
       "<IPython.core.display.Latex object>"
      ]
     },
     "metadata": {},
     "output_type": "display_data"
    }
   ],
   "source": [
    "%%latex\n",
    "\\begin{cases}\n",
    "x + y - z = 0 \\\\\n",
    "8x - y - 5z = 0 \\\\\n",
    "-5x + y + 3z = 0 \n",
    "\\end{cases}"
   ]
  },
  {
   "cell_type": "code",
   "execution_count": 2,
   "metadata": {},
   "outputs": [
    {
     "data": {
      "text/plain": [
       "[[x == 2/3*r1, y == 1/3*r1, z == r1]]"
      ]
     },
     "execution_count": 2,
     "metadata": {},
     "output_type": "execute_result"
    }
   ],
   "source": [
    "# sage\n",
    "x, y, z = var('x y z')\n",
    "eq1 = x + y - z == 0\n",
    "eq2 = 8 * x - y - 5 * z == 0\n",
    "eq3 = -5 * x + y + 3 * z == 0\n",
    "solve([eq1, eq2, eq3], x, y, z)"
   ]
  },
  {
   "cell_type": "code",
   "execution_count": 3,
   "metadata": {},
   "outputs": [
    {
     "data": {
      "text/plain": [
       "(\n",
       "[ 1  1 -1]      \n",
       "[ 8 -1 -5]      \n",
       "[-5  1  3], 2, 0\n",
       ")"
      ]
     },
     "execution_count": 3,
     "metadata": {},
     "output_type": "execute_result"
    }
   ],
   "source": [
    "A = matrix(3, [1,1,-1,8,-1,-5,-5,1,3])\n",
    "A, A.rank(), A.det()"
   ]
  },
  {
   "cell_type": "code",
   "execution_count": 4,
   "metadata": {},
   "outputs": [
    {
     "data": {
      "text/latex": [
       "\\begin{cases}\n",
       "8x_1 - 5x_2 - 2x_3 - 2x_4 = 35 \\\\\n",
       "-2x_1 + 4x_2 - 4x_3 + x_4 = -8 \\\\\n",
       "-2x_1 + x_2 + 4x_3 + 4x_4 = -11 \\\\\n",
       "4x_1 + x_2 + 3x_3 + 10x_4 = 10 \n",
       "\\end{cases}"
      ],
      "text/plain": [
       "<IPython.core.display.Latex object>"
      ]
     },
     "metadata": {},
     "output_type": "display_data"
    }
   ],
   "source": [
    "%%latex\n",
    "\\begin{cases}\n",
    "8x_1 - 5x_2 - 2x_3 - 2x_4 = 35 \\\\\n",
    "-2x_1 + 4x_2 - 4x_3 + x_4 = -8 \\\\\n",
    "-2x_1 + x_2 + 4x_3 + 4x_4 = -11 \\\\\n",
    "4x_1 + x_2 + 3x_3 + 10x_4 = 10 \n",
    "\\end{cases}"
   ]
  },
  {
   "cell_type": "code",
   "execution_count": 5,
   "metadata": {},
   "outputs": [
    {
     "data": {
      "text/plain": [
       "[[x1 == 1, x2 == -5, x3 == -3, x4 == 2]]"
      ]
     },
     "execution_count": 5,
     "metadata": {},
     "output_type": "execute_result"
    }
   ],
   "source": [
    "x1, x2, x3, x4 = var('x1 x2 x3 x4')\n",
    "eq1 = 8 * x1 - 5 * x2 - 2 * x3 - 2 * x4 == 35\n",
    "eq2 = -2 * x1 + 4 * x2 - 4 * x3 + x4 == -8\n",
    "eq3 = -2 * x1 + x2 + 4 * x3 + 4 * x4  == -11\n",
    "eq4 = 4 * x1 + x2 + 3 * x3 + 10 * x4  == 10\n",
    "solve([eq1, eq2, eq3, eq4], x1, x2, x3, x4)"
   ]
  },
  {
   "cell_type": "code",
   "execution_count": 6,
   "metadata": {},
   "outputs": [
    {
     "data": {
      "text/plain": [
       "(\n",
       "[ 8 -5 -2 -2]                           \n",
       "[-2  4 -4  1]                           \n",
       "[-2  1  4  4]                           \n",
       "[ 4  1  3 10], (35, -8, -11, 10), 4, -54\n",
       ")"
      ]
     },
     "execution_count": 6,
     "metadata": {},
     "output_type": "execute_result"
    }
   ],
   "source": [
    "A = matrix(4, [8,-5,-2,-2,-2,4,-4,1,-2,1,4,4,4,1,3,10])\n",
    "b = vector([35, -8, -11, 10])\n",
    "A, b, A.rank(), A.det()"
   ]
  },
  {
   "cell_type": "code",
   "execution_count": 7,
   "metadata": {},
   "outputs": [
    {
     "data": {
      "text/plain": [
       "(1, -5, -3, 2)"
      ]
     },
     "execution_count": 7,
     "metadata": {},
     "output_type": "execute_result"
    }
   ],
   "source": [
    "x = A.solve_right(b)\n",
    "x"
   ]
  },
  {
   "cell_type": "code",
   "execution_count": 8,
   "metadata": {},
   "outputs": [
    {
     "data": {
      "text/plain": [
       "array([ 1., -5., -3.,  2.])"
      ]
     },
     "execution_count": 8,
     "metadata": {},
     "output_type": "execute_result"
    }
   ],
   "source": [
    "import numpy\n",
    "A = numpy.array([[8,-5,-2,-2],[-2,4,-4,1],[-2,1,4,4],[4,1,3,10]])\n",
    "b = numpy.array([35,-8,-11,10])\n",
    "\n",
    "numpy.linalg.solve(A,b)"
   ]
  },
  {
   "cell_type": "code",
   "execution_count": 9,
   "metadata": {},
   "outputs": [
    {
     "name": "stdout",
     "output_type": "stream",
     "text": [
      "[[ 8 -5 -2 -2]\n",
      " [-2  4 -4  1]\n",
      " [-2  1  4  4]\n",
      " [ 4  1  3 10]]\n",
      "(4, -54.0)\n"
     ]
    }
   ],
   "source": [
    "A = numpy.matrix([[8,-5,-2,-2],[-2,4,-4,1],\n",
    "                  [-2,1,4,4],[4,1,3,10]])\n",
    "print(A)\n",
    "print(numpy.linalg.matrix_rank(A), round(numpy.linalg.det(A)))"
   ]
  },
  {
   "cell_type": "code",
   "execution_count": 10,
   "metadata": {},
   "outputs": [
    {
     "data": {
      "image/png": "[encoded data removed]",
      "text/latex": [
       "$$\\left \\{ x : \\frac{2 z}{3}, \\quad y : \\frac{z}{3}\\right \\}$$"
      ],
      "text/plain": [
       "{x: 2*z/3, y: z/3}"
      ]
     },
     "execution_count": 10,
     "metadata": {},
     "output_type": "execute_result"
    }
   ],
   "source": [
    "import sympy\n",
    "sympy.init_printing(use_unicode=True)\n",
    "from sympy.abc import x,y,z\n",
    "system = sympy.Matrix([ [1,1,-1,0], [8,-1,-5,0], [-5,1,3,0] ])\n",
    "sympy.solve_linear_system(system, x,y,z)"
   ]
  },
  {
   "cell_type": "code",
   "execution_count": 11,
   "metadata": {},
   "outputs": [
    {
     "data": {
      "image/png": "[encoded data removed]",
      "text/latex": [
       "$$\\left ( \\left[\\begin{matrix}\\frac{2 \\tau_{0}}{3}\\\\\\frac{\\tau_{0}}{3}\\\\\\tau_{0}\\end{matrix}\\right], \\quad \\left[\\begin{matrix}\\tau_{0}\\end{matrix}\\right]\\right )$$"
      ],
      "text/plain": [
       "(Matrix([\n",
       " [2*tau0/3],\n",
       " [  tau0/3],\n",
       " [    tau0]]), Matrix([[tau0]]))"
      ]
     },
     "execution_count": 11,
     "metadata": {},
     "output_type": "execute_result"
    }
   ],
   "source": [
    "A = sympy.Matrix([[1,1,-1],[8,-1,-5],[-5,1,3]])\n",
    "b = sympy.Matrix([0,0,0])\n",
    "x = A.gauss_jordan_solve(b)\n",
    "x"
   ]
  },
  {
   "cell_type": "code",
   "execution_count": 12,
   "metadata": {},
   "outputs": [
    {
     "data": {
      "image/png": "[encoded data removed]",
      "text/latex": [
       "$$\\left ( \\left[\\begin{matrix}1 & 1 & -1\\\\8 & -1 & -5\\\\-5 & 1 & 3\\end{matrix}\\right], \\quad 2, \\quad 0\\right )$$"
      ],
      "text/plain": [
       "(Matrix([\n",
       " [ 1,  1, -1],\n",
       " [ 8, -1, -5],\n",
       " [-5,  1,  3]]), 2, 0)"
      ]
     },
     "execution_count": 12,
     "metadata": {},
     "output_type": "execute_result"
    }
   ],
   "source": [
    "A = sympy.Matrix([[1,1,-1], [8,-1,-5], [-5,1,3]])\n",
    "A, A.rank(), A.det()"
   ]
  },
  {
   "cell_type": "code",
   "execution_count": 13,
   "metadata": {},
   "outputs": [
    {
     "data": {
      "image/png": "[encoded data removed]",
      "text/latex": [
       "$$\\left \\{ a : 1, \\quad b : -5, \\quad c : -3, \\quad d : 2\\right \\}$$"
      ],
      "text/plain": [
       "{a: 1, b: -5, c: -3, d: 2}"
      ]
     },
     "execution_count": 13,
     "metadata": {},
     "output_type": "execute_result"
    }
   ],
   "source": [
    "from sympy.abc import a,b,c,d\n",
    "system = sympy.Matrix([ [8,-5,-2,-2,35],[-2,4,-4,1,-8],\n",
    "                       [-2,1,4,4,-11],[4,1,3,10,10]])\n",
    "sympy.solve_linear_system(system, a,b,c,d)"
   ]
  },
  {
   "cell_type": "markdown",
   "metadata": {},
   "source": [
    "Оценить время, затраченное на выполнение фрагмента программы, поможет несколько простых комманд."
   ]
  },
  {
   "cell_type": "code",
   "execution_count": 14,
   "metadata": {},
   "outputs": [
    {
     "name": "stdout",
     "output_type": "stream",
     "text": [
      "--- 0.00868701934814 seconds ---\n"
     ]
    }
   ],
   "source": [
    "import time\n",
    "start_time = time.time()\n",
    "sympy.solve_linear_system(system, a,b,c,d)\n",
    "print(\"--- %s seconds ---\" % (time.time() - start_time))"
   ]
  },
  {
   "cell_type": "code",
   "execution_count": 15,
   "metadata": {},
   "outputs": [
    {
     "name": "stdout",
     "output_type": "stream",
     "text": [
      "100 loops, best of 3: 3.4 ms per loop\n"
     ]
    }
   ],
   "source": [
    "%timeit sympy.solve_linear_system(system, a,b,c,d)"
   ]
  },
  {
   "cell_type": "code",
   "execution_count": 16,
   "metadata": {},
   "outputs": [
    {
     "data": {
      "image/png": "[encoded data removed]",
      "text/latex": [
       "$$\\left ( \\left[\\begin{matrix}8 & -5 & -2 & -2\\\\-2 & 4 & -4 & 1\\\\-2 & 1 & 4 & 4\\\\4 & 1 & 3 & 10\\end{matrix}\\right], \\quad 4, \\quad -54\\right )$$"
      ],
      "text/plain": [
       "(Matrix([\n",
       " [ 8, -5, -2, -2],\n",
       " [-2,  4, -4,  1],\n",
       " [-2,  1,  4,  4],\n",
       " [ 4,  1,  3, 10]]), 4, -54)"
      ]
     },
     "execution_count": 16,
     "metadata": {},
     "output_type": "execute_result"
    }
   ],
   "source": [
    "A = sympy.Matrix([[8,-5,-2,-2],[-2,4,-4,1],[-2,1,4,4],[4,1,3,10]])\n",
    "A, A.rank(), A.det()"
   ]
  },
  {
   "cell_type": "code",
   "execution_count": 17,
   "metadata": {},
   "outputs": [
    {
     "name": "stdout",
     "output_type": "stream",
     "text": [
      "\n",
      "\n",
      "\n",
      "\n",
      "     [,1]\n",
      "[1,]    1\n",
      "[2,]   -5\n",
      "[3,]   -3\n",
      "[4,]    2\n"
     ]
    }
   ],
   "source": [
    "%%r\n",
    "A <- matrix(data=c(8,-5,-2,-2,-2,4,-4,1,-2,1,4,4,4,1,3,10), \n",
    "            nrow=4, ncol=4, byrow=TRUE)    \n",
    "b <- matrix(data=c(35,-8,-11,10), \n",
    "            nrow=4, ncol=1, byrow=FALSE)\n",
    "round(solve(A, b))"
   ]
  },
  {
   "cell_type": "code",
   "execution_count": 18,
   "metadata": {},
   "outputs": [
    {
     "name": "stdout",
     "output_type": "stream",
     "text": [
      "     [,1] [,2] [,3] [,4]\n",
      "[1,]    8   -5   -2   -2\n",
      "[2,]   -2    4   -4    1\n",
      "[3,]   -2    1    4    4\n",
      "[4,]    4    1    3   10\n",
      "[1] -54\n",
      "$qr\n",
      "           [,1]        [,2]       [,3]       [,4]\n",
      "[1,] -9.3808315  4.90361648  0.4264014 -1.4924050\n",
      "[2,] -0.2132007 -4.35368183  0.2505716 -8.1122561\n",
      "[3,] -0.2132007 -0.03206531 -6.6899474 -7.2749548\n",
      "[4,]  0.4264014  0.75320256  0.8396846 -0.1976392\n",
      "\n",
      "$rank\n",
      "[1] 4\n",
      "\n",
      "$qraux\n",
      "[1] 1.8528029 1.6570066 1.5430743 0.1976392\n",
      "\n",
      "$pivot\n",
      "[1] 1 2 3 4\n",
      "\n",
      "attr(,\"class\")\n",
      "[1] \"qr\"\n"
     ]
    }
   ],
   "source": [
    "%%r\n",
    "A; det(A)\n",
    "qr(A)"
   ]
  },
  {
   "cell_type": "code",
   "execution_count": 19,
   "metadata": {},
   "outputs": [
    {
     "name": "stdout",
     "output_type": "stream",
     "text": [
      "\n",
      "\n",
      "\n",
      " 8*x1 - 5*x2 - 2*x3  - 2*x4  =   35 \n",
      "-2*x1 + 4*x2 - 4*x3  + 1*x4  =   -8 \n",
      "-2*x1 + 1*x2 + 4*x3  + 4*x4  =  -11 \n",
      " 4*x1 + 1*x2 + 3*x3 + 10*x4  =   10 \n"
     ]
    }
   ],
   "source": [
    "%%r\n",
    "library(matlib)\n",
    "A <- matrix(c(8,-2,-2,4,-5,4,1,1,-2,-4,4,3,-2,1,4,10), 4, 4)    \n",
    "b <- c(35,-8,-11,10)\n",
    "showEqn(A, b) # display equations"
   ]
  },
  {
   "cell_type": "code",
   "execution_count": 20,
   "metadata": {},
   "outputs": [
    {
     "name": "stdout",
     "output_type": "stream",
     "text": [
      "[1] 4 4\n"
     ]
    }
   ],
   "source": [
    "%%r\n",
    "c( R(A), R(cbind(A,b)) ) # ranks"
   ]
  },
  {
   "cell_type": "code",
   "execution_count": 21,
   "metadata": {},
   "outputs": [
    {
     "name": "stdout",
     "output_type": "stream",
     "text": [
      "x1        =   1 \n",
      "  x2      =  -5 \n",
      "    x3    =  -3 \n",
      "      x4  =   2 \n"
     ]
    }
   ],
   "source": [
    "%%r\n",
    "Solve(A, b)"
   ]
  },
  {
   "cell_type": "markdown",
   "metadata": {},
   "source": [
    "## 2. Правило Крамера.\n",
    "\n",
    "Алгоритм решения:\n",
    "\n",
    "1) вычисляем определитель основной матрицы системы (должен быть ненулевым);\n",
    "\n",
    "2) вычисляем определители матриц, \n",
    "\n",
    "   полученных заменой каждого столбца основной матрицы столбцом свободных членов;\n",
    "   \n",
    "3) вычисляем значения переменных как отношение \n",
    "\n",
    "   определителя с замененным соответствующим столбцом к определителю основной матрицы."
   ]
  },
  {
   "cell_type": "code",
   "execution_count": 170,
   "metadata": {},
   "outputs": [
    {
     "data": {
      "text/plain": [
       "(\n",
       "[a1 a2 a3]              \n",
       "[a4 a5 a6]              \n",
       "[a7 a8 a9], (b1, b2, b3)\n",
       ")"
      ]
     },
     "execution_count": 170,
     "metadata": {},
     "output_type": "execute_result"
    }
   ],
   "source": [
    "# sage\n",
    "a1,a2,a3,a4,a5,a6,a7,a8,a9 = var('a1 a2 a3 a4 a5 a6 a7 a8 a9')\n",
    "b1,b2,b3 = var('b1 b2 b3')\n",
    "A = matrix(3, [a1,a2,a3,a4,a5,a6,a7,a8,a9])\n",
    "b = vector([b1,b2,b3])\n",
    "A, b"
   ]
  },
  {
   "cell_type": "code",
   "execution_count": 167,
   "metadata": {},
   "outputs": [
    {
     "data": {
      "text/plain": [
       "(\n",
       "[b1 a2 a3]  [a1 b1 a3]  [a1 a2 b1]\n",
       "[b2 a5 a6]  [a4 b2 a6]  [a4 a5 b2]\n",
       "[b3 a8 a9], [a7 b3 a9], [a7 a8 b3]\n",
       ")"
      ]
     },
     "execution_count": 167,
     "metadata": {},
     "output_type": "execute_result"
    }
   ],
   "source": [
    "X1 = copy(A); X2 = copy(A); X3=copy(A)\n",
    "X1[:,0] = b; X2[:,1] = b ; X3[:,2] = b\n",
    "X1, X2, X3"
   ]
  },
  {
   "cell_type": "code",
   "execution_count": 168,
   "metadata": {},
   "outputs": [
    {
     "data": {
      "text/plain": [
       "(((a6*a8 - a5*a9)*b1 - (a3*a8 - a2*a9)*b2 + (a3*a5 - a2*a6)*b3)/((a6*a8 - a5*a9)*a1 - (a3*a8 - a2*a9)*a4 + (a3*a5 - a2*a6)*a7),\n",
       " -((a9*b2 - a6*b3)*a1 - (a9*b1 - a3*b3)*a4 + (a6*b1 - a3*b2)*a7)/((a6*a8 - a5*a9)*a1 - (a3*a8 - a2*a9)*a4 + (a3*a5 - a2*a6)*a7),\n",
       " ((a8*b2 - a5*b3)*a1 - (a8*b1 - a2*b3)*a4 + (a5*b1 - a2*b2)*a7)/((a6*a8 - a5*a9)*a1 - (a3*a8 - a2*a9)*a4 + (a3*a5 - a2*a6)*a7))"
      ]
     },
     "execution_count": 168,
     "metadata": {},
     "output_type": "execute_result"
    }
   ],
   "source": [
    "x1 = X1.det() / A.det()\n",
    "x2 = X2.det() / A.det()\n",
    "x3 = X3.det() / A.det()\n",
    "x1, x2, x3 "
   ]
  },
  {
   "cell_type": "code",
   "execution_count": 22,
   "metadata": {},
   "outputs": [
    {
     "data": {
      "text/plain": [
       "(1, -5, -3, 2)"
      ]
     },
     "execution_count": 22,
     "metadata": {},
     "output_type": "execute_result"
    }
   ],
   "source": [
    "A = matrix(4, [8,-5,-2,-2,-2,4,-4,1,-2,1,4,4,4,1,3,10])\n",
    "b = vector([35,-8,-11,10])\n",
    "X1 = copy(A); X2 = copy(A); X3=copy(A); X4=copy(A)\n",
    "X1[:,0] = b; X2[:,1] = b ; X3[:,2] = b; X4[:,3] = b\n",
    "x1 = X1.det() / A.det()\n",
    "x2 = X2.det() / A.det()\n",
    "x3 = X3.det() / A.det()\n",
    "x4 = X4.det() / A.det()\n",
    "x1, x2, x3, x4 "
   ]
  },
  {
   "cell_type": "code",
   "execution_count": 72,
   "metadata": {},
   "outputs": [
    {
     "name": "stdout",
     "output_type": "stream",
     "text": [
      "[[ 8 -5 -2 -2]\n",
      " [-2  4 -4  1]\n",
      " [-2  1  4  4]\n",
      " [ 4  1  3 10]]\n",
      "[[ 35]\n",
      " [ -8]\n",
      " [-11]\n",
      " [ 10]]\n"
     ]
    }
   ],
   "source": [
    "# numpy\n",
    "A = numpy.matrix([[8,-5,-2,-2],[-2,4,-4,1],[-2,1,4,4],[4,1,3,10]])\n",
    "b = numpy.matrix([35,-8,-11,10]).T\n",
    "print(A)\n",
    "print(b)"
   ]
  },
  {
   "cell_type": "code",
   "execution_count": 74,
   "metadata": {},
   "outputs": [
    {
     "name": "stdout",
     "output_type": "stream",
     "text": [
      "[[ 35  -5  -2  -2]\n",
      " [ -8   4  -4   1]\n",
      " [-11   1   4   4]\n",
      " [ 10   1   3  10]]\n",
      "[[  8  35  -2  -2]\n",
      " [ -2  -8  -4   1]\n",
      " [ -2 -11   4   4]\n",
      " [  4  10   3  10]]\n",
      "[[  8  -5  35  -2]\n",
      " [ -2   4  -8   1]\n",
      " [ -2   1 -11   4]\n",
      " [  4   1  10  10]]\n",
      "[[  8  -5  -2  35]\n",
      " [ -2   4  -4  -8]\n",
      " [ -2   1   4 -11]\n",
      " [  4   1   3  10]]\n"
     ]
    }
   ],
   "source": [
    "X1 = A.copy(); X2 = A.copy(); X3 = A.copy(); X4 = A.copy()\n",
    "X1[:,0] = b; X2[:,1] = b ; X3[:,2] = b; X4[:,3] = b\n",
    "print(X1); print(X2); print(X3); print(X4)"
   ]
  },
  {
   "cell_type": "code",
   "execution_count": 75,
   "metadata": {},
   "outputs": [
    {
     "data": {
      "image/png": "[encoded data removed]",
      "text/latex": [
       "$$\\left ( -54.0, \\quad -54.0, \\quad 270.0, \\quad 162.0, \\quad -108.0\\right )$$"
      ],
      "text/plain": [
       "(-53.999999999999957,\n",
       " -53.999999999999837,\n",
       " 269.99999999999983,\n",
       " 161.99999999999977,\n",
       " -107.99999999999993)"
      ]
     },
     "execution_count": 75,
     "metadata": {},
     "output_type": "execute_result"
    }
   ],
   "source": [
    "numpy.linalg.det(A), numpy.linalg.det(X1), numpy.linalg.det(X2), \\\n",
    "numpy.linalg.det(X3), numpy.linalg.det(X4)"
   ]
  },
  {
   "cell_type": "code",
   "execution_count": 76,
   "metadata": {},
   "outputs": [
    {
     "data": {
      "image/png": "[encoded data removed]",
      "text/latex": [
       "$$\\left ( 1.0, \\quad -5.0, \\quad -3.0, \\quad 2.0\\right )$$"
      ],
      "text/plain": [
       "(0.99999999999999778,\n",
       " -5.0000000000000009,\n",
       " -2.9999999999999982,\n",
       " 2.0000000000000004)"
      ]
     },
     "execution_count": 76,
     "metadata": {},
     "output_type": "execute_result"
    }
   ],
   "source": [
    "x1 = numpy.linalg.det(X1) / numpy.linalg.det(A)\n",
    "x2 = numpy.linalg.det(X2) / numpy.linalg.det(A)\n",
    "x3 = numpy.linalg.det(X3) / numpy.linalg.det(A)\n",
    "x4 = numpy.linalg.det(X4) / numpy.linalg.det(A)\n",
    "x1, x2, x3, x4 "
   ]
  },
  {
   "cell_type": "code",
   "execution_count": 66,
   "metadata": {},
   "outputs": [
    {
     "data": {
      "image/png": "[encoded data removed]",
      "text/latex": [
       "$$\\left ( \\left[\\begin{matrix}8 & -5 & -2 & -2\\\\-2 & 4 & -4 & 1\\\\-2 & 1 & 4 & 4\\\\4 & 1 & 3 & 10\\end{matrix}\\right], \\quad \\left[\\begin{matrix}35\\\\-8\\\\-11\\\\10\\end{matrix}\\right]\\right )$$"
      ],
      "text/plain": [
       "(Matrix([\n",
       " [ 8, -5, -2, -2],\n",
       " [-2,  4, -4,  1],\n",
       " [-2,  1,  4,  4],\n",
       " [ 4,  1,  3, 10]]), Matrix([\n",
       " [ 35],\n",
       " [ -8],\n",
       " [-11],\n",
       " [ 10]]))"
      ]
     },
     "execution_count": 66,
     "metadata": {},
     "output_type": "execute_result"
    }
   ],
   "source": [
    "# sympy\n",
    "A = sympy.Matrix([[8,-5,-2,-2],[-2,4,-4,1],[-2,1,4,4],[4,1,3,10]])\n",
    "b = sympy.Matrix([35,-8,-11,10])\n",
    "A, b"
   ]
  },
  {
   "cell_type": "code",
   "execution_count": 67,
   "metadata": {},
   "outputs": [
    {
     "data": {
      "image/png": "[encoded data removed]",
      "text/latex": [
       "$$\\left ( \\left[\\begin{matrix}35 & -5 & -2 & -2\\\\-8 & 4 & -4 & 1\\\\-11 & 1 & 4 & 4\\\\10 & 1 & 3 & 10\\end{matrix}\\right], \\quad \\left[\\begin{matrix}8 & 35 & -2 & -2\\\\-2 & -8 & -4 & 1\\\\-2 & -11 & 4 & 4\\\\4 & 10 & 3 & 10\\end{matrix}\\right], \\quad \\left[\\begin{matrix}8 & -5 & 35 & -2\\\\-2 & 4 & -8 & 1\\\\-2 & 1 & -11 & 4\\\\4 & 1 & 10 & 10\\end{matrix}\\right], \\quad \\left[\\begin{matrix}8 & -5 & -2 & 35\\\\-2 & 4 & -4 & -8\\\\-2 & 1 & 4 & -11\\\\4 & 1 & 3 & 10\\end{matrix}\\right]\\right )$$"
      ],
      "text/plain": [
       "(Matrix([\n",
       " [ 35, -5, -2, -2],\n",
       " [ -8,  4, -4,  1],\n",
       " [-11,  1,  4,  4],\n",
       " [ 10,  1,  3, 10]]), Matrix([\n",
       " [ 8,  35, -2, -2],\n",
       " [-2,  -8, -4,  1],\n",
       " [-2, -11,  4,  4],\n",
       " [ 4,  10,  3, 10]]), Matrix([\n",
       " [ 8, -5,  35, -2],\n",
       " [-2,  4,  -8,  1],\n",
       " [-2,  1, -11,  4],\n",
       " [ 4,  1,  10, 10]]), Matrix([\n",
       " [ 8, -5, -2,  35],\n",
       " [-2,  4, -4,  -8],\n",
       " [-2,  1,  4, -11],\n",
       " [ 4,  1,  3,  10]]))"
      ]
     },
     "execution_count": 67,
     "metadata": {},
     "output_type": "execute_result"
    }
   ],
   "source": [
    "X1 = A.copy(); X2 = A.copy(); X3 = A.copy(); X4 = A.copy()\n",
    "X1.col_del(0); X2.col_del(1); X3.col_del(2); X4.col_del(3)\n",
    "X1 = X1.col_insert(0,b); X2 = X2.col_insert(1,b);\n",
    "X3 = X3.col_insert(2,b); X4 = X4.col_insert(3,b);\n",
    "X1, X2, X3, X4"
   ]
  },
  {
   "cell_type": "code",
   "execution_count": 68,
   "metadata": {},
   "outputs": [
    {
     "data": {
      "image/png": "[encoded data removed]",
      "text/latex": [
       "$$\\left ( -54, \\quad -54, \\quad 270, \\quad 162, \\quad -108\\right )$$"
      ],
      "text/plain": [
       "(-54, -54, 270, 162, -108)"
      ]
     },
     "execution_count": 68,
     "metadata": {},
     "output_type": "execute_result"
    }
   ],
   "source": [
    "A.det(), X1.det(), X2.det(), X3.det(), X4.det()"
   ]
  },
  {
   "cell_type": "code",
   "execution_count": 69,
   "metadata": {},
   "outputs": [
    {
     "data": {
      "image/png": "[encoded data removed]",
      "text/latex": [
       "$$\\left ( 1, \\quad -5, \\quad -3, \\quad 2\\right )$$"
      ],
      "text/plain": [
       "(1, -5, -3, 2)"
      ]
     },
     "execution_count": 69,
     "metadata": {},
     "output_type": "execute_result"
    }
   ],
   "source": [
    "x1 = X1.det() / A.det()\n",
    "x2 = X2.det() / A.det()\n",
    "x3 = X3.det() / A.det()\n",
    "x4 = X4.det() / A.det()\n",
    "x1, x2, x3, x4 "
   ]
  },
  {
   "cell_type": "code",
   "execution_count": 83,
   "metadata": {},
   "outputs": [
    {
     "name": "stdout",
     "output_type": "stream",
     "text": [
      "\n",
      "\n",
      "     [,1] [,2] [,3] [,4]\n",
      "[1,]    8   -5   -2   -2\n",
      "[2,]   -2    4   -4    1\n",
      "[3,]   -2    1    4    4\n",
      "[4,]    4    1    3   10\n",
      "[1]  35  -8 -11  10\n"
     ]
    }
   ],
   "source": [
    "%%r\n",
    "A <- matrix(c(8,-2,-2,4,-5,4,1,1,-2,-4,4,3,-2,1,4,10), 4, 4)    \n",
    "b <- c(35,-8,-11,10)\n",
    "A; b"
   ]
  },
  {
   "cell_type": "code",
   "execution_count": 89,
   "metadata": {},
   "outputs": [
    {
     "name": "stdout",
     "output_type": "stream",
     "text": [
      "\n",
      "\n",
      "\n",
      "\n",
      "     [,1] [,2] [,3] [,4]\n",
      "[1,]   35   -5   -2   -2\n",
      "[2,]   -8    4   -4    1\n",
      "[3,]  -11    1    4    4\n",
      "[4,]   10    1    3   10\n",
      "     [,1] [,2] [,3] [,4]\n",
      "[1,]    8   35   -2   -2\n",
      "[2,]   -2   -8   -4    1\n",
      "[3,]   -2  -11    4    4\n",
      "[4,]    4   10    3   10\n",
      "     [,1] [,2] [,3] [,4]\n",
      "[1,]    8   -5   35   -2\n",
      "[2,]   -2    4   -8    1\n",
      "[3,]   -2    1  -11    4\n",
      "[4,]    4    1   10   10\n",
      "     [,1] [,2] [,3] [,4]\n",
      "[1,]    8   -5   -2   35\n",
      "[2,]   -2    4   -4   -8\n",
      "[3,]   -2    1    4  -11\n",
      "[4,]    4    1    3   10\n"
     ]
    }
   ],
   "source": [
    "%%r\n",
    "X1 <- A; X1[1:4,1] <- b\n",
    "X2 <- A; X2[1:4,2] <- b\n",
    "X3 <- A; X3[1:4,3] <- b\n",
    "X4 <- A; X4[1:4,4] <- b\n",
    "X1; X2; X3; X4"
   ]
  },
  {
   "cell_type": "code",
   "execution_count": 92,
   "metadata": {},
   "outputs": [
    {
     "name": "stdout",
     "output_type": "stream",
     "text": [
      "\n",
      "\n",
      "\n",
      "\n",
      "[1] 1\n",
      "[1] -5\n",
      "[1] -3\n",
      "[1] 2\n"
     ]
    }
   ],
   "source": [
    "%%r\n",
    "x1 <- det(X1) / det(A)\n",
    "x2 <- det(X2) / det(A)\n",
    "x3 <- det(X3) / det(A)\n",
    "x4 <- det(X4) / det(A)\n",
    "x1; x2; x3; x4 "
   ]
  },
  {
   "cell_type": "markdown",
   "metadata": {},
   "source": [
    "## 3. Алгоритм Гаусса.\n",
    "Последовательное исключение неизвестных и приведение матрицы коеффициентов уравнения к верхнему треугольному виду.\n",
    "\n",
    "Элементарные преобразования:\n",
    "\n",
    "1) перестановка строк;\n",
    "\n",
    "2) удаление строк  нулевыми коэффициентами;\n",
    "\n",
    "3) умножение любой строки на ненулевую константу;\n",
    "\n",
    "4) прибавление к строке любой другой строки.\n",
    "\n",
    "Шаги алгоритма:\n",
    "\n",
    "1) выберем \"разрешающую\" строку с наименьшим количеством нулей, считая от начала;\n",
    "\n",
    "2) разделим эту \"разрешающую\" строку на ее первый ненулевой элемент, стоящий на k-ой позиции от начала; \n",
    "\n",
    "3) переставим полученную строку на k-ую позицию среди строк;\n",
    "\n",
    "4) вычтем из каждой строки матрицы \"разрешающую\" строку, умноженную на элемент обрабатываемой строки в k-ом столбце,\n",
    "\n",
    "   k-ый столбец станет столбцом единичной матрицы;\n",
    "   \n",
    "5) продолжим процесс до того приведения матрицы к верхнему треугольному виду.\n",
    "\n",
    "При вычислениях можно избежать дробей, применив элементарные преобразования."
   ]
  },
  {
   "cell_type": "code",
   "execution_count": 163,
   "metadata": {},
   "outputs": [
    {
     "data": {
      "text/plain": [
       "(\n",
       "              [ 1  0  0  0  1]\n",
       "              [ 0  1  0  0 -5]\n",
       "              [ 0  0  1  0 -3]\n",
       "(0, 1, 2, 3), [ 0  0  0  1  2]\n",
       ")"
      ]
     },
     "execution_count": 163,
     "metadata": {},
     "output_type": "execute_result"
    }
   ],
   "source": [
    "# sage\n",
    "A = matrix(4, [8,-5,-2,-2,-2,4,-4,1,-2,1,4,4,4,1,3,10])\n",
    "b = vector(QQ, [35, -8, -11,10])\n",
    "Ab = A.augment(b)\n",
    "x = Ab.rref()[:,-1]\n",
    "Ab.pivots(), Ab.rref()"
   ]
  },
  {
   "cell_type": "code",
   "execution_count": 164,
   "metadata": {},
   "outputs": [
    {
     "data": {
      "text/plain": [
       "[ 2  0  0  9 20]\n",
       "[ 0  1  0 10 15]\n",
       "[ 0  0  1 21 39]\n",
       "[ 0  0  0 27 54]"
      ]
     },
     "execution_count": 164,
     "metadata": {},
     "output_type": "execute_result"
    }
   ],
   "source": [
    "Ab.echelon_form()"
   ]
  },
  {
   "cell_type": "code",
   "execution_count": 165,
   "metadata": {},
   "outputs": [
    {
     "data": {
      "text/plain": [
       "[ 1]\n",
       "[-5]\n",
       "[-3]\n",
       "[ 2]"
      ]
     },
     "execution_count": 165,
     "metadata": {},
     "output_type": "execute_result"
    }
   ],
   "source": [
    "x"
   ]
  },
  {
   "cell_type": "code",
   "execution_count": 146,
   "metadata": {},
   "outputs": [
    {
     "name": "stdout",
     "output_type": "stream",
     "text": [
      "[[  8  -5  -2  -2  35]\n",
      " [ -2   4  -4   1  -8]\n",
      " [ -2   1   4   4 -11]\n",
      " [  4   1   3  10  10]]\n"
     ]
    }
   ],
   "source": [
    "# numpy\n",
    "A = numpy.matrix([[8,-5,-2,-2,35],[-2,4,-4,1,-8],[-2,1,4,4,-11],[4,1,3,10,10]])\n",
    "print(A)"
   ]
  },
  {
   "cell_type": "code",
   "execution_count": 147,
   "metadata": {},
   "outputs": [
    {
     "name": "stdout",
     "output_type": "stream",
     "text": [
      "[[  8  -5  -2  -2  35]\n",
      " [  0  11 -18   2   3]\n",
      " [  0  -1  14  14  -9]\n",
      " [  0  -7  -8 -22  15]]\n"
     ]
    }
   ],
   "source": [
    "# Умножим 2-ую и 3-ю строки на 4, 4-ую - на -2 и сложим с 1-ой:\n",
    "A[1,:] = 4 * A[1,:] + A[0,:] \n",
    "A[2,:] = 4 * A[2,:] + A[0,:] \n",
    "A[3,:] = -2 * A[3,:] + A[0,:]\n",
    "print(A)"
   ]
  },
  {
   "cell_type": "code",
   "execution_count": 148,
   "metadata": {},
   "outputs": [
    {
     "name": "stdout",
     "output_type": "stream",
     "text": [
      "[[   8   -5   -2   -2   35]\n",
      " [   0   11  -18    2    3]\n",
      " [   0    0   34   39  -24]\n",
      " [   0    0 -107 -114   93]]\n"
     ]
    }
   ],
   "source": [
    "# Умножим 3-ю строчку на 11 и сложим со 2-й; умножим 2-ую на 7, 4-ую - на 11 и сложим\n",
    "# Поделим 3-ю строчку на 4, 4-ую - на 2\n",
    "A[2,:] = (11 * A[2,:] + A[1,:]) / 4\n",
    "A[3,:] = (11 * A[3,:] + 7 * A[1,:]) / 2\n",
    "print(A)"
   ]
  },
  {
   "cell_type": "code",
   "execution_count": 149,
   "metadata": {},
   "outputs": [
    {
     "name": "stdout",
     "output_type": "stream",
     "text": [
      "[[  8  -5  -2  -2  35]\n",
      " [  0  11 -18   2   3]\n",
      " [  0   0  34  39 -24]\n",
      " [  0   0   0   1   2]]\n"
     ]
    }
   ],
   "source": [
    "# Умножим 3-ю строчку на 107, 4-ую - на 34 и сложим\n",
    "# Поделим 4-ю на 297\n",
    "A[3,:] = (34 * A[3,:] + 107 * A[2,:]) / 297\n",
    "print(A)"
   ]
  },
  {
   "cell_type": "code",
   "execution_count": 150,
   "metadata": {},
   "outputs": [
    {
     "name": "stdout",
     "output_type": "stream",
     "text": [
      "[[  8  -5  -2   0  39]\n",
      " [  0  11 -18   0  -1]\n",
      " [  0   0   1   0  -3]\n",
      " [  0   0   0   1   2]]\n"
     ]
    }
   ],
   "source": [
    "# Умножим 4-ю строчку на -39 и сложим с 3-ей\n",
    "# Умножим 4-ю строчку на -2 и сложим со 2-ой\n",
    "# Умножим 4-ю строчку на 2 и сложим со 1-ой\n",
    "# Поделим 3-ю на 34\n",
    "A[0,:] = (A[0,:] + 2 * A[3,:])\n",
    "A[1,:] = (A[1,:] - 2 * A[3,:])\n",
    "A[2,:] = (A[2,:] - 39 * A[3,:]) / 34\n",
    "print(A)"
   ]
  },
  {
   "cell_type": "code",
   "execution_count": 151,
   "metadata": {},
   "outputs": [
    {
     "name": "stdout",
     "output_type": "stream",
     "text": [
      "[[ 8 -5  0  0 33]\n",
      " [ 0  1  0  0 -5]\n",
      " [ 0  0  1  0 -3]\n",
      " [ 0  0  0  1  2]]\n"
     ]
    }
   ],
   "source": [
    "# Умножим 3-ю строчку на 18 и сложим со 2-ой\n",
    "# Поделим 2-ю на 11\n",
    "# Умножим 3-ю строчку на 2 и сложим со 1-ой\n",
    "A[0,:] = A[0,:] + 2 * A[2,:] \n",
    "A[1,:] = (A[1,:] + 18 * A[2,:]) / 11\n",
    "print(A)"
   ]
  },
  {
   "cell_type": "code",
   "execution_count": 152,
   "metadata": {},
   "outputs": [
    {
     "name": "stdout",
     "output_type": "stream",
     "text": [
      "[[ 1  0  0  0  1]\n",
      " [ 0  1  0  0 -5]\n",
      " [ 0  0  1  0 -3]\n",
      " [ 0  0  0  1  2]]\n"
     ]
    }
   ],
   "source": [
    "# Умножим 2-ю строчку на 5 и сложим со 1-ой\n",
    "# Поделим 1-ю на 8\n",
    "A[0,:] = (A[0,:] + 5 * A[1,:]) / 8\n",
    "print(A)"
   ]
  },
  {
   "cell_type": "code",
   "execution_count": 162,
   "metadata": {},
   "outputs": [
    {
     "name": "stdout",
     "output_type": "stream",
     "text": [
      "([1], [-5], [-3], [2])\n"
     ]
    }
   ],
   "source": [
    "x1, x2, x3, x4 = A[:,4].tolist()\n",
    "print(x1, x2, x3, x4)"
   ]
  },
  {
   "cell_type": "code",
   "execution_count": 137,
   "metadata": {},
   "outputs": [
    {
     "data": {
      "image/png": "[encoded data removed]",
      "text/latex": [
       "$$\\left[\\begin{matrix}8 & -5 & -2 & -2 & 35\\\\-2 & 4 & -4 & 1 & -8\\\\-2 & 1 & 4 & 4 & -11\\\\4 & 1 & 3 & 10 & 10\\end{matrix}\\right]$$"
      ],
      "text/plain": [
       "Matrix([\n",
       "[ 8, -5, -2, -2,  35],\n",
       "[-2,  4, -4,  1,  -8],\n",
       "[-2,  1,  4,  4, -11],\n",
       "[ 4,  1,  3, 10,  10]])"
      ]
     },
     "execution_count": 137,
     "metadata": {},
     "output_type": "execute_result"
    }
   ],
   "source": [
    "# sympy\n",
    "A = sympy.Matrix([[8,-5,-2,-2,35],[-2,4,-4,1,-8],[-2,1,4,4,-11],[4,1,3,10,10]])\n",
    "A"
   ]
  },
  {
   "cell_type": "code",
   "execution_count": 138,
   "metadata": {},
   "outputs": [
    {
     "data": {
      "image/png": "[encoded data removed]",
      "text/latex": [
       "$$\\left[\\begin{matrix}8 & -5 & -2 & -2 & 35\\\\0 & 11 & -18 & 2 & 3\\\\0 & -1 & 14 & 14 & -9\\\\0 & -7 & -8 & -22 & 15\\end{matrix}\\right]$$"
      ],
      "text/plain": [
       "Matrix([\n",
       "[8, -5,  -2,  -2, 35],\n",
       "[0, 11, -18,   2,  3],\n",
       "[0, -1,  14,  14, -9],\n",
       "[0, -7,  -8, -22, 15]])"
      ]
     },
     "execution_count": 138,
     "metadata": {},
     "output_type": "execute_result"
    }
   ],
   "source": [
    "# Умножим 2-ую и 3-ю строки на 4, 4-ую - на -2 и сложим с 1-ой:\n",
    "A[1,:] = 4 * A.row(1) + A.row(0) \n",
    "A[2,:] = 4 * A.row(2) + A.row(0) \n",
    "A[3,:] = -2 * A.row(3) + A.row(0)\n",
    "A"
   ]
  },
  {
   "cell_type": "code",
   "execution_count": 139,
   "metadata": {},
   "outputs": [
    {
     "data": {
      "image/png": "[encoded data removed]",
      "text/latex": [
       "$$\\left[\\begin{matrix}8 & -5 & -2 & -2 & 35\\\\0 & 11 & -18 & 2 & 3\\\\0 & 0 & 34 & 39 & -24\\\\0 & 0 & -107 & -114 & 93\\end{matrix}\\right]$$"
      ],
      "text/plain": [
       "Matrix([\n",
       "[8, -5,   -2,   -2,  35],\n",
       "[0, 11,  -18,    2,   3],\n",
       "[0,  0,   34,   39, -24],\n",
       "[0,  0, -107, -114,  93]])"
      ]
     },
     "execution_count": 139,
     "metadata": {},
     "output_type": "execute_result"
    }
   ],
   "source": [
    "# Умножим 3-ю строчку на 11 и сложим со 2-й; умножим 2-ую на 7, 4-ую - на 11 и сложим\n",
    "# Поделим 3-ю строчку на 4, 4-ую - на 2\n",
    "A[2,:] = (11 * A.row(2) + A.row(1)) / 4\n",
    "A[3,:] = (11 * A.row(3) + 7 * A.row(1)) / 2\n",
    "A"
   ]
  },
  {
   "cell_type": "code",
   "execution_count": 140,
   "metadata": {},
   "outputs": [
    {
     "data": {
      "image/png": "[encoded data removed]",
      "text/latex": [
       "$$\\left[\\begin{matrix}8 & -5 & -2 & -2 & 35\\\\0 & 11 & -18 & 2 & 3\\\\0 & 0 & 34 & 39 & -24\\\\0 & 0 & 0 & 1 & 2\\end{matrix}\\right]$$"
      ],
      "text/plain": [
       "Matrix([\n",
       "[8, -5,  -2, -2,  35],\n",
       "[0, 11, -18,  2,   3],\n",
       "[0,  0,  34, 39, -24],\n",
       "[0,  0,   0,  1,   2]])"
      ]
     },
     "execution_count": 140,
     "metadata": {},
     "output_type": "execute_result"
    }
   ],
   "source": [
    "# Умножим 3-ю строчку на 107, 4-ую - на 34 и сложим\n",
    "# Поделим 4-ю на 297\n",
    "A[3,:] = (34 * A.row(3) + 107 * A.row(2)) / 297\n",
    "A"
   ]
  },
  {
   "cell_type": "code",
   "execution_count": 141,
   "metadata": {},
   "outputs": [
    {
     "data": {
      "image/png": "[encoded data removed]",
      "text/latex": [
       "$$\\left[\\begin{matrix}8 & -5 & -2 & 0 & 39\\\\0 & 11 & -18 & 0 & -1\\\\0 & 0 & 1 & 0 & -3\\\\0 & 0 & 0 & 1 & 2\\end{matrix}\\right]$$"
      ],
      "text/plain": [
       "Matrix([\n",
       "[8, -5,  -2, 0, 39],\n",
       "[0, 11, -18, 0, -1],\n",
       "[0,  0,   1, 0, -3],\n",
       "[0,  0,   0, 1,  2]])"
      ]
     },
     "execution_count": 141,
     "metadata": {},
     "output_type": "execute_result"
    }
   ],
   "source": [
    "# Умножим 4-ю строчку на -39 и сложим с 3-ей\n",
    "# Умножим 4-ю строчку на -2 и сложим со 2-ой\n",
    "# Умножим 4-ю строчку на 2 и сложим со 1-ой\n",
    "# Поделим 3-ю на 34\n",
    "A[0,:] = (A.row(0) + 2 * A.row(3))\n",
    "A[1,:] = (A.row(1) - 2 * A.row(3))\n",
    "A[2,:] = (A.row(2) - 39 * A.row(3)) / 34\n",
    "A"
   ]
  },
  {
   "cell_type": "code",
   "execution_count": 142,
   "metadata": {},
   "outputs": [
    {
     "data": {
      "image/png": "[encoded data removed]",
      "text/latex": [
       "$$\\left[\\begin{matrix}8 & -5 & 0 & 0 & 33\\\\0 & 1 & 0 & 0 & -5\\\\0 & 0 & 1 & 0 & -3\\\\0 & 0 & 0 & 1 & 2\\end{matrix}\\right]$$"
      ],
      "text/plain": [
       "Matrix([\n",
       "[8, -5, 0, 0, 33],\n",
       "[0,  1, 0, 0, -5],\n",
       "[0,  0, 1, 0, -3],\n",
       "[0,  0, 0, 1,  2]])"
      ]
     },
     "execution_count": 142,
     "metadata": {},
     "output_type": "execute_result"
    }
   ],
   "source": [
    "# Умножим 3-ю строчку на 18 и сложим со 2-ой\n",
    "# Поделим 2-ю на 11\n",
    "# Умножим 3-ю строчку на 2 и сложим со 1-ой\n",
    "A[0,:] = A.row(0) + 2 * A.row(2) \n",
    "A[1,:] = (A.row(1) + 18 * A.row(2)) / 11\n",
    "A"
   ]
  },
  {
   "cell_type": "code",
   "execution_count": 143,
   "metadata": {},
   "outputs": [
    {
     "data": {
      "image/png": "[encoded data removed]",
      "text/latex": [
       "$$\\left[\\begin{matrix}1 & 0 & 0 & 0 & 1\\\\0 & 1 & 0 & 0 & -5\\\\0 & 0 & 1 & 0 & -3\\\\0 & 0 & 0 & 1 & 2\\end{matrix}\\right]$$"
      ],
      "text/plain": [
       "Matrix([\n",
       "[1, 0, 0, 0,  1],\n",
       "[0, 1, 0, 0, -5],\n",
       "[0, 0, 1, 0, -3],\n",
       "[0, 0, 0, 1,  2]])"
      ]
     },
     "execution_count": 143,
     "metadata": {},
     "output_type": "execute_result"
    }
   ],
   "source": [
    "# Умножим 2-ю строчку на 5 и сложим со 1-ой\n",
    "# Поделим 1-ю на 8\n",
    "A[0,:] = (A.row(0) + 5 * A.row(1)) / 8\n",
    "A"
   ]
  },
  {
   "cell_type": "code",
   "execution_count": 145,
   "metadata": {},
   "outputs": [
    {
     "data": {
      "image/png": "[encoded data removed]",
      "text/latex": [
       "$$\\left ( 1, \\quad -5, \\quad -3, \\quad 2\\right )$$"
      ],
      "text/plain": [
       "(1, -5, -3, 2)"
      ]
     },
     "execution_count": 145,
     "metadata": {},
     "output_type": "execute_result"
    }
   ],
   "source": [
    "x1, x2, x3, x4 = A.col(4)\n",
    "x1, x2, x3, x4"
   ]
  },
  {
   "cell_type": "code",
   "execution_count": 25,
   "metadata": {
    "scrolled": false
   },
   "outputs": [
    {
     "name": "stdout",
     "output_type": "stream",
     "text": [
      "\n",
      "\n",
      "\n",
      "Initial matrix:\n",
      "     [,1] [,2] [,3] [,4] [,5]\n",
      "[1,]   8   -5   -2   -2   35 \n",
      "[2,]  -2    4   -4    1   -8 \n",
      "[3,]  -2    1    4    4  -11 \n",
      "[4,]   4    1    3   10   10 \n",
      "\n",
      "row: 1 \n",
      "\n",
      " multiply row 1 by 1/8 \n",
      "     [,1] [,2] [,3] [,4] [,5]\n",
      "[1,]    1 -5/8 -1/4 -1/4 35/8\n",
      "[2,]   -2    4   -4    1   -8\n",
      "[3,]   -2    1    4    4  -11\n",
      "[4,]    4    1    3   10   10\n",
      "\n",
      " multiply row 1 by 2 and add to row 2 \n",
      "     [,1] [,2] [,3] [,4] [,5]\n",
      "[1,]    1 -5/8 -1/4 -1/4 35/8\n",
      "[2,]    0 11/4 -9/2  1/2  3/4\n",
      "[3,]   -2    1    4    4  -11\n",
      "[4,]    4    1    3   10   10\n",
      "\n",
      " multiply row 1 by 2 and add to row 3 \n",
      "     [,1] [,2] [,3] [,4] [,5]\n",
      "[1,]    1 -5/8 -1/4 -1/4 35/8\n",
      "[2,]    0 11/4 -9/2  1/2  3/4\n",
      "[3,]    0 -1/4  7/2  7/2 -9/4\n",
      "[4,]    4    1    3   10   10\n",
      "\n",
      " multiply row 1 by 4 and subtract from row 4 \n",
      "     [,1]  [,2]  [,3]  [,4]  [,5] \n",
      "[1,]     1  -5/8  -1/4  -1/4  35/8\n",
      "[2,]     0  11/4  -9/2   1/2   3/4\n",
      "[3,]     0  -1/4   7/2   7/2  -9/4\n",
      "[4,]     0   7/2     4    11 -15/2\n",
      "\n",
      "row: 2 \n",
      "\n",
      " exchange rows 2 and 4 \n",
      "     [,1]  [,2]  [,3]  [,4]  [,5] \n",
      "[1,]     1  -5/8  -1/4  -1/4  35/8\n",
      "[2,]     0   7/2     4    11 -15/2\n",
      "[3,]     0  -1/4   7/2   7/2  -9/4\n",
      "[4,]     0  11/4  -9/2   1/2   3/4\n",
      "\n",
      " multiply row 2 by 2/7 \n",
      "     [,1]  [,2]  [,3]  [,4]  [,5] \n",
      "[1,]     1  -5/8  -1/4  -1/4  35/8\n",
      "[2,]     0     1   8/7  22/7 -15/7\n",
      "[3,]     0  -1/4   7/2   7/2  -9/4\n",
      "[4,]     0  11/4  -9/2   1/2   3/4\n",
      "\n",
      " multiply row 2 by 5/8 and add to row 1 \n",
      "     [,1]  [,2]  [,3]  [,4]  [,5] \n",
      "[1,]     1     0 13/28  12/7 85/28\n",
      "[2,]     0     1   8/7  22/7 -15/7\n",
      "[3,]     0  -1/4   7/2   7/2  -9/4\n",
      "[4,]     0  11/4  -9/2   1/2   3/4\n",
      "\n",
      " multiply row 2 by 1/4 and add to row 3 \n",
      "     [,1]   [,2]   [,3]   [,4]   [,5]  \n",
      "[1,]      1      0  13/28   12/7  85/28\n",
      "[2,]      0      1    8/7   22/7  -15/7\n",
      "[3,]      0      0  53/14   30/7 -39/14\n",
      "[4,]      0   11/4   -9/2    1/2    3/4\n",
      "\n",
      " multiply row 2 by 11/4 and subtract from row 4 \n",
      "     [,1]    [,2]    [,3]    [,4]    [,5]   \n",
      "[1,]       1       0   13/28    12/7   85/28\n",
      "[2,]       0       1     8/7    22/7   -15/7\n",
      "[3,]       0       0   53/14    30/7  -39/14\n",
      "[4,]       0       0 -107/14   -57/7   93/14\n",
      "\n",
      "row: 3 \n",
      "\n",
      " exchange rows 3 and 4 \n",
      "     [,1]    [,2]    [,3]    [,4]    [,5]   \n",
      "[1,]       1       0   13/28    12/7   85/28\n",
      "[2,]       0       1     8/7    22/7   -15/7\n",
      "[3,]       0       0 -107/14   -57/7   93/14\n",
      "[4,]       0       0   53/14    30/7  -39/14\n",
      "\n",
      " multiply row 3 by -14/107 \n",
      "     [,1]    [,2]    [,3]    [,4]    [,5]   \n",
      "[1,]       1       0   13/28    12/7   85/28\n",
      "[2,]       0       1     8/7    22/7   -15/7\n",
      "[3,]       0       0       1 114/107 -93/107\n",
      "[4,]       0       0   53/14    30/7  -39/14\n",
      "\n",
      " multiply row 3 by 13/28 and subtract from row 1 \n",
      "     [,1]    [,2]    [,3]    [,4]    [,5]   \n",
      "[1,]       1       0       0 261/214 368/107\n",
      "[2,]       0       1     8/7    22/7   -15/7\n",
      "[3,]       0       0       1 114/107 -93/107\n",
      "[4,]       0       0   53/14    30/7  -39/14\n",
      "\n",
      " multiply row 3 by 8/7 and subtract from row 2 \n",
      "     [,1]     [,2]     [,3]     [,4]     [,5]    \n",
      "[1,]        1        0        0  261/214  368/107\n",
      "[2,]        0        1        0  206/107 -123/107\n",
      "[3,]        0        0        1  114/107  -93/107\n",
      "[4,]        0        0    53/14     30/7   -39/14\n",
      "\n",
      " multiply row 3 by 53/14 and subtract from row 4 \n",
      "     [,1]     [,2]     [,3]     [,4]     [,5]    \n",
      "[1,]        1        0        0  261/214  368/107\n",
      "[2,]        0        1        0  206/107 -123/107\n",
      "[3,]        0        0        1  114/107  -93/107\n",
      "[4,]        0        0        0   27/107   54/107\n",
      "\n",
      "row: 4 \n",
      "\n",
      " multiply row 4 by 107/27 \n",
      "     [,1]     [,2]     [,3]     [,4]     [,5]    \n",
      "[1,]        1        0        0  261/214  368/107\n",
      "[2,]        0        1        0  206/107 -123/107\n",
      "[3,]        0        0        1  114/107  -93/107\n",
      "[4,]        0        0        0        1        2\n",
      "\n",
      " multiply row 4 by 261/214 and subtract from row 1 \n",
      "     [,1]     [,2]     [,3]     [,4]     [,5]    \n",
      "[1,]        1        0        0        0        1\n",
      "[2,]        0        1        0  206/107 -123/107\n",
      "[3,]        0        0        1  114/107  -93/107\n",
      "[4,]        0        0        0        1        2\n",
      "\n",
      " multiply row 4 by 206/107 and subtract from row 2 \n",
      "     [,1]    [,2]    [,3]    [,4]    [,5]   \n",
      "[1,]       1       0       0       0       1\n",
      "[2,]       0       1       0       0      -5\n",
      "[3,]       0       0       1 114/107 -93/107\n",
      "[4,]       0       0       0       1       2\n",
      "\n",
      " multiply row 4 by 114/107 and subtract from row 3 \n",
      "     [,1] [,2] [,3] [,4] [,5]\n",
      "[1,]  1    0    0    0    1  \n",
      "[2,]  0    1    0    0   -5  \n",
      "[3,]  0    0    1    0   -3  \n",
      "[4,]  0    0    0    1    2  \n"
     ]
    }
   ],
   "source": [
    "%%r\n",
    "A <- matrix(c(8,-2,-2,4,-5,4,1,1,-2,-4,4,3,-2,1,4,10), 4, 4)    \n",
    "b <- c(35,-8,-11,10)\n",
    "echelon(A, b, verbose=TRUE, fractions=TRUE)"
   ]
  }
 ],
 "metadata": {
  "kernelspec": {
   "display_name": "SageMath 8.4",
   "language": "",
   "name": "sagemath"
  },
  "language_info": {
   "codemirror_mode": {
    "name": "ipython",
    "version": 2
   },
   "file_extension": ".py",
   "mimetype": "text/x-python",
   "name": "python",
   "nbconvert_exporter": "python",
   "pygments_lexer": "ipython2",
   "version": "2.7.15"
  }
 },
 "nbformat": 4,
 "nbformat_minor": 2
}

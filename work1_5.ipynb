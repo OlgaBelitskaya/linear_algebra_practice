{
 "cells": [
  {
   "cell_type": "markdown",
   "metadata": {},
   "source": [
    "<h1 style=\"color: #3636ff;\">Линейная алгебра. Практическая работа №5</h1>\n",
    "\n",
    "### Программные средства\n",
    "\n",
    "[LaTeX. Mathematics](https://en.wikibooks.org/wiki/LaTeX/Mathematics)\n",
    "\n",
    "[Sage. Basic Algebra and Calculus](http://doc.sagemath.org/html/en/tutorial/tour_algebra.html)\n",
    "\n",
    "[Numpy. Quickstart tutorial](https://docs.scipy.org/doc/numpy/user/quickstart.html#linear-algebra)\n",
    "\n",
    "[SymPy. Matrices (linear algebra)](https://docs.sympy.org/latest/modules/matrices/matrices.html)\n",
    "\n",
    "[Quick-R. Matrix Algebra](https://www.statmethods.net/advstats/matrix.html)\n",
    "\n",
    "[R: Solve a System of Equations](https://stat.ethz.ch/R-manual/R-devel/library/base/html/solve.html)"
   ]
  },
  {
   "cell_type": "markdown",
   "metadata": {},
   "source": [
    "### Конспекты лекций\n",
    "\n",
    "[Матрицы. Системы линейных уравнений. Алгоритм Гаусса](http://matematika.phys.msu.ru/files/a_stud_gen/246/AG-08_2009-2010.pdf)\n",
    "\n",
    "[АЛГЕБРА И ГЕОМЕТРИЯ ДЛЯ СТУДЕНТОВ-ФИЗИКОВ](http://math.phys.msu.ru/data/24/Algebra_and_geometry.pdf)\n",
    "\n",
    "[exponenta.ru Теоретическая справка](http://old.exponenta.ru/educat/class/courses/la/theme4/theory.asp)"
   ]
  },
  {
   "cell_type": "markdown",
   "metadata": {},
   "source": [
    "# Системы линейных уравнений\n",
    "\n",
    "## 1. Однородные и неоднородные системы."
   ]
  },
  {
   "cell_type": "code",
   "execution_count": 39,
   "metadata": {},
   "outputs": [
    {
     "data": {
      "text/latex": [
       "\\begin{cases}\n",
       "x + y - z = 0 \\\\\n",
       "8x - y - 5z = 0 \\\\\n",
       "-5x + y + 3z = 0 \n",
       "\\end{cases}"
      ],
      "text/plain": [
       "<IPython.core.display.Latex object>"
      ]
     },
     "metadata": {},
     "output_type": "display_data"
    }
   ],
   "source": [
    "%%latex\n",
    "\\begin{cases}\n",
    "x + y - z = 0 \\\\\n",
    "8x - y - 5z = 0 \\\\\n",
    "-5x + y + 3z = 0 \n",
    "\\end{cases}"
   ]
  },
  {
   "cell_type": "code",
   "execution_count": 86,
   "metadata": {},
   "outputs": [
    {
     "data": {
      "text/plain": [
       "[[x == 2/3*r10, y == 1/3*r10, z == r10]]"
      ]
     },
     "execution_count": 86,
     "metadata": {},
     "output_type": "execute_result"
    }
   ],
   "source": [
    "# sage\n",
    "x, y, z = var('x y z')\n",
    "eq1 = x + y - z == 0\n",
    "eq2 = 8 * x - y - 5 * z == 0\n",
    "eq3 = -5 * x + y + 3 * z == 0\n",
    "solve([eq1, eq2, eq3], x, y, z)"
   ]
  },
  {
   "cell_type": "code",
   "execution_count": 87,
   "metadata": {},
   "outputs": [
    {
     "data": {
      "text/plain": [
       "(\n",
       "[ 1  1 -1]      \n",
       "[ 8 -1 -5]      \n",
       "[-5  1  3], 2, 0\n",
       ")"
      ]
     },
     "execution_count": 87,
     "metadata": {},
     "output_type": "execute_result"
    }
   ],
   "source": [
    "A = matrix(3, [1,1,-1,8,-1,-5,-5,1,3])\n",
    "A, A.rank(), A.det()"
   ]
  },
  {
   "cell_type": "code",
   "execution_count": 40,
   "metadata": {},
   "outputs": [
    {
     "data": {
      "text/latex": [
       "\\begin{cases}\n",
       "8x_1 - 5x_2 - 2x_3 - 2x_4 = 35 \\\\\n",
       "-2x_1 + 4x_2 - 4x_3 + x_4 = -8 \\\\\n",
       "-2x_1 + x_2 + 4x_3 + 4x_4 = -11 \\\\\n",
       "4x_1 + x_2 + 3x_3 + 10x_4 = 10 \n",
       "\\end{cases}"
      ],
      "text/plain": [
       "<IPython.core.display.Latex object>"
      ]
     },
     "metadata": {},
     "output_type": "display_data"
    }
   ],
   "source": [
    "%%latex\n",
    "\\begin{cases}\n",
    "8x_1 - 5x_2 - 2x_3 - 2x_4 = 35 \\\\\n",
    "-2x_1 + 4x_2 - 4x_3 + x_4 = -8 \\\\\n",
    "-2x_1 + x_2 + 4x_3 + 4x_4 = -11 \\\\\n",
    "4x_1 + x_2 + 3x_3 + 10x_4 = 10 \n",
    "\\end{cases}"
   ]
  },
  {
   "cell_type": "code",
   "execution_count": 32,
   "metadata": {},
   "outputs": [
    {
     "data": {
      "text/plain": [
       "[[x1 == 1, x2 == -5, x3 == -3, x4 == 2]]"
      ]
     },
     "execution_count": 32,
     "metadata": {},
     "output_type": "execute_result"
    }
   ],
   "source": [
    "x1, x2, x3, x4 = var('x1 x2 x3 x4')\n",
    "eq1 = 8 * x1 - 5 * x2 - 2 * x3 - 2 * x4 == 35\n",
    "eq2 = -2 * x1 + 4 * x2 - 4 * x3 + x4 == -8\n",
    "eq3 = -2 * x1 + x2 + 4 * x3 + 4 * x4  == -11\n",
    "eq4 = 4 * x1 + x2 + 3 * x3 + 10 * x4  == 10\n",
    "solve([eq1, eq2, eq3, eq4], x1, x2, x3, x4)"
   ]
  },
  {
   "cell_type": "code",
   "execution_count": 91,
   "metadata": {},
   "outputs": [
    {
     "data": {
      "text/plain": [
       "(\n",
       "[ 8 -5 -2 -2]                           \n",
       "[-2  4 -4  1]                           \n",
       "[-2  1  4  4]                           \n",
       "[ 4  1  3 10], (35, -8, -11, 10), 4, -54\n",
       ")"
      ]
     },
     "execution_count": 91,
     "metadata": {},
     "output_type": "execute_result"
    }
   ],
   "source": [
    "A = matrix(4, [8,-5,-2,-2,-2,4,-4,1,-2,1,4,4,4,1,3,10])\n",
    "b = vector([35, -8, -11, 10])\n",
    "A, b, A.rank(), A.det()"
   ]
  },
  {
   "cell_type": "code",
   "execution_count": 92,
   "metadata": {},
   "outputs": [
    {
     "data": {
      "text/plain": [
       "(1, -5, -3, 2)"
      ]
     },
     "execution_count": 92,
     "metadata": {},
     "output_type": "execute_result"
    }
   ],
   "source": [
    "x = A.solve_right(b)\n",
    "x"
   ]
  },
  {
   "cell_type": "code",
   "execution_count": 43,
   "metadata": {},
   "outputs": [
    {
     "data": {
      "text/plain": [
       "array([ 1., -5., -3.,  2.])"
      ]
     },
     "execution_count": 43,
     "metadata": {},
     "output_type": "execute_result"
    }
   ],
   "source": [
    "import numpy\n",
    "A = numpy.array([[8,-5,-2,-2],[-2,4,-4,1],[-2,1,4,4],[4,1,3,10]])\n",
    "b = numpy.array([35,-8,-11,10])\n",
    "\n",
    "numpy.linalg.solve(A,b)"
   ]
  },
  {
   "cell_type": "code",
   "execution_count": 47,
   "metadata": {},
   "outputs": [
    {
     "name": "stdout",
     "output_type": "stream",
     "text": [
      "[[ 8 -5 -2 -2]\n",
      " [-2  4 -4  1]\n",
      " [-2  1  4  4]\n",
      " [ 4  1  3 10]]\n",
      "(4, -54.0)\n"
     ]
    }
   ],
   "source": [
    "A = numpy.matrix([[8,-5,-2,-2],[-2,4,-4,1],\n",
    "                  [-2,1,4,4],[4,1,3,10]])\n",
    "print(A)\n",
    "print(numpy.linalg.matrix_rank(A), round(numpy.linalg.det(A)))"
   ]
  },
  {
   "cell_type": "code",
   "execution_count": 18,
   "metadata": {},
   "outputs": [
    {
     "data": {
      "image/png": "[encoded data removed]",
      "text/latex": [
       "$$\\left \\{ x : \\frac{2 z}{3}, \\quad y : \\frac{z}{3}\\right \\}$$"
      ],
      "text/plain": [
       "{x: 2*z/3, y: z/3}"
      ]
     },
     "execution_count": 18,
     "metadata": {},
     "output_type": "execute_result"
    }
   ],
   "source": [
    "import sympy\n",
    "sympy.init_printing(use_unicode=True)\n",
    "from sympy.abc import x,y,z\n",
    "system = sympy.Matrix([ [1,1,-1,0], [8,-1,-5,0], [-5,1,3,0] ])\n",
    "sympy.solve_linear_system(system, x,y,z)"
   ]
  },
  {
   "cell_type": "code",
   "execution_count": 52,
   "metadata": {},
   "outputs": [
    {
     "data": {
      "image/png": "[encoded data removed]",
      "text/latex": [
       "$$\\left ( \\left[\\begin{matrix}\\frac{2 \\tau_{0}}{3}\\\\\\frac{\\tau_{0}}{3}\\\\\\tau_{0}\\end{matrix}\\right], \\quad \\left[\\begin{matrix}\\tau_{0}\\end{matrix}\\right]\\right )$$"
      ],
      "text/plain": [
       "(Matrix([\n",
       " [2*tau0/3],\n",
       " [  tau0/3],\n",
       " [    tau0]]), Matrix([[tau0]]))"
      ]
     },
     "execution_count": 52,
     "metadata": {},
     "output_type": "execute_result"
    }
   ],
   "source": [
    "A = sympy.Matrix([[1,1,-1],[8,-1,-5],[-5,1,3]])\n",
    "b = sympy.Matrix([0,0,0])\n",
    "x = A.gauss_jordan_solve(b)\n",
    "x"
   ]
  },
  {
   "cell_type": "code",
   "execution_count": 34,
   "metadata": {},
   "outputs": [
    {
     "data": {
      "image/png": "[encoded data removed]",
      "text/latex": [
       "$$\\left ( \\left[\\begin{matrix}1 & 1 & -1\\\\8 & -1 & -5\\\\-5 & 1 & 3\\end{matrix}\\right], \\quad 2, \\quad 0\\right )$$"
      ],
      "text/plain": [
       "(Matrix([\n",
       " [ 1,  1, -1],\n",
       " [ 8, -1, -5],\n",
       " [-5,  1,  3]]), 2, 0)"
      ]
     },
     "execution_count": 34,
     "metadata": {},
     "output_type": "execute_result"
    }
   ],
   "source": [
    "A = sympy.Matrix([[1,1,-1], [8,-1,-5], [-5,1,3]])\n",
    "A, A.rank(), A.det()"
   ]
  },
  {
   "cell_type": "code",
   "execution_count": 58,
   "metadata": {},
   "outputs": [
    {
     "data": {
      "image/png": "[encoded data removed]",
      "text/latex": [
       "$$\\left \\{ a : 1, \\quad b : -5, \\quad c : -3, \\quad d : 2\\right \\}$$"
      ],
      "text/plain": [
       "{a: 1, b: -5, c: -3, d: 2}"
      ]
     },
     "execution_count": 58,
     "metadata": {},
     "output_type": "execute_result"
    }
   ],
   "source": [
    "from sympy.abc import a,b,c,d\n",
    "system = sympy.Matrix([ [8,-5,-2,-2,35],[-2,4,-4,1,-8],\n",
    "                       [-2,1,4,4,-11],[4,1,3,10,10]])\n",
    "sympy.solve_linear_system(system, a,b,c,d)"
   ]
  },
  {
   "cell_type": "code",
   "execution_count": 59,
   "metadata": {},
   "outputs": [
    {
     "name": "stdout",
     "output_type": "stream",
     "text": [
      "--- 0.0102000236511 seconds ---\n"
     ]
    }
   ],
   "source": [
    "import time\n",
    "start_time = time.time()\n",
    "sympy.solve_linear_system(system, a,b,c,d)\n",
    "print(\"--- %s seconds ---\" % (time.time() - start_time))"
   ]
  },
  {
   "cell_type": "code",
   "execution_count": 60,
   "metadata": {},
   "outputs": [
    {
     "name": "stdout",
     "output_type": "stream",
     "text": [
      "100 loops, best of 3: 3.36 ms per loop\n"
     ]
    }
   ],
   "source": [
    "%timeit sympy.solve_linear_system(system, a,b,c,d)"
   ]
  },
  {
   "cell_type": "code",
   "execution_count": 36,
   "metadata": {},
   "outputs": [
    {
     "data": {
      "image/png": "[encoded data removed]",
      "text/latex": [
       "$$\\left ( \\left[\\begin{matrix}8 & -5 & -2 & -2\\\\-2 & 4 & -4 & 1\\\\-2 & 1 & 4 & 4\\\\4 & 1 & 3 & 10\\end{matrix}\\right], \\quad 4, \\quad -54\\right )$$"
      ],
      "text/plain": [
       "(Matrix([\n",
       " [ 8, -5, -2, -2],\n",
       " [-2,  4, -4,  1],\n",
       " [-2,  1,  4,  4],\n",
       " [ 4,  1,  3, 10]]), 4, -54)"
      ]
     },
     "execution_count": 36,
     "metadata": {},
     "output_type": "execute_result"
    }
   ],
   "source": [
    "A = sympy.Matrix([[8,-5,-2,-2],[-2,4,-4,1],[-2,1,4,4],[4,1,3,10]])\n",
    "A, A.rank(), A.det()"
   ]
  },
  {
   "cell_type": "code",
   "execution_count": 64,
   "metadata": {},
   "outputs": [
    {
     "name": "stdout",
     "output_type": "stream",
     "text": [
      "\n",
      "\n",
      "\n",
      "\n",
      "     [,1]\n",
      "[1,]    1\n",
      "[2,]   -5\n",
      "[3,]   -3\n",
      "[4,]    2\n"
     ]
    }
   ],
   "source": [
    "%%r\n",
    "A <- matrix(data=c(8,-5,-2,-2,-2,4,-4,1,-2,1,4,4,4,1,3,10), \n",
    "            nrow=4, ncol=4, byrow=TRUE)    \n",
    "b <- matrix(data=c(35,-8,-11,10), \n",
    "            nrow=4, ncol=1, byrow=FALSE)\n",
    "round(solve(A, b))"
   ]
  },
  {
   "cell_type": "code",
   "execution_count": 68,
   "metadata": {},
   "outputs": [
    {
     "name": "stdout",
     "output_type": "stream",
     "text": [
      "     [,1] [,2] [,3] [,4]\n",
      "[1,]    8   -5   -2   -2\n",
      "[2,]   -2    4   -4    1\n",
      "[3,]   -2    1    4    4\n",
      "[4,]    4    1    3   10\n",
      "[1] -54\n",
      "$qr\n",
      "           [,1]        [,2]       [,3]       [,4]\n",
      "[1,] -9.3808315  4.90361648  0.4264014 -1.4924050\n",
      "[2,] -0.2132007 -4.35368183  0.2505716 -8.1122561\n",
      "[3,] -0.2132007 -0.03206531 -6.6899474 -7.2749548\n",
      "[4,]  0.4264014  0.75320256  0.8396846 -0.1976392\n",
      "\n",
      "$rank\n",
      "[1] 4\n",
      "\n",
      "$qraux\n",
      "[1] 1.8528029 1.6570066 1.5430743 0.1976392\n",
      "\n",
      "$pivot\n",
      "[1] 1 2 3 4\n",
      "\n",
      "attr(,\"class\")\n",
      "[1] \"qr\"\n"
     ]
    }
   ],
   "source": [
    "%%r\n",
    "A; det(A)\n",
    "qr(A)"
   ]
  },
  {
   "cell_type": "code",
   "execution_count": 75,
   "metadata": {},
   "outputs": [
    {
     "name": "stdout",
     "output_type": "stream",
     "text": [
      "\n",
      "\n",
      "\n",
      " 8*x1 - 5*x2 - 2*x3  - 2*x4  =   35 \n",
      "-2*x1 + 4*x2 - 4*x3  + 1*x4  =   -8 \n",
      "-2*x1 + 1*x2 + 4*x3  + 4*x4  =  -11 \n",
      " 4*x1 + 1*x2 + 3*x3 + 10*x4  =   10 \n"
     ]
    }
   ],
   "source": [
    "%%r\n",
    "library(matlib)\n",
    "A <- matrix(c(8,-2,-2,4,-5,4,1,1,-2,-4,4,3,-2,1,4,10), 4, 4)    \n",
    "b <- c(35,-8,-11,10)\n",
    "showEqn(A, b) # display equations"
   ]
  },
  {
   "cell_type": "code",
   "execution_count": 76,
   "metadata": {},
   "outputs": [
    {
     "name": "stdout",
     "output_type": "stream",
     "text": [
      "[1] 4 4\n"
     ]
    }
   ],
   "source": [
    "%%r\n",
    "c( R(A), R(cbind(A,b)) ) # ranks"
   ]
  },
  {
   "cell_type": "code",
   "execution_count": 77,
   "metadata": {},
   "outputs": [
    {
     "name": "stdout",
     "output_type": "stream",
     "text": [
      "x1        =   1 \n",
      "  x2      =  -5 \n",
      "    x3    =  -3 \n",
      "      x4  =   2 \n"
     ]
    }
   ],
   "source": [
    "%%r\n",
    "Solve(A, b)"
   ]
  },
  {
   "cell_type": "markdown",
   "metadata": {},
   "source": [
    "## 2. Правило Крамера."
   ]
  },
  {
   "cell_type": "code",
   "execution_count": 84,
   "metadata": {},
   "outputs": [
    {
     "data": {
      "text/plain": [
       "(1, -5, -3, 2)"
      ]
     },
     "execution_count": 84,
     "metadata": {},
     "output_type": "execute_result"
    }
   ],
   "source": [
    "A = matrix(4, [8,-5,-2,-2,-2,4,-4,1,-2,1,4,4,4,1,3,10])\n",
    "b = vector([35,-8,-11,10])\n",
    "X1 = copy(A); X2 = copy(A); X3=copy(A); X4=copy(A)\n",
    "X1[:,0] = b; X2[:,1] = b ; X3[:,2] = b; X4[:,3] = b\n",
    "x1 = X1.det() / A.det()\n",
    "x2 = X2.det() / A.det()\n",
    "x3 = X3.det() / A.det()\n",
    "x4 = X4.det() / A.det()\n",
    "x1, x2, x3, x4 "
   ]
  },
  {
   "cell_type": "code",
   "execution_count": null,
   "metadata": {},
   "outputs": [],
   "source": []
  },
  {
   "cell_type": "code",
   "execution_count": null,
   "metadata": {},
   "outputs": [],
   "source": []
  },
  {
   "cell_type": "markdown",
   "metadata": {},
   "source": [
    "## 3. Алгоритм Гаусса."
   ]
  },
  {
   "cell_type": "code",
   "execution_count": 85,
   "metadata": {
    "scrolled": false
   },
   "outputs": [
    {
     "name": "stdout",
     "output_type": "stream",
     "text": [
      "\n",
      "\n",
      "\n",
      "Initial matrix:\n",
      "     [,1] [,2] [,3] [,4] [,5]\n",
      "[1,]   8   -5   -2   -2   35 \n",
      "[2,]  -2    4   -4    1   -8 \n",
      "[3,]  -2    1    4    4  -11 \n",
      "[4,]   4    1    3   10   10 \n",
      "\n",
      "row: 1 \n",
      "\n",
      " multiply row 1 by 1/8 \n",
      "     [,1] [,2] [,3] [,4] [,5]\n",
      "[1,]    1 -5/8 -1/4 -1/4 35/8\n",
      "[2,]   -2    4   -4    1   -8\n",
      "[3,]   -2    1    4    4  -11\n",
      "[4,]    4    1    3   10   10\n",
      "\n",
      " multiply row 1 by 2 and add to row 2 \n",
      "     [,1] [,2] [,3] [,4] [,5]\n",
      "[1,]    1 -5/8 -1/4 -1/4 35/8\n",
      "[2,]    0 11/4 -9/2  1/2  3/4\n",
      "[3,]   -2    1    4    4  -11\n",
      "[4,]    4    1    3   10   10\n",
      "\n",
      " multiply row 1 by 2 and add to row 3 \n",
      "     [,1] [,2] [,3] [,4] [,5]\n",
      "[1,]    1 -5/8 -1/4 -1/4 35/8\n",
      "[2,]    0 11/4 -9/2  1/2  3/4\n",
      "[3,]    0 -1/4  7/2  7/2 -9/4\n",
      "[4,]    4    1    3   10   10\n",
      "\n",
      " multiply row 1 by 4 and subtract from row 4 \n",
      "     [,1]  [,2]  [,3]  [,4]  [,5] \n",
      "[1,]     1  -5/8  -1/4  -1/4  35/8\n",
      "[2,]     0  11/4  -9/2   1/2   3/4\n",
      "[3,]     0  -1/4   7/2   7/2  -9/4\n",
      "[4,]     0   7/2     4    11 -15/2\n",
      "\n",
      "row: 2 \n",
      "\n",
      " exchange rows 2 and 4 \n",
      "     [,1]  [,2]  [,3]  [,4]  [,5] \n",
      "[1,]     1  -5/8  -1/4  -1/4  35/8\n",
      "[2,]     0   7/2     4    11 -15/2\n",
      "[3,]     0  -1/4   7/2   7/2  -9/4\n",
      "[4,]     0  11/4  -9/2   1/2   3/4\n",
      "\n",
      " multiply row 2 by 2/7 \n",
      "     [,1]  [,2]  [,3]  [,4]  [,5] \n",
      "[1,]     1  -5/8  -1/4  -1/4  35/8\n",
      "[2,]     0     1   8/7  22/7 -15/7\n",
      "[3,]     0  -1/4   7/2   7/2  -9/4\n",
      "[4,]     0  11/4  -9/2   1/2   3/4\n",
      "\n",
      " multiply row 2 by 5/8 and add to row 1 \n",
      "     [,1]  [,2]  [,3]  [,4]  [,5] \n",
      "[1,]     1     0 13/28  12/7 85/28\n",
      "[2,]     0     1   8/7  22/7 -15/7\n",
      "[3,]     0  -1/4   7/2   7/2  -9/4\n",
      "[4,]     0  11/4  -9/2   1/2   3/4\n",
      "\n",
      " multiply row 2 by 1/4 and add to row 3 \n",
      "     [,1]   [,2]   [,3]   [,4]   [,5]  \n",
      "[1,]      1      0  13/28   12/7  85/28\n",
      "[2,]      0      1    8/7   22/7  -15/7\n",
      "[3,]      0      0  53/14   30/7 -39/14\n",
      "[4,]      0   11/4   -9/2    1/2    3/4\n",
      "\n",
      " multiply row 2 by 11/4 and subtract from row 4 \n",
      "     [,1]    [,2]    [,3]    [,4]    [,5]   \n",
      "[1,]       1       0   13/28    12/7   85/28\n",
      "[2,]       0       1     8/7    22/7   -15/7\n",
      "[3,]       0       0   53/14    30/7  -39/14\n",
      "[4,]       0       0 -107/14   -57/7   93/14\n",
      "\n",
      "row: 3 \n",
      "\n",
      " exchange rows 3 and 4 \n",
      "     [,1]    [,2]    [,3]    [,4]    [,5]   \n",
      "[1,]       1       0   13/28    12/7   85/28\n",
      "[2,]       0       1     8/7    22/7   -15/7\n",
      "[3,]       0       0 -107/14   -57/7   93/14\n",
      "[4,]       0       0   53/14    30/7  -39/14\n",
      "\n",
      " multiply row 3 by -14/107 \n",
      "     [,1]    [,2]    [,3]    [,4]    [,5]   \n",
      "[1,]       1       0   13/28    12/7   85/28\n",
      "[2,]       0       1     8/7    22/7   -15/7\n",
      "[3,]       0       0       1 114/107 -93/107\n",
      "[4,]       0       0   53/14    30/7  -39/14\n",
      "\n",
      " multiply row 3 by 13/28 and subtract from row 1 \n",
      "     [,1]    [,2]    [,3]    [,4]    [,5]   \n",
      "[1,]       1       0       0 261/214 368/107\n",
      "[2,]       0       1     8/7    22/7   -15/7\n",
      "[3,]       0       0       1 114/107 -93/107\n",
      "[4,]       0       0   53/14    30/7  -39/14\n",
      "\n",
      " multiply row 3 by 8/7 and subtract from row 2 \n",
      "     [,1]     [,2]     [,3]     [,4]     [,5]    \n",
      "[1,]        1        0        0  261/214  368/107\n",
      "[2,]        0        1        0  206/107 -123/107\n",
      "[3,]        0        0        1  114/107  -93/107\n",
      "[4,]        0        0    53/14     30/7   -39/14\n",
      "\n",
      " multiply row 3 by 53/14 and subtract from row 4 \n",
      "     [,1]     [,2]     [,3]     [,4]     [,5]    \n",
      "[1,]        1        0        0  261/214  368/107\n",
      "[2,]        0        1        0  206/107 -123/107\n",
      "[3,]        0        0        1  114/107  -93/107\n",
      "[4,]        0        0        0   27/107   54/107\n",
      "\n",
      "row: 4 \n",
      "\n",
      " multiply row 4 by 107/27 \n",
      "     [,1]     [,2]     [,3]     [,4]     [,5]    \n",
      "[1,]        1        0        0  261/214  368/107\n",
      "[2,]        0        1        0  206/107 -123/107\n",
      "[3,]        0        0        1  114/107  -93/107\n",
      "[4,]        0        0        0        1        2\n",
      "\n",
      " multiply row 4 by 261/214 and subtract from row 1 \n",
      "     [,1]     [,2]     [,3]     [,4]     [,5]    \n",
      "[1,]        1        0        0        0        1\n",
      "[2,]        0        1        0  206/107 -123/107\n",
      "[3,]        0        0        1  114/107  -93/107\n",
      "[4,]        0        0        0        1        2\n",
      "\n",
      " multiply row 4 by 206/107 and subtract from row 2 \n",
      "     [,1]    [,2]    [,3]    [,4]    [,5]   \n",
      "[1,]       1       0       0       0       1\n",
      "[2,]       0       1       0       0      -5\n",
      "[3,]       0       0       1 114/107 -93/107\n",
      "[4,]       0       0       0       1       2\n",
      "\n",
      " multiply row 4 by 114/107 and subtract from row 3 \n",
      "     [,1] [,2] [,3] [,4] [,5]\n",
      "[1,]  1    0    0    0    1  \n",
      "[2,]  0    1    0    0   -5  \n",
      "[3,]  0    0    1    0   -3  \n",
      "[4,]  0    0    0    1    2  \n"
     ]
    }
   ],
   "source": [
    "%%r\n",
    "A <- matrix(c(8,-2,-2,4,-5,4,1,1,-2,-4,4,3,-2,1,4,10), 4, 4)    \n",
    "b <- c(35,-8,-11,10)\n",
    "echelon(A, b, verbose=TRUE, fractions=TRUE)"
   ]
  },
  {
   "cell_type": "code",
   "execution_count": null,
   "metadata": {},
   "outputs": [],
   "source": []
  }
 ],
 "metadata": {
  "kernelspec": {
   "display_name": "SageMath 8.4",
   "language": "",
   "name": "sagemath"
  },
  "language_info": {
   "codemirror_mode": {
    "name": "ipython",
    "version": 2
   },
   "file_extension": ".py",
   "mimetype": "text/x-python",
   "name": "python",
   "nbconvert_exporter": "python",
   "pygments_lexer": "ipython2",
   "version": "2.7.15"
  }
 },
 "nbformat": 4,
 "nbformat_minor": 2
}

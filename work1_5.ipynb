{
 "cells": [
  {
   "cell_type": "markdown",
   "metadata": {},
   "source": [
    "<h1 style=\"color: #3636ff;\">Линейная алгебра. Практическая работа №5</h1>\n",
    "\n",
    "<a href=\"https://olgabelitskaya.github.io/README.html\">&#x1F300; &nbsp; Home Page</a> &nbsp; &nbsp; <a href=\"https://github.com/OlgaBelitskaya/linear_algebra_practice/blob/master/work1_4.ipynb\">📓 &nbsp; Previous</a> &nbsp; &nbsp; <a href=\"https://github.com/OlgaBelitskaya/linear_algebra_practice/blob/master/work1_6.ipynb\">📓 &nbsp; Next</a>\n",
    "\n",
    "### Программные средства\n",
    "\n",
    "[LaTeX. Mathematics](https://en.wikibooks.org/wiki/LaTeX/Mathematics)\n",
    "\n",
    "[Sage. Basic Algebra and Calculus](http://doc.sagemath.org/html/en/tutorial/tour_algebra.html)\n",
    "\n",
    "[Numpy. Quickstart tutorial](https://docs.scipy.org/doc/numpy/user/quickstart.html#linear-algebra)\n",
    "\n",
    "[SymPy. Matrices (linear algebra)](https://docs.sympy.org/latest/modules/matrices/matrices.html)\n",
    "\n",
    "[Quick-R. Matrix Algebra](https://www.statmethods.net/advstats/matrix.html)\n",
    "\n",
    "[R: Solve a System of Equations](https://stat.ethz.ch/R-manual/R-devel/library/base/html/solve.html)\n",
    "\n",
    "### Конспекты лекций\n",
    "\n",
    "[Матрицы. Системы линейных уравнений. Алгоритм Гаусса](http://matematika.phys.msu.ru/files/a_stud_gen/246/AG-08_2009-2010.pdf)\n",
    "\n",
    "[АЛГЕБРА И ГЕОМЕТРИЯ ДЛЯ СТУДЕНТОВ-ФИЗИКОВ](http://math.phys.msu.ru/data/24/Algebra_and_geometry.pdf)\n",
    "\n",
    "[exponenta.ru Теоретическая справка](http://old.exponenta.ru/educat/class/courses/la/theme4/theory.asp)"
   ]
  },
  {
   "cell_type": "markdown",
   "metadata": {},
   "source": [
    "# Системы линейных уравнений\n",
    "\n",
    "## 1. Однородные и неоднородные системы."
   ]
  },
  {
   "cell_type": "code",
   "execution_count": 23,
   "metadata": {},
   "outputs": [
    {
     "data": {
      "text/html": [
       "<p style=\"color:slategray;\">\n",
       "$\\mathscr{System\\;1:\\begin{cases} \n",
       "x + y - z = 0 \\\\ \n",
       "8x - y - 5z = 0 \\\\ \n",
       "-5x + y + 3z = 0 \n",
       "\\end{cases}}$</p>\n",
       "<p style=\"color:darkblue;\">\n",
       "$\\mathbb{System\\;2:\\begin{cases} \n",
       "8x_1 - 5x_2 - 2x_3 - 2x_4 = 35 \\\\ \n",
       "-2x_1 + 4x_2 - 4x_3 + x_4 = -8 \\\\ \n",
       "-2x_1 + x_2 + 4x_3 + 4x_4 = -11 \\\\ \n",
       "4x_1 + x_2 + 3x_3 + 10x_4 = 10  \n",
       "\\end{cases}}$</p>"
      ],
      "text/plain": [
       "<IPython.core.display.HTML object>"
      ]
     },
     "metadata": {},
     "output_type": "display_data"
    }
   ],
   "source": [
    "%%html\n",
    "<p style=\"color:slategray;\">\n",
    "$\\mathscr{System\\;1:\\begin{cases} \n",
    "x + y - z = 0 \\\\ \n",
    "8x - y - 5z = 0 \\\\ \n",
    "-5x + y + 3z = 0 \n",
    "\\end{cases}}$</p>\n",
    "<p style=\"color:darkblue;\">\n",
    "$\\mathbb{System\\;2:\\begin{cases} \n",
    "8x_1 - 5x_2 - 2x_3 - 2x_4 = 35 \\\\ \n",
    "-2x_1 + 4x_2 - 4x_3 + x_4 = -8 \\\\ \n",
    "-2x_1 + x_2 + 4x_3 + 4x_4 = -11 \\\\ \n",
    "4x_1 + x_2 + 3x_3 + 10x_4 = 10  \n",
    "\\end{cases}}$</p>"
   ]
  },
  {
   "cell_type": "code",
   "execution_count": 24,
   "metadata": {},
   "outputs": [],
   "source": [
    "var('x y z')\n",
    "eq1=x+y-z==0; eq2=8*x-y-5*z==0; eq3=-5*x+y+3*z==0\n",
    "var('x1 x2 x3 x4')\n",
    "eq4=8*x1-5*x2-2*x3-2*x4==35\n",
    "eq5=-2*x1+4*x2-4*x3+x4==-8\n",
    "eq6=-2*x1+x2+4*x3+4*x4==-11\n",
    "eq7=4*x1+x2+3*x3+10*x4==10\n",
    "A=matrix(4,[8,-5,-2,-2,-2,4,-4,1,\n",
    "            -2,1,4,4,4,1,3,10])\n",
    "b=vector([35,-8,-11,10])\n",
    "SA=matrix(3,var('a1 a2 a3 a4 a5 a6 a7 a8 a9'))\n",
    "Sb=vector(var('b1 b2 b3'))"
   ]
  },
  {
   "cell_type": "code",
   "execution_count": 25,
   "metadata": {},
   "outputs": [
    {
     "data": {
      "text/plain": [
       "(1, -5, -3, 2)"
      ]
     },
     "execution_count": 25,
     "metadata": {},
     "output_type": "execute_result"
    }
   ],
   "source": [
    "solve([eq1,eq2,eq3],x,y,z),\n",
    "solve([eq4,eq5,eq6,eq7],x1,x2,x3,x4),\n",
    "A.solve_right(b)"
   ]
  },
  {
   "cell_type": "code",
   "execution_count": 26,
   "metadata": {},
   "outputs": [],
   "source": [
    "import numpy,sympy\n",
    "sympy.init_printing(use_unicode=True)\n",
    "from sympy.abc import x,y,z,a,b,c,d,e,f\n",
    "NA=numpy.array([[8,-5,-2,-2],[-2,4,-4,1],\n",
    "                [-2,1,4,4],[4,1,3,10]])\n",
    "Nb=numpy.array([35,-8,-11,10])\n",
    "system1=sympy.Matrix([[1,1,-1,0],[8,-1,-5,0],[-5,1,3,0]])\n",
    "system2=sympy.Matrix([[8,-5,-2,-2,35],[-2,4,-4,1,-8],\n",
    "                      [-2,1,4,4,-11],[4,1,3,10,10]])\n",
    "system3=sympy.Matrix([[2,3,2,-3,-9,-9,0],[2,-2,-3,-3,1,6,0],\n",
    "                      [-1,2,1,3,-1,-3,0],[6,-3,-3,-12,-6,3,0]])\n",
    "SA1=sympy.Matrix([[1,1,-1],[8,-1,-5],[-5,1,3]])\n",
    "Sb1=sympy.Matrix([0,0,0])\n",
    "SA2=sympy.Matrix([[8,-5,-2,-2],[-2,4,-4,1],\n",
    "                  [-2,1,4,4],[4,1,3,10]])\n",
    "Sb2=sympy.Matrix([35,-8,-11,10])"
   ]
  },
  {
   "cell_type": "code",
   "execution_count": 35,
   "metadata": {},
   "outputs": [
    {
     "name": "stdout",
     "output_type": "stream",
     "text": [
      "[ 1. -5. -3.  2.]\n"
     ]
    },
    {
     "data": {
      "image/png": "[encoded data removed]",
      "text/latex": [
       "$\\displaystyle \\left\\{ a : 1, \\  b : -5, \\  c : -3, \\  d : 2\\right\\}$"
      ],
      "text/plain": [
       "{a: 1, b: -5, c: -3, d: 2}"
      ]
     },
     "execution_count": 35,
     "metadata": {},
     "output_type": "execute_result"
    }
   ],
   "source": [
    "print(numpy.linalg.solve(NA,Nb))\n",
    "sympy.solve_linear_system(system2,a,b,c,d)"
   ]
  },
  {
   "cell_type": "code",
   "execution_count": 28,
   "metadata": {},
   "outputs": [
    {
     "name": "stdout",
     "output_type": "stream",
     "text": [
      "⎛⎡2⋅τ₀⎤      ⎞\n",
      "⎜⎢────⎥      ⎟\n",
      "⎜⎢ 3  ⎥      ⎟\n",
      "⎜⎢    ⎥      ⎟\n",
      "⎜⎢ τ₀ ⎥, [τ₀]⎟\n",
      "⎜⎢ ── ⎥      ⎟\n",
      "⎜⎢ 3  ⎥      ⎟\n",
      "⎜⎢    ⎥      ⎟\n",
      "⎝⎣ τ₀ ⎦      ⎠\n"
     ]
    },
    {
     "data": {
      "image/png": "[encoded data removed]",
      "text/latex": [
       "$\\displaystyle \\left\\{ x : \\frac{2 z}{3}, \\  y : \\frac{z}{3}\\right\\}$"
      ],
      "text/plain": [
       "{x: 2*z/3, y: z/3}"
      ]
     },
     "execution_count": 28,
     "metadata": {},
     "output_type": "execute_result"
    }
   ],
   "source": [
    "sympy.pprint(SA1.gauss_jordan_solve(Sb1))\n",
    "sympy.solve_linear_system(system1,x,y,z)"
   ]
  },
  {
   "cell_type": "markdown",
   "metadata": {},
   "source": [
    "Оценить время, затраченное на выполнение фрагмента программы, поможет несколько простых комманд."
   ]
  },
  {
   "cell_type": "code",
   "execution_count": 29,
   "metadata": {},
   "outputs": [
    {
     "name": "stdout",
     "output_type": "stream",
     "text": [
      "--- 0.0188739299774 seconds ---\n"
     ]
    }
   ],
   "source": [
    "import time\n",
    "start_time=time.time()\n",
    "sympy.solve_linear_system(system2,a,b,c,d)\n",
    "print(\"--- %s seconds ---\"%(time.time()-start_time))"
   ]
  },
  {
   "cell_type": "code",
   "execution_count": 30,
   "metadata": {},
   "outputs": [
    {
     "name": "stdout",
     "output_type": "stream",
     "text": [
      "10 loops, best of 3: 68.6 ms per loop\n"
     ]
    }
   ],
   "source": [
    "%timeit sympy.solve_linear_system(system3,a,b,c,d,e,f)"
   ]
  },
  {
   "cell_type": "code",
   "execution_count": 31,
   "metadata": {},
   "outputs": [
    {
     "name": "stdout",
     "output_type": "stream",
     "text": [
      "     [,1]\n",
      "[1,]    1\n",
      "[2,]   -5\n",
      "[3,]   -3\n",
      "[4,]    2\n"
     ]
    }
   ],
   "source": [
    "%%r\n",
    "A<-matrix(data=c(8,-5,-2,-2,-2,4,-4,1,\n",
    "                 -2,1,4,4,4,1,3,10),\n",
    "                 nrow=4,ncol=4,byrow=TRUE)    \n",
    "b<-matrix(data=c(35,-8,-11,10),\n",
    "          nrow=4,ncol=1,byrow=FALSE)\n",
    "round(solve(A,b))"
   ]
  },
  {
   "cell_type": "code",
   "execution_count": 32,
   "metadata": {},
   "outputs": [
    {
     "name": "stdout",
     "output_type": "stream",
     "text": [
      "$qr\n",
      "           [,1]        [,2]       [,3]       [,4]\n",
      "[1,] -9.3808315  4.90361648  0.4264014 -1.4924050\n",
      "[2,] -0.2132007 -4.35368183  0.2505716 -8.1122561\n",
      "[3,] -0.2132007 -0.03206531 -6.6899474 -7.2749548\n",
      "[4,]  0.4264014  0.75320256  0.8396846 -0.1976392\n",
      "\n",
      "$rank\n",
      "[1] 4\n",
      "\n",
      "$qraux\n",
      "[1] 1.8528029 1.6570066 1.5430743 0.1976392\n",
      "\n",
      "$pivot\n",
      "[1] 1 2 3 4\n",
      "\n",
      "attr(,\"class\")\n",
      "[1] \"qr\"\n"
     ]
    }
   ],
   "source": [
    "%%r\n",
    "A; det(A)\n",
    "qr(A)"
   ]
  },
  {
   "cell_type": "code",
   "execution_count": 19,
   "metadata": {},
   "outputs": [
    {
     "name": "stdout",
     "output_type": "stream",
     "text": [
      "\n",
      "\n",
      "\n",
      " 8*x1 - 5*x2 - 2*x3  - 2*x4  =   35 \n",
      "-2*x1 + 4*x2 - 4*x3  + 1*x4  =   -8 \n",
      "-2*x1 + 1*x2 + 4*x3  + 4*x4  =  -11 \n",
      " 4*x1 + 1*x2 + 3*x3 + 10*x4  =   10 \n"
     ]
    }
   ],
   "source": [
    "%%r\n",
    "library(matlib)\n",
    "A<-matrix(c(8,-2,-2,4,-5,4,1,1,\n",
    "            -2,-4,4,3,-2,1,4,10),4,4)    \n",
    "b<-c(35,-8,-11,10)\n",
    "showEqn(A,b) # display equations"
   ]
  },
  {
   "cell_type": "code",
   "execution_count": 20,
   "metadata": {},
   "outputs": [
    {
     "name": "stdout",
     "output_type": "stream",
     "text": [
      "[1] 4 4\n"
     ]
    }
   ],
   "source": [
    "%%r\n",
    "c(R(A),R(cbind(A,b))) # ranks"
   ]
  },
  {
   "cell_type": "code",
   "execution_count": 21,
   "metadata": {},
   "outputs": [
    {
     "name": "stdout",
     "output_type": "stream",
     "text": [
      "x1        =   1 \n",
      "  x2      =  -5 \n",
      "    x3    =  -3 \n",
      "      x4  =   2 \n"
     ]
    }
   ],
   "source": [
    "%%r\n",
    "Solve(A,b)"
   ]
  },
  {
   "cell_type": "markdown",
   "metadata": {},
   "source": [
    "## 2. Правило Крамера.\n",
    "\n",
    "Алгоритм решения:\n",
    "\n",
    "1) вычисляем определитель основной матрицы системы (должен быть ненулевым);\n",
    "\n",
    "2) вычисляем определители матриц, \n",
    "\n",
    "   полученных заменой каждого столбца основной матрицы столбцом свободных членов;\n",
    "   \n",
    "3) вычисляем значения переменных как отношение \n",
    "\n",
    "   определителя с замененным соответствующим столбцом к определителю основной матрицы."
   ]
  },
  {
   "cell_type": "code",
   "execution_count": 33,
   "metadata": {},
   "outputs": [
    {
     "data": {
      "text/html": [
       "<html><script type=\"math/tex; mode=display\">\\newcommand{\\Bold}[1]{\\mathbf{#1}}\\left[\\left(\\begin{array}{rrr}\n",
       "b_{1} & a_{2} & a_{3} \\\\\n",
       "b_{2} & a_{5} & a_{6} \\\\\n",
       "b_{3} & a_{8} & a_{9}\n",
       "\\end{array}\\right), \\left(\\begin{array}{rrr}\n",
       "a_{1} & b_{1} & a_{3} \\\\\n",
       "a_{4} & b_{2} & a_{6} \\\\\n",
       "a_{7} & b_{3} & a_{9}\n",
       "\\end{array}\\right), \\left(\\begin{array}{rrr}\n",
       "a_{1} & a_{2} & b_{1} \\\\\n",
       "a_{4} & a_{5} & b_{2} \\\\\n",
       "a_{7} & a_{8} & b_{3}\n",
       "\\end{array}\\right)\\right]</script></html>"
      ],
      "text/plain": [
       "[\n",
       "[b1 a2 a3]  [a1 b1 a3]  [a1 a2 b1]\n",
       "[b2 a5 a6]  [a4 b2 a6]  [a4 a5 b2]\n",
       "[b3 a8 a9], [a7 b3 a9], [a7 a8 b3]\n",
       "]"
      ]
     },
     "metadata": {},
     "output_type": "display_data"
    },
    {
     "data": {
      "text/html": [
       "<html><script type=\"math/tex; mode=display\">\\newcommand{\\Bold}[1]{\\mathbf{#1}}\\frac{{\\left(a_{6} a_{8} - a_{5} a_{9}\\right)} b_{1} - {\\left(a_{3} a_{8} - a_{2} a_{9}\\right)} b_{2} + {\\left(a_{3} a_{5} - a_{2} a_{6}\\right)} b_{3}}{{\\left(a_{6} a_{8} - a_{5} a_{9}\\right)} a_{1} - {\\left(a_{3} a_{8} - a_{2} a_{9}\\right)} a_{4} + {\\left(a_{3} a_{5} - a_{2} a_{6}\\right)} a_{7}}</script></html>"
      ],
      "text/plain": [
       "((a6*a8 - a5*a9)*b1 - (a3*a8 - a2*a9)*b2 + (a3*a5 - a2*a6)*b3)/((a6*a8 - a5*a9)*a1 - (a3*a8 - a2*a9)*a4 + (a3*a5 - a2*a6)*a7)"
      ]
     },
     "metadata": {},
     "output_type": "display_data"
    },
    {
     "data": {
      "text/html": [
       "<html><script type=\"math/tex; mode=display\">\\newcommand{\\Bold}[1]{\\mathbf{#1}}-\\frac{{\\left(a_{9} b_{2} - a_{6} b_{3}\\right)} a_{1} - {\\left(a_{9} b_{1} - a_{3} b_{3}\\right)} a_{4} + {\\left(a_{6} b_{1} - a_{3} b_{2}\\right)} a_{7}}{{\\left(a_{6} a_{8} - a_{5} a_{9}\\right)} a_{1} - {\\left(a_{3} a_{8} - a_{2} a_{9}\\right)} a_{4} + {\\left(a_{3} a_{5} - a_{2} a_{6}\\right)} a_{7}}</script></html>"
      ],
      "text/plain": [
       "-((a9*b2 - a6*b3)*a1 - (a9*b1 - a3*b3)*a4 + (a6*b1 - a3*b2)*a7)/((a6*a8 - a5*a9)*a1 - (a3*a8 - a2*a9)*a4 + (a3*a5 - a2*a6)*a7)"
      ]
     },
     "metadata": {},
     "output_type": "display_data"
    },
    {
     "data": {
      "text/html": [
       "<html><script type=\"math/tex; mode=display\">\\newcommand{\\Bold}[1]{\\mathbf{#1}}\\frac{{\\left(a_{8} b_{2} - a_{5} b_{3}\\right)} a_{1} - {\\left(a_{8} b_{1} - a_{2} b_{3}\\right)} a_{4} + {\\left(a_{5} b_{1} - a_{2} b_{2}\\right)} a_{7}}{{\\left(a_{6} a_{8} - a_{5} a_{9}\\right)} a_{1} - {\\left(a_{3} a_{8} - a_{2} a_{9}\\right)} a_{4} + {\\left(a_{3} a_{5} - a_{2} a_{6}\\right)} a_{7}}</script></html>"
      ],
      "text/plain": [
       "((a8*b2 - a5*b3)*a1 - (a8*b1 - a2*b3)*a4 + (a5*b1 - a2*b2)*a7)/((a6*a8 - a5*a9)*a1 - (a3*a8 - a2*a9)*a4 + (a3*a5 - a2*a6)*a7)"
      ]
     },
     "metadata": {},
     "output_type": "display_data"
    }
   ],
   "source": [
    "X1=copy(SA); X2=copy(SA); X3=copy(SA)\n",
    "X1[:,0]=Sb; X2[:,1]=Sb; X3[:,2]=Sb\n",
    "x1=X1.det()/SA.det()\n",
    "x2=X2.det()/SA.det()\n",
    "x3=X3.det()/SA.det()\n",
    "for el in [[X1,X2,X3],x1,x2,x3]: pretty_print(el)"
   ]
  },
  {
   "cell_type": "code",
   "execution_count": 37,
   "metadata": {},
   "outputs": [
    {
     "data": {
      "text/plain": [
       "[1, -5, -3, 2]"
      ]
     },
     "execution_count": 37,
     "metadata": {},
     "output_type": "execute_result"
    }
   ],
   "source": [
    "A=matrix(4,[8,-5,-2,-2,-2,4,-4,1,-2,1,4,4,4,1,3,10])\n",
    "b=vector([35,-8,-11,10])\n",
    "X1=copy(A); X2=copy(A); X3=copy(A); X4=copy(A)\n",
    "X1[:,0]=b; X2[:,1]=b; X3[:,2]=b; X4[:,3]=b\n",
    "x1=X1.det()/A.det()\n",
    "x2=X2.det()/A.det()\n",
    "x3=X3.det()/A.det()\n",
    "x4=X4.det()/A.det()\n",
    "[x1,x2,x3,x4]"
   ]
  },
  {
   "cell_type": "code",
   "execution_count": 39,
   "metadata": {},
   "outputs": [
    {
     "data": {
      "image/png": "[encoded data removed]",
      "text/latex": [
       "$\\displaystyle \\left[ \\left[ 0.9999999999999978, \\  -5.000000000000001, \\  -2.9999999999999982, \\  2.0000000000000004\\right], \\  \\left[ 1.0, \\  -5.0, \\  -3.0, \\  2.0\\right]\\right]$"
      ],
      "text/plain": [
       "[[0.9999999999999978,\n",
       "  -5.000000000000001,\n",
       "  -2.9999999999999982,\n",
       "  2.0000000000000004],\n",
       " [1.0, -5.0, -3.0, 2.0]]"
      ]
     },
     "execution_count": 39,
     "metadata": {},
     "output_type": "execute_result"
    }
   ],
   "source": [
    "X1=NA.copy(); X2=NA.copy(); X3=NA.copy(); X4=NA.copy()\n",
    "X1[:,0]=Nb; X2[:,1]=Nb; X3[:,2]=Nb; X4[:,3]=Nb\n",
    "x1=numpy.linalg.det(X1)/numpy.linalg.det(NA)\n",
    "x2=numpy.linalg.det(X2)/numpy.linalg.det(NA)\n",
    "x3=numpy.linalg.det(X3)/numpy.linalg.det(NA)\n",
    "x4=numpy.linalg.det(X4)/numpy.linalg.det(NA)\n",
    "[[x1,x2,x3,x4],\n",
    " [round(el) for el in [x1,x2,x3,x4]]]"
   ]
  },
  {
   "cell_type": "code",
   "execution_count": 40,
   "metadata": {},
   "outputs": [
    {
     "data": {
      "image/png": "[encoded data removed]",
      "text/latex": [
       "$\\displaystyle \\left[ 1, \\  -5, \\  -3, \\  2\\right]$"
      ],
      "text/plain": [
       "[1, -5, -3, 2]"
      ]
     },
     "execution_count": 40,
     "metadata": {},
     "output_type": "execute_result"
    }
   ],
   "source": [
    "X1=SA2.copy(); X2=SA2.copy(); X3=SA2.copy(); X4=SA2.copy()\n",
    "X1.col_del(0); X2.col_del(1); X3.col_del(2); X4.col_del(3)\n",
    "X1=X1.col_insert(int(0),Sb2); X2=X2.col_insert(int(1),Sb2)\n",
    "X3=X3.col_insert(int(2),Sb2); X4=X4.col_insert(int(3),Sb2)\n",
    "x1=X1.det()/SA2.det(); x2=X2.det()/SA2.det()\n",
    "x3=X3.det()/SA2.det(); x4=X4.det()/SA2.det()\n",
    "[x1,x2,x3,x4]"
   ]
  },
  {
   "cell_type": "code",
   "execution_count": 41,
   "metadata": {},
   "outputs": [
    {
     "name": "stdout",
     "output_type": "stream",
     "text": [
      "[1]  1 -5 -3  2\n"
     ]
    }
   ],
   "source": [
    "%%r\n",
    "X1<-A; X1[1:4,1]<-b; X2<-A; X2[1:4,2]<-b\n",
    "X3<-A; X3[1:4,3]<-b; X4<-A; X4[1:4,4]<-b\n",
    "x1<-det(X1)/det(A); x2<-det(X2)/det(A)\n",
    "x3<-det(X3)/det(A); x4<-det(X4)/det(A)\n",
    "c(x1,x2,x3,x4)"
   ]
  },
  {
   "cell_type": "markdown",
   "metadata": {},
   "source": [
    "## 3. Алгоритм Гаусса.\n",
    "Последовательное исключение неизвестных и приведение матрицы коеффициентов уравнения к верхнему треугольному виду.\n",
    "\n",
    "Элементарные преобразования:\n",
    "\n",
    "1) перестановка строк;\n",
    "\n",
    "2) удаление строк  нулевыми коэффициентами;\n",
    "\n",
    "3) умножение любой строки на ненулевую константу;\n",
    "\n",
    "4) прибавление к строке любой другой строки.\n",
    "\n",
    "Шаги алгоритма:\n",
    "\n",
    "1) выберем \"разрешающую\" строку с наименьшим количеством нулей, считая от начала;\n",
    "\n",
    "2) разделим эту \"разрешающую\" строку на ее первый ненулевой элемент, стоящий на k-ой позиции от начала; \n",
    "\n",
    "3) переставим полученную строку на k-ую позицию среди строк;\n",
    "\n",
    "4) вычтем из каждой строки матрицы \"разрешающую\" строку, умноженную на элемент обрабатываемой строки в k-ом столбце,\n",
    "\n",
    "   k-ый столбец станет столбцом единичной матрицы;\n",
    "   \n",
    "5) продолжим процесс до того приведения матрицы к верхнему треугольному виду.\n",
    "\n",
    "При вычислениях можно избежать дробей, применив элементарные преобразования."
   ]
  },
  {
   "cell_type": "code",
   "execution_count": 42,
   "metadata": {},
   "outputs": [
    {
     "data": {
      "text/plain": [
       "(\n",
       "[ 2  0  0  9 20]  [ 1  0  0  0  1]\n",
       "[ 0  1  0 10 15]  [ 0  1  0  0 -5]\n",
       "[ 0  0  1 21 39]  [ 0  0  1  0 -3]\n",
       "[ 0  0  0 27 54], [ 0  0  0  1  2]\n",
       ")"
      ]
     },
     "execution_count": 42,
     "metadata": {},
     "output_type": "execute_result"
    }
   ],
   "source": [
    "Ab=A.augment(b); Ab.echelon_form(),Ab.rref()"
   ]
  },
  {
   "cell_type": "code",
   "execution_count": 43,
   "metadata": {},
   "outputs": [
    {
     "name": "stdout",
     "output_type": "stream",
     "text": [
      "⎡8   -5  -2  -2  35 ⎤\n",
      "⎢                   ⎥\n",
      "⎢-2  4   -4  1   -8 ⎥\n",
      "⎢                   ⎥\n",
      "⎢-2  1   4   4   -11⎥\n",
      "⎢                   ⎥\n",
      "⎣4   1   3   10  10 ⎦\n",
      "⎡8  -5  -2   -2   35⎤\n",
      "⎢                   ⎥\n",
      "⎢0  11  -18   2   3 ⎥\n",
      "⎢                   ⎥\n",
      "⎢0  -1  14   14   -9⎥\n",
      "⎢                   ⎥\n",
      "⎣0  -7  -8   -22  15⎦\n"
     ]
    }
   ],
   "source": [
    "SAb=sympy.Matrix([[8,-5,-2,-2,35],[-2,4,-4,1,-8],\n",
    "                  [-2,1,4,4,-11],[4,1,3,10,10]])\n",
    "sympy.pprint(SAb)\n",
    "# Умножим 2-ую и 3-ю строки на 4, 4-ую - на -2 и сложим с 1-ой:\n",
    "SAb[1,:]=4*SAb.row(1)+SAb.row(0)\n",
    "SAb[2,:]=4*SAb.row(2)+SAb.row(0)\n",
    "SAb[3,:]=-2*SAb.row(3)+SAb.row(0)\n",
    "sympy.pprint(SAb)"
   ]
  },
  {
   "cell_type": "code",
   "execution_count": 44,
   "metadata": {},
   "outputs": [
    {
     "data": {
      "image/png": "[encoded data removed]",
      "text/latex": [
       "$\\displaystyle \\left[\\begin{matrix}8 & -5 & -2 & -2 & 35\\\\0 & 11 & -18 & 2 & 3\\\\0 & 0 & 34 & 39 & -24\\\\0 & 0 & -107 & -114 & 93\\end{matrix}\\right]$"
      ],
      "text/plain": [
       "Matrix([\n",
       "[8, -5,   -2,   -2,  35],\n",
       "[0, 11,  -18,    2,   3],\n",
       "[0,  0,   34,   39, -24],\n",
       "[0,  0, -107, -114,  93]])"
      ]
     },
     "execution_count": 44,
     "metadata": {},
     "output_type": "execute_result"
    }
   ],
   "source": [
    "# Умножим 3-ю строчку на 11 и сложим со 2-й; \n",
    "# умножим 2-ую на 7, 4-ую - на 11 и сложим\n",
    "# Поделим 3-ю строчку на 4, 4-ую - на 2\n",
    "SAb[2,:]=(11*SAb.row(2)+SAb.row(1))/4\n",
    "SAb[3,:]=(11*SAb.row(3)+7*SAb.row(1))/2\n",
    "SAb"
   ]
  },
  {
   "cell_type": "code",
   "execution_count": 45,
   "metadata": {},
   "outputs": [
    {
     "data": {
      "image/png": "[encoded data removed]",
      "text/latex": [
       "$\\displaystyle \\left[\\begin{matrix}8 & -5 & -2 & -2 & 35\\\\0 & 11 & -18 & 2 & 3\\\\0 & 0 & 34 & 39 & -24\\\\0 & 0 & 0 & 1 & 2\\end{matrix}\\right]$"
      ],
      "text/plain": [
       "Matrix([\n",
       "[8, -5,  -2, -2,  35],\n",
       "[0, 11, -18,  2,   3],\n",
       "[0,  0,  34, 39, -24],\n",
       "[0,  0,   0,  1,   2]])"
      ]
     },
     "execution_count": 45,
     "metadata": {},
     "output_type": "execute_result"
    }
   ],
   "source": [
    "# Умножим 3-ю строчку на 107, 4-ую - на 34 и сложим\n",
    "# Поделим 4-ю на 297\n",
    "SAb[3,:]=(34*SAb.row(3)+107*SAb.row(2))/297\n",
    "SAb"
   ]
  },
  {
   "cell_type": "code",
   "execution_count": 46,
   "metadata": {},
   "outputs": [
    {
     "data": {
      "image/png": "[encoded data removed]",
      "text/latex": [
       "$\\displaystyle \\left[\\begin{matrix}8 & -5 & -2 & 0 & 39\\\\0 & 11 & -18 & 0 & -1\\\\0 & 0 & 1 & 0 & -3\\\\0 & 0 & 0 & 1 & 2\\end{matrix}\\right]$"
      ],
      "text/plain": [
       "Matrix([\n",
       "[8, -5,  -2, 0, 39],\n",
       "[0, 11, -18, 0, -1],\n",
       "[0,  0,   1, 0, -3],\n",
       "[0,  0,   0, 1,  2]])"
      ]
     },
     "execution_count": 46,
     "metadata": {},
     "output_type": "execute_result"
    }
   ],
   "source": [
    "# Умножим 4-ю строчку на -39 и сложим с 3-ей, \n",
    "# 4-ю - на -2 и сложим со 2-ой, 4-ю - на 2 и сложим со 1-ой\n",
    "# Поделим 3-ю на 34\n",
    "SAb[0,:]=(SAb.row(0)+2*SAb.row(3))\n",
    "SAb[1,:]=(SAb.row(1)-2*SAb.row(3))\n",
    "SAb[2,:]=(SAb.row(2)-39*SAb.row(3))/34\n",
    "SAb"
   ]
  },
  {
   "cell_type": "code",
   "execution_count": 47,
   "metadata": {},
   "outputs": [
    {
     "data": {
      "image/png": "[encoded data removed]",
      "text/latex": [
       "$\\displaystyle \\left[\\begin{matrix}8 & -5 & 0 & 0 & 33\\\\0 & 1 & 0 & 0 & -5\\\\0 & 0 & 1 & 0 & -3\\\\0 & 0 & 0 & 1 & 2\\end{matrix}\\right]$"
      ],
      "text/plain": [
       "Matrix([\n",
       "[8, -5, 0, 0, 33],\n",
       "[0,  1, 0, 0, -5],\n",
       "[0,  0, 1, 0, -3],\n",
       "[0,  0, 0, 1,  2]])"
      ]
     },
     "execution_count": 47,
     "metadata": {},
     "output_type": "execute_result"
    }
   ],
   "source": [
    "# Умножим 3-ю строчку на 2 и сложим со 1-ой, 3-ю - на 18 и сложим со 2-ой\n",
    "# Поделим 2-ю на 11\n",
    "SAb[0,:]=SAb.row(0)+2*SAb.row(2)\n",
    "SAb[1,:]=(SAb.row(1)+18*SAb.row(2))/11\n",
    "SAb"
   ]
  },
  {
   "cell_type": "code",
   "execution_count": 48,
   "metadata": {},
   "outputs": [
    {
     "data": {
      "image/png": "[encoded data removed]",
      "text/latex": [
       "$\\displaystyle \\left[\\begin{matrix}1 & 0 & 0 & 0 & 1\\\\0 & 1 & 0 & 0 & -5\\\\0 & 0 & 1 & 0 & -3\\\\0 & 0 & 0 & 1 & 2\\end{matrix}\\right]$"
      ],
      "text/plain": [
       "Matrix([\n",
       "[1, 0, 0, 0,  1],\n",
       "[0, 1, 0, 0, -5],\n",
       "[0, 0, 1, 0, -3],\n",
       "[0, 0, 0, 1,  2]])"
      ]
     },
     "execution_count": 48,
     "metadata": {},
     "output_type": "execute_result"
    }
   ],
   "source": [
    "# Умножим 2-ю строчку на 5 и сложим со 1-ой\n",
    "# Поделим 1-ю на 8\n",
    "SAb[0,:]=(SAb.row(0)+5*SAb.row(1))/8\n",
    "SAb"
   ]
  },
  {
   "cell_type": "code",
   "execution_count": 49,
   "metadata": {},
   "outputs": [
    {
     "name": "stdout",
     "output_type": "stream",
     "text": [
      "     [,1] [,2] [,3] [,4] [,5]\n",
      "[1,]    1    0    0    0    1\n",
      "[2,]    0    1    0    0   -5\n",
      "[3,]    0    0    1    0   -3\n",
      "[4,]    0    0    0    1    2\n"
     ]
    }
   ],
   "source": [
    "%%r\n",
    "rref<-function(m){\n",
    "  pivot<-1\n",
    "  for (r in 1:nrow(m)){\n",
    "    if (ncol(m)<=pivot) break;\n",
    "    i<-r\n",
    "    while (m[i,pivot]==0){i<-i+1; \n",
    "        if (nrow(m)==i){i<-r; pivot<-pivot+1; \n",
    "                        if (ncol(m)==pivot) return(m)}}\n",
    "    trow<-m[i,]; m[i,]<-m[r,]; m[r,]<-trow; m[r,]<-m[r,]/m[r,pivot]\n",
    "    for (i in 1:nrow(m)){if (i!=r) m[i,]<-m[i,]-m[r,]*m[i,pivot]}\n",
    "    pivot<-pivot+1}\n",
    "  return(m)}\n",
    "A<-matrix(c(8,-5,-2,-2,35,-2,4,-4,1,-8,\n",
    "            -2,1,4,4,-11,4,1,3,10,10),\n",
    "            4,5,byrow=T)\n",
    "rref(A)"
   ]
  },
  {
   "cell_type": "code",
   "execution_count": 25,
   "metadata": {
    "scrolled": false
   },
   "outputs": [
    {
     "name": "stdout",
     "output_type": "stream",
     "text": [
      "\n",
      "\n",
      "\n",
      "Initial matrix:\n",
      "     [,1] [,2] [,3] [,4] [,5]\n",
      "[1,]   8   -5   -2   -2   35 \n",
      "[2,]  -2    4   -4    1   -8 \n",
      "[3,]  -2    1    4    4  -11 \n",
      "[4,]   4    1    3   10   10 \n",
      "\n",
      "row: 1 \n",
      "\n",
      " multiply row 1 by 1/8 \n",
      "     [,1] [,2] [,3] [,4] [,5]\n",
      "[1,]    1 -5/8 -1/4 -1/4 35/8\n",
      "[2,]   -2    4   -4    1   -8\n",
      "[3,]   -2    1    4    4  -11\n",
      "[4,]    4    1    3   10   10\n",
      "\n",
      " multiply row 1 by 2 and add to row 2 \n",
      "     [,1] [,2] [,3] [,4] [,5]\n",
      "[1,]    1 -5/8 -1/4 -1/4 35/8\n",
      "[2,]    0 11/4 -9/2  1/2  3/4\n",
      "[3,]   -2    1    4    4  -11\n",
      "[4,]    4    1    3   10   10\n",
      "\n",
      " multiply row 1 by 2 and add to row 3 \n",
      "     [,1] [,2] [,3] [,4] [,5]\n",
      "[1,]    1 -5/8 -1/4 -1/4 35/8\n",
      "[2,]    0 11/4 -9/2  1/2  3/4\n",
      "[3,]    0 -1/4  7/2  7/2 -9/4\n",
      "[4,]    4    1    3   10   10\n",
      "\n",
      " multiply row 1 by 4 and subtract from row 4 \n",
      "     [,1]  [,2]  [,3]  [,4]  [,5] \n",
      "[1,]     1  -5/8  -1/4  -1/4  35/8\n",
      "[2,]     0  11/4  -9/2   1/2   3/4\n",
      "[3,]     0  -1/4   7/2   7/2  -9/4\n",
      "[4,]     0   7/2     4    11 -15/2\n",
      "\n",
      "row: 2 \n",
      "\n",
      " exchange rows 2 and 4 \n",
      "     [,1]  [,2]  [,3]  [,4]  [,5] \n",
      "[1,]     1  -5/8  -1/4  -1/4  35/8\n",
      "[2,]     0   7/2     4    11 -15/2\n",
      "[3,]     0  -1/4   7/2   7/2  -9/4\n",
      "[4,]     0  11/4  -9/2   1/2   3/4\n",
      "\n",
      " multiply row 2 by 2/7 \n",
      "     [,1]  [,2]  [,3]  [,4]  [,5] \n",
      "[1,]     1  -5/8  -1/4  -1/4  35/8\n",
      "[2,]     0     1   8/7  22/7 -15/7\n",
      "[3,]     0  -1/4   7/2   7/2  -9/4\n",
      "[4,]     0  11/4  -9/2   1/2   3/4\n",
      "\n",
      " multiply row 2 by 5/8 and add to row 1 \n",
      "     [,1]  [,2]  [,3]  [,4]  [,5] \n",
      "[1,]     1     0 13/28  12/7 85/28\n",
      "[2,]     0     1   8/7  22/7 -15/7\n",
      "[3,]     0  -1/4   7/2   7/2  -9/4\n",
      "[4,]     0  11/4  -9/2   1/2   3/4\n",
      "\n",
      " multiply row 2 by 1/4 and add to row 3 \n",
      "     [,1]   [,2]   [,3]   [,4]   [,5]  \n",
      "[1,]      1      0  13/28   12/7  85/28\n",
      "[2,]      0      1    8/7   22/7  -15/7\n",
      "[3,]      0      0  53/14   30/7 -39/14\n",
      "[4,]      0   11/4   -9/2    1/2    3/4\n",
      "\n",
      " multiply row 2 by 11/4 and subtract from row 4 \n",
      "     [,1]    [,2]    [,3]    [,4]    [,5]   \n",
      "[1,]       1       0   13/28    12/7   85/28\n",
      "[2,]       0       1     8/7    22/7   -15/7\n",
      "[3,]       0       0   53/14    30/7  -39/14\n",
      "[4,]       0       0 -107/14   -57/7   93/14\n",
      "\n",
      "row: 3 \n",
      "\n",
      " exchange rows 3 and 4 \n",
      "     [,1]    [,2]    [,3]    [,4]    [,5]   \n",
      "[1,]       1       0   13/28    12/7   85/28\n",
      "[2,]       0       1     8/7    22/7   -15/7\n",
      "[3,]       0       0 -107/14   -57/7   93/14\n",
      "[4,]       0       0   53/14    30/7  -39/14\n",
      "\n",
      " multiply row 3 by -14/107 \n",
      "     [,1]    [,2]    [,3]    [,4]    [,5]   \n",
      "[1,]       1       0   13/28    12/7   85/28\n",
      "[2,]       0       1     8/7    22/7   -15/7\n",
      "[3,]       0       0       1 114/107 -93/107\n",
      "[4,]       0       0   53/14    30/7  -39/14\n",
      "\n",
      " multiply row 3 by 13/28 and subtract from row 1 \n",
      "     [,1]    [,2]    [,3]    [,4]    [,5]   \n",
      "[1,]       1       0       0 261/214 368/107\n",
      "[2,]       0       1     8/7    22/7   -15/7\n",
      "[3,]       0       0       1 114/107 -93/107\n",
      "[4,]       0       0   53/14    30/7  -39/14\n",
      "\n",
      " multiply row 3 by 8/7 and subtract from row 2 \n",
      "     [,1]     [,2]     [,3]     [,4]     [,5]    \n",
      "[1,]        1        0        0  261/214  368/107\n",
      "[2,]        0        1        0  206/107 -123/107\n",
      "[3,]        0        0        1  114/107  -93/107\n",
      "[4,]        0        0    53/14     30/7   -39/14\n",
      "\n",
      " multiply row 3 by 53/14 and subtract from row 4 \n",
      "     [,1]     [,2]     [,3]     [,4]     [,5]    \n",
      "[1,]        1        0        0  261/214  368/107\n",
      "[2,]        0        1        0  206/107 -123/107\n",
      "[3,]        0        0        1  114/107  -93/107\n",
      "[4,]        0        0        0   27/107   54/107\n",
      "\n",
      "row: 4 \n",
      "\n",
      " multiply row 4 by 107/27 \n",
      "     [,1]     [,2]     [,3]     [,4]     [,5]    \n",
      "[1,]        1        0        0  261/214  368/107\n",
      "[2,]        0        1        0  206/107 -123/107\n",
      "[3,]        0        0        1  114/107  -93/107\n",
      "[4,]        0        0        0        1        2\n",
      "\n",
      " multiply row 4 by 261/214 and subtract from row 1 \n",
      "     [,1]     [,2]     [,3]     [,4]     [,5]    \n",
      "[1,]        1        0        0        0        1\n",
      "[2,]        0        1        0  206/107 -123/107\n",
      "[3,]        0        0        1  114/107  -93/107\n",
      "[4,]        0        0        0        1        2\n",
      "\n",
      " multiply row 4 by 206/107 and subtract from row 2 \n",
      "     [,1]    [,2]    [,3]    [,4]    [,5]   \n",
      "[1,]       1       0       0       0       1\n",
      "[2,]       0       1       0       0      -5\n",
      "[3,]       0       0       1 114/107 -93/107\n",
      "[4,]       0       0       0       1       2\n",
      "\n",
      " multiply row 4 by 114/107 and subtract from row 3 \n",
      "     [,1] [,2] [,3] [,4] [,5]\n",
      "[1,]  1    0    0    0    1  \n",
      "[2,]  0    1    0    0   -5  \n",
      "[3,]  0    0    1    0   -3  \n",
      "[4,]  0    0    0    1    2  \n"
     ]
    }
   ],
   "source": [
    "%%r\n",
    "A<-matrix(c(8,-2,-2,4,-5,4,1,1,\n",
    "            -2,-4,4,3,-2,1,4,10),4,4)    \n",
    "b<-c(35,-8,-11,10)\n",
    "echelon(A, b, verbose=TRUE, fractions=TRUE)"
   ]
  },
  {
   "cell_type": "markdown",
   "metadata": {},
   "source": [
    "## 4. Задание.\n",
    "\n",
    "Решить систему линейных уравнений указанными методами,\n",
    "\n",
    "используя SageMath, Python, R."
   ]
  },
  {
   "cell_type": "code",
   "execution_count": 1,
   "metadata": {},
   "outputs": [
    {
     "data": {
      "text/latex": [
       "\\begin{cases}\n",
       "5x_1 - x_2 - 8x_3 - 10x_4 = 12 \\\\\n",
       "-3x_1 + x_2 - x_3 + x_4 = 5 \\\\\n",
       "-2x_1 + 4x_2 + 2x_3 + 6x_4 = -28 \\\\\n",
       "-2x_1 - 5x_2 - 7x_3 - 10x_4 = 61 \n",
       "\\end{cases}"
      ],
      "text/plain": [
       "<IPython.core.display.Latex object>"
      ]
     },
     "metadata": {},
     "output_type": "display_data"
    }
   ],
   "source": [
    "%%latex\n",
    "\\begin{cases}\n",
    "5x_1 - x_2 - 8x_3 - 10x_4 = 12 \\\\\n",
    "-3x_1 + x_2 - x_3 + x_4 = 5 \\\\\n",
    "-2x_1 + 4x_2 + 2x_3 + 6x_4 = -28 \\\\\n",
    "-2x_1 - 5x_2 - 7x_3 - 10x_4 = 61 \n",
    "\\end{cases}"
   ]
  }
 ],
 "metadata": {
  "kernelspec": {
   "display_name": "SageMath 8.8",
   "language": "sage",
   "name": "sagemath"
  },
  "language_info": {
   "codemirror_mode": {
    "name": "ipython",
    "version": 2
   },
   "file_extension": ".py",
   "mimetype": "text/x-python",
   "name": "python",
   "nbconvert_exporter": "python",
   "pygments_lexer": "ipython2",
   "version": "2.7.15"
  }
 },
 "nbformat": 4,
 "nbformat_minor": 2
}

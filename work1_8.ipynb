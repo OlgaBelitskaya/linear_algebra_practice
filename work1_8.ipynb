{
 "cells": [
  {
   "cell_type": "markdown",
   "metadata": {},
   "source": [
    "<h1 style=\"color: #3636ff;\">Линейная алгебра. Практическая работа №8</h1>\n",
    "\n",
    "### Программные средства\n",
    "\n",
    "[LaTeX. Mathematics](https://en.wikibooks.org/wiki/LaTeX/Mathematics)\n",
    "\n",
    "[Sage. Linear Algebra](http://doc.sagemath.org/html/en/tutorial/tour_linalg.html)\n",
    "\n",
    "[Numpy. Quickstart tutorial](https://docs.scipy.org/doc/numpy/user/quickstart.html#linear-algebra)\n",
    "\n"
   ]
  },
  {
   "cell_type": "markdown",
   "metadata": {},
   "source": [
    "### Конспекты лекций\n",
    "\n",
    "[АЛГЕБРА И ГЕОМЕТРИЯ ДЛЯ СТУДЕНТОВ-ФИЗИКОВ](http://math.phys.msu.ru/data/24/Algebra_and_geometry.pdf)\n",
    "\n",
    "[Прямые и плоскости](http://hoster.bmstu.ru/~fn1/wp-content/uploads/2012/10/uchebno-metod/Surf_and_lines_ST_metod.pdf)\n",
    "\n",
    "[Computational Mathematics with SageMath](http://dl.lateralis.org/public/sagebook/sagebook-ba6596d.pdf)\n",
    "\n",
    "[Introduction to Symbolic Computation](http://homepages.math.uic.edu/~jan/mcs320/mcs320.pdf)"
   ]
  },
  {
   "cell_type": "markdown",
   "metadata": {},
   "source": [
    "# Прямые\n",
    "\n",
    "## 1. Уравнение прямой на плоскости.\n",
    "\n",
    "Общий вид\n",
    "\n",
    "$l: \\ a * x + b * y + c = 0$\n",
    "\n",
    "$\\overrightarrow{n}\\{a;b\\} \\perp l$\n",
    "\n",
    "Проходящей через две точки $(x_1;y_1), (x_2;y_2)$\n",
    "\n",
    "$\\frac{x - x_1}{x_2 - x_1} = \\frac{y - y_1}{y_2 - y_1}$\n",
    "\n",
    "С угловым коэффициентом $k$ и проходящая через точку $(x_0;y_0)$\n",
    "\n",
    "$y - y_0 = k * (x - x_0)$\n",
    "\n",
    "$k = tg \\ \\alpha$ - тангенс угла наклона прямой к оси х.\n",
    "\n",
    "$k = -\\frac{a}{b} = \\frac{y_2 - y_1}{x_2 - x_1}$\n",
    "\n",
    "Параметрические\n",
    "\n",
    "$\\begin {cases} \n",
    "x = x_0 + p * t \\\\\n",
    "y = y_0 + q * t\n",
    "\\end {cases}, t \\in \\mathbb{R}$\n",
    "\n",
    "Каноническое\n",
    "\n",
    "$\\frac{x - x_0}{p} = \\frac{y - y_0}{q}$\n",
    "\n",
    "$\\overrightarrow{l}\\{p;q\\} \\parallel l, \\ M_0(x_0;y_0) \\in l$\n",
    "\n",
    "В отрезках\n",
    "\n",
    "$\\frac{x}{\\alpha} + \\frac{y}{\\beta} = 1$\n",
    "\n",
    "$\\alpha = -\\frac{c}{a}, \\beta = -\\frac{c}{b}$"
   ]
  },
  {
   "cell_type": "code",
   "execution_count": 118,
   "metadata": {},
   "outputs": [],
   "source": [
    "x,y,x0,y0,x1,y1,x2,y2,k,a,b,c,p,q,t = var('x,y,x0,y0,x1,y1,x2,y2,k,a,b,c,p,q,t')\n",
    "eq1 = a * x + b * y + c == 0\n",
    "eq2 = y - y0  == k * (x - x0)\n",
    "eq3 = (y - y1) / (y2 - y1) == (x - x1) / (x2 - x1)\n",
    "eq4 = x == x0 + p * t\n",
    "eq5 = y == y0 + q * t"
   ]
  },
  {
   "cell_type": "code",
   "execution_count": 50,
   "metadata": {},
   "outputs": [
    {
     "data": {
      "text/plain": [
       "[[a == 3, b == -1, c == -1, x == r26, y == 3*r26 - 1]]"
      ]
     },
     "execution_count": 50,
     "metadata": {},
     "output_type": "execute_result"
    }
   ],
   "source": [
    "solve([eq1, a==3, b==-1, c==-1], a, b, c, x, y)"
   ]
  },
  {
   "cell_type": "code",
   "execution_count": 112,
   "metadata": {},
   "outputs": [
    {
     "data": {
      "text/plain": [
       "[[k == -3, x0 == 1, y0 == 1, x == r27, y == -3*r27 + 4]]"
      ]
     },
     "execution_count": 112,
     "metadata": {},
     "output_type": "execute_result"
    }
   ],
   "source": [
    "solve([eq2, k==-3, x0==1, y0==1], k,x0,y0,x,y)"
   ]
  },
  {
   "cell_type": "code",
   "execution_count": 116,
   "metadata": {},
   "outputs": [
    {
     "data": {
      "text/plain": [
       "[[x1 == -3, y1 == -2, x2 == -1, y2 == 4, x == r31, y == 3*r31 + 7]]"
      ]
     },
     "execution_count": 116,
     "metadata": {},
     "output_type": "execute_result"
    }
   ],
   "source": [
    "solve([eq3, x1==-3, y1==-2, x2==-1, y2==4], x1,y1,x2,y2,x,y)"
   ]
  },
  {
   "cell_type": "code",
   "execution_count": 124,
   "metadata": {},
   "outputs": [
    {
     "data": {
      "text/plain": [
       "[[x0 == 1, y0 == -1, p == 2, q == -4, t == r33, x == 2*r33 + 1, y == -4*r33 - 1]]"
      ]
     },
     "execution_count": 124,
     "metadata": {},
     "output_type": "execute_result"
    }
   ],
   "source": [
    "solve([eq4, eq5, x0==1, y0==-1, p==2, q==-4], x0,y0,p,q,t,x,y)"
   ]
  },
  {
   "cell_type": "code",
   "execution_count": 125,
   "metadata": {},
   "outputs": [
    {
     "data": {
      "image/png": "[encoded data removed]",
      "text/plain": [
       "Graphics object consisting of 4 graphics primitives"
      ]
     },
     "metadata": {},
     "output_type": "display_data"
    }
   ],
   "source": [
    "g = Graphics()\n",
    "l1 = plot(3*x-1, (x,-5,5), ymax=5, ymin=-5, \n",
    "          color='#3636ff', legend_label='3x-y-1=0')\n",
    "l2 = plot(-3*x+4, (x,-5,5), \n",
    "          color='#ff3636', legend_label='y=-3x+4')\n",
    "l3 = plot(3*x+7, (x,-5,5),\n",
    "         color='#ffff36', legend_label='(y+2)/(4+2)=(x+3)/(-1+3)')\n",
    "l4 = parametric_plot((2*t+1,-4*t-1), (t,-3,3), \n",
    "                     color='#36ff36', legend_label='x=2t+1,y=-4t-1')\n",
    "g = g+l1+l2+l3+l4\n",
    "g.set_legend_options(bbox_to_anchor=(1.0,0.6)) \n",
    "g.show()"
   ]
  },
  {
   "cell_type": "code",
   "execution_count": 225,
   "metadata": {},
   "outputs": [
    {
     "data": {
      "text/plain": [
       "matrix([[ 1.],\n",
       "        [ 1.]])"
      ]
     },
     "execution_count": 225,
     "metadata": {},
     "output_type": "execute_result"
    }
   ],
   "source": [
    "import numpy\n",
    "# l1: 2x+3y-5=0\n",
    "# l2: -3x-4y+7=0\n",
    "a = numpy.matrix([[2,3],[-3,-4]])\n",
    "b = numpy.matrix([5,-7])\n",
    "numpy.linalg.solve(a,b.T)"
   ]
  },
  {
   "cell_type": "code",
   "execution_count": 247,
   "metadata": {},
   "outputs": [
    {
     "data": {
      "image/png": "[encoded data removed]",
      "text/latex": [
       "$$\\left [ \\left ( 3, \\quad -1, \\quad -1, \\quad 3 x - 1\\right )\\right ]$$"
      ],
      "text/plain": [
       "[(3, -1, -1, 3*x - 1)]"
      ]
     },
     "execution_count": 247,
     "metadata": {},
     "output_type": "execute_result"
    }
   ],
   "source": [
    "import sympy\n",
    "sympy.init_printing(use_unicode=True)\n",
    "a,b,c,x,y = sympy.symbols('a b c x y')\n",
    "sympy.solve([a*x+b*y+c,a-3,b+1,c+1], a,b,c,y)"
   ]
  },
  {
   "cell_type": "code",
   "execution_count": 248,
   "metadata": {},
   "outputs": [
    {
     "data": {
      "image/png": "[encoded data removed]",
      "text/latex": [
       "$$\\left [ \\left ( 1, \\quad 1, \\quad -3, \\quad - 3 x + 4\\right )\\right ]$$"
      ],
      "text/plain": [
       "[(1, 1, -3, -3*x + 4)]"
      ]
     },
     "execution_count": 248,
     "metadata": {},
     "output_type": "execute_result"
    }
   ],
   "source": [
    "x0,y0,k = sympy.symbols('x0 y0 k')\n",
    "sympy.solve([y-y0-k*(x-x0),x0-1,y0-1,k+3], x0,y0,k,y)"
   ]
  },
  {
   "cell_type": "code",
   "execution_count": 249,
   "metadata": {},
   "outputs": [
    {
     "data": {
      "image/png": "[encoded data removed]",
      "text/latex": [
       "$$\\left [ \\left ( -3, \\quad -2, \\quad -1, \\quad 4, \\quad 3 x + 7\\right )\\right ]$$"
      ],
      "text/plain": [
       "[(-3, -2, -1, 4, 3*x + 7)]"
      ]
     },
     "execution_count": 249,
     "metadata": {},
     "output_type": "execute_result"
    }
   ],
   "source": [
    "x1,y1,x2,y2 = sympy.symbols('x1 y1 x2 y2')\n",
    "sympy.solve([(y-y1)/(y2-y1)-(x-x1)/(x2-x1),x1+3,y1+2,x2+1,y2-4], x1,y1,x2,y2,y)"
   ]
  },
  {
   "cell_type": "code",
   "execution_count": 255,
   "metadata": {},
   "outputs": [
    {
     "data": {
      "image/png": "[encoded data removed]",
      "text/latex": [
       "$$\\left [ \\left ( 1, \\quad -1, \\quad 2, \\quad -4, \\quad \\frac{x - 1}{2}, \\quad - 2 x + 1\\right )\\right ]$$"
      ],
      "text/plain": [
       "[(1, -1, 2, -4, (x - 1)/2, -2*x + 1)]"
      ]
     },
     "execution_count": 255,
     "metadata": {},
     "output_type": "execute_result"
    }
   ],
   "source": [
    "p,q,t = sympy.symbols('p q t')\n",
    "sympy.solve([x-x0-p*t,y-y0-q*t,x0-1,y0+1,p-2,q+4], x0,y0,p,q,t,y)"
   ]
  },
  {
   "cell_type": "code",
   "execution_count": 256,
   "metadata": {},
   "outputs": [
    {
     "name": "stdout",
     "output_type": "stream",
     "text": [
      "\n",
      "\n",
      "\n",
      "\n",
      "\n",
      "\n",
      "     [,1]\n",
      "[1,]    1\n",
      "[2,]    1\n"
     ]
    }
   ],
   "source": [
    "%%r\n",
    "# l1: 2x+3y-5=0\n",
    "# l2: -3x-4y+7=0\n",
    "a <- matrix(data=c(2,3,-3,-4), \n",
    "            nrow=2, ncol=2, byrow=TRUE)    \n",
    "b <- matrix(data=c(5,-7), \n",
    "            nrow=2, ncol=1, byrow=FALSE)\n",
    "round(solve(a, b))"
   ]
  },
  {
   "cell_type": "markdown",
   "metadata": {},
   "source": [
    "## 2. Взаимное расположение точек и прямых на плоскости.\n",
    "\n",
    "Расстояние между прямой и точкой\n",
    "\n",
    "$\\begin {cases}\n",
    "l: a * x + b * y + c = 0 \\\\\n",
    "M: (x_0;y_0) \n",
    "\\end {cases} \\to \\rho(M,l) = \\frac{|a * x_0 + b * y_0 + c|}{\\sqrt{a^2 + b^2}}$\n",
    "\n",
    "Две прямые\n",
    "\n",
    "$\\begin {cases}\n",
    "l_1: y = k_1 * x + m_1 = 0 \\\\\n",
    "l_2: y = k_2 * x + m_2 = 0\n",
    "\\end {cases}$\n",
    "\n",
    "$k_1 = k_2, m_1 = m_2 \\implies l_1 \\equiv l_2 \\\\\n",
    "k_1 = k_2, m_1 \\neq m_2 \\implies l_1 \\parallel l_2 \\\\\n",
    "k_1 \\neq k_2 \\implies l_1 \\cap l_2 = O \\\\\n",
    "tg \\ \\varphi = \\bigg|\\frac{k_1 - k_2}{1 + k_1 \\cdot k_2}\\bigg| \\\\\n",
    "k_1 \\cdot k_2 = -1 \\implies l_1 \\perp l_2 \\\\ $"
   ]
  },
  {
   "cell_type": "code",
   "execution_count": 131,
   "metadata": {},
   "outputs": [
    {
     "data": {
      "text/latex": [
       "$l_1: 11 * x + 2 * y - 7 = 0 \\\\\n",
       "l_2: 2 * x - y + 3 = 0 \\\\\n",
       "m_1, m_2: \\rho(M,l_1) = \\rho(M,l_2), \\ \\forall M \\in m_1, m2 \\\\\n",
       "m_1, m_2: \\ ?$"
      ],
      "text/plain": [
       "<IPython.core.display.Latex object>"
      ]
     },
     "metadata": {},
     "output_type": "display_data"
    }
   ],
   "source": [
    "%%latex\n",
    "$l_1: 11 * x + 2 * y - 7 = 0 \\\\\n",
    "l_2: 2 * x - y + 3 = 0 \\\\\n",
    "m_1, m_2: \\rho(M,l_1) = \\rho(M,l_2), \\ \\forall M \\in m_1, m2 \\\\\n",
    "m_1, m_2: \\ ?$"
   ]
  },
  {
   "cell_type": "code",
   "execution_count": 135,
   "metadata": {},
   "outputs": [
    {
     "data": {
      "text/plain": [
       "([[y == -11/2*r36 + 7/2, x == r36]], [[y == 2*r37 + 3, x == r37]])"
      ]
     },
     "execution_count": 135,
     "metadata": {},
     "output_type": "execute_result"
    }
   ],
   "source": [
    "eq1 = 11 * x + 2 * y - 7 == 0\n",
    "eq2 = 2 * x - y + 3 == 0\n",
    "solve(eq1, y, x), solve(eq2, y, x)"
   ]
  },
  {
   "cell_type": "code",
   "execution_count": 175,
   "metadata": {},
   "outputs": [
    {
     "data": {
      "text/latex": [
       "$\\rho(M,l_1) = \\rho(M,l_2) \\iff \n",
       "\\frac{|11 * x + 2 * y - 7|}{\\sqrt{11^2 + 2^2}} = \\frac{|2 * x - y + 3|}{\\sqrt{2^2 + (-1)^2}}$"
      ],
      "text/plain": [
       "<IPython.core.display.Latex object>"
      ]
     },
     "metadata": {},
     "output_type": "display_data"
    }
   ],
   "source": [
    "%%latex\n",
    "$\\rho(M,l_1) = \\rho(M,l_2) \\iff \n",
    "\\frac{|11 * x + 2 * y - 7|}{\\sqrt{11^2 + 2^2}} = \\frac{|2 * x - y + 3|}{\\sqrt{2^2 + (-1)^2}}$"
   ]
  },
  {
   "cell_type": "code",
   "execution_count": 162,
   "metadata": {},
   "outputs": [
    {
     "data": {
      "text/plain": [
       "([[y == -1/7*r58 + 22/7, x == r58]], [[y == 7*r59 + 8/3, x == r59]])"
      ]
     },
     "execution_count": 162,
     "metadata": {},
     "output_type": "execute_result"
    }
   ],
   "source": [
    "eq3 = (11 * x + 2 * y - 7) / sqrt(11^2 + 2^2) == (2 * x - y + 3) / sqrt(2^2 + (-1)^2)\n",
    "eq4 = (11 * x + 2 * y - 7) / sqrt(11^2 + 2^2) == -1 * (2 * x - y + 3) / sqrt(2^2 + (-1)^2)\n",
    "solve(eq3, y, x), solve(eq4, y, x)"
   ]
  },
  {
   "cell_type": "code",
   "execution_count": 173,
   "metadata": {},
   "outputs": [
    {
     "data": {
      "image/png": "[encoded data removed]",
      "text/plain": [
       "Graphics object consisting of 4 graphics primitives"
      ]
     },
     "metadata": {},
     "output_type": "display_data"
    }
   ],
   "source": [
    "g = Graphics()\n",
    "l1 = plot(-11/2*x+7/2, (x,-5,5), ymax=5, ymin=-5, \n",
    "          color='#3636ff', legend_label='l1: 11 * x + 2 * y - 7 = 0')\n",
    "l2 = plot(2*x+3, (x,-5,5), \n",
    "          color='#ff3636', legend_label='l2: 2 * x - y + 3 = 0')\n",
    "m1 = plot(-1/7*x+22/7, (x,-5,5),\n",
    "          color='#ffff36', legend_label='m1: y = -1/7x + 22/7')\n",
    "m2 = plot(7*x+8/3, (x,-5,5), \n",
    "          color='#36ff36', legend_label='m2: y = 7x + 8/3')\n",
    "g = g+l1+l2+m2+m1\n",
    "g.set_legend_options(bbox_to_anchor=(1.1,0.3)) \n",
    "g.show()"
   ]
  },
  {
   "cell_type": "markdown",
   "metadata": {},
   "source": [
    "## 3. Прямые в пространстве.\n",
    "\n",
    "Общие уравнения (пересечение плоскостей)\n",
    "\n",
    "$l: \\begin {cases}\n",
    "a_1x + b_1y + c_1z + d_1 = 0 \\\\\n",
    "a_2x + b_2y + c_2z + d_2 = 0\n",
    "\\end {cases}$\n",
    "\n",
    "$\\overrightarrow{n}\\{a;b;c\\} \\perp l$\n",
    "\n",
    "Проходящей через две точки $(x_1;y_1;z_1), (x_2;y_2;z_2)$\n",
    "\n",
    "$\\frac{x - x_1}{x_2 - x_1} = \\frac{y - y_1}{y_2 - y_1} = \\frac{z - z_1}{z_2 - z_1}$\n",
    "\n",
    "Параметрические\n",
    "\n",
    "$\\begin {cases} \n",
    "x = x_0 + p * t \\\\\n",
    "y = y_0 + q * t \\\\\n",
    "z = z_0 + r * t\n",
    "\\end {cases}, t \\in \\mathbb{R}$\n",
    "\n",
    "Канонические\n",
    "\n",
    "$\\frac{x - x_0}{p} = \\frac{y - y_0}{q} = \\frac{z - z_0}{r}$\n",
    "\n",
    "$\\overrightarrow{l}\\{p;q;r\\} \\parallel l, \\ M_0(x_0;y_0;z_0) \\in l$"
   ]
  },
  {
   "cell_type": "code",
   "execution_count": 178,
   "metadata": {},
   "outputs": [
    {
     "data": {
      "text/latex": [
       "$A(2;5;3), B(3;2;1), C(4;1;2) \\in \\pi \\\\\n",
       "D(1;4;4), E(0;6;7)\\in l \\\\\n",
       "O(x;y;z) = \\pi \\cap l \\\\\n",
       "(x;y;z) = ?$"
      ],
      "text/plain": [
       "<IPython.core.display.Latex object>"
      ]
     },
     "metadata": {},
     "output_type": "display_data"
    }
   ],
   "source": [
    "%%latex\n",
    "$A(2;5;3), B(3;2;1), C(4;1;2) \\in \\pi \\\\\n",
    "D(1;4;4), E(0;6;7)\\in l \\\\\n",
    "O(x;y;z) = \\pi \\cap l \\\\\n",
    "(x;y;z) = ?$"
   ]
  },
  {
   "cell_type": "code",
   "execution_count": 190,
   "metadata": {},
   "outputs": [
    {
     "name": "stdout",
     "output_type": "stream",
     "text": [
      "[x - 2 y - 5 z - 3]\n",
      "[    1    -3    -2]\n",
      "[    2    -4    -1]\n"
     ]
    },
    {
     "data": {
      "text/plain": [
       "(-5*x - 3*y + 2*z + 19 == 0, x == -t + 1, y == 2*t + 4, z == 3*t + 4)"
      ]
     },
     "execution_count": 190,
     "metadata": {},
     "output_type": "execute_result"
    }
   ],
   "source": [
    "x,y,z,t = var('x,y,z,t')\n",
    "x1,y1,z1 = 2,5,3 # A\n",
    "x2,y2,z2 = 3,2,1 # B\n",
    "x3,y3,z3 = 4,1,2 # C\n",
    "x4,y4,z4 = 1,4,4 # D\n",
    "x5,y5,z5 = 0,6,7 # E\n",
    "\n",
    "# π\n",
    "P = Matrix(SR, 3, [x-x1, y-y1, z-z1, x2-x1, y2-y1, z2-z1, x3-x1, y3-y1, z3-z1])\n",
    "eq0 = P.det()==0\n",
    "# l\n",
    "eq1 = x==x4+(x5-x4)*t\n",
    "eq2 = y==y4+(y5-y4)*t\n",
    "eq3 = z==z4+(z5-z4)*t\n",
    "\n",
    "print(P)\n",
    "eq0, eq1, eq2, eq3"
   ]
  },
  {
   "cell_type": "code",
   "execution_count": 191,
   "metadata": {},
   "outputs": [
    {
     "data": {
      "text/plain": [
       "[[x == 3, y == 0, z == -2, t == -2]]"
      ]
     },
     "execution_count": 191,
     "metadata": {},
     "output_type": "execute_result"
    }
   ],
   "source": [
    "solve([eq0,eq1,eq2,eq3],x,y,z,t)"
   ]
  },
  {
   "cell_type": "markdown",
   "metadata": {},
   "source": [
    "## 4. Взаимное расположение точек и прямых в пространстве.\n",
    "\n",
    "Расстояние между прямой $l$ и точкой $M(x_1;y_1;z_1)$\n",
    "\n",
    "$\\Delta_x = \\begin {vmatrix} q & r \\\\ y_1-y_0 & z_1-z_0 \\end {vmatrix}, \\\n",
    "\\Delta_y = \\begin {vmatrix} p & r \\\\ x_1-x_0 & z_1-z_0 \\end {vmatrix}, \\\n",
    "\\Delta_z = \\begin {vmatrix} p & q \\\\ x_1-x_0 & y_1-y_0 \\end {vmatrix} \\\\\n",
    "\\rho(M,l) = \\frac{\\sqrt{\\Delta_x^2 + \\Delta_y^2 + \\Delta_z^2}}{\\sqrt{p^2 + q^2 + r^2}}$ \n",
    "\n",
    "Две прямые\n",
    "\n",
    "$l_1: \\frac{x - x_1}{p_1} = \\frac{y - y_1}{q_1} = \\frac{z - z_1}{r_1} \\\\\n",
    "A_1(x_1;y_1;z_1) \\in l_1, \\ \\overrightarrow{s_1}\\{p_1;q_1;r_1\\} \\parallel l_1 \\\\\n",
    "l_2: \\frac{x - x_2}{p_2} = \\frac{y - y_2}{q_2} = \\frac{z - z_2}{r_2} \\\\\n",
    "A_2(x_2;y_2;z_2) \\in l_2, \\ \\overrightarrow{s_2}\\{p_2;q_2;r_2\\} \\parallel l_2$\n",
    "\n",
    "$\\overrightarrow{A_1A_2} = k_1 * \\overrightarrow{s_1} = k_2 * \\overrightarrow{s_2} \\ \n",
    "(\\overrightarrow{A_1A_2} \\parallel \\overrightarrow{s_1} \\parallel \\overrightarrow{s_2}) \n",
    "\\implies l_1 \\equiv l_2 \\\\\n",
    "\\overrightarrow{A_1A_2} \\neq k_1 * \\overrightarrow{s_1} = k_2 * \\overrightarrow{s_2} \\ \n",
    "(\\overrightarrow{A_1A_2} \\nparallel \\overrightarrow{s_1} \\parallel \\overrightarrow{s_2}) \\implies l_1 \\parallel l_2 \\\\\n",
    "\\begin{vmatrix}\n",
    "x_2-x_1 & y_2-y_1 & z_2-z_1 \\\\\n",
    "p_1 & q_1 & r_1 \\\\\n",
    "p_2 & q_2 & r_2\n",
    "\\end {vmatrix} = 0, \\ \\overrightarrow{s_1} \\neq k * \\overrightarrow{s_2} \n",
    "\\implies l_1 \\cap l_2 = O \\\\\n",
    "\\begin{vmatrix}\n",
    "x_2-x_1 & y_2-y_1 & z_2-z_1 \\\\\n",
    "p_1 & q_1 & r_1 \\\\\n",
    "p_2 & q_2 & r_2\n",
    "\\end {vmatrix} \\neq 0\n",
    "\\implies l_1, l_2 \\notin \\pi$\n",
    "\n",
    "Расстояние между скрещивающимися прямыми\n",
    "\n",
    "$\\Delta = \\begin{vmatrix}\n",
    "x_2-x_1 & y_2-y_1 & z_2-z_1 \\\\ p_1 & q_1 & r_1 \\\\ p_2 & q_2 & r_2\n",
    "\\end {vmatrix}, \\\n",
    "\\Delta_x = \\begin {vmatrix} q_1 & r_1 \\\\ q_2 & r_2 \\end {vmatrix}, \\\n",
    "\\Delta_y = \\begin {vmatrix} p_1 & r_1 \\\\ p_2 & r_2 \\end {vmatrix}, \\\n",
    "\\Delta_z = \\begin {vmatrix} p_1 & q_1 \\\\ p_2 & q_2 \\end {vmatrix}$\n",
    "\n",
    "$\\rho(l_1,l_2) = \\frac{|\\Delta|}{\\sqrt{\\Delta_x^2 + \\Delta_y^2 + \\Delta_z^2}}$\n",
    "\n",
    "Угол между прямыми\n",
    "\n",
    "$cos \\angle (l_1, l_2) = \\frac{p_1p_2 + q_1q_2 + r_1r_2}{\\sqrt{p_1^2 + q_1^2 + r_1^2}\\sqrt{p_2^2 + q_2^2 + r_2^2}}$"
   ]
  },
  {
   "cell_type": "code",
   "execution_count": 202,
   "metadata": {},
   "outputs": [
    {
     "data": {
      "text/latex": [
       "$l_1 : \\frac{x - 4}{-3} = \\frac{y - 2}{-1} = \\frac{z + 1}{1} \\\\\n",
       "l_2 : \\frac{x + 1}{2} = \\frac{y - 5}{3} = \\frac{z - 10}{4} \\\\\n",
       "l_1 \\cap l_2 = O(x_0;y_0;z_0) \\\\ \n",
       "l_1, \\ l_2 \\in \\pi \\\\\n",
       "(x_0;y_0;z_0) = ?, \\ \\pi: ?$"
      ],
      "text/plain": [
       "<IPython.core.display.Latex object>"
      ]
     },
     "metadata": {},
     "output_type": "display_data"
    }
   ],
   "source": [
    "%%latex\n",
    "$l_1 : \\frac{x - 4}{-3} = \\frac{y - 2}{-1} = \\frac{z + 1}{1} \\\\\n",
    "l_2 : \\frac{x + 1}{2} = \\frac{y - 5}{3} = \\frac{z - 10}{4} \\\\\n",
    "l_1 \\cap l_2 = O(x_0;y_0;z_0) \\\\ \n",
    "l_1, \\ l_2 \\in \\pi \\\\\n",
    "(x_0;y_0;z_0) = ?, \\ \\pi: ?$"
   ]
  },
  {
   "cell_type": "code",
   "execution_count": 204,
   "metadata": {},
   "outputs": [
    {
     "data": {
      "text/plain": [
       "[[x == -5, y == -1, z == 2]]"
      ]
     },
     "execution_count": 204,
     "metadata": {},
     "output_type": "execute_result"
    }
   ],
   "source": [
    "x,y,z,t,i,j,k = var('x,y,z,t,i,j,k')\n",
    "x1,y1,z1 = 4,2,-1 # A1\n",
    "x2,y2,z2 = -1,5,10 # A2\n",
    "p1,q1,r1 = -3,-1,1 # s1\n",
    "p2,q2,r2 = 2,3,4 # s2\n",
    "\n",
    "# l1\n",
    "eq11 = (x-x1)/p1==(y-y1)/q1\n",
    "eq12 = (z-z1)/r1==(y-y1)/q1\n",
    "# l2\n",
    "eq21 = (x-x2)/p2==(y-y2)/q2\n",
    "eq22 = (z-z2)/r2==(y-y2)/q2\n",
    "\n",
    "# l1 ∩ l2\n",
    "solve([eq11, eq12, eq21, eq22], x, y, z)"
   ]
  },
  {
   "cell_type": "code",
   "execution_count": 207,
   "metadata": {},
   "outputs": [
    {
     "data": {
      "text/plain": [
       "-7*i + 14*j - 7*k"
      ]
     },
     "execution_count": 207,
     "metadata": {},
     "output_type": "execute_result"
    }
   ],
   "source": [
    "# O = l1 ∩ l2, O ∈ π\n",
    "x0,y0,z0 = -5,-1,2\n",
    "\n",
    "# n = s1 x s2, n ⊥ π\n",
    "n = Matrix(SR, 3, [i, j, k, p1, q1, r1, p2, q2, r2]).det()\n",
    "n"
   ]
  },
  {
   "cell_type": "code",
   "execution_count": 223,
   "metadata": {},
   "outputs": [
    {
     "data": {
      "text/plain": [
       "x - 2*y + z + 1 == 0"
      ]
     },
     "execution_count": 223,
     "metadata": {},
     "output_type": "execute_result"
    }
   ],
   "source": [
    "# π \n",
    "nx,ny,nz = -7,14,-7\n",
    "(nx * (x - x0) + ny * (y - y0) + nz * (z - z0) == 0) / (-7) "
   ]
  },
  {
   "cell_type": "code",
   "execution_count": null,
   "metadata": {},
   "outputs": [],
   "source": []
  }
 ],
 "metadata": {
  "kernelspec": {
   "display_name": "SageMath 8.4",
   "language": "",
   "name": "sagemath"
  },
  "language_info": {
   "codemirror_mode": {
    "name": "ipython",
    "version": 2
   },
   "file_extension": ".py",
   "mimetype": "text/x-python",
   "name": "python",
   "nbconvert_exporter": "python",
   "pygments_lexer": "ipython2",
   "version": "2.7.15"
  }
 },
 "nbformat": 4,
 "nbformat_minor": 2
}

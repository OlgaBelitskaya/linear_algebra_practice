{
 "cells": [
  {
   "cell_type": "markdown",
   "metadata": {},
   "source": [
    "<h1 style=\"color: #3636ff;\">Линейная алгебра. Практическая работа №1</h1>\n",
    "\n",
    "### Программные средства\n",
    "\n",
    "[LaTeX. Mathematics. Matrices & Arrays](https://en.wikibooks.org/wiki/LaTeX/Mathematics#Matrices_and_arrays)\n",
    "\n",
    "[Sage. Matrices & Spaces of Matrices](https://doc.sagemath.org/html/en/reference/matrices/index.html)\n",
    "\n",
    "[Numpy. Quickstart tutorial](https://docs.scipy.org/doc/numpy/user/quickstart.html#linear-algebra)\n",
    "\n",
    "[SymPy. Matrices (linear algebra)](https://docs.sympy.org/latest/modules/matrices/matrices.html)\n",
    "\n",
    "[Quick-R. Matrix Algebra](https://www.statmethods.net/advstats/matrix.html)"
   ]
  },
  {
   "cell_type": "markdown",
   "metadata": {},
   "source": [
    "### Конспекты лекций\n",
    "\n",
    "[Матрицы. Системы линейных уравнений. Алгоритм Гаусса](http://matematika.phys.msu.ru/files/a_stud_gen/246/AG-08_2009-2010.pdf)\n",
    "\n",
    "[АЛГЕБРА И ГЕОМЕТРИЯ ДЛЯ СТУДЕНТОВ-ФИЗИКОВ](http://math.phys.msu.ru/data/24/Algebra_and_geometry.pdf)"
   ]
  },
  {
   "cell_type": "markdown",
   "metadata": {},
   "source": [
    "# Матрицы. \n",
    "\n",
    "## 1. Способы инициализации."
   ]
  },
  {
   "cell_type": "code",
   "execution_count": 70,
   "metadata": {},
   "outputs": [
    {
     "data": {
      "text/latex": [
       "$A = \\begin{bmatrix}\n",
       "1 & 2 & 3\\\\\n",
       "4 & 5 & 6\n",
       "\\end{bmatrix}$"
      ],
      "text/plain": [
       "<IPython.core.display.Latex object>"
      ]
     },
     "metadata": {},
     "output_type": "display_data"
    }
   ],
   "source": [
    "%%latex\n",
    "$A = \\begin{bmatrix}\n",
    "1 & 2 & 3\\\\\n",
    "4 & 5 & 6\n",
    "\\end{bmatrix}$"
   ]
  },
  {
   "cell_type": "code",
   "execution_count": 130,
   "metadata": {},
   "outputs": [
    {
     "data": {
      "text/plain": [
       "(\n",
       "[22 15 78 52 90]\n",
       "[50 22 60 16 74]\n",
       "[49  4 96 41 53]\n",
       "[26 24  8 71 96]\n",
       "[13 52 69 17 16],\n",
       "\n",
       "[1.10000000000000 3.20000000000000 5.00000000000000 7.60000000000000]\n",
       "[2.20000000000000 4.10000000000000 6.50000000000000 8.10000000000000]\n",
       ")"
      ]
     },
     "execution_count": 130,
     "metadata": {},
     "output_type": "execute_result"
    }
   ],
   "source": [
    "# sage\n",
    "A1 = random_matrix(ZZ,5,x=0,y=100)\n",
    "C1 = random_matrix(ZZ,5,x=-100,y=0)\n",
    "B1 = matrix([[1.1,3.2,5.0,7.6],[2.2,4.1,6.5,8.1]])\n",
    "A1, B1"
   ]
  },
  {
   "cell_type": "code",
   "execution_count": 104,
   "metadata": {},
   "outputs": [
    {
     "data": {
      "text/plain": [
       "(Integer Ring, Real Field with 53 bits of precision)"
      ]
     },
     "execution_count": 104,
     "metadata": {},
     "output_type": "execute_result"
    }
   ],
   "source": [
    "A1.base_ring(), B1.base_ring()"
   ]
  },
  {
   "cell_type": "code",
   "execution_count": 100,
   "metadata": {},
   "outputs": [
    {
     "data": {
      "text/plain": [
       "(5, 5, (5, 5))"
      ]
     },
     "execution_count": 100,
     "metadata": {},
     "output_type": "execute_result"
    }
   ],
   "source": [
    "A1.ncols(), A1.nrows(), A1.dimensions()"
   ]
  },
  {
   "cell_type": "code",
   "execution_count": 105,
   "metadata": {},
   "outputs": [
    {
     "data": {
      "text/plain": [
       "\\left(\\begin{array}{rrrrr}\n",
       "9 & 88 & 20 & 40 & 33 \\\\\n",
       "50 & 18 & 89 & 99 & 41 \\\\\n",
       "33 & 5 & 87 & 12 & 32 \\\\\n",
       "49 & 51 & 22 & 80 & 33 \\\\\n",
       "11 & 87 & 60 & 19 & 73\n",
       "\\end{array}\\right)"
      ]
     },
     "execution_count": 105,
     "metadata": {},
     "output_type": "execute_result"
    }
   ],
   "source": [
    "latex(A1)"
   ]
  },
  {
   "cell_type": "code",
   "execution_count": 106,
   "metadata": {},
   "outputs": [
    {
     "data": {
      "text/html": [
       "<script type=\"math/tex\">\\left(\\begin{array}{rrrr} 1.10000000000000 & 3.20000000000000 & 5.00000000000000 & 7.60000000000000 \\\\ 2.20000000000000 & 4.10000000000000 & 6.50000000000000 & 8.10000000000000 \\end{array}\\right)</script>"
      ],
      "text/plain": [
       "<script type=\"math/tex\">\\left(\\begin{array}{rrrr} 1.10000000000000 & 3.20000000000000 & 5.00000000000000 & 7.60000000000000 \\\\ 2.20000000000000 & 4.10000000000000 & 6.50000000000000 & 8.10000000000000 \\end{array}\\right)</script>"
      ]
     },
     "execution_count": 106,
     "metadata": {},
     "output_type": "execute_result"
    }
   ],
   "source": [
    "html(B1)"
   ]
  },
  {
   "cell_type": "code",
   "execution_count": 107,
   "metadata": {},
   "outputs": [
    {
     "name": "stdout",
     "output_type": "stream",
     "text": [
      "<script type=\"math/tex\">\\left(\\begin{array}{rrrr} 1.10000000000000 & 3.20000000000000 & 5.00000000000000 & 7.60000000000000 \\\\ 2.20000000000000 & 4.10000000000000 & 6.50000000000000 & 8.10000000000000 \\end{array}\\right)</script>\n"
     ]
    }
   ],
   "source": [
    "print(html(B1))"
   ]
  },
  {
   "cell_type": "code",
   "execution_count": 108,
   "metadata": {},
   "outputs": [
    {
     "data": {
      "text/plain": [
       "[1 0 0]\n",
       "[0 1 0]\n",
       "[0 0 1]"
      ]
     },
     "execution_count": 108,
     "metadata": {},
     "output_type": "execute_result"
    }
   ],
   "source": [
    "E1 = matrix.identity(3)\n",
    "E1"
   ]
  },
  {
   "cell_type": "code",
   "execution_count": 132,
   "metadata": {},
   "outputs": [
    {
     "name": "stdout",
     "output_type": "stream",
     "text": [
      "[[98 73 22 72 10 94 38]\n",
      " [67 77 99 76 17 14 92]\n",
      " [ 0 19 87 70 10 37 86]\n",
      " [67 50 54  3 34 63 70]\n",
      " [42 15 25 74  8  1 54]]\n",
      "[[1 3 5 7]\n",
      " [2 4 6 8]]\n"
     ]
    }
   ],
   "source": [
    "# python numpy\n",
    "import numpy\n",
    "A2 = numpy.matrix(numpy.random.randint(0, 100, size=(5,7)))\n",
    "C2 = numpy.matrix(numpy.random.randint(-100, 0, size=(5,7)))\n",
    "B2 = numpy.matrix([[1,3,5,7],[2,4,6,8]])\n",
    "print(A2)\n",
    "print(B2)"
   ]
  },
  {
   "cell_type": "code",
   "execution_count": 119,
   "metadata": {},
   "outputs": [
    {
     "data": {
      "text/plain": [
       "(5, 7)"
      ]
     },
     "execution_count": 119,
     "metadata": {},
     "output_type": "execute_result"
    }
   ],
   "source": [
    "A2.shape"
   ]
  },
  {
   "cell_type": "code",
   "execution_count": 120,
   "metadata": {},
   "outputs": [
    {
     "data": {
      "text/plain": [
       "array([[ 1.,  0.,  0.],\n",
       "       [ 0.,  1.,  0.],\n",
       "       [ 0.,  0.,  1.]])"
      ]
     },
     "execution_count": 120,
     "metadata": {},
     "output_type": "execute_result"
    }
   ],
   "source": [
    "E2 = numpy.identity(3)\n",
    "E2"
   ]
  },
  {
   "cell_type": "code",
   "execution_count": 135,
   "metadata": {},
   "outputs": [
    {
     "name": "stdout",
     "output_type": "stream",
     "text": [
      "(Matrix([\n",
      "[-3, -3, -6, -3],\n",
      "[-4, -7,  8, -7]]), Matrix([\n",
      "[ 2, 10,  7],\n",
      "[-5, -6, -2],\n",
      "[-8,  4, -8],\n",
      "[ 7,  4, -6]]))\n"
     ]
    }
   ],
   "source": [
    "# python sympy\n",
    "import sympy\n",
    "A3 = sympy.Matrix([[-3, -3, -6,-3], [-4, -7, 8,-7]])\n",
    "B3 = sympy.Matrix([[2, 10, 7], [-5, -6, -2], [-8, 4, -8], [7, 4, -6]])\n",
    "C3 = sympy.Matrix([[-8, -4, 5, 2], [3, -5, 8, -2]])\n",
    "print(A3, B3)"
   ]
  },
  {
   "cell_type": "code",
   "execution_count": 113,
   "metadata": {},
   "outputs": [
    {
     "data": {
      "text/plain": [
       "(2, 4)"
      ]
     },
     "execution_count": 113,
     "metadata": {},
     "output_type": "execute_result"
    }
   ],
   "source": [
    "A3.shape"
   ]
  },
  {
   "cell_type": "code",
   "execution_count": 114,
   "metadata": {},
   "outputs": [
    {
     "data": {
      "text/plain": [
       "Matrix([\n",
       "[1, 0, 0],\n",
       "[0, 1, 0],\n",
       "[0, 0, 1]])"
      ]
     },
     "execution_count": 114,
     "metadata": {},
     "output_type": "execute_result"
    }
   ],
   "source": [
    "E3 = sympy.Identity(3)\n",
    "E3.as_explicit()"
   ]
  },
  {
   "cell_type": "code",
   "execution_count": 137,
   "metadata": {},
   "outputs": [
    {
     "name": "stdout",
     "output_type": "stream",
     "text": [
      "\n",
      "\n",
      "\n",
      "\n",
      "          [,1]     [,2]        [,3]      [,4]      [,5]\n",
      "[1,]  6.827380 1.648009 18.54352941  1.711424 10.932788\n",
      "[2,]  1.369670 8.644714  2.08468850  2.977455  5.019373\n",
      "[3,] 35.353589 4.849933  7.11140207 41.942887 33.492301\n",
      "[4,]  1.621079 1.214881  0.05076546  9.392346  5.746630\n",
      "[5,]  9.417921 4.125326  3.42271047  4.230890 20.103201\n",
      "     [,1] [,2] [,3] [,4]\n",
      "[1,]    1    5    2    6\n",
      "[2,]    3    7    4    8\n",
      "     [,1] [,2] [,3] [,4]\n",
      "[1,]   64   23    5   83\n",
      "[2,]   88   32   52   62\n",
      "[3,]   52   46   99   90\n"
     ]
    }
   ],
   "source": [
    "%%r\n",
    "A4 <- matrix(rexp(25, rate=0.1), nrow=5, ncol=5)\n",
    "B4 <- matrix(c(1,3,5,7,2,4,6,8), nrow=2, ncol=4)\n",
    "C4 <- matrix(rexp(25, rate=0.2), nrow=5, ncol=5)\n",
    "D4 <- matrix(sample.int(100, size=3*4, replace=T), nrow=3, ncol=4)\n",
    "A4; B4; D4"
   ]
  },
  {
   "cell_type": "code",
   "execution_count": 88,
   "metadata": {},
   "outputs": [
    {
     "name": "stdout",
     "output_type": "stream",
     "text": [
      "[1] 5 5\n"
     ]
    }
   ],
   "source": [
    "%%r\n",
    "dim(A4)"
   ]
  },
  {
   "cell_type": "code",
   "execution_count": 128,
   "metadata": {},
   "outputs": [
    {
     "name": "stdout",
     "output_type": "stream",
     "text": [
      "\n",
      "\n",
      "     [,1] [,2] [,3] [,4] [,5]\n",
      "[1,]    1    0    0    0    0\n",
      "[2,]    0    1    0    0    0\n",
      "[3,]    0    0    1    0    0\n",
      "[4,]    0    0    0    1    0\n",
      "[5,]    0    0    0    0    1\n"
     ]
    }
   ],
   "source": [
    "%%r\n",
    "E4 <- matrix(0, 5, 5)\n",
    "diag(E4) <- 1\n",
    "E4"
   ]
  },
  {
   "cell_type": "markdown",
   "metadata": {},
   "source": [
    "## 2. Операции над матрицами.\n",
    "### 2.1 Умножение на число"
   ]
  },
  {
   "cell_type": "code",
   "execution_count": 122,
   "metadata": {},
   "outputs": [
    {
     "data": {
      "text/plain": [
       "(\n",
       "[ 9 88 20 40 33]  [ 18 176  40  80  66]\n",
       "[50 18 89 99 41]  [100  36 178 198  82]\n",
       "[33  5 87 12 32]  [ 66  10 174  24  64]\n",
       "[49 51 22 80 33]  [ 98 102  44 160  66]\n",
       "[11 87 60 19 73], [ 22 174 120  38 146]\n",
       ")"
      ]
     },
     "execution_count": 122,
     "metadata": {},
     "output_type": "execute_result"
    }
   ],
   "source": [
    "A1, 2*A1"
   ]
  },
  {
   "cell_type": "code",
   "execution_count": 123,
   "metadata": {},
   "outputs": [
    {
     "data": {
      "text/plain": [
       "(matrix([[66, 15, 19, 52, 98,  0, 66],\n",
       "         [59,  0, 97, 56, 84, 20, 31],\n",
       "         [10, 94, 45, 22, 29, 25,  6],\n",
       "         [71, 95, 51, 98, 57, 39, 22],\n",
       "         [69, 91, 33, 19, 74, 14, 24]]),\n",
       " matrix([[-198,  -45,  -57, -156, -294,    0, -198],\n",
       "         [-177,    0, -291, -168, -252,  -60,  -93],\n",
       "         [ -30, -282, -135,  -66,  -87,  -75,  -18],\n",
       "         [-213, -285, -153, -294, -171, -117,  -66],\n",
       "         [-207, -273,  -99,  -57, -222,  -42,  -72]]))"
      ]
     },
     "execution_count": 123,
     "metadata": {},
     "output_type": "execute_result"
    }
   ],
   "source": [
    "A2, -3*A2"
   ]
  },
  {
   "cell_type": "code",
   "execution_count": 124,
   "metadata": {},
   "outputs": [
    {
     "data": {
      "text/plain": [
       "(Matrix([\n",
       " [-3, -3, -6, -3],\n",
       " [-4, -7,  8, -7]]), Matrix([\n",
       " [-4.5,  -4.5, -9.0,  -4.5],\n",
       " [-6.0, -10.5, 12.0, -10.5]]))"
      ]
     },
     "execution_count": 124,
     "metadata": {},
     "output_type": "execute_result"
    }
   ],
   "source": [
    "A3, 1.5*A3"
   ]
  },
  {
   "cell_type": "code",
   "execution_count": 126,
   "metadata": {},
   "outputs": [
    {
     "name": "stdout",
     "output_type": "stream",
     "text": [
      "          [,1]      [,2]      [,3]       [,4]       [,5]\n",
      "[1,]  9.733919  1.220253 18.856894  5.9963881  0.4458297\n",
      "[2,] 12.894345 17.439791  9.749427  0.1861919  0.2675028\n",
      "[3,]  4.695959 15.531201 10.316556  7.6798607  5.0276754\n",
      "[4,]  9.903369 15.528524 10.104245 10.7261280 22.1038481\n",
      "[5,] 10.642159  2.494848 16.307512  1.6457923  1.8189122\n",
      "         [,1]      [,2]     [,3]       [,4]       [,5]\n",
      "[1,] 48.66959  6.101266 94.28447 29.9819407   2.229149\n",
      "[2,] 64.47172 87.198955 48.74713  0.9309594   1.337514\n",
      "[3,] 23.47980 77.656005 51.58278 38.3993033  25.138377\n",
      "[4,] 49.51685 77.642618 50.52123 53.6306398 110.519241\n",
      "[5,] 53.21079 12.474242 81.53756  8.2289614   9.094561\n"
     ]
    }
   ],
   "source": [
    "%%r\n",
    "A4; 5*A4"
   ]
  },
  {
   "cell_type": "markdown",
   "metadata": {},
   "source": [
    "### 2.2 Сложение и вычитание матриц"
   ]
  },
  {
   "cell_type": "code",
   "execution_count": 131,
   "metadata": {},
   "outputs": [
    {
     "data": {
      "text/plain": [
       "(\n",
       "[22 15 78 52 90]  [-15 -44 -48 -32 -27]  [  7 -29  30  20  63]\n",
       "[50 22 60 16 74]  [-87 -70 -48 -36 -39]  [-37 -48  12 -20  35]\n",
       "[49  4 96 41 53]  [-99  -1 -27  -8 -29]  [-50   3  69  33  24]\n",
       "[26 24  8 71 96]  [-22 -40 -19 -34 -39]  [  4 -16 -11  37  57]\n",
       "[13 52 69 17 16], [-35 -64  -7 -28 -94], [-22 -12  62 -11 -78]\n",
       ")"
      ]
     },
     "execution_count": 131,
     "metadata": {},
     "output_type": "execute_result"
    }
   ],
   "source": [
    "A1, C1, A1 + C1"
   ]
  },
  {
   "cell_type": "code",
   "execution_count": 133,
   "metadata": {},
   "outputs": [
    {
     "data": {
      "text/plain": [
       "(matrix([[98, 73, 22, 72, 10, 94, 38],\n",
       "         [67, 77, 99, 76, 17, 14, 92],\n",
       "         [ 0, 19, 87, 70, 10, 37, 86],\n",
       "         [67, 50, 54,  3, 34, 63, 70],\n",
       "         [42, 15, 25, 74,  8,  1, 54]]),\n",
       " matrix([[-19, -14, -92, -67, -59, -67, -18],\n",
       "         [-91, -75, -89, -77, -35, -68, -40],\n",
       "         [ -1, -68, -20, -80, -79, -75, -32],\n",
       "         [-12, -71, -94, -64, -73, -76, -38],\n",
       "         [ -4, -93, -19, -75, -34, -42, -26]]),\n",
       " matrix([[117,  87, 114, 139,  69, 161,  56],\n",
       "         [158, 152, 188, 153,  52,  82, 132],\n",
       "         [  1,  87, 107, 150,  89, 112, 118],\n",
       "         [ 79, 121, 148,  67, 107, 139, 108],\n",
       "         [ 46, 108,  44, 149,  42,  43,  80]]))"
      ]
     },
     "execution_count": 133,
     "metadata": {},
     "output_type": "execute_result"
    }
   ],
   "source": [
    "A2, C2, A2 - C2"
   ]
  },
  {
   "cell_type": "code",
   "execution_count": 136,
   "metadata": {},
   "outputs": [
    {
     "data": {
      "text/plain": [
       "(Matrix([\n",
       " [-3, -3, -6, -3],\n",
       " [-4, -7,  8, -7]]), Matrix([\n",
       " [-8, -4, 5,  2],\n",
       " [ 3, -5, 8, -2]]), Matrix([\n",
       " [-11,  -7, -1, -1],\n",
       " [ -1, -12, 16, -9]]))"
      ]
     },
     "execution_count": 136,
     "metadata": {},
     "output_type": "execute_result"
    }
   ],
   "source": [
    "A3, C3, A3 + C3"
   ]
  },
  {
   "cell_type": "code",
   "execution_count": 139,
   "metadata": {},
   "outputs": [
    {
     "name": "stdout",
     "output_type": "stream",
     "text": [
      "          [,1]     [,2]        [,3]      [,4]      [,5]\n",
      "[1,]  6.827380 1.648009 18.54352941  1.711424 10.932788\n",
      "[2,]  1.369670 8.644714  2.08468850  2.977455  5.019373\n",
      "[3,] 35.353589 4.849933  7.11140207 41.942887 33.492301\n",
      "[4,]  1.621079 1.214881  0.05076546  9.392346  5.746630\n",
      "[5,]  9.417921 4.125326  3.42271047  4.230890 20.103201\n",
      "          [,1]      [,2]      [,3]      [,4]       [,5]\n",
      "[1,]  5.971833 4.5704932  2.116315 2.6474938  2.0918457\n",
      "[2,]  4.244769 3.4688824  2.578513 0.7312220  8.2971376\n",
      "[3,]  5.447669 0.3404288  4.022721 9.8283240  0.5694052\n",
      "[4,] 16.116502 6.0128435  0.405711 0.9847488 12.8393433\n",
      "[5,]  6.620679 6.1495929 10.603066 7.7490383 22.0010271\n",
      "            [,1]      [,2]       [,3]       [,4]      [,5]\n",
      "[1,]   0.8555462 -2.922484 16.4272144 -0.9360693  8.840943\n",
      "[2,]  -2.8750991  5.175831 -0.4938241  2.2462329 -3.277765\n",
      "[3,]  29.9059194  4.509505  3.0886813 32.1145632 32.922896\n",
      "[4,] -14.4954228 -4.797962 -0.3549455  8.4075973 -7.092713\n",
      "[5,]   2.7972426 -2.024267 -7.1803555 -3.5181486 -1.897826\n"
     ]
    }
   ],
   "source": [
    "%%r\n",
    "A4; C4; A4 - C4"
   ]
  },
  {
   "cell_type": "markdown",
   "metadata": {},
   "source": [
    "### 2.3 Умножение матриц"
   ]
  },
  {
   "cell_type": "code",
   "execution_count": 140,
   "metadata": {},
   "outputs": [
    {
     "data": {
      "text/plain": [
       "(\n",
       "[22 15 78 52 90]  [-15 -44 -48 -32 -27]\n",
       "[50 22 60 16 74]  [-87 -70 -48 -36 -39]\n",
       "[49  4 96 41 53]  [-99  -1 -27  -8 -29]\n",
       "[26 24  8 71 96]  [-22 -40 -19 -34 -39]\n",
       "[13 52 69 17 16], [-35 -64  -7 -28 -94],\n",
       "\n",
       "[-13651  -9936  -5500  -6156 -13929]\n",
       "[-11546  -9176  -5898  -5488 -11528]\n",
       "[-13344  -7564  -6286  -5358 -10844]\n",
       "[ -8192 -11816  -4637  -6862 -13663]\n",
       "[-12484  -5985  -5418  -3866  -6547]\n",
       ")"
      ]
     },
     "execution_count": 140,
     "metadata": {},
     "output_type": "execute_result"
    }
   ],
   "source": [
    "# sage\n",
    "A1, C1, A1 * C1"
   ]
  },
  {
   "cell_type": "code",
   "execution_count": 141,
   "metadata": {},
   "outputs": [
    {
     "data": {
      "text/plain": [
       "(\n",
       "[22 15 78 52 90]  [-15 -44 -48 -32 -27]\n",
       "[50 22 60 16 74]  [-87 -70 -48 -36 -39]\n",
       "[49  4 96 41 53]  [-99  -1 -27  -8 -29]\n",
       "[26 24  8 71 96]  [-22 -40 -19 -34 -39]\n",
       "[13 52 69 17 16], [-35 -64  -7 -28 -94],\n",
       "\n",
       "[ -6065  -3557 -10537  -6183 -10654]\n",
       "[ -9209  -5929 -18573 -10831 -19634]\n",
       "[ -4136  -3315 -12439  -7332 -11647]\n",
       "[ -4806  -4130  -8903  -5640  -9835]\n",
       "[ -6263  -7521 -13952  -6717 -12449]\n",
       ")"
      ]
     },
     "execution_count": 141,
     "metadata": {},
     "output_type": "execute_result"
    }
   ],
   "source": [
    "A1, C1, C1 * A1"
   ]
  },
  {
   "cell_type": "code",
   "execution_count": 146,
   "metadata": {},
   "outputs": [
    {
     "data": {
      "text/plain": [
       "(matrix([[98, 73, 22, 72, 10, 94, 38],\n",
       "         [67, 77, 99, 76, 17, 14, 92],\n",
       "         [ 0, 19, 87, 70, 10, 37, 86],\n",
       "         [67, 50, 54,  3, 34, 63, 70],\n",
       "         [42, 15, 25, 74,  8,  1, 54]]), matrix([[-19, -91,  -1, -12,  -4],\n",
       "         [-14, -75, -68, -71, -93],\n",
       "         [-92, -89, -20, -94, -19],\n",
       "         [-67, -77, -80, -64, -75],\n",
       "         [-59, -35, -79, -73, -34],\n",
       "         [-67, -68, -75, -76, -42],\n",
       "         [-18, -40, -32, -38, -26]]), matrix([[-17304, -30157, -20318, -22353, -18275],\n",
       "         [-20148, -31762, -18700, -26242, -18568],\n",
       "         [-17577, -20864, -14949, -20817, -12800],\n",
       "         [-14629, -23158, -14438, -19552, -11791],\n",
       "         [ -9777, -15378,  -9917, -11367,  -9306]]))"
      ]
     },
     "execution_count": 146,
     "metadata": {},
     "output_type": "execute_result"
    }
   ],
   "source": [
    "# python numpy\n",
    "A2, C2.T, A2 * C2.T"
   ]
  },
  {
   "cell_type": "code",
   "execution_count": 147,
   "metadata": {},
   "outputs": [
    {
     "data": {
      "text/plain": [
       "(matrix([[98, 73, 22, 72, 10, 94, 38],\n",
       "         [67, 77, 99, 76, 17, 14, 92],\n",
       "         [ 0, 19, 87, 70, 10, 37, 86],\n",
       "         [67, 50, 54,  3, 34, 63, 70],\n",
       "         [42, 15, 25, 74,  8,  1, 54]]), matrix([[-19, -91,  -1, -12,  -4],\n",
       "         [-14, -75, -68, -71, -93],\n",
       "         [-92, -89, -20, -94, -19],\n",
       "         [-67, -77, -80, -64, -75],\n",
       "         [-59, -35, -79, -73, -34],\n",
       "         [-67, -68, -75, -76, -42],\n",
       "         [-18, -40, -32, -38, -26]]), matrix([[ -8931,  -9073, -10262,  -8686,  -2187,  -3857, -10236],\n",
       "         [-15060, -13034, -19808, -18563,  -5253,  -9448, -23272],\n",
       "         [-22075, -18934, -18126, -16476,  -5981, -16575, -21010],\n",
       "         [-19163, -16665, -21388, -22018,  -5555, -14443, -25040],\n",
       "         [-14446, -12663, -16428, -15173,  -4729, -13592, -19202],\n",
       "         [-17978, -15982, -19885, -18578,  -5496, -14855, -22840],\n",
       "         [ -8082,  -7292,  -9842,  -8614,  -2680,  -5856, -11180]]))"
      ]
     },
     "execution_count": 147,
     "metadata": {},
     "output_type": "execute_result"
    }
   ],
   "source": [
    "A2, C2.T, C2.T * A2"
   ]
  },
  {
   "cell_type": "code",
   "execution_count": 159,
   "metadata": {},
   "outputs": [
    {
     "data": {
      "text/plain": [
       "matrix([[ True,  True,  True,  True,  True],\n",
       "        [ True,  True,  True,  True,  True],\n",
       "        [ True,  True,  True,  True,  True],\n",
       "        [ True,  True,  True,  True,  True],\n",
       "        [ True,  True,  True,  True,  True]], dtype=bool)"
      ]
     },
     "execution_count": 159,
     "metadata": {},
     "output_type": "execute_result"
    }
   ],
   "source": [
    "numpy.dot(A2, C2.T) == A2 * C2.T"
   ]
  },
  {
   "cell_type": "code",
   "execution_count": 161,
   "metadata": {},
   "outputs": [
    {
     "data": {
      "text/plain": [
       "(matrix([[-17304, -30157, -20318, -22353, -18275],\n",
       "         [-20148, -31762, -18700, -26242, -18568],\n",
       "         [-17577, -20864, -14949, -20817, -12800],\n",
       "         [-14629, -23158, -14438, -19552, -11791],\n",
       "         [ -9777, -15378,  -9917, -11367,  -9306]]),\n",
       " matrix([[ -8931,  -9073, -10262,  -8686,  -2187,  -3857, -10236],\n",
       "         [-15060, -13034, -19808, -18563,  -5253,  -9448, -23272],\n",
       "         [-22075, -18934, -18126, -16476,  -5981, -16575, -21010],\n",
       "         [-19163, -16665, -21388, -22018,  -5555, -14443, -25040],\n",
       "         [-14446, -12663, -16428, -15173,  -4729, -13592, -19202],\n",
       "         [-17978, -15982, -19885, -18578,  -5496, -14855, -22840],\n",
       "         [ -8082,  -7292,  -9842,  -8614,  -2680,  -5856, -11180]]))"
      ]
     },
     "execution_count": 161,
     "metadata": {},
     "output_type": "execute_result"
    }
   ],
   "source": [
    "numpy.dot(A2, C2.T), C2.T * A2"
   ]
  },
  {
   "cell_type": "code",
   "execution_count": 6,
   "metadata": {},
   "outputs": [
    {
     "data": {
      "text/plain": [
       "array([[ 0.18001901,  0.00992128,  0.00199871],\n",
       "       [ 0.33168696,  0.1134861 ,  0.39432957],\n",
       "       [ 0.41010049,  0.00384317,  0.03939812]])"
      ]
     },
     "execution_count": 6,
     "metadata": {},
     "output_type": "execute_result"
    }
   ],
   "source": [
    "# python numpy \n",
    "# !!! умножение матриц отличается от умножения массивов !!!\n",
    "a = numpy.random.random((3,3))\n",
    "b = numpy.random.random((3,3))\n",
    "a * b # elementwise product"
   ]
  },
  {
   "cell_type": "code",
   "execution_count": 7,
   "metadata": {},
   "outputs": [
    {
     "data": {
      "text/plain": [
       "array([[ 0.33140171,  0.11166035,  0.02537534],\n",
       "       [ 1.19231095,  0.41621232,  0.28124379],\n",
       "       [ 1.39924161,  0.52571291,  0.41865095]])"
      ]
     },
     "execution_count": 7,
     "metadata": {},
     "output_type": "execute_result"
    }
   ],
   "source": [
    "a.dot(b) # matrix product"
   ]
  },
  {
   "cell_type": "code",
   "execution_count": 148,
   "metadata": {},
   "outputs": [
    {
     "data": {
      "text/plain": [
       "(Matrix([\n",
       " [-3, -3, -6, -3],\n",
       " [-4, -7,  8, -7]]), Matrix([\n",
       " [-8,  3],\n",
       " [-4, -5],\n",
       " [ 5,  8],\n",
       " [ 2, -2]]), Matrix([\n",
       " [ 0, -36],\n",
       " [86, 101]]))"
      ]
     },
     "execution_count": 148,
     "metadata": {},
     "output_type": "execute_result"
    }
   ],
   "source": [
    "A3, C3.T, A3 * C3.T"
   ]
  },
  {
   "cell_type": "code",
   "execution_count": 149,
   "metadata": {},
   "outputs": [
    {
     "data": {
      "text/plain": [
       "(Matrix([\n",
       " [-3, -3, -6, -3],\n",
       " [-4, -7,  8, -7]]), Matrix([\n",
       " [-8,  3],\n",
       " [-4, -5],\n",
       " [ 5,  8],\n",
       " [ 2, -2]]), Matrix([\n",
       " [ 12,   3,  72,   3],\n",
       " [ 32,  47, -16,  47],\n",
       " [-47, -71,  34, -71],\n",
       " [  2,   8, -28,   8]]))"
      ]
     },
     "execution_count": 149,
     "metadata": {},
     "output_type": "execute_result"
    }
   ],
   "source": [
    "A3, C3.T, C3.T * A3"
   ]
  },
  {
   "cell_type": "markdown",
   "metadata": {},
   "source": [
    "#### in R\n",
    "- $A * B$ - element-wise multiplication\n",
    "\n",
    "- $A \\%*\\% B$\t- matrix multiplication\n",
    "\n",
    "- $A \\% o \\% B$\t- outer product AB'"
   ]
  },
  {
   "cell_type": "code",
   "execution_count": 155,
   "metadata": {},
   "outputs": [
    {
     "name": "stdout",
     "output_type": "stream",
     "text": [
      "          [,1]     [,2]        [,3]      [,4]      [,5]\n",
      "[1,]  6.827380 1.648009 18.54352941  1.711424 10.932788\n",
      "[2,]  1.369670 8.644714  2.08468850  2.977455  5.019373\n",
      "[3,] 35.353589 4.849933  7.11140207 41.942887 33.492301\n",
      "[4,]  1.621079 1.214881  0.05076546  9.392346  5.746630\n",
      "[5,]  9.417921 4.125326  3.42271047  4.230890 20.103201\n",
      "          [,1]      [,2]      [,3]      [,4]       [,5]\n",
      "[1,]  5.971833 4.5704932  2.116315 2.6474938  2.0918457\n",
      "[2,]  4.244769 3.4688824  2.578513 0.7312220  8.2971376\n",
      "[3,]  5.447669 0.3404288  4.022721 9.8283240  0.5694052\n",
      "[4,] 16.116502 6.0128435  0.405711 0.9847488 12.8393433\n",
      "[5,]  6.620679 6.1495929 10.603066 7.7490383 22.0010271\n",
      "          [,1]      [,2]      [,3]      [,4]      [,5]\n",
      "[1,]  248.7511 120.75672 209.90916 287.93624  301.0205\n",
      "[2,]  137.4488  85.72732  88.00400  72.26375  224.4385\n",
      "[3,] 1168.1675 638.98814 488.06990 467.87428 1393.6282\n",
      "[4,]  204.5326 103.45484  71.50999  59.45904  260.5233\n",
      "[5,]  293.6831 207.58618 259.20918 221.53676  552.4911\n"
     ]
    }
   ],
   "source": [
    "%%r\n",
    "A4; C4; A4 %*% C4"
   ]
  },
  {
   "cell_type": "code",
   "execution_count": 156,
   "metadata": {},
   "outputs": [
    {
     "name": "stdout",
     "output_type": "stream",
     "text": [
      "          [,1]     [,2]        [,3]      [,4]      [,5]\n",
      "[1,]  6.827380 1.648009 18.54352941  1.711424 10.932788\n",
      "[2,]  1.369670 8.644714  2.08468850  2.977455  5.019373\n",
      "[3,] 35.353589 4.849933  7.11140207 41.942887 33.492301\n",
      "[4,]  1.621079 1.214881  0.05076546  9.392346  5.746630\n",
      "[5,]  9.417921 4.125326  3.42271047  4.230890 20.103201\n",
      "          [,1]      [,2]      [,3]      [,4]       [,5]\n",
      "[1,]  5.971833 4.5704932  2.116315 2.6474938  2.0918457\n",
      "[2,]  4.244769 3.4688824  2.578513 0.7312220  8.2971376\n",
      "[3,]  5.447669 0.3404288  4.022721 9.8283240  0.5694052\n",
      "[4,] 16.116502 6.0128435  0.405711 0.9847488 12.8393433\n",
      "[5,]  6.620679 6.1495929 10.603066 7.7490383 22.0010271\n",
      "         [,1]      [,2]     [,3]     [,4]     [,5]\n",
      "[1,] 145.8440  71.46216 142.6111 146.3097 216.3770\n",
      "[2,] 204.2187  84.60527 132.7172 167.7155 321.1802\n",
      "[3,] 201.1723  45.71987 132.7837 273.7815 263.9237\n",
      "[4,] 255.1287 134.66995 358.2722 126.0728 483.7381\n",
      "[5,] 648.2470 215.67214 286.6899 640.2297 945.1926\n"
     ]
    }
   ],
   "source": [
    "%%r\n",
    "A4; C4; C4 %*% A4"
   ]
  },
  {
   "cell_type": "code",
   "execution_count": 157,
   "metadata": {},
   "outputs": [
    {
     "name": "stdout",
     "output_type": "stream",
     "text": [
      "      [,1]  [,2]  [,3]  [,4]  [,5]\n",
      "[1,] FALSE FALSE FALSE FALSE FALSE\n",
      "[2,] FALSE FALSE FALSE FALSE FALSE\n",
      "[3,] FALSE FALSE FALSE FALSE FALSE\n",
      "[4,] FALSE FALSE FALSE FALSE FALSE\n",
      "[5,] FALSE FALSE FALSE FALSE FALSE\n"
     ]
    }
   ],
   "source": [
    "%%r\n",
    "A4 %*% C4 == C4 %*% A4"
   ]
  },
  {
   "cell_type": "markdown",
   "metadata": {},
   "source": [
    "## 3. Задание.\n",
    "\n",
    "Инициировать матрицы $A(2x4)$ и $B(4x2)$ и рассчитать их сумму ($A+B$) и произведения ($A*B, \\ B*A$)\n",
    "\n",
    "с использованием SageMath, Numpy, SymPy, R."
   ]
  }
 ],
 "metadata": {
  "kernelspec": {
   "display_name": "SageMath 8.4",
   "language": "",
   "name": "sagemath"
  },
  "language_info": {
   "codemirror_mode": {
    "name": "ipython",
    "version": 2
   },
   "file_extension": ".py",
   "mimetype": "text/x-python",
   "name": "python",
   "nbconvert_exporter": "python",
   "pygments_lexer": "ipython2",
   "version": "2.7.15"
  }
 },
 "nbformat": 4,
 "nbformat_minor": 2
}

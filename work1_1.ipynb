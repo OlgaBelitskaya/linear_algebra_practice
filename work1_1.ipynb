{
 "cells": [
  {
   "cell_type": "markdown",
   "metadata": {},
   "source": [
    "<h1 style=\"color: #3636ff;\">Линейная алгебра. Практическая работа №1</h1>\n",
    "\n",
    "### Программные средства\n",
    "\n",
    "[LaTeX. Mathematics. Matrices & Arrays](https://en.wikibooks.org/wiki/LaTeX/Mathematics#Matrices_and_arrays)\n",
    "\n",
    "[Sage. Matrices & Spaces of Matrices](https://doc.sagemath.org/html/en/reference/matrices/index.html)\n",
    "\n",
    "[Numpy. Quickstart tutorial](https://docs.scipy.org/doc/numpy/user/quickstart.html#linear-algebra)\n",
    "\n",
    "[SymPy. Matrices (linear algebra)](https://docs.sympy.org/latest/modules/matrices/matrices.html)\n",
    "\n",
    "[Quick-R. Matrix Algebra](https://www.statmethods.net/advstats/matrix.html)"
   ]
  },
  {
   "cell_type": "markdown",
   "metadata": {},
   "source": [
    "### Конспекты лекций\n",
    "\n",
    "[Матрицы. Системы линейных уравнений. Алгоритм Гаусса](http://matematika.phys.msu.ru/files/a_stud_gen/246/AG-08_2009-2010.pdf)\n",
    "\n",
    "[АЛГЕБРА И ГЕОМЕТРИЯ ДЛЯ СТУДЕНТОВ-ФИЗИКОВ](http://math.phys.msu.ru/data/24/Algebra_and_geometry.pdf)"
   ]
  },
  {
   "cell_type": "markdown",
   "metadata": {},
   "source": [
    "# Матрицы. \n",
    "\n",
    "## 1. Способы инициализации."
   ]
  },
  {
   "cell_type": "code",
   "execution_count": 22,
   "metadata": {},
   "outputs": [
    {
     "data": {
      "text/latex": [
       "$A = \\begin{bmatrix}\n",
       "1 & 2 & 3\\\\\n",
       "4 & 5 & 6\n",
       "\\end{bmatrix}$"
      ],
      "text/plain": [
       "<IPython.core.display.Latex object>"
      ]
     },
     "metadata": {},
     "output_type": "display_data"
    }
   ],
   "source": [
    "%%latex\n",
    "$A = \\begin{bmatrix}\n",
    "1 & 2 & 3\\\\\n",
    "4 & 5 & 6\n",
    "\\end{bmatrix}$"
   ]
  },
  {
   "cell_type": "code",
   "execution_count": 23,
   "metadata": {},
   "outputs": [
    {
     "data": {
      "text/plain": [
       "(\n",
       "[69 10 12 34 90]\n",
       "[86 19 30 51 93]\n",
       "[ 9 85 37 44 77]\n",
       "[91  2 72 48 54]\n",
       "[86 35 30 99 39],\n",
       "\n",
       "[1.10000000000000 3.20000000000000 5.00000000000000 7.60000000000000]\n",
       "[2.20000000000000 4.10000000000000 6.50000000000000 8.10000000000000]\n",
       ")"
      ]
     },
     "execution_count": 23,
     "metadata": {},
     "output_type": "execute_result"
    }
   ],
   "source": [
    "# sage\n",
    "A1 = random_matrix(ZZ,5,x=0,y=100)\n",
    "C1 = random_matrix(ZZ,5,x=-100,y=0)\n",
    "B1 = matrix([[1.1,3.2,5.0,7.6],[2.2,4.1,6.5,8.1]])\n",
    "A1, B1"
   ]
  },
  {
   "cell_type": "code",
   "execution_count": 24,
   "metadata": {},
   "outputs": [
    {
     "data": {
      "text/plain": [
       "(Integer Ring, Real Field with 53 bits of precision)"
      ]
     },
     "execution_count": 24,
     "metadata": {},
     "output_type": "execute_result"
    }
   ],
   "source": [
    "A1.base_ring(), B1.base_ring()"
   ]
  },
  {
   "cell_type": "code",
   "execution_count": 25,
   "metadata": {},
   "outputs": [
    {
     "data": {
      "text/plain": [
       "(5, 5, (5, 5))"
      ]
     },
     "execution_count": 25,
     "metadata": {},
     "output_type": "execute_result"
    }
   ],
   "source": [
    "A1.ncols(), A1.nrows(), A1.dimensions()"
   ]
  },
  {
   "cell_type": "code",
   "execution_count": 26,
   "metadata": {},
   "outputs": [
    {
     "data": {
      "text/plain": [
       "\\left(\\begin{array}{rrrrr}\n",
       "69 & 10 & 12 & 34 & 90 \\\\\n",
       "86 & 19 & 30 & 51 & 93 \\\\\n",
       "9 & 85 & 37 & 44 & 77 \\\\\n",
       "91 & 2 & 72 & 48 & 54 \\\\\n",
       "86 & 35 & 30 & 99 & 39\n",
       "\\end{array}\\right)"
      ]
     },
     "execution_count": 26,
     "metadata": {},
     "output_type": "execute_result"
    }
   ],
   "source": [
    "latex(A1)"
   ]
  },
  {
   "cell_type": "code",
   "execution_count": 27,
   "metadata": {},
   "outputs": [
    {
     "data": {
      "text/html": [
       "<script type=\"math/tex\">\\left(\\begin{array}{rrrr} 1.10000000000000 & 3.20000000000000 & 5.00000000000000 & 7.60000000000000 \\\\ 2.20000000000000 & 4.10000000000000 & 6.50000000000000 & 8.10000000000000 \\end{array}\\right)</script>"
      ],
      "text/plain": [
       "<script type=\"math/tex\">\\left(\\begin{array}{rrrr} 1.10000000000000 & 3.20000000000000 & 5.00000000000000 & 7.60000000000000 \\\\ 2.20000000000000 & 4.10000000000000 & 6.50000000000000 & 8.10000000000000 \\end{array}\\right)</script>"
      ]
     },
     "execution_count": 27,
     "metadata": {},
     "output_type": "execute_result"
    }
   ],
   "source": [
    "html(B1)"
   ]
  },
  {
   "cell_type": "code",
   "execution_count": 28,
   "metadata": {},
   "outputs": [
    {
     "name": "stdout",
     "output_type": "stream",
     "text": [
      "<script type=\"math/tex\">\\left(\\begin{array}{rrrr} 1.10000000000000 & 3.20000000000000 & 5.00000000000000 & 7.60000000000000 \\\\ 2.20000000000000 & 4.10000000000000 & 6.50000000000000 & 8.10000000000000 \\end{array}\\right)</script>\n"
     ]
    }
   ],
   "source": [
    "print(html(B1))"
   ]
  },
  {
   "cell_type": "code",
   "execution_count": 29,
   "metadata": {},
   "outputs": [
    {
     "data": {
      "text/plain": [
       "[1 0 0]\n",
       "[0 1 0]\n",
       "[0 0 1]"
      ]
     },
     "execution_count": 29,
     "metadata": {},
     "output_type": "execute_result"
    }
   ],
   "source": [
    "E1 = matrix.identity(3)\n",
    "E1"
   ]
  },
  {
   "cell_type": "code",
   "execution_count": 36,
   "metadata": {},
   "outputs": [
    {
     "name": "stdout",
     "output_type": "stream",
     "text": [
      "[[61 49 90 76 81  5 67]\n",
      " [ 2 44 24 78 58 16 23]\n",
      " [13 31  5  5 61 97  0]\n",
      " [88 34 79 12 86 45 19]\n",
      " [83 44 86 17 83 20 28]]\n",
      "[[1 3 5 7]\n",
      " [2 4 6 8]]\n"
     ]
    }
   ],
   "source": [
    "# python numpy\n",
    "import numpy\n",
    "A2 = numpy.matrix(numpy.random.randint(0, 100, size=(5,7)))\n",
    "C2 = numpy.matrix(numpy.random.randint(-100, 0, size=(5,7)))\n",
    "B2 = numpy.matrix([[1,3,5,7],[2,4,6,8]])\n",
    "print(A2) \n",
    "print(B2)"
   ]
  },
  {
   "cell_type": "code",
   "execution_count": 119,
   "metadata": {},
   "outputs": [
    {
     "data": {
      "text/plain": [
       "(5, 7)"
      ]
     },
     "execution_count": 119,
     "metadata": {},
     "output_type": "execute_result"
    }
   ],
   "source": [
    "A2.shape"
   ]
  },
  {
   "cell_type": "code",
   "execution_count": 41,
   "metadata": {},
   "outputs": [
    {
     "name": "stdout",
     "output_type": "stream",
     "text": [
      "[[ 1.  0.  0.]\n",
      " [ 0.  1.  0.]\n",
      " [ 0.  0.  1.]]\n"
     ]
    }
   ],
   "source": [
    "E2 = numpy.matrix(numpy.eye(3))\n",
    "print(E2)"
   ]
  },
  {
   "cell_type": "code",
   "execution_count": 42,
   "metadata": {},
   "outputs": [
    {
     "name": "stdout",
     "output_type": "stream",
     "text": [
      "⎡-3  -3  -6  -3⎤\n",
      "⎢              ⎥\n",
      "⎣-4  -7  8   -7⎦\n"
     ]
    }
   ],
   "source": [
    "# python sympy\n",
    "import sympy\n",
    "A3 = sympy.Matrix([[-3, -3, -6,-3], [-4, -7, 8,-7]])\n",
    "B3 = sympy.Matrix([[2, 10, 7], [-5, -6, -2], [-8, 4, -8], [7, 4, -6]])\n",
    "C3 = sympy.Matrix([[-8, -4, 5, 2], [3, -5, 8, -2]])\n",
    "sympy.pprint(A3)"
   ]
  },
  {
   "cell_type": "code",
   "execution_count": 43,
   "metadata": {},
   "outputs": [
    {
     "data": {
      "text/plain": [
       "(2, 4)"
      ]
     },
     "execution_count": 43,
     "metadata": {},
     "output_type": "execute_result"
    }
   ],
   "source": [
    "A3.shape"
   ]
  },
  {
   "cell_type": "code",
   "execution_count": 44,
   "metadata": {},
   "outputs": [
    {
     "name": "stdout",
     "output_type": "stream",
     "text": [
      "⎡1  0  0⎤\n",
      "⎢       ⎥\n",
      "⎢0  1  0⎥\n",
      "⎢       ⎥\n",
      "⎣0  0  1⎦\n"
     ]
    }
   ],
   "source": [
    "E3 = sympy.Identity(3)\n",
    "sympy.pprint(E3.as_explicit())"
   ]
  },
  {
   "cell_type": "code",
   "execution_count": 137,
   "metadata": {},
   "outputs": [
    {
     "name": "stdout",
     "output_type": "stream",
     "text": [
      "\n",
      "\n",
      "\n",
      "\n",
      "          [,1]     [,2]        [,3]      [,4]      [,5]\n",
      "[1,]  6.827380 1.648009 18.54352941  1.711424 10.932788\n",
      "[2,]  1.369670 8.644714  2.08468850  2.977455  5.019373\n",
      "[3,] 35.353589 4.849933  7.11140207 41.942887 33.492301\n",
      "[4,]  1.621079 1.214881  0.05076546  9.392346  5.746630\n",
      "[5,]  9.417921 4.125326  3.42271047  4.230890 20.103201\n",
      "     [,1] [,2] [,3] [,4]\n",
      "[1,]    1    5    2    6\n",
      "[2,]    3    7    4    8\n",
      "     [,1] [,2] [,3] [,4]\n",
      "[1,]   64   23    5   83\n",
      "[2,]   88   32   52   62\n",
      "[3,]   52   46   99   90\n"
     ]
    }
   ],
   "source": [
    "%%r\n",
    "A4 <- matrix(rexp(25, rate=0.1), nrow=5, ncol=5)\n",
    "B4 <- matrix(c(1,3,5,7,2,4,6,8), nrow=2, ncol=4)\n",
    "C4 <- matrix(rexp(25, rate=0.2), nrow=5, ncol=5)\n",
    "D4 <- matrix(sample.int(100, size=3*4, replace=T), nrow=3, ncol=4)\n",
    "A4; B4; D4"
   ]
  },
  {
   "cell_type": "code",
   "execution_count": null,
   "metadata": {},
   "outputs": [],
   "source": [
    "%%r\n",
    "require(DT)\n",
    "datatable(A4)"
   ]
  },
  {
   "cell_type": "code",
   "execution_count": 88,
   "metadata": {},
   "outputs": [
    {
     "name": "stdout",
     "output_type": "stream",
     "text": [
      "[1] 5 5\n"
     ]
    }
   ],
   "source": [
    "%%r\n",
    "dim(A4)"
   ]
  },
  {
   "cell_type": "code",
   "execution_count": 128,
   "metadata": {},
   "outputs": [
    {
     "name": "stdout",
     "output_type": "stream",
     "text": [
      "\n",
      "\n",
      "     [,1] [,2] [,3] [,4] [,5]\n",
      "[1,]    1    0    0    0    0\n",
      "[2,]    0    1    0    0    0\n",
      "[3,]    0    0    1    0    0\n",
      "[4,]    0    0    0    1    0\n",
      "[5,]    0    0    0    0    1\n"
     ]
    }
   ],
   "source": [
    "%%r\n",
    "E4 <- matrix(0, 5, 5)\n",
    "diag(E4) <- 1\n",
    "E4"
   ]
  },
  {
   "cell_type": "markdown",
   "metadata": {},
   "source": [
    "## 2. Операции над матрицами.\n",
    "### 2.1 Умножение на число"
   ]
  },
  {
   "cell_type": "code",
   "execution_count": 50,
   "metadata": {},
   "outputs": [
    {
     "data": {
      "text/html": [
       "<script type=\"math/tex\">\\left(\\begin{array}{rrr} a k & b k & c k \\\\ d k & e k & f k \\\\ g k & h k & i k \\end{array}\\right)</script>"
      ],
      "text/plain": [
       "<script type=\"math/tex\">\\left(\\begin{array}{rrr} a k & b k & c k \\\\ d k & e k & f k \\\\ g k & h k & i k \\end{array}\\right)</script>"
      ]
     },
     "execution_count": 50,
     "metadata": {},
     "output_type": "execute_result"
    }
   ],
   "source": [
    "M = matrix(SR, 3, var('a,b,c,d,e,f,g,h,i')) \n",
    "html(var('k') * M)"
   ]
  },
  {
   "cell_type": "code",
   "execution_count": 122,
   "metadata": {},
   "outputs": [
    {
     "data": {
      "text/plain": [
       "(\n",
       "[ 9 88 20 40 33]  [ 18 176  40  80  66]\n",
       "[50 18 89 99 41]  [100  36 178 198  82]\n",
       "[33  5 87 12 32]  [ 66  10 174  24  64]\n",
       "[49 51 22 80 33]  [ 98 102  44 160  66]\n",
       "[11 87 60 19 73], [ 22 174 120  38 146]\n",
       ")"
      ]
     },
     "execution_count": 122,
     "metadata": {},
     "output_type": "execute_result"
    }
   ],
   "source": [
    "A1, 2*A1"
   ]
  },
  {
   "cell_type": "code",
   "execution_count": 45,
   "metadata": {},
   "outputs": [
    {
     "name": "stdout",
     "output_type": "stream",
     "text": [
      "[[61 49 90 76 81  5 67]\n",
      " [ 2 44 24 78 58 16 23]\n",
      " [13 31  5  5 61 97  0]\n",
      " [88 34 79 12 86 45 19]\n",
      " [83 44 86 17 83 20 28]]\n",
      "[[-183 -147 -270 -228 -243  -15 -201]\n",
      " [  -6 -132  -72 -234 -174  -48  -69]\n",
      " [ -39  -93  -15  -15 -183 -291    0]\n",
      " [-264 -102 -237  -36 -258 -135  -57]\n",
      " [-249 -132 -258  -51 -249  -60  -84]]\n"
     ]
    }
   ],
   "source": [
    "print(A2)\n",
    "print(-3*A2)"
   ]
  },
  {
   "cell_type": "code",
   "execution_count": 47,
   "metadata": {},
   "outputs": [
    {
     "name": "stdout",
     "output_type": "stream",
     "text": [
      "⎡-3  -3  -6  -3⎤\n",
      "⎢              ⎥\n",
      "⎣-4  -7  8   -7⎦\n"
     ]
    }
   ],
   "source": [
    "sympy.pprint(A3)"
   ]
  },
  {
   "cell_type": "code",
   "execution_count": 48,
   "metadata": {},
   "outputs": [
    {
     "name": "stdout",
     "output_type": "stream",
     "text": [
      "⎡-4.5  -4.5   -9.0  -4.5 ⎤\n",
      "⎢                        ⎥\n",
      "⎣-6.0  -10.5  12.0  -10.5⎦\n"
     ]
    }
   ],
   "source": [
    "sympy.pprint(1.5*A3)"
   ]
  },
  {
   "cell_type": "code",
   "execution_count": 126,
   "metadata": {},
   "outputs": [
    {
     "name": "stdout",
     "output_type": "stream",
     "text": [
      "          [,1]      [,2]      [,3]       [,4]       [,5]\n",
      "[1,]  9.733919  1.220253 18.856894  5.9963881  0.4458297\n",
      "[2,] 12.894345 17.439791  9.749427  0.1861919  0.2675028\n",
      "[3,]  4.695959 15.531201 10.316556  7.6798607  5.0276754\n",
      "[4,]  9.903369 15.528524 10.104245 10.7261280 22.1038481\n",
      "[5,] 10.642159  2.494848 16.307512  1.6457923  1.8189122\n",
      "         [,1]      [,2]     [,3]       [,4]       [,5]\n",
      "[1,] 48.66959  6.101266 94.28447 29.9819407   2.229149\n",
      "[2,] 64.47172 87.198955 48.74713  0.9309594   1.337514\n",
      "[3,] 23.47980 77.656005 51.58278 38.3993033  25.138377\n",
      "[4,] 49.51685 77.642618 50.52123 53.6306398 110.519241\n",
      "[5,] 53.21079 12.474242 81.53756  8.2289614   9.094561\n"
     ]
    }
   ],
   "source": [
    "%%r\n",
    "A4; 5*A4"
   ]
  },
  {
   "cell_type": "markdown",
   "metadata": {},
   "source": [
    "### 2.2 Сложение и вычитание матриц"
   ]
  },
  {
   "cell_type": "code",
   "execution_count": 51,
   "metadata": {},
   "outputs": [
    {
     "data": {
      "text/html": [
       "<script type=\"math/tex\">\\left(\\begin{array}{rrr} a_{1} + a_{2} & b_{1} + b_{2} & c_{1} + c_{2} \\\\ d_{1} + d_{2} & e_{1} + e_{2} & f_{1} + f_{2} \\\\ g_{1} + g_{2} & h_{1} + h_{2} & i_{1} + i_{2} \\end{array}\\right)</script>"
      ],
      "text/plain": [
       "<script type=\"math/tex\">\\left(\\begin{array}{rrr} a_{1} + a_{2} & b_{1} + b_{2} & c_{1} + c_{2} \\\\ d_{1} + d_{2} & e_{1} + e_{2} & f_{1} + f_{2} \\\\ g_{1} + g_{2} & h_{1} + h_{2} & i_{1} + i_{2} \\end{array}\\right)</script>"
      ]
     },
     "execution_count": 51,
     "metadata": {},
     "output_type": "execute_result"
    }
   ],
   "source": [
    "M1 = matrix(SR, 3, var('a1,b1,c1,d1,e1,f1,g1,h1,i1')) \n",
    "M2 = matrix(SR, 3, var('a2,b2,c2,d2,e2,f2,g2,h2,i2'))\n",
    "html(M1 + M2)"
   ]
  },
  {
   "cell_type": "code",
   "execution_count": 64,
   "metadata": {},
   "outputs": [
    {
     "data": {
      "text/plain": [
       "True"
      ]
     },
     "execution_count": 64,
     "metadata": {},
     "output_type": "execute_result"
    }
   ],
   "source": [
    "M1 + M2 == M2 + M1"
   ]
  },
  {
   "cell_type": "code",
   "execution_count": 131,
   "metadata": {},
   "outputs": [
    {
     "data": {
      "text/plain": [
       "(\n",
       "[22 15 78 52 90]  [-15 -44 -48 -32 -27]  [  7 -29  30  20  63]\n",
       "[50 22 60 16 74]  [-87 -70 -48 -36 -39]  [-37 -48  12 -20  35]\n",
       "[49  4 96 41 53]  [-99  -1 -27  -8 -29]  [-50   3  69  33  24]\n",
       "[26 24  8 71 96]  [-22 -40 -19 -34 -39]  [  4 -16 -11  37  57]\n",
       "[13 52 69 17 16], [-35 -64  -7 -28 -94], [-22 -12  62 -11 -78]\n",
       ")"
      ]
     },
     "execution_count": 131,
     "metadata": {},
     "output_type": "execute_result"
    }
   ],
   "source": [
    "A1, C1, A1 + C1"
   ]
  },
  {
   "cell_type": "code",
   "execution_count": 62,
   "metadata": {},
   "outputs": [
    {
     "name": "stdout",
     "output_type": "stream",
     "text": [
      "[[61 49 90 76 81  5 67]\n",
      " [ 2 44 24 78 58 16 23]\n",
      " [13 31  5  5 61 97  0]\n",
      " [88 34 79 12 86 45 19]\n",
      " [83 44 86 17 83 20 28]]\n",
      "[[ -75  -95  -31  -83  -80  -83  -25]\n",
      " [ -72  -44  -43  -27   -3  -32  -42]\n",
      " [ -22  -91  -51  -18  -78  -31  -56]\n",
      " [  -9  -93  -53  -92  -45  -97  -26]\n",
      " [  -5  -68  -57   -5  -36 -100  -86]]\n",
      "[[136 144 121 159 161  88  92]\n",
      " [ 74  88  67 105  61  48  65]\n",
      " [ 35 122  56  23 139 128  56]\n",
      " [ 97 127 132 104 131 142  45]\n",
      " [ 88 112 143  22 119 120 114]]\n"
     ]
    }
   ],
   "source": [
    "print(A2)\n",
    "print(C2)\n",
    "print(A2 - C2)"
   ]
  },
  {
   "cell_type": "code",
   "execution_count": 63,
   "metadata": {},
   "outputs": [
    {
     "name": "stdout",
     "output_type": "stream",
     "text": [
      "⎡-3  -3  -6  -3⎤\n",
      "⎢              ⎥\n",
      "⎣-4  -7  8   -7⎦\n",
      "⎡-8  -4  5  2 ⎤\n",
      "⎢             ⎥\n",
      "⎣3   -5  8  -2⎦\n",
      "⎡-11  -7   -1  -1⎤\n",
      "⎢                ⎥\n",
      "⎣-1   -12  16  -9⎦\n"
     ]
    },
    {
     "data": {
      "text/plain": [
       "(None, None, None)"
      ]
     },
     "execution_count": 63,
     "metadata": {},
     "output_type": "execute_result"
    }
   ],
   "source": [
    "sympy.pprint(A3), sympy.pprint(C3), sympy.pprint(A3 + C3)"
   ]
  },
  {
   "cell_type": "code",
   "execution_count": 139,
   "metadata": {},
   "outputs": [
    {
     "name": "stdout",
     "output_type": "stream",
     "text": [
      "          [,1]     [,2]        [,3]      [,4]      [,5]\n",
      "[1,]  6.827380 1.648009 18.54352941  1.711424 10.932788\n",
      "[2,]  1.369670 8.644714  2.08468850  2.977455  5.019373\n",
      "[3,] 35.353589 4.849933  7.11140207 41.942887 33.492301\n",
      "[4,]  1.621079 1.214881  0.05076546  9.392346  5.746630\n",
      "[5,]  9.417921 4.125326  3.42271047  4.230890 20.103201\n",
      "          [,1]      [,2]      [,3]      [,4]       [,5]\n",
      "[1,]  5.971833 4.5704932  2.116315 2.6474938  2.0918457\n",
      "[2,]  4.244769 3.4688824  2.578513 0.7312220  8.2971376\n",
      "[3,]  5.447669 0.3404288  4.022721 9.8283240  0.5694052\n",
      "[4,] 16.116502 6.0128435  0.405711 0.9847488 12.8393433\n",
      "[5,]  6.620679 6.1495929 10.603066 7.7490383 22.0010271\n",
      "            [,1]      [,2]       [,3]       [,4]      [,5]\n",
      "[1,]   0.8555462 -2.922484 16.4272144 -0.9360693  8.840943\n",
      "[2,]  -2.8750991  5.175831 -0.4938241  2.2462329 -3.277765\n",
      "[3,]  29.9059194  4.509505  3.0886813 32.1145632 32.922896\n",
      "[4,] -14.4954228 -4.797962 -0.3549455  8.4075973 -7.092713\n",
      "[5,]   2.7972426 -2.024267 -7.1803555 -3.5181486 -1.897826\n"
     ]
    }
   ],
   "source": [
    "%%r\n",
    "A4; C4; A4 - C4"
   ]
  },
  {
   "cell_type": "markdown",
   "metadata": {},
   "source": [
    "### 2.3 Умножение матриц"
   ]
  },
  {
   "cell_type": "code",
   "execution_count": 20,
   "metadata": {},
   "outputs": [
    {
     "data": {
      "text/plain": [
       "(\n",
       "[a1 b1 c1]  [a2 b2 c2]\n",
       "[d1 e1 f1]  [d2 e2 f2]\n",
       "[g1 h1 i1], [g2 h2 i2]\n",
       ")"
      ]
     },
     "execution_count": 20,
     "metadata": {},
     "output_type": "execute_result"
    }
   ],
   "source": [
    "M1, M2"
   ]
  },
  {
   "cell_type": "code",
   "execution_count": 12,
   "metadata": {},
   "outputs": [
    {
     "data": {
      "text/html": [
       "<script type=\"math/tex\">\\left(\\begin{array}{rrr} a_{1} a_{2} + b_{1} d_{2} + c_{1} g_{2} & a_{1} b_{2} + b_{1} e_{2} + c_{1} h_{2} & a_{1} c_{2} + b_{1} f_{2} + c_{1} i_{2} \\\\ a_{2} d_{1} + d_{2} e_{1} + f_{1} g_{2} & b_{2} d_{1} + e_{1} e_{2} + f_{1} h_{2} & c_{2} d_{1} + e_{1} f_{2} + f_{1} i_{2} \\\\ a_{2} g_{1} + d_{2} h_{1} + g_{2} i_{1} & b_{2} g_{1} + e_{2} h_{1} + h_{2} i_{1} & c_{2} g_{1} + f_{2} h_{1} + i_{1} i_{2} \\end{array}\\right)</script>"
      ],
      "text/plain": [
       "<script type=\"math/tex\">\\left(\\begin{array}{rrr} a_{1} a_{2} + b_{1} d_{2} + c_{1} g_{2} & a_{1} b_{2} + b_{1} e_{2} + c_{1} h_{2} & a_{1} c_{2} + b_{1} f_{2} + c_{1} i_{2} \\\\ a_{2} d_{1} + d_{2} e_{1} + f_{1} g_{2} & b_{2} d_{1} + e_{1} e_{2} + f_{1} h_{2} & c_{2} d_{1} + e_{1} f_{2} + f_{1} i_{2} \\\\ a_{2} g_{1} + d_{2} h_{1} + g_{2} i_{1} & b_{2} g_{1} + e_{2} h_{1} + h_{2} i_{1} & c_{2} g_{1} + f_{2} h_{1} + i_{1} i_{2} \\end{array}\\right)</script>"
      ]
     },
     "execution_count": 12,
     "metadata": {},
     "output_type": "execute_result"
    }
   ],
   "source": [
    "html(M1 * M2)"
   ]
  },
  {
   "cell_type": "code",
   "execution_count": 52,
   "metadata": {},
   "outputs": [
    {
     "data": {
      "text/plain": [
       "(\n",
       "[69 10 12 34 90]  [-84 -64  -7 -14 -65]\n",
       "[86 19 30 51 93]  [-85 -67 -47 -59 -35]\n",
       "[ 9 85 37 44 77]  [-24 -86 -65 -69 -93]\n",
       "[91  2 72 48 54]  [-74 -49 -10 -77 -42]\n",
       "[86 35 30 99 39], [-49 -37 -70 -68 -68],\n",
       "\n",
       "[-13860 -11114  -8373 -11122 -13499]\n",
       "[-17890 -15297 -10465 -14646 -17511]\n",
       "[-15898 -14458 -12293 -16318 -14085]\n",
       "[-15740 -16500  -9671 -13728 -18369]\n",
       "[-20156 -16723  -7917 -15614 -16415]\n",
       ")"
      ]
     },
     "execution_count": 52,
     "metadata": {},
     "output_type": "execute_result"
    }
   ],
   "source": [
    "# sage\n",
    "A1, C1, A1 * C1"
   ]
  },
  {
   "cell_type": "code",
   "execution_count": 53,
   "metadata": {},
   "outputs": [
    {
     "data": {
      "text/plain": [
       "(\n",
       "[69 10 12 34 90]  [-84 -64  -7 -14 -65]\n",
       "[86 19 30 51 93]  [-85 -67 -47 -59 -35]\n",
       "[ 9 85 37 44 77]  [-24 -86 -65 -69 -93]\n",
       "[91  2 72 48 54]  [-74 -49 -10 -77 -42]\n",
       "[86 35 30 99 39], [-49 -37 -70 -68 -68],\n",
       "\n",
       "[-18227  -4954  -6145 -13535 -17342]\n",
       "[-20429  -7461 -10067 -14672 -22051]\n",
       "[-23914 -10792 -13031 -20581 -22516]\n",
       "[-20029  -4145  -9532 -13309 -17783]\n",
       "[-19229  -9659 -11224 -16629 -19565]\n",
       ")"
      ]
     },
     "execution_count": 53,
     "metadata": {},
     "output_type": "execute_result"
    }
   ],
   "source": [
    "A1, C1, C1 * A1"
   ]
  },
  {
   "cell_type": "code",
   "execution_count": 54,
   "metadata": {},
   "outputs": [
    {
     "name": "stdout",
     "output_type": "stream",
     "text": [
      "[[61 49 90 76 81  5 67]\n",
      " [ 2 44 24 78 58 16 23]\n",
      " [13 31  5  5 61 97  0]\n",
      " [88 34 79 12 86 45 19]\n",
      " [83 44 86 17 83 20 28]]\n",
      "[[ -75  -72  -22   -9   -5]\n",
      " [ -95  -44  -91  -93  -68]\n",
      " [ -31  -43  -51  -53  -57]\n",
      " [ -83  -27  -18  -92   -5]\n",
      " [ -80   -3  -78  -45  -36]\n",
      " [ -83  -32  -31  -97 -100]\n",
      " [ -25  -42  -56  -26  -86]]\n",
      "[[-26898 -15687 -21984 -22740 -18325]\n",
      " [-18091  -6870 -12984 -17318 -10426]\n",
      " [-17421  -5937 -11217 -15879 -14379]\n",
      " [-24365 -14049 -18442 -17974 -16545]\n",
      " [-23482 -14134 -19184 -17364 -15790]]\n"
     ]
    }
   ],
   "source": [
    "# python numpy\n",
    "print(A2)\n",
    "print(C2.T)\n",
    "print(A2 * C2.T)"
   ]
  },
  {
   "cell_type": "code",
   "execution_count": 55,
   "metadata": {},
   "outputs": [
    {
     "name": "stdout",
     "output_type": "stream",
     "text": [
      "[[61 49 90 76 81  5 67]\n",
      " [ 2 44 24 78 58 16 23]\n",
      " [13 31  5  5 61 97  0]\n",
      " [88 34 79 12 86 45 19]\n",
      " [83 44 86 17 83 20 28]]\n",
      "[[ -75  -72  -22   -9   -5]\n",
      " [ -95  -44  -91  -93  -68]\n",
      " [ -31  -43  -51  -53  -57]\n",
      " [ -83  -27  -18  -92   -5]\n",
      " [ -80   -3  -78  -45  -36]\n",
      " [ -83  -32  -31  -97 -100]\n",
      " [ -25  -42  -56  -26  -86]]\n",
      "[[ -6212  -8051  -9729 -11619 -12782  -4166  -6992]\n",
      " [-20894 -15566 -23256 -13379 -29440 -15551 -11048]\n",
      " [-12035  -9302 -13166  -7570 -17405  -9315  -5669]\n",
      " [-13862  -9161 -15906  -9693 -17714  -6833  -8070]\n",
      " [-12848  -9584 -14313  -7856 -18270 -10759  -7292]\n",
      " [-22366 -14134 -24656 -11823 -27112 -10299 -10940]\n",
      " [-11763  -9477 -12988  -7230 -17251  -9119  -5543]]\n"
     ]
    }
   ],
   "source": [
    "print(A2)\n",
    "print(C2.T)\n",
    "print(C2.T * A2)"
   ]
  },
  {
   "cell_type": "code",
   "execution_count": 56,
   "metadata": {},
   "outputs": [
    {
     "name": "stdout",
     "output_type": "stream",
     "text": [
      "[[ True  True  True  True  True]\n",
      " [ True  True  True  True  True]\n",
      " [ True  True  True  True  True]\n",
      " [ True  True  True  True  True]\n",
      " [ True  True  True  True  True]]\n"
     ]
    }
   ],
   "source": [
    "print(numpy.dot(A2, C2.T) == A2 * C2.T)"
   ]
  },
  {
   "cell_type": "code",
   "execution_count": 57,
   "metadata": {},
   "outputs": [
    {
     "name": "stdout",
     "output_type": "stream",
     "text": [
      "[[-26898 -15687 -21984 -22740 -18325]\n",
      " [-18091  -6870 -12984 -17318 -10426]\n",
      " [-17421  -5937 -11217 -15879 -14379]\n",
      " [-24365 -14049 -18442 -17974 -16545]\n",
      " [-23482 -14134 -19184 -17364 -15790]]\n",
      "[[ -6212  -8051  -9729 -11619 -12782  -4166  -6992]\n",
      " [-20894 -15566 -23256 -13379 -29440 -15551 -11048]\n",
      " [-12035  -9302 -13166  -7570 -17405  -9315  -5669]\n",
      " [-13862  -9161 -15906  -9693 -17714  -6833  -8070]\n",
      " [-12848  -9584 -14313  -7856 -18270 -10759  -7292]\n",
      " [-22366 -14134 -24656 -11823 -27112 -10299 -10940]\n",
      " [-11763  -9477 -12988  -7230 -17251  -9119  -5543]]\n"
     ]
    }
   ],
   "source": [
    "print(numpy.dot(A2, C2.T))\n",
    "print(C2.T * A2)"
   ]
  },
  {
   "cell_type": "code",
   "execution_count": 58,
   "metadata": {},
   "outputs": [
    {
     "data": {
      "text/plain": [
       "array([[ 0.00644113,  0.04917177,  0.25242828],\n",
       "       [ 0.06741362,  0.00398764,  0.00486118],\n",
       "       [ 0.1965309 ,  0.25350929,  0.16868733]])"
      ]
     },
     "execution_count": 58,
     "metadata": {},
     "output_type": "execute_result"
    }
   ],
   "source": [
    "# python numpy \n",
    "# !!! умножение матриц отличается от умножения массивов !!!\n",
    "a = numpy.random.random((3,3))\n",
    "b = numpy.random.random((3,3))\n",
    "a * b # elementwise product"
   ]
  },
  {
   "cell_type": "code",
   "execution_count": 65,
   "metadata": {},
   "outputs": [
    {
     "data": {
      "text/plain": [
       "array([[ True,  True,  True],\n",
       "       [ True,  True,  True],\n",
       "       [ True,  True,  True]], dtype=bool)"
      ]
     },
     "execution_count": 65,
     "metadata": {},
     "output_type": "execute_result"
    }
   ],
   "source": [
    "a * b == b * a"
   ]
  },
  {
   "cell_type": "code",
   "execution_count": 59,
   "metadata": {},
   "outputs": [
    {
     "data": {
      "text/plain": [
       "array([[ 0.29969124,  0.62906997,  0.71883981],\n",
       "       [ 0.31210013,  0.60110247,  0.644157  ],\n",
       "       [ 0.18283911,  0.29339274,  0.47325683]])"
      ]
     },
     "execution_count": 59,
     "metadata": {},
     "output_type": "execute_result"
    }
   ],
   "source": [
    "a.dot(b) # matrix product"
   ]
  },
  {
   "cell_type": "code",
   "execution_count": 66,
   "metadata": {},
   "outputs": [
    {
     "data": {
      "text/plain": [
       "array([[False, False, False],\n",
       "       [False, False, False],\n",
       "       [False, False, False]], dtype=bool)"
      ]
     },
     "execution_count": 66,
     "metadata": {},
     "output_type": "execute_result"
    }
   ],
   "source": [
    "a.dot(b) == b.dot(a)"
   ]
  },
  {
   "cell_type": "code",
   "execution_count": 60,
   "metadata": {},
   "outputs": [
    {
     "name": "stdout",
     "output_type": "stream",
     "text": [
      "⎡-3  -3  -6  -3⎤\n",
      "⎢              ⎥\n",
      "⎣-4  -7  8   -7⎦\n",
      "⎡-8  3 ⎤\n",
      "⎢      ⎥\n",
      "⎢-4  -5⎥\n",
      "⎢      ⎥\n",
      "⎢5   8 ⎥\n",
      "⎢      ⎥\n",
      "⎣2   -2⎦\n",
      "⎡0   -36⎤\n",
      "⎢       ⎥\n",
      "⎣86  101⎦\n"
     ]
    },
    {
     "data": {
      "text/plain": [
       "(None, None, None)"
      ]
     },
     "execution_count": 60,
     "metadata": {},
     "output_type": "execute_result"
    }
   ],
   "source": [
    "sympy.pprint(A3), sympy.pprint(C3.T), sympy.pprint(A3 * C3.T)"
   ]
  },
  {
   "cell_type": "code",
   "execution_count": 61,
   "metadata": {},
   "outputs": [
    {
     "name": "stdout",
     "output_type": "stream",
     "text": [
      "⎡-3  -3  -6  -3⎤\n",
      "⎢              ⎥\n",
      "⎣-4  -7  8   -7⎦\n",
      "⎡-8  3 ⎤\n",
      "⎢      ⎥\n",
      "⎢-4  -5⎥\n",
      "⎢      ⎥\n",
      "⎢5   8 ⎥\n",
      "⎢      ⎥\n",
      "⎣2   -2⎦\n",
      "⎡12    3   72    3 ⎤\n",
      "⎢                  ⎥\n",
      "⎢32   47   -16  47 ⎥\n",
      "⎢                  ⎥\n",
      "⎢-47  -71  34   -71⎥\n",
      "⎢                  ⎥\n",
      "⎣ 2    8   -28   8 ⎦\n"
     ]
    },
    {
     "data": {
      "text/plain": [
       "(None, None, None)"
      ]
     },
     "execution_count": 61,
     "metadata": {},
     "output_type": "execute_result"
    }
   ],
   "source": [
    "sympy.pprint(A3), sympy.pprint(C3.T), sympy.pprint(C3.T * A3)"
   ]
  },
  {
   "cell_type": "markdown",
   "metadata": {},
   "source": [
    "#### in R\n",
    "- $A * B$ - element-wise multiplication\n",
    "\n",
    "- $A \\%*\\% B$\t- matrix multiplication\n",
    "\n",
    "- $A \\% o \\% B$\t- outer product AB'"
   ]
  },
  {
   "cell_type": "code",
   "execution_count": 155,
   "metadata": {},
   "outputs": [
    {
     "name": "stdout",
     "output_type": "stream",
     "text": [
      "          [,1]     [,2]        [,3]      [,4]      [,5]\n",
      "[1,]  6.827380 1.648009 18.54352941  1.711424 10.932788\n",
      "[2,]  1.369670 8.644714  2.08468850  2.977455  5.019373\n",
      "[3,] 35.353589 4.849933  7.11140207 41.942887 33.492301\n",
      "[4,]  1.621079 1.214881  0.05076546  9.392346  5.746630\n",
      "[5,]  9.417921 4.125326  3.42271047  4.230890 20.103201\n",
      "          [,1]      [,2]      [,3]      [,4]       [,5]\n",
      "[1,]  5.971833 4.5704932  2.116315 2.6474938  2.0918457\n",
      "[2,]  4.244769 3.4688824  2.578513 0.7312220  8.2971376\n",
      "[3,]  5.447669 0.3404288  4.022721 9.8283240  0.5694052\n",
      "[4,] 16.116502 6.0128435  0.405711 0.9847488 12.8393433\n",
      "[5,]  6.620679 6.1495929 10.603066 7.7490383 22.0010271\n",
      "          [,1]      [,2]      [,3]      [,4]      [,5]\n",
      "[1,]  248.7511 120.75672 209.90916 287.93624  301.0205\n",
      "[2,]  137.4488  85.72732  88.00400  72.26375  224.4385\n",
      "[3,] 1168.1675 638.98814 488.06990 467.87428 1393.6282\n",
      "[4,]  204.5326 103.45484  71.50999  59.45904  260.5233\n",
      "[5,]  293.6831 207.58618 259.20918 221.53676  552.4911\n"
     ]
    }
   ],
   "source": [
    "%%r\n",
    "A4; C4; A4 %*% C4"
   ]
  },
  {
   "cell_type": "code",
   "execution_count": 156,
   "metadata": {},
   "outputs": [
    {
     "name": "stdout",
     "output_type": "stream",
     "text": [
      "          [,1]     [,2]        [,3]      [,4]      [,5]\n",
      "[1,]  6.827380 1.648009 18.54352941  1.711424 10.932788\n",
      "[2,]  1.369670 8.644714  2.08468850  2.977455  5.019373\n",
      "[3,] 35.353589 4.849933  7.11140207 41.942887 33.492301\n",
      "[4,]  1.621079 1.214881  0.05076546  9.392346  5.746630\n",
      "[5,]  9.417921 4.125326  3.42271047  4.230890 20.103201\n",
      "          [,1]      [,2]      [,3]      [,4]       [,5]\n",
      "[1,]  5.971833 4.5704932  2.116315 2.6474938  2.0918457\n",
      "[2,]  4.244769 3.4688824  2.578513 0.7312220  8.2971376\n",
      "[3,]  5.447669 0.3404288  4.022721 9.8283240  0.5694052\n",
      "[4,] 16.116502 6.0128435  0.405711 0.9847488 12.8393433\n",
      "[5,]  6.620679 6.1495929 10.603066 7.7490383 22.0010271\n",
      "         [,1]      [,2]     [,3]     [,4]     [,5]\n",
      "[1,] 145.8440  71.46216 142.6111 146.3097 216.3770\n",
      "[2,] 204.2187  84.60527 132.7172 167.7155 321.1802\n",
      "[3,] 201.1723  45.71987 132.7837 273.7815 263.9237\n",
      "[4,] 255.1287 134.66995 358.2722 126.0728 483.7381\n",
      "[5,] 648.2470 215.67214 286.6899 640.2297 945.1926\n"
     ]
    }
   ],
   "source": [
    "%%r\n",
    "A4; C4; C4 %*% A4"
   ]
  },
  {
   "cell_type": "code",
   "execution_count": 157,
   "metadata": {},
   "outputs": [
    {
     "name": "stdout",
     "output_type": "stream",
     "text": [
      "      [,1]  [,2]  [,3]  [,4]  [,5]\n",
      "[1,] FALSE FALSE FALSE FALSE FALSE\n",
      "[2,] FALSE FALSE FALSE FALSE FALSE\n",
      "[3,] FALSE FALSE FALSE FALSE FALSE\n",
      "[4,] FALSE FALSE FALSE FALSE FALSE\n",
      "[5,] FALSE FALSE FALSE FALSE FALSE\n"
     ]
    }
   ],
   "source": [
    "%%r\n",
    "A4 %*% C4 == C4 %*% A4"
   ]
  },
  {
   "cell_type": "markdown",
   "metadata": {},
   "source": [
    "## 3. Задание.\n",
    "\n",
    "Инициировать матрицы $A(2x4)$ и $B(4x2)$ и рассчитать их сумму ($A+B$) и произведения ($A*B, \\ B*A$)\n",
    "\n",
    "с использованием SageMath, Numpy, SymPy, R."
   ]
  }
 ],
 "metadata": {
  "kernelspec": {
   "display_name": "SageMath 8.4",
   "language": "",
   "name": "sagemath"
  },
  "language_info": {
   "codemirror_mode": {
    "name": "ipython",
    "version": 2
   },
   "file_extension": ".py",
   "mimetype": "text/x-python",
   "name": "python",
   "nbconvert_exporter": "python",
   "pygments_lexer": "ipython2",
   "version": "2.7.15"
  }
 },
 "nbformat": 4,
 "nbformat_minor": 2
}

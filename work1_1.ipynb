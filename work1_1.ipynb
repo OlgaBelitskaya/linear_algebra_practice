{
 "cells": [
  {
   "cell_type": "markdown",
   "metadata": {},
   "source": [
    "<h1 style=\"color: #3636ff;\">Линейная алгебра. Практическая работа №1</h1>\n",
    "\n",
    "<a href=\"https://olgabelitskaya.github.io/README.html\">&#x1F300; &nbsp; Home Page</a> &nbsp; &nbsp; <a href=\"https://github.com/OlgaBelitskaya/linear_algebra_practice/blob/master/work1_0.ipynb\">📓 &nbsp; Previous</a> &nbsp; &nbsp; <a href=\"https://github.com/OlgaBelitskaya/linear_algebra_practice/blob/master/work1_2.ipynb\">📓 &nbsp; Next</a>\n",
    "\n",
    "### Программные средства\n",
    "\n",
    "[LaTeX. Mathematics. Matrices & Arrays](https://en.wikibooks.org/wiki/LaTeX/Mathematics#Matrices_and_arrays)\n",
    "\n",
    "[Sage. Matrices & Spaces of Matrices](https://doc.sagemath.org/html/en/reference/matrices/index.html)\n",
    "\n",
    "[Numpy. Quickstart tutorial](https://docs.scipy.org/doc/numpy/user/quickstart.html#linear-algebra)\n",
    "\n",
    "[SymPy. Matrices (linear algebra)](https://docs.sympy.org/latest/modules/matrices/matrices.html)\n",
    "\n",
    "[Quick-R. Matrix Algebra](https://www.statmethods.net/advstats/matrix.html)\n",
    "\n",
    "### Конспекты лекций\n",
    "\n",
    "[Матрицы. Системы линейных уравнений. Алгоритм Гаусса](http://matematika.phys.msu.ru/files/a_stud_gen/246/AG-08_2009-2010.pdf)\n",
    "\n",
    "[АЛГЕБРА И ГЕОМЕТРИЯ ДЛЯ СТУДЕНТОВ-ФИЗИКОВ](http://math.phys.msu.ru/data/24/Algebra_and_geometry.pdf)"
   ]
  },
  {
   "cell_type": "markdown",
   "metadata": {},
   "source": [
    "# Матрицы. Часть 1\n",
    "\n",
    "## 1. Способы инициализации."
   ]
  },
  {
   "cell_type": "code",
   "execution_count": 69,
   "metadata": {},
   "outputs": [
    {
     "data": {
      "text/html": [
       "<p style=\"color:slategray;\">\n",
       "$\\mathscr{A=\\begin{bmatrix} \n",
       "1 & 2 & 3 \\\\ 4 & 5 & 6 \\\\ \n",
       "7 & 8 & 9 \\\\ 10 & 11 & 12         \n",
       "\\end{bmatrix}}$</p>"
      ],
      "text/plain": [
       "<IPython.core.display.HTML object>"
      ]
     },
     "metadata": {},
     "output_type": "display_data"
    }
   ],
   "source": [
    "%%html\n",
    "<p style=\"color:slategray;\">\n",
    "$\\mathscr{A=\\begin{bmatrix} \n",
    "1 & 2 & 3 \\\\ 4 & 5 & 6 \\\\ \n",
    "7 & 8 & 9 \\\\ 10 & 11 & 12         \n",
    "\\end{bmatrix}}$</p>"
   ]
  },
  {
   "cell_type": "code",
   "execution_count": 70,
   "metadata": {},
   "outputs": [],
   "source": [
    "# sage\n",
    "A=random_matrix(ZZ,3,x=0,y=100) \n",
    "B=random_matrix(ZZ,3,x=-100,y=0)\n",
    "C=matrix([[1.1,3.2,5.0,7.6],[2.2,4.1,6.5,8.1]]) \n",
    "E=matrix.identity(3)\n",
    "M=matrix(SR,3,var('a,b,c,d,e,f,g,h,i'))\n",
    "M1=matrix(SR,3,var('a1,b1,c1,d1,e1,f1,g1,h1,i1')) \n",
    "M2=matrix(SR,3,var('a2,b2,c2,d2,e2,f2,g2,h2,i2'))"
   ]
  },
  {
   "cell_type": "code",
   "execution_count": 71,
   "metadata": {},
   "outputs": [
    {
     "data": {
      "text/plain": [
       "[Integer Ring, Integer Ring]"
      ]
     },
     "execution_count": 71,
     "metadata": {},
     "output_type": "execute_result"
    }
   ],
   "source": [
    "[A.base_ring(),B.base_ring()]"
   ]
  },
  {
   "cell_type": "code",
   "execution_count": 72,
   "metadata": {},
   "outputs": [
    {
     "data": {
      "text/html": [
       "<html><script type=\"math/tex; mode=display\">\\newcommand{\\Bold}[1]{\\mathbf{#1}}\\left(\\begin{array}{rrr}\n",
       "78 & 38 & 22 \\\\\n",
       "37 & 91 & 17 \\\\\n",
       "46 & 9 & 39\n",
       "\\end{array}\\right) \\left(\\begin{array}{rrr}\n",
       "-35 & -47 & -81 \\\\\n",
       "-44 & -82 & -61 \\\\\n",
       "-11 & -51 & -37\n",
       "\\end{array}\\right)</script></html>"
      ],
      "text/plain": [
       "[78 38 22]\n",
       "[37 91 17]\n",
       "[46  9 39] [-35 -47 -81]\n",
       "[-44 -82 -61]\n",
       "[-11 -51 -37]"
      ]
     },
     "metadata": {},
     "output_type": "display_data"
    },
    {
     "data": {
      "text/html": [
       "<html><script type=\"math/tex; mode=display\">\\newcommand{\\Bold}[1]{\\mathbf{#1}}\\left(\\begin{array}{rrrr}\n",
       "1.10000000000000 & 3.20000000000000 & 5.00000000000000 & 7.60000000000000 \\\\\n",
       "2.20000000000000 & 4.10000000000000 & 6.50000000000000 & 8.10000000000000\n",
       "\\end{array}\\right) \\left(\\begin{array}{rrr}\n",
       "1 & 0 & 0 \\\\\n",
       "0 & 1 & 0 \\\\\n",
       "0 & 0 & 1\n",
       "\\end{array}\\right)</script></html>"
      ],
      "text/plain": [
       "[1.10000000000000 3.20000000000000 5.00000000000000 7.60000000000000]\n",
       "[2.20000000000000 4.10000000000000 6.50000000000000 8.10000000000000] [1 0 0]\n",
       "[0 1 0]\n",
       "[0 0 1]"
      ]
     },
     "metadata": {},
     "output_type": "display_data"
    },
    {
     "name": "stdout",
     "output_type": "stream",
     "text": [
      "(3, 3, (3, 3))\n",
      "\n",
      "\n",
      "<script type=\"math/tex\">\\left(\\begin{array}{rrr} 78 & 38 & 22 \\\\ 37 & 91 & 17 \\\\ 46 & 9 & 39 \\end{array}\\right)</script>\n",
      "\n",
      "\n",
      "\\left(\\begin{array}{rrrr}\n",
      "1.10000000000000 & 3.20000000000000 & 5.00000000000000 & 7.60000000000000 \\\\\n",
      "2.20000000000000 & 4.10000000000000 & 6.50000000000000 & 8.10000000000000\n",
      "\\end{array}\\right)\n"
     ]
    }
   ],
   "source": [
    "pretty_print(A,B)\n",
    "pretty_print(C,E)\n",
    "print(A.ncols(),A.nrows(),A.dimensions())\n",
    "print('\\n'); print(html(A))\n",
    "print('\\n'); print(latex(C))"
   ]
  },
  {
   "cell_type": "code",
   "execution_count": 73,
   "metadata": {},
   "outputs": [],
   "source": [
    "# python numpy, sympy\n",
    "import numpy,sympy\n",
    "A1=numpy.matrix(numpy.random.randint(0,100,size=(5,7)))\n",
    "B1=numpy.matrix(numpy.random.randint(-100,0,size=(5,7)))\n",
    "C1=numpy.matrix([[1,3,5,7],[2,4,6,8]])\n",
    "E1=numpy.matrix(numpy.eye(3))\n",
    "A2=sympy.Matrix([[-3,-3,-6,-3],[-4,-7,8,-7]])\n",
    "B2=sympy.Matrix([[2,10,7],[-5,-6,-2],[-8,4,-8],[7,4,-6]])\n",
    "C2=sympy.Matrix([[-8,-4,5,2],[3,-5,8,-2]])\n",
    "E2=sympy.Identity(3)"
   ]
  },
  {
   "cell_type": "code",
   "execution_count": 74,
   "metadata": {},
   "outputs": [
    {
     "name": "stdout",
     "output_type": "stream",
     "text": [
      "[[67 52  6 83 36 72 68]\n",
      " [89 19 99  2 61 10 57]\n",
      " [22 51 83 23 51 78 21]\n",
      " [62 98 81 82 67 92 31]\n",
      " [27 85 45 92 60 61 44]]\n",
      "[[ -48  -77  -93  -77  -92  -97   -4]\n",
      " [-100  -88  -75  -31  -32  -52  -70]\n",
      " [ -39  -40  -75  -57  -25   -1  -24]\n",
      " [  -2  -10  -56  -54  -75  -89  -26]\n",
      " [ -80  -37  -13  -87  -58  -42  -81]]\n",
      "[[1 3 5 7]\n",
      " [2 4 6 8]]\n",
      "[[1. 0. 0.]\n",
      " [0. 1. 0.]\n",
      " [0. 0. 1.]]\n",
      "((5, 7), (5, 7), (2, 4), (3, 3))\n",
      "⎡-3  -3  -6  -3⎤\n",
      "⎢              ⎥\n",
      "⎣-4  -7  8   -7⎦\n",
      "⎡2   10  7 ⎤\n",
      "⎢          ⎥\n",
      "⎢-5  -6  -2⎥\n",
      "⎢          ⎥\n",
      "⎢-8  4   -8⎥\n",
      "⎢          ⎥\n",
      "⎣7   4   -6⎦\n",
      "⎡-8  -4  5  2 ⎤\n",
      "⎢             ⎥\n",
      "⎣3   -5  8  -2⎦\n",
      "⎡1  0  0⎤\n",
      "⎢       ⎥\n",
      "⎢0  1  0⎥\n",
      "⎢       ⎥\n",
      "⎣0  0  1⎦\n",
      "[(2, 4), (4, 3), (2, 4), (3, 3)]\n"
     ]
    }
   ],
   "source": [
    "print(A1); print(B1); print(C1); print(E1)\n",
    "print(A1.shape,B1.shape,C1.shape,E1.shape)\n",
    "sympy.pprint(A2); sympy.pprint(B2)\n",
    "sympy.pprint(C2); sympy.pprint(E2.as_explicit())\n",
    "sympy.pprint([A2.shape,B2.shape,C2.shape,E2.shape])"
   ]
  },
  {
   "cell_type": "code",
   "execution_count": 75,
   "metadata": {},
   "outputs": [
    {
     "name": "stdout",
     "output_type": "stream",
     "text": [
      "     [,1] [,2] [,3] [,4] [,5]\n",
      "[1,]    1    0    0    0    0\n",
      "[2,]    0    1    0    0    0\n",
      "[3,]    0    0    1    0    0\n",
      "[4,]    0    0    0    1    0\n",
      "[5,]    0    0    0    0    1\n"
     ]
    }
   ],
   "source": [
    "%%r\n",
    "A<-matrix(rexp(25,rate=0.1),nrow=5,ncol=5)\n",
    "B<-matrix(c(1,3,5,7,2,4,6,8),nrow=2,ncol=4)\n",
    "C<-matrix(rexp(25,rate=0.2),nrow=5,ncol=5)\n",
    "D<-matrix(sample.int(100,size=3*4,replace=T),nrow=3,ncol=4)\n",
    "E<-matrix(0,5,5); diag(E)<-1; E"
   ]
  },
  {
   "cell_type": "code",
   "execution_count": 76,
   "metadata": {},
   "outputs": [
    {
     "name": "stdout",
     "output_type": "stream",
     "text": [
      "| A  5 5 | B  2 4 | C  5 5 | D  3 4 | E  5 5 |  \n",
      "\n",
      "           [,1]       [,2]      [,3]      [,4]      [,5]\n",
      "[1,] 21.0905482  6.0162296  6.717809  5.091534 17.684828\n",
      "[2,]  0.9350975  7.3989648 23.675641 22.528338  4.502710\n",
      "[3,]  4.1375419 12.8219271 19.834578 10.846607  5.523048\n",
      "[4,]  4.8985733  0.6273488 12.643241 44.991424 11.835065\n",
      "[5,]  1.6399288  1.6214455 14.165885 13.936266 10.956298\n"
     ]
    }
   ],
   "source": [
    "%%r\n",
    "cat(paste(c('| A ',dim(A),'| B ',dim(B),'| C ',\n",
    "          dim(C),'| D ',dim(D),'| E ',\n",
    "          dim(E),'| '),collapse=' '),'\\n\\n')\n",
    "A"
   ]
  },
  {
   "cell_type": "markdown",
   "metadata": {},
   "source": [
    "## 2. Операции над матрицами.\n",
    "### 2.1 Умножение на число"
   ]
  },
  {
   "cell_type": "code",
   "execution_count": 80,
   "metadata": {},
   "outputs": [
    {
     "data": {
      "text/html": [
       "<html><script type=\"math/tex; mode=display\">\\newcommand{\\Bold}[1]{\\mathbf{#1}}\\verb|2*| \\left(\\begin{array}{rrr}\n",
       "78 & 38 & 22 \\\\\n",
       "37 & 91 & 17 \\\\\n",
       "46 & 9 & 39\n",
       "\\end{array}\\right) \\phantom{\\verb!x!}\\verb|=| \\left(\\begin{array}{rrr}\n",
       "156 & 76 & 44 \\\\\n",
       "74 & 182 & 34 \\\\\n",
       "92 & 18 & 78\n",
       "\\end{array}\\right)</script></html>"
      ],
      "text/plain": [
       "'2*' \\left(\\begin{array}{rrr}\n",
       "78 & 38 & 22 \\\\\n",
       "37 & 91 & 17 \\\\\n",
       "46 & 9 & 39\n",
       "\\end{array}\\right) ' = ' \\left(\\begin{array}{rrr}\n",
       "156 & 76 & 44 \\\\\n",
       "74 & 182 & 34 \\\\\n",
       "92 & 18 & 78\n",
       "\\end{array}\\right)"
      ]
     },
     "metadata": {},
     "output_type": "display_data"
    },
    {
     "data": {
      "text/html": [
       "<html><script type=\"math/tex; mode=display\">\\newcommand{\\Bold}[1]{\\mathbf{#1}}k* \\left(\\begin{array}{rrr}\n",
       "a & b & c \\\\\n",
       "d & e & f \\\\\n",
       "g & h & i\n",
       "\\end{array}\\right) = \\left(\\begin{array}{rrr}\n",
       "a k & b k & c k \\\\\n",
       "d k & e k & f k \\\\\n",
       "g k & h k & i k\n",
       "\\end{array}\\right)</script></html>"
      ],
      "text/plain": [
       "k* \\left(\\begin{array}{rrr}\n",
       "a & b & c \\\\\n",
       "d & e & f \\\\\n",
       "g & h & i\n",
       "\\end{array}\\right) = \\left(\\begin{array}{rrr}\n",
       "a k & b k & c k \\\\\n",
       "d k & e k & f k \\\\\n",
       "g k & h k & i k\n",
       "\\end{array}\\right)"
      ]
     },
     "metadata": {},
     "output_type": "display_data"
    },
    {
     "data": {
      "text/html": [
       "<script type=\"math/tex\">\\left(\\begin{array}{rrr} a t & b t & c t \\\\ d t & e t & f t \\\\ g t & h t & i t \\end{array}\\right)</script>"
      ],
      "text/plain": [
       "<script type=\"math/tex\">\\left(\\begin{array}{rrr} a t & b t & c t \\\\ d t & e t & f t \\\\ g t & h t & i t \\end{array}\\right)</script>"
      ]
     },
     "execution_count": 80,
     "metadata": {},
     "output_type": "execute_result"
    }
   ],
   "source": [
    "pretty_print('2*',latex(A),' = ',latex(2*A))\n",
    "pretty_print('k*'+latex(M)+' = '+latex(var('k')*M))\n",
    "html(var('t')*M)"
   ]
  },
  {
   "cell_type": "code",
   "execution_count": 84,
   "metadata": {},
   "outputs": [
    {
     "name": "stdout",
     "output_type": "stream",
     "text": [
      "[[67 52  6 83 36 72 68]\n",
      " [89 19 99  2 61 10 57]\n",
      " [22 51 83 23 51 78 21]\n",
      " [62 98 81 82 67 92 31]\n",
      " [27 85 45 92 60 61 44]]\n",
      "[[-201 -156  -18 -249 -108 -216 -204]\n",
      " [-267  -57 -297   -6 -183  -30 -171]\n",
      " [ -66 -153 -249  -69 -153 -234  -63]\n",
      " [-186 -294 -243 -246 -201 -276  -93]\n",
      " [ -81 -255 -135 -276 -180 -183 -132]]\n",
      "_=_=_=_=_=_=_=_=_=_=_=_=_=_=_=_=_=_=_=_=\n",
      "⎡-3  -3  -6  -3⎤\n",
      "⎢              ⎥\n",
      "⎣-4  -7  8   -7⎦\n",
      "⎡-4.5  -4.5   -9.0  -4.5 ⎤\n",
      "⎢                        ⎥\n",
      "⎣-6.0  -10.5  12.0  -10.5⎦\n"
     ]
    }
   ],
   "source": [
    "print(A1); print(-3*A1); print(20*'_=')\n",
    "sympy.pprint(A2); sympy.pprint(1.5*A2)"
   ]
  },
  {
   "cell_type": "code",
   "execution_count": 86,
   "metadata": {},
   "outputs": [
    {
     "name": "stdout",
     "output_type": "stream",
     "text": [
      "           [,1]      [,2]      [,3]      [,4]     [,5]\n",
      "[1,] 105.452741 30.081148  33.58905  25.45767 88.42414\n",
      "[2,]   4.675488 36.994824 118.37820 112.64169 22.51355\n",
      "[3,]  20.687710 64.109635  99.17289  54.23303 27.61524\n",
      "[4,]  24.492867  3.136744  63.21620 224.95712 59.17532\n",
      "[5,]   8.199644  8.107228  70.82943  69.68133 54.78149\n"
     ]
    }
   ],
   "source": [
    "%%r\n",
    "5*A"
   ]
  },
  {
   "cell_type": "markdown",
   "metadata": {},
   "source": [
    "### 2.2 Сложение и вычитание матриц"
   ]
  },
  {
   "cell_type": "code",
   "execution_count": 87,
   "metadata": {},
   "outputs": [
    {
     "data": {
      "text/html": [
       "<script type=\"math/tex\">\\left(\\begin{array}{rrr} a_{1} + a_{2} & b_{1} + b_{2} & c_{1} + c_{2} \\\\ d_{1} + d_{2} & e_{1} + e_{2} & f_{1} + f_{2} \\\\ g_{1} + g_{2} & h_{1} + h_{2} & i_{1} + i_{2} \\end{array}\\right)</script>"
      ],
      "text/plain": [
       "<script type=\"math/tex\">\\left(\\begin{array}{rrr} a_{1} + a_{2} & b_{1} + b_{2} & c_{1} + c_{2} \\\\ d_{1} + d_{2} & e_{1} + e_{2} & f_{1} + f_{2} \\\\ g_{1} + g_{2} & h_{1} + h_{2} & i_{1} + i_{2} \\end{array}\\right)</script>"
      ]
     },
     "execution_count": 87,
     "metadata": {},
     "output_type": "execute_result"
    }
   ],
   "source": [
    "html(M1+M2)"
   ]
  },
  {
   "cell_type": "code",
   "execution_count": 97,
   "metadata": {},
   "outputs": [
    {
     "data": {
      "text/html": [
       "<html><script type=\"math/tex; mode=display\">\\newcommand{\\Bold}[1]{\\mathbf{#1}}\\left(\\begin{array}{rrr}\n",
       "a_{1} + a_{2} & b_{1} + b_{2} & c_{1} + c_{2} \\\\\n",
       "d_{1} + d_{2} & e_{1} + e_{2} & f_{1} + f_{2} \\\\\n",
       "g_{1} + g_{2} & h_{1} + h_{2} & i_{1} + i_{2}\n",
       "\\end{array}\\right)</script></html>"
      ],
      "text/plain": [
       "[a1 + a2 b1 + b2 c1 + c2]\n",
       "[d1 + d2 e1 + e2 f1 + f2]\n",
       "[g1 + g2 h1 + h2 i1 + i2]"
      ]
     },
     "metadata": {},
     "output_type": "display_data"
    },
    {
     "name": "stdout",
     "output_type": "stream",
     "text": [
      "\n",
      "\n"
     ]
    },
    {
     "data": {
      "text/html": [
       "<html><script type=\"math/tex; mode=display\">\\newcommand{\\Bold}[1]{\\mathbf{#1}}\\verb|M1+M2=M2+M1:|\\phantom{\\verb!x!}\\verb|True|</script></html>"
      ],
      "text/plain": [
       "'M1+M2=M2+M1: True'"
      ]
     },
     "metadata": {},
     "output_type": "display_data"
    },
    {
     "data": {
      "text/html": [
       "<html><script type=\"math/tex; mode=display\">\\newcommand{\\Bold}[1]{\\mathbf{#1}}\\left(\\begin{array}{rrr}\n",
       "a_{1} - a_{2} & b_{1} - b_{2} & c_{1} - c_{2} \\\\\n",
       "d_{1} - d_{2} & e_{1} - e_{2} & f_{1} - f_{2} \\\\\n",
       "g_{1} - g_{2} & h_{1} - h_{2} & i_{1} - i_{2}\n",
       "\\end{array}\\right)</script></html>"
      ],
      "text/plain": [
       "[a1 - a2 b1 - b2 c1 - c2]\n",
       "[d1 - d2 e1 - e2 f1 - f2]\n",
       "[g1 - g2 h1 - h2 i1 - i2]"
      ]
     },
     "metadata": {},
     "output_type": "display_data"
    }
   ],
   "source": [
    "pretty_print(M1+M2); print('\\n')\n",
    "pretty_print('M1+M2=M2+M1: %s'%str(M1+M2==M2+M1))\n",
    "pretty_print(M1-M2)"
   ]
  },
  {
   "cell_type": "code",
   "execution_count": 118,
   "metadata": {},
   "outputs": [
    {
     "name": "stdout",
     "output_type": "stream",
     "text": [
      "\n",
      "A1-B1\n",
      "\n",
      "[[67 52  6 83 36 72 68]\n",
      " [89 19 99  2 61 10 57]\n",
      " [22 51 83 23 51 78 21]\n",
      " [62 98 81 82 67 92 31]\n",
      " [27 85 45 92 60 61 44]]\n",
      "[[ -48  -77  -93  -77  -92  -97   -4]\n",
      " [-100  -88  -75  -31  -32  -52  -70]\n",
      " [ -39  -40  -75  -57  -25   -1  -24]\n",
      " [  -2  -10  -56  -54  -75  -89  -26]\n",
      " [ -80  -37  -13  -87  -58  -42  -81]]\n",
      "[[ 19 -25 -87   6 -56 -25  64]\n",
      " [-11 -69  24 -29  29 -42 -13]\n",
      " [-17  11   8 -34  26  77  -3]\n",
      " [ 60  88  25  28  -8   3   5]\n",
      " [-53  48  32   5   2  19 -37]]\n",
      "                              \n",
      "<><><><><><><><><><><><><><><>\n",
      "\n",
      "A2-C2\n",
      "\n",
      "⎡-3  -3  -6  -3⎤\n",
      "⎢              ⎥\n",
      "⎣-4  -7  8   -7⎦\n",
      "⎡-8  -4  5  2 ⎤\n",
      "⎢             ⎥\n",
      "⎣3   -5  8  -2⎦\n",
      "⎡5   1   -11  -5⎤\n",
      "⎢               ⎥\n",
      "⎣-7  -2   0   -5⎦\n"
     ]
    }
   ],
   "source": [
    "print('\\nA1-B1\\n')\n",
    "print(A1); print(B1)\n",
    "print(A1+B1)\n",
    "sympy.pprint('\\n'+15*'<>')\n",
    "print('\\nA2-C2\\n')\n",
    "sympy.pprint(A2)\n",
    "sympy.pprint(C2)\n",
    "sympy.pprint(A2-C2)"
   ]
  },
  {
   "cell_type": "code",
   "execution_count": 121,
   "metadata": {},
   "outputs": [
    {
     "name": "stdout",
     "output_type": "stream",
     "text": [
      "          [,1]      [,2]     [,3]      [,4]      [,5]\n",
      "[1,] 31.846807  7.053531 18.43540  7.966372 23.458350\n",
      "[2,]  1.691899 15.609980 25.72911 24.119770  4.800403\n",
      "[3,]  4.866080 13.896846 31.14437 20.707597  7.908694\n",
      "[4,]  5.921144  1.178828 19.45609 45.503800 12.966823\n",
      "[5,] 14.227084 16.709809 15.59155 21.806775 13.058209\n",
      "            [,1]         [,2]      [,3]       [,4]      [,5]\n",
      "[1,]  10.3342898   4.97892837 -4.999782  2.2166956 11.911306\n",
      "[2,]   0.1782956  -0.81205007 21.622167 20.9369062  4.205017\n",
      "[3,]   3.4090038  11.74700844  8.524782  0.9856156  3.137402\n",
      "[4,]   3.8760024   0.07586927  5.830395 44.4790472 10.703307\n",
      "[5,] -10.9472263 -13.46691812 12.740223  6.0657577  8.854387\n"
     ]
    }
   ],
   "source": [
    "%%r\n",
    "print(A+C); A-C"
   ]
  },
  {
   "cell_type": "markdown",
   "metadata": {},
   "source": [
    "### 2.3 Умножение матриц"
   ]
  },
  {
   "cell_type": "code",
   "execution_count": 122,
   "metadata": {},
   "outputs": [
    {
     "data": {
      "text/plain": [
       "(\n",
       "[a1 b1 c1]  [a2 b2 c2]\n",
       "[d1 e1 f1]  [d2 e2 f2]\n",
       "[g1 h1 i1], [g2 h2 i2]\n",
       ")"
      ]
     },
     "execution_count": 122,
     "metadata": {},
     "output_type": "execute_result"
    }
   ],
   "source": [
    "# sage\n",
    "M1,M2"
   ]
  },
  {
   "cell_type": "code",
   "execution_count": 130,
   "metadata": {},
   "outputs": [
    {
     "data": {
      "text/html": [
       "<html><script type=\"math/tex; mode=display\">\\newcommand{\\Bold}[1]{\\mathbf{#1}}\\left(\\begin{array}{rrr}\n",
       "a_{1} a_{2} + b_{1} d_{2} + c_{1} g_{2} & a_{1} b_{2} + b_{1} e_{2} + c_{1} h_{2} & a_{1} c_{2} + b_{1} f_{2} + c_{1} i_{2} \\\\\n",
       "a_{2} d_{1} + d_{2} e_{1} + f_{1} g_{2} & b_{2} d_{1} + e_{1} e_{2} + f_{1} h_{2} & c_{2} d_{1} + e_{1} f_{2} + f_{1} i_{2} \\\\\n",
       "a_{2} g_{1} + d_{2} h_{1} + g_{2} i_{1} & b_{2} g_{1} + e_{2} h_{1} + h_{2} i_{1} & c_{2} g_{1} + f_{2} h_{1} + i_{1} i_{2}\n",
       "\\end{array}\\right)</script></html>"
      ],
      "text/plain": [
       "[a1*a2 + b1*d2 + c1*g2 a1*b2 + b1*e2 + c1*h2 a1*c2 + b1*f2 + c1*i2]\n",
       "[a2*d1 + d2*e1 + f1*g2 b2*d1 + e1*e2 + f1*h2 c2*d1 + e1*f2 + f1*i2]\n",
       "[a2*g1 + d2*h1 + g2*i1 b2*g1 + e2*h1 + h2*i1 c2*g1 + f2*h1 + i1*i2]"
      ]
     },
     "metadata": {},
     "output_type": "display_data"
    },
    {
     "data": {
      "text/html": [
       "<html><script type=\"math/tex; mode=display\">\\newcommand{\\Bold}[1]{\\mathbf{#1}}\\verb|M1*M2=M2*M1:|\\phantom{\\verb!x!}\\verb|False|</script></html>"
      ],
      "text/plain": [
       "'M1*M2=M2*M1: False'"
      ]
     },
     "metadata": {},
     "output_type": "display_data"
    },
    {
     "data": {
      "text/html": [
       "<html><script type=\"math/tex; mode=display\">\\newcommand{\\Bold}[1]{\\mathbf{#1}}\\left(\\begin{array}{rrr}\n",
       "a_{1} a_{2} + b_{2} d_{1} + c_{2} g_{1} & a_{2} b_{1} + b_{2} e_{1} + c_{2} h_{1} & a_{2} c_{1} + b_{2} f_{1} + c_{2} i_{1} \\\\\n",
       "a_{1} d_{2} + d_{1} e_{2} + f_{2} g_{1} & b_{1} d_{2} + e_{1} e_{2} + f_{2} h_{1} & c_{1} d_{2} + e_{2} f_{1} + f_{2} i_{1} \\\\\n",
       "a_{1} g_{2} + d_{1} h_{2} + g_{1} i_{2} & b_{1} g_{2} + e_{1} h_{2} + h_{1} i_{2} & c_{1} g_{2} + f_{1} h_{2} + i_{1} i_{2}\n",
       "\\end{array}\\right)</script></html>"
      ],
      "text/plain": [
       "[a1*a2 + b2*d1 + c2*g1 a2*b1 + b2*e1 + c2*h1 a2*c1 + b2*f1 + c2*i1]\n",
       "[a1*d2 + d1*e2 + f2*g1 b1*d2 + e1*e2 + f2*h1 c1*d2 + e2*f1 + f2*i1]\n",
       "[a1*g2 + d1*h2 + g1*i2 b1*g2 + e1*h2 + h1*i2 c1*g2 + f1*h2 + i1*i2]"
      ]
     },
     "metadata": {},
     "output_type": "display_data"
    }
   ],
   "source": [
    "pretty_print(M1*M2)\n",
    "pretty_print('M1*M2=M2*M1: %s'%str(M1*M2==M2*M1))\n",
    "pretty_print(M2*M1)"
   ]
  },
  {
   "cell_type": "code",
   "execution_count": 140,
   "metadata": {},
   "outputs": [
    {
     "name": "stdout",
     "output_type": "stream",
     "text": [
      "[[-24737 -23955 -12478 -16348 -25203]\n",
      " [-21906 -24521 -14673 -12967 -17859]\n",
      " [-26815 -20784 -12291 -17757 -14662]\n",
      " [-39581 -32539 -19598 -24087 -27034]\n",
      " [-30723 -24579 -15689 -19465 -23500]]\n",
      "[[-15258 -13381 -17187 -12605 -14751 -12562 -13365]\n",
      " [-15490 -11841 -14969 -11711 -13070 -12721 -13030]\n",
      " [-18379 -16679 -19329 -15382 -16280 -19241 -14482]\n",
      " [-14869 -20187 -16551 -20196 -16408 -20575 -13702]\n",
      " [-15778 -18947 -14480 -19761 -15044 -19332 -13482]\n",
      " [-17801 -18375 -14912 -19340 -15198 -18332 -14188]\n",
      " [-10825 -12195 -14697 -10608 -12240 -10193  -9136]]\n",
      "[[ True  True  True  True  True]\n",
      " [ True  True  True  True  True]\n",
      " [ True  True  True  True  True]\n",
      " [ True  True  True  True  True]\n",
      " [ True  True  True  True  True]]\n",
      "\n",
      "<><><><><><><><><><><><><><><><><><><><><><><><><>\n",
      "\n",
      "⎡0   -36⎤\n",
      "⎢       ⎥\n",
      "⎣86  101⎦\n"
     ]
    },
    {
     "data": {
      "text/plain": [
       "False"
      ]
     },
     "execution_count": 140,
     "metadata": {},
     "output_type": "execute_result"
    }
   ],
   "source": [
    "# numpy, sympy\n",
    "print(A1*B1.T); print(B1.T*A1)\n",
    "print(numpy.dot(A1,B1.T)==A1*B1.T)\n",
    "print('\\n'+25*'<>'+'\\n')\n",
    "sympy.pprint(A2*C2.T)\n",
    "A2*C2.T==C2.T*A2"
   ]
  },
  {
   "cell_type": "code",
   "execution_count": 132,
   "metadata": {},
   "outputs": [
    {
     "data": {
      "text/plain": [
       "array([[0.16096099, 0.57413651, 0.36124134],\n",
       "       [0.03316927, 0.29869373, 0.03416351],\n",
       "       [0.06421956, 0.15043653, 0.28818231]])"
      ]
     },
     "execution_count": 132,
     "metadata": {},
     "output_type": "execute_result"
    }
   ],
   "source": [
    "# python numpy \n",
    "# !!! умножение матриц отличается от умножения массивов !!!\n",
    "a=numpy.random.random((3,3))\n",
    "b=numpy.random.random((3,3))\n",
    "a*b # elementwise product"
   ]
  },
  {
   "cell_type": "code",
   "execution_count": 133,
   "metadata": {},
   "outputs": [
    {
     "data": {
      "text/plain": [
       "array([[ True,  True,  True],\n",
       "       [ True,  True,  True],\n",
       "       [ True,  True,  True]])"
      ]
     },
     "execution_count": 133,
     "metadata": {},
     "output_type": "execute_result"
    }
   ],
   "source": [
    "a*b==b*a"
   ]
  },
  {
   "cell_type": "code",
   "execution_count": 134,
   "metadata": {},
   "outputs": [
    {
     "data": {
      "text/plain": [
       "array([[0.22534055, 0.60665587, 0.50509927],\n",
       "       [0.49880474, 0.92840029, 0.846394  ],\n",
       "       [0.6556339 , 1.23259488, 1.12380801]])"
      ]
     },
     "execution_count": 134,
     "metadata": {},
     "output_type": "execute_result"
    }
   ],
   "source": [
    "a.dot(b) # matrix product"
   ]
  },
  {
   "cell_type": "code",
   "execution_count": 135,
   "metadata": {},
   "outputs": [
    {
     "data": {
      "text/plain": [
       "array([[False, False, False],\n",
       "       [False, False, False],\n",
       "       [False, False, False]])"
      ]
     },
     "execution_count": 135,
     "metadata": {},
     "output_type": "execute_result"
    }
   ],
   "source": [
    "a.dot(b)==b.dot(a)"
   ]
  },
  {
   "cell_type": "code",
   "execution_count": 142,
   "metadata": {},
   "outputs": [
    {
     "name": "stdout",
     "output_type": "stream",
     "text": [
      "⎡-3  -3  -6  -3⎤\n",
      "⎢              ⎥\n",
      "⎣-4  -7  8   -7⎦\n",
      "⎡-8  3 ⎤\n",
      "⎢      ⎥\n",
      "⎢-4  -5⎥\n",
      "⎢      ⎥\n",
      "⎢5   8 ⎥\n",
      "⎢      ⎥\n",
      "⎣2   -2⎦\n",
      "⎡0   -36⎤\n",
      "⎢       ⎥\n",
      "⎣86  101⎦\n"
     ]
    }
   ],
   "source": [
    "sympy.pprint(A2), sympy.pprint(C2.T), sympy.pprint(A2*C2.T);"
   ]
  },
  {
   "cell_type": "code",
   "execution_count": 149,
   "metadata": {},
   "outputs": [
    {
     "name": "stdout",
     "output_type": "stream",
     "text": [
      "⎡-3  -3  -6  -3⎤\n",
      "⎢              ⎥\n",
      "⎣-4  -7  8   -7⎦\n",
      "⎡-8  3 ⎤\n",
      "⎢      ⎥\n",
      "⎢-4  -5⎥\n",
      "⎢      ⎥\n",
      "⎢5   8 ⎥\n",
      "⎢      ⎥\n",
      "⎣2   -2⎦\n",
      "⎡12    3   72    3 ⎤\n",
      "⎢                  ⎥\n",
      "⎢32   47   -16  47 ⎥\n",
      "⎢                  ⎥\n",
      "⎢-47  -71  34   -71⎥\n",
      "⎢                  ⎥\n",
      "⎣ 2    8   -28   8 ⎦\n"
     ]
    }
   ],
   "source": [
    "sympy.pprint(A2), sympy.pprint(C2.T), sympy.pprint(C2.T*A2);"
   ]
  },
  {
   "cell_type": "markdown",
   "metadata": {},
   "source": [
    "#### in R\n",
    "- $A * B$ - element-wise multiplication\n",
    "\n",
    "- $A \\%*\\% B$\t- matrix multiplication\n",
    "\n",
    "- $A \\% o \\% B$\t- outer product AB'"
   ]
  },
  {
   "cell_type": "code",
   "execution_count": 146,
   "metadata": {},
   "outputs": [
    {
     "name": "stdout",
     "output_type": "stream",
     "text": [
      "         [,1]     [,2]     [,3]     [,4]      [,5]\n",
      "[1,] 464.1108 348.1407 395.3621 278.2480 182.51837\n",
      "[2,] 112.6194 167.5348 453.8188 294.9101  99.04406\n",
      "[3,] 149.2693 220.2089 380.9068 276.9153  98.90817\n",
      "[4,] 257.3529 227.2065 525.0726 255.9564 134.42674\n",
      "[5,] 181.3464 203.2402 293.3245 240.3569  82.54730\n"
     ]
    }
   ],
   "source": [
    "%%r\n",
    "A%*%C"
   ]
  },
  {
   "cell_type": "code",
   "execution_count": 147,
   "metadata": {},
   "outputs": [
    {
     "name": "stdout",
     "output_type": "stream",
     "text": [
      "          [,1]      [,2]     [,3]     [,4]      [,5]\n",
      "[1,] 299.85816 233.79415 447.3651 415.0350 356.89039\n",
      "[2,]  40.41974  93.11667 264.5528 286.8565  83.79348\n",
      "[3,] 115.38226 167.40420 413.1383 627.5054 223.03199\n",
      "[4,]  54.63662  99.74273 177.5664 130.3517  76.65870\n",
      "[5,] 327.47908 213.99091 599.3464 802.8655 414.59134\n"
     ]
    }
   ],
   "source": [
    "%%r\n",
    "C%*%A"
   ]
  },
  {
   "cell_type": "code",
   "execution_count": 148,
   "metadata": {},
   "outputs": [
    {
     "name": "stdout",
     "output_type": "stream",
     "text": [
      "      [,1]  [,2]  [,3]  [,4]  [,5]\n",
      "[1,] FALSE FALSE FALSE FALSE FALSE\n",
      "[2,] FALSE FALSE FALSE FALSE FALSE\n",
      "[3,] FALSE FALSE FALSE FALSE FALSE\n",
      "[4,] FALSE FALSE FALSE FALSE FALSE\n",
      "[5,] FALSE FALSE FALSE FALSE FALSE\n"
     ]
    }
   ],
   "source": [
    "%%r\n",
    "A%*%C==C%*%A"
   ]
  },
  {
   "cell_type": "code",
   "execution_count": 150,
   "metadata": {},
   "outputs": [
    {
     "name": "stdout",
     "output_type": "stream",
     "text": [
      "     [,1] [,2] [,3] [,4] [,5] [,6] [,7] [,8] [,9] [,10] [,11] [,12] [,13] [,14]\n",
      "[1,]    0    0    0    0    0    0    0    0    0     0     0     0     0     0\n",
      "[2,]    0    0    0    0    0    0    0    0    0     0     0     0     0     0\n",
      "[3,]    0    0    0    0    0    0    0    0    0     0     0     0     0     0\n",
      "[4,]    0    0    0    0    0    0    0    0    0     0     0     0     0     0\n",
      "[5,]    0    0    0    0    0    0    0    0    0     0     0     0     0     0\n",
      "     [,15]    [,16]    [,17]    [,18]    [,19]     [,20]\n",
      "[1,]     0 464.1108 348.1407 395.3621 278.2480 182.51837\n",
      "[2,]     0 112.6194 167.5348 453.8188 294.9101  99.04406\n",
      "[3,]     0 149.2693 220.2089 380.9068 276.9153  98.90817\n",
      "[4,]     0 257.3529 227.2065 525.0726 255.9564 134.42674\n",
      "[5,]     0 181.3464 203.2402 293.3245 240.3569  82.54730\n"
     ]
    }
   ],
   "source": [
    "%%r\n",
    "matrix(c(A%*%C==C%*%A,\n",
    "         A%*%C==A*C,C%*%A==A*C,\n",
    "         A%*%C),nrow=5)"
   ]
  },
  {
   "cell_type": "markdown",
   "metadata": {},
   "source": [
    "## 3. Задание.\n",
    "\n",
    "Инициировать матрицы $A(2x4)$ и $B(4x2)$ и рассчитать их сумму ($A+B$) и произведения ($A*B, \\ B*A$)\n",
    "\n",
    "с использованием SageMath, Numpy, SymPy, R."
   ]
  }
 ],
 "metadata": {
  "kernelspec": {
   "display_name": "SageMath 8.8",
   "language": "sage",
   "name": "sagemath"
  },
  "language_info": {
   "codemirror_mode": {
    "name": "ipython",
    "version": 2
   },
   "file_extension": ".py",
   "mimetype": "text/x-python",
   "name": "python",
   "nbconvert_exporter": "python",
   "pygments_lexer": "ipython2",
   "version": "2.7.15"
  }
 },
 "nbformat": 4,
 "nbformat_minor": 2
}

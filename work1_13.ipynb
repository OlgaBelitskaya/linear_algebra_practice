{
 "cells": [
  {
   "cell_type": "markdown",
   "metadata": {},
   "source": [
    "<h1 style=\"color: #3636ff;\">Линейная алгебра. Практическая работа №13</h1>\n",
    "\n",
    "### Программные средства\n",
    "\n",
    "[LaTeX. Mathematics](https://en.wikibooks.org/wiki/LaTeX/Mathematics)\n",
    "\n",
    "[Sage. Linear Algebra](http://doc.sagemath.org/html/en/tutorial/tour_linalg.html)\n",
    "\n",
    "[Numpy. Quickstart tutorial](https://docs.scipy.org/doc/numpy/user/quickstart.html#linear-algebra)\n",
    "\n",
    "[R Functions - Tutorialspoint](https://www.tutorialspoint.com/r/r_functions.htm)\n",
    "\n",
    "[Quick-R: User-Defined Functions](https://www.statmethods.net/management/userfunctions.html)"
   ]
  },
  {
   "cell_type": "markdown",
   "metadata": {},
   "source": [
    "### Конспекты\n",
    "\n",
    "[АЛГЕБРА И ГЕОМЕТРИЯ ДЛЯ СТУДЕНТОВ-ФИЗИКОВ](http://math.phys.msu.ru/data/24/Algebra_and_geometry.pdf)\n",
    "\n",
    "[]()\n",
    "\n",
    "[Computational Mathematics with SageMath](http://dl.lateralis.org/public/sagebook/sagebook-ba6596d.pdf)\n",
    "\n",
    "[Introduction to Symbolic Computation](http://homepages.math.uic.edu/~jan/mcs320/mcs320.pdf)"
   ]
  },
  {
   "cell_type": "markdown",
   "metadata": {},
   "source": [
    "# Логика высказываний\n",
    "## 1. Законы логические операций\n",
    "1) тождества: $A \\to A$\n",
    "\n",
    "2) противоречия: $\\neg (A \\land \\neg A)$\n",
    "\n",
    "3) исключенного третьего: $A \\lor \\neg A$\n",
    "\n",
    "4) удаления $\\land$: $(A \\land B) \\to A, (A \\land B) \\to B$\n",
    "\n",
    "5) введения $\\lor$: $A \\to (A \\lor B), B \\to (A \\lor B)$\n",
    "\n",
    "6) коммутативности $\\land; \\lor$: $(A \\land B) \\equiv (B \\land A); (A \\lor B) \\equiv (B \\lor A)$\n",
    "\n",
    "7) ассоциативности $\\land; \\lor$: $(A \\land B) \\land C \\equiv A \\land (B \\land C); (A \\lor B) \\lor C \\equiv A \\lor (B \\lor C)$\n",
    "\n",
    "8) дистрибутивности $\\land; \\lor$: $A \\land (B \\lor C) \\equiv (A \\land B) \\lor (A \\land C); A \\lor (B \\land C) \\equiv (A \\lor B) \\land (A \\lor C)$\n",
    "\n",
    "10) поглощения $A \\land (A \\lor B) \\equiv A; A \\lor(A \\land B) \\equiv A$\n",
    "\n",
    "11) Пирса $((A \\to B) \\to A) \\to A$\n",
    "\n",
    "и т.д."
   ]
  },
  {
   "cell_type": "code",
   "execution_count": null,
   "metadata": {},
   "outputs": [],
   "source": []
  }
 ],
 "metadata": {
  "kernelspec": {
   "display_name": "SageMath 8.4",
   "language": "",
   "name": "sagemath"
  },
  "language_info": {
   "codemirror_mode": {
    "name": "ipython",
    "version": 2
   },
   "file_extension": ".py",
   "mimetype": "text/x-python",
   "name": "python",
   "nbconvert_exporter": "python",
   "pygments_lexer": "ipython2",
   "version": "2.7.15"
  }
 },
 "nbformat": 4,
 "nbformat_minor": 2
}

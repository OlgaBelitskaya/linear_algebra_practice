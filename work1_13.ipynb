{
 "cells": [
  {
   "cell_type": "markdown",
   "metadata": {},
   "source": [
    "<h1 style=\"color: #3636ff;\">Линейная алгебра. Практическая работа №13</h1>\n",
    "\n",
    "### Программные средства\n",
    "\n",
    "[LaTeX. Mathematics](https://en.wikibooks.org/wiki/LaTeX/Mathematics)\n",
    "\n",
    "[Sage. Boolean Formulas](http://doc.sagemath.org/html/en/reference/logic/sage/logic/boolformula.html)\n",
    "\n",
    "[Numpy. Quickstart tutorial](https://docs.scipy.org/doc/numpy/user/quickstart.html#linear-algebra)\n",
    "\n",
    "[Sympy. Logic Module](https://docs.sympy.org/latest/modules/logic.html)\n",
    "\n",
    "[R Functions - Tutorialspoint](https://www.tutorialspoint.com/r/r_functions.htm)\n",
    "\n",
    "[Quick-R: User-Defined Functions](https://www.statmethods.net/management/userfunctions.html)"
   ]
  },
  {
   "cell_type": "markdown",
   "metadata": {},
   "source": [
    "### Конспекты\n",
    "\n",
    "[АЛГЕБРА И ГЕОМЕТРИЯ ДЛЯ СТУДЕНТОВ-ФИЗИКОВ](http://math.phys.msu.ru/data/24/Algebra_and_geometry.pdf)\n",
    "\n",
    "[]()\n",
    "\n",
    "[Computational Mathematics with SageMath](http://dl.lateralis.org/public/sagebook/sagebook-ba6596d.pdf)\n",
    "\n",
    "[Introduction to Symbolic Computation](http://homepages.math.uic.edu/~jan/mcs320/mcs320.pdf)"
   ]
  },
  {
   "cell_type": "markdown",
   "metadata": {},
   "source": [
    "# Логика \n",
    "## 1. Законы логических операций\n",
    "1) тождества: $A \\to A$\n",
    "\n",
    "2) противоречия: $\\neg (A \\land \\neg A)$\n",
    "\n",
    "3) исключенного третьего: $A \\lor \\neg A$\n",
    "\n",
    "4) удаления $\\land$: $(A \\land B) \\to A, (A \\land B) \\to B$\n",
    "\n",
    "5) введения $\\lor$: $A \\to (A \\lor B), B \\to (A \\lor B)$\n",
    "\n",
    "6) коммутативности $\\land; \\lor$: $(A \\land B) \\equiv (B \\land A); (A \\lor B) \\equiv (B \\lor A)$\n",
    "\n",
    "7) ассоциативности $\\land; \\lor$: $(A \\land B) \\land C \\equiv A \\land (B \\land C); (A \\lor B) \\lor C \\equiv A \\lor (B \\lor C)$\n",
    "\n",
    "8) дистрибутивности $\\land; \\lor$: $A \\land (B \\lor C) \\equiv (A \\land B) \\lor (A \\land C); A \\lor (B \\land C) \\equiv (A \\lor B) \\land (A \\lor C)$\n",
    "\n",
    "9) поглощения $A \\land (A \\lor B) \\equiv A; A \\lor(A \\land B) \\equiv A$\n",
    "\n",
    "10) Пирса $((A \\to B) \\to A) \\to A$\n",
    "\n",
    "и т.д."
   ]
  },
  {
   "cell_type": "markdown",
   "metadata": {},
   "source": [
    "_Пример_ \n",
    "\n",
    "Сколько решений имеет система логических уравнений ?\n",
    "\n",
    "$\\begin{cases}\n",
    "(x_1 \\lor \\neg x_2) \\land (x_3 \\lor \\neg x_4) = 1 (1) \\\\\n",
    "(x_3 \\lor \\neg x_4) \\land (x_5 \\lor \\neg x_6) = 1 (2) \\\\\n",
    "(x_5 \\lor \\neg x_6) \\land (x_7 \\lor \\neg x_8) = 1 (3) \\\\\n",
    "(x_7 \\lor \\neg x_8) \\land (x_9 \\lor \\neg x_{10}) = 1 (4)\n",
    "\\end {cases}$"
   ]
  },
  {
   "cell_type": "code",
   "execution_count": 1,
   "metadata": {},
   "outputs": [
    {
     "name": "stdout",
     "output_type": "stream",
     "text": [
      "243\n"
     ]
    },
    {
     "data": {
      "text/plain": [
       "x1     x2     x3     x4     x5     x6     x7     x8     x9     x10    value\n",
       "False  False  False  False  False  False  False  False  False  False  True   \n",
       "False  False  False  False  False  False  False  False  False  True   False  \n",
       "False  False  False  False  False  False  False  False  True   False  True   \n",
       "False  False  False  False  False  False  False  False  True   True   True   \n",
       "False  False  False  False  False  False  False  True   False  False  False  \n",
       "False  False  False  False  False  False  False  True   False  True   False  \n",
       "False  False  False  False  False  False  False  True   True   False  False  \n",
       "False  False  False  False  False  False  False  True   True   True   False  \n",
       "False  False  False  False  False  False  True   False  False  False  True   \n",
       "False  False  False  False  False  False  True   False  False  True   False  \n"
      ]
     },
     "execution_count": 1,
     "metadata": {},
     "output_type": "execute_result"
    }
   ],
   "source": [
    "# sage\n",
    "var('x1,x2,x3,x4,x5,x6,x7,x8,x9,x10')\n",
    "eq1=propcalc.formula(\"(x1|~x2)&(x3|~x4)\")\n",
    "eq2=propcalc.formula(\"(x3|~x4)&(x5|~x6)\")\n",
    "eq3=propcalc.formula(\"(x5|~x6)&(x7|~x8)\")\n",
    "eq4=propcalc.formula(\"(x7|~x8)&(x9|~x10)\")\n",
    "f=eq1&eq2&eq3&eq4; ftt=f.truthtable().get_table_list()\n",
    "print(sum([int(ftt[i][-1]) for i in [1..1024]]))\n",
    "f.truthtable(end=10)"
   ]
  },
  {
   "cell_type": "code",
   "execution_count": 7,
   "metadata": {},
   "outputs": [
    {
     "data": {
      "text/plain": [
       "243"
      ]
     },
     "execution_count": 7,
     "metadata": {},
     "output_type": "execute_result"
    }
   ],
   "source": [
    "# much faster\n",
    "binary_combinations = Words(alphabet=[0,1], length=10); c = 0\n",
    "def logical_function(x):\n",
    "    eq1 = (x[0] | (not x[1])) & (x[2] | (not x[3]))\n",
    "    eq2 = (x[2] | (not x[3])) & (x[4] | (not x[5]))\n",
    "    eq3 = (x[4] | (not x[5])) & (x[6] | (not x[7]))\n",
    "    eq4 = (x[6] | (not x[7])) & (x[8] | (not x[9]))    \n",
    "    return (eq1 & eq2 & eq3 & eq4)\n",
    "\n",
    "for el in binary_combinations: \n",
    "    c += int (logical_function(el))\n",
    "c"
   ]
  },
  {
   "cell_type": "code",
   "execution_count": 17,
   "metadata": {},
   "outputs": [],
   "source": [
    "# python sympy\n",
    "import sympy\n",
    "from sympy.logic import simplify_logic,satisfiable,And,Or,Not,Xor,Implies,Equivalent"
   ]
  },
  {
   "cell_type": "code",
   "execution_count": 9,
   "metadata": {},
   "outputs": [
    {
     "data": {
      "text/plain": [
       "(x1 | ~x2) & (x3 | ~x4) & (x5 | ~x6) & (x7 | ~x8) & (x9 | ~x10)"
      ]
     },
     "execution_count": 9,
     "metadata": {},
     "output_type": "execute_result"
    }
   ],
   "source": [
    "x1,x2,x3,x4,x5,x6,x7,x8,x9,x10 = sympy.symbols('x1,x2,x3,x4,x5,x6,x7,x8,x9,x10')\n",
    "eq1 = Or(x1,Not(x2)) & (x3 | ~x4)\n",
    "eq2 = Or(x3,Not(x4)) & (x5 | ~x6)\n",
    "eq3 = Or(x5,Not(x6)) & (x7 | ~x8)\n",
    "eq4 = Or(x7,Not(x8)) & (x9 | ~x10)\n",
    "eq = simplify_logic(And(eq1,eq2) & And(eq3,eq4))\n",
    "s = list(satisfiable(eq, all_models=True))\n",
    "eq"
   ]
  },
  {
   "cell_type": "code",
   "execution_count": 10,
   "metadata": {},
   "outputs": [
    {
     "data": {
      "text/plain": [
       "1"
      ]
     },
     "execution_count": 10,
     "metadata": {},
     "output_type": "execute_result"
    }
   ],
   "source": [
    "eq.subs({x1:1,x2:1,x3:1,x4:1,x5:1,x6:1,x7:1,x8:1,x9:1,x10:1})"
   ]
  },
  {
   "cell_type": "code",
   "execution_count": 11,
   "metadata": {},
   "outputs": [
    {
     "data": {
      "text/plain": [
       "{x1: True,\n",
       " x10: False,\n",
       " x2: False,\n",
       " x3: True,\n",
       " x4: False,\n",
       " x5: True,\n",
       " x6: False,\n",
       " x7: True,\n",
       " x8: False,\n",
       " x9: True}"
      ]
     },
     "execution_count": 11,
     "metadata": {},
     "output_type": "execute_result"
    }
   ],
   "source": [
    "s[0]"
   ]
  },
  {
   "cell_type": "code",
   "execution_count": 12,
   "metadata": {},
   "outputs": [
    {
     "data": {
      "text/plain": [
       "243"
      ]
     },
     "execution_count": 12,
     "metadata": {},
     "output_type": "execute_result"
    }
   ],
   "source": [
    "len(s)"
   ]
  },
  {
   "cell_type": "code",
   "execution_count": 13,
   "metadata": {},
   "outputs": [
    {
     "data": {
      "text/plain": [
       "243"
      ]
     },
     "execution_count": 13,
     "metadata": {},
     "output_type": "execute_result"
    }
   ],
   "source": [
    "# python numpy, itertools\n",
    "import numpy, itertools\n",
    "binary_combinations = numpy.array(list(itertools.product([0, 1], repeat=10))); c = 0\n",
    "def logical_function(x):\n",
    "    eq1 = (x[0] or not x[1]) and (x[2] or not x[3])\n",
    "    eq2 = (x[2] or not x[3]) and (x[4] or not x[5])\n",
    "    eq3 = (x[4] or not x[5]) and (x[6] or not x[7])\n",
    "    eq4 = (x[6] or not x[7]) and (x[8] or not x[9])    \n",
    "    return (eq1 and eq2 and eq3 and eq4)\n",
    "for el in binary_combinations: \n",
    "    c += int (logical_function(el))\n",
    "c"
   ]
  },
  {
   "cell_type": "code",
   "execution_count": 14,
   "metadata": {},
   "outputs": [
    {
     "name": "stdout",
     "output_type": "stream",
     "text": [
      "\n",
      "\n",
      "\n",
      "\n",
      "\n",
      "\n",
      "\n",
      "\n",
      "\n",
      "[1] 243\n"
     ]
    }
   ],
   "source": [
    "%%r\n",
    "library('e1071')\n",
    "bc <- bincombinations(10); c <- 0; n <- length(bc)/10\n",
    "logical_function <- function(x) {\n",
    "    eq1 <- (x[1] | !x[2]) & (x[3] | !x[4])\n",
    "    eq2 <- (x[3] | !x[4]) & (x[5] | !x[6])\n",
    "    eq3 <- (x[5] | !x[6]) & (x[7] | !x[8])\n",
    "    eq4 <- (x[7] | !x[8]) & (x[9] | !x[10])\n",
    "    return (eq1 & eq2 & eq3 & eq4)\n",
    "}\n",
    "for (i in 1:n){c <- c + logical_function(bc[i,])}; c"
   ]
  },
  {
   "cell_type": "markdown",
   "metadata": {},
   "source": [
    "## 2. Виды простейших доказательств\n",
    "\n",
    "1) метод перебора \n",
    "\n",
    "   - исследование всех возможных вариантов;\n",
    "\n",
    "2) \"от противного\" \n",
    "\n",
    "   - предположение об истинности противоположного утверждения приводит к противоречию;\n",
    "   \n",
    "3) метод бесконечного спуска\n",
    "\n",
    "   - используются принципы наибольшего и наименьшего чисел натурального ряда;\n",
    "\n",
    "4) математическая индукция \n",
    "\n",
    "   - если верно для начальной позиции (например, n=1) и для произвольного n, то истинно и для n+1;\n",
    "\n",
    "5) аксиоматический метод\n",
    "\n",
    "   - опираясь на набор заведомо истинных аксиом.\n"
   ]
  },
  {
   "cell_type": "code",
   "execution_count": 15,
   "metadata": {},
   "outputs": [
    {
     "data": {
      "text/plain": [
       "(True, True)"
      ]
     },
     "execution_count": 15,
     "metadata": {},
     "output_type": "execute_result"
    }
   ],
   "source": [
    "# sage\n",
    "A,B = var('A,B')\n",
    "exp1 = propcalc.formula('A | (A & B) <-> A')\n",
    "exp2 = propcalc.formula('A | (A & B) <-> ~A')\n",
    "exp1.is_tautology(), exp2.is_contradiction()"
   ]
  },
  {
   "cell_type": "code",
   "execution_count": 33,
   "metadata": {},
   "outputs": [
    {
     "data": {
      "text/plain": [
       "(True, False)"
      ]
     },
     "execution_count": 33,
     "metadata": {},
     "output_type": "execute_result"
    }
   ],
   "source": [
    "# sympy\n",
    "A,B = sympy.symbols('A,B')\n",
    "eq1 = Equivalent(Or(A, And(A,B)), A)\n",
    "eq2 = Equivalent(Or(A, And(A,B)), Not(A))\n",
    "sympy.simplify_logic(eq1), sympy.simplify_logic(eq2)"
   ]
  },
  {
   "cell_type": "code",
   "execution_count": 38,
   "metadata": {},
   "outputs": [
    {
     "data": {
      "text/plain": [
       "(True, False)"
      ]
     },
     "execution_count": 38,
     "metadata": {},
     "output_type": "execute_result"
    }
   ],
   "source": [
    "sympy.simplify(A | (A & B)).equals(A), sympy.simplify(~(A | (A & B))).equals(A)"
   ]
  },
  {
   "cell_type": "code",
   "execution_count": 32,
   "metadata": {},
   "outputs": [
    {
     "data": {
      "text/plain": [
       "(True, True)"
      ]
     },
     "execution_count": 32,
     "metadata": {},
     "output_type": "execute_result"
    }
   ],
   "source": [
    "# numpy\n",
    "binary_combinations = numpy.array(list(itertools.product([0, 1], repeat=2))) \n",
    "c1,c2 = 0,0\n",
    "def tautology1(x): \n",
    "    return (x[1] or (x[1] and x[2])) == x[1]\n",
    "def contradiction2(x): \n",
    "    return (x[1] or (x[1] and x[2])) == (not x[1])\n",
    "for el in binary_combinations: \n",
    "    c1 += int (tautology1(el))\n",
    "    c2 += int (contradiction2(el))\n",
    "c1 == len(binary_combinations), c2 == 0"
   ]
  },
  {
   "cell_type": "code",
   "execution_count": 45,
   "metadata": {},
   "outputs": [
    {
     "name": "stdout",
     "output_type": "stream",
     "text": [
      "\n",
      "\n",
      "\n",
      "\n",
      "[1] TRUE TRUE\n"
     ]
    }
   ],
   "source": [
    "%%r\n",
    "bc <- bincombinations(2); c1 <- c2 <- 0; n <- length(bc)/2\n",
    "tautology1 <- function(x) {(x[1]|(x[1]& x[2]))==x[1]}\n",
    "contradiction2 <- function(x) {(x[1]|(x[1]& x[2]))==~x[1]}\n",
    "for (i in 1:n){c1 <- c1 + tautology1(bc[i,]); c2 <- c2 + contradiction2(bc[i,])}\n",
    "c(c1 == n, c2 == 0)"
   ]
  },
  {
   "cell_type": "markdown",
   "metadata": {},
   "source": [
    "## 3. Задание\n",
    "\n",
    "Задать логическую формулу-тавтологию, построить для нее противоположное утверждение.\n",
    "\n",
    "Доказать, что эти выражения являются тавтологией и противоречием,\n",
    "\n",
    "используя SageMath, Python, R."
   ]
  }
 ],
 "metadata": {
  "kernelspec": {
   "display_name": "SageMath 8.4",
   "language": "",
   "name": "sagemath"
  },
  "language_info": {
   "codemirror_mode": {
    "name": "ipython",
    "version": 2
   },
   "file_extension": ".py",
   "mimetype": "text/x-python",
   "name": "python",
   "nbconvert_exporter": "python",
   "pygments_lexer": "ipython2",
   "version": "2.7.15"
  }
 },
 "nbformat": 4,
 "nbformat_minor": 2
}
